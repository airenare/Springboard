{
 "cells": [
  {
   "cell_type": "code",
   "outputs": [],
   "source": [
    "import pandas as pd\n",
    "import numpy as np\n",
    "from sqlalchemy import create_engine, inspect, text"
   ],
   "metadata": {
    "collapsed": false,
    "ExecuteTime": {
     "end_time": "2024-02-19T23:42:27.901436Z",
     "start_time": "2024-02-19T23:42:27.783172Z"
    }
   },
   "id": "c28c2236e339e0b3",
   "execution_count": 1
  },
  {
   "cell_type": "code",
   "outputs": [],
   "source": [
    "# Create an SQLAlchemy engine to connect to the SQLite database\n",
    "engine = create_engine('sqlite:///sqlite_db_pythonsqlite.db')"
   ],
   "metadata": {
    "collapsed": false,
    "ExecuteTime": {
     "end_time": "2024-02-19T23:42:27.901932Z",
     "start_time": "2024-02-19T23:42:27.892557Z"
    }
   },
   "id": "6e5ac8c55a3907ef",
   "execution_count": 2
  },
  {
   "cell_type": "code",
   "outputs": [],
   "source": [
    "# Create function that returns sqlite tables as a dictionary of pandas dataframes\n",
    "def sql_tables_to_df(sqlite_engine):\n",
    "    \"\"\"\n",
    "    This function takes in a SQLite database and returns a pandas dataframe\n",
    "    Arguments:\n",
    "    engine: sqlalchemy engine\n",
    "    table_name: name of the table to retrieve\n",
    "    \"\"\"\n",
    "\n",
    "    # Create an Inspector instance to inspect the database\n",
    "    inspector = inspect(sqlite_engine)\n",
    "\n",
    "    # Get the table names from the database\n",
    "    table_names = inspector.get_table_names()\n",
    "    \n",
    "    # Resulting dict of dataframes keyed by their names \n",
    "    dict_of_dfs = {}\n",
    "    \n",
    "    for table in table_names:\n",
    "    \n",
    "        # Define the SQL query using the SQLAlchemy text function\n",
    "        query = f\"SELECT * FROM {table}\"\n",
    "        query_text = text(query)\n",
    "    \n",
    "        # Connect to the database and execute the query\n",
    "        with sqlite_engine.connect() as con:\n",
    "            rs = con.execute(query_text)\n",
    "            df = pd.DataFrame(rs.fetchall())\n",
    "            df.columns = rs.keys()\n",
    "        \n",
    "        dict_of_dfs[table] = df\n",
    "    \n",
    "    return dict_of_dfs\n",
    "    "
   ],
   "metadata": {
    "collapsed": false,
    "ExecuteTime": {
     "end_time": "2024-02-19T23:42:27.902707Z",
     "start_time": "2024-02-19T23:42:27.899720Z"
    }
   },
   "id": "a1198cea5f613e88",
   "execution_count": 3
  },
  {
   "cell_type": "code",
   "outputs": [],
   "source": [
    "# Executing function and getting dictionary of DataFrames\n",
    "df_dict = sql_tables_to_df(engine)"
   ],
   "metadata": {
    "collapsed": false,
    "ExecuteTime": {
     "end_time": "2024-02-19T23:42:27.913032Z",
     "start_time": "2024-02-19T23:42:27.902728Z"
    }
   },
   "id": "c38121ced381ee2e",
   "execution_count": 4
  },
  {
   "cell_type": "code",
   "outputs": [
    {
     "data": {
      "text/plain": "dict_keys(['Bookings', 'Facilities', 'Members'])"
     },
     "execution_count": 5,
     "metadata": {},
     "output_type": "execute_result"
    }
   ],
   "source": [
    "# Print keys of the df dictionary\n",
    "df_dict.keys()"
   ],
   "metadata": {
    "collapsed": false,
    "ExecuteTime": {
     "end_time": "2024-02-19T23:42:27.932281Z",
     "start_time": "2024-02-19T23:42:27.914420Z"
    }
   },
   "id": "3aed190ffdc8f8c3",
   "execution_count": 5
  },
  {
   "cell_type": "code",
   "outputs": [],
   "source": [
    "# Assign dataframes to variables\n",
    "bookings = df_dict[list(df_dict.keys())[0]]\n",
    "facilities = df_dict[list(df_dict.keys())[1]]\n",
    "members = df_dict[list(df_dict.keys())[2]]"
   ],
   "metadata": {
    "collapsed": false,
    "ExecuteTime": {
     "end_time": "2024-02-19T23:42:27.932742Z",
     "start_time": "2024-02-19T23:42:27.916827Z"
    }
   },
   "id": "f1c69a27a4bcd8b7",
   "execution_count": 6
  },
  {
   "cell_type": "code",
   "outputs": [
    {
     "data": {
      "text/plain": "      bookid  facid  memid            starttime  slots\n0          0      3      1  2012-07-03 11:00:00      2\n1          1      4      1  2012-07-03 08:00:00      2\n2          2      6      0  2012-07-03 18:00:00      2\n3          3      7      1  2012-07-03 19:00:00      2\n4          4      8      1  2012-07-03 10:00:00      1\n...      ...    ...    ...                  ...    ...\n4038    4038      8     29  2012-09-30 16:30:00      2\n4039    4039      8     29  2012-09-30 18:00:00      1\n4040    4040      8     21  2012-09-30 18:30:00      1\n4041    4041      8     16  2012-09-30 19:00:00      1\n4042    4042      8     29  2012-09-30 19:30:00      1\n\n[4043 rows x 5 columns]",
      "text/html": "<div>\n<style scoped>\n    .dataframe tbody tr th:only-of-type {\n        vertical-align: middle;\n    }\n\n    .dataframe tbody tr th {\n        vertical-align: top;\n    }\n\n    .dataframe thead th {\n        text-align: right;\n    }\n</style>\n<table border=\"1\" class=\"dataframe\">\n  <thead>\n    <tr style=\"text-align: right;\">\n      <th></th>\n      <th>bookid</th>\n      <th>facid</th>\n      <th>memid</th>\n      <th>starttime</th>\n      <th>slots</th>\n    </tr>\n  </thead>\n  <tbody>\n    <tr>\n      <th>0</th>\n      <td>0</td>\n      <td>3</td>\n      <td>1</td>\n      <td>2012-07-03 11:00:00</td>\n      <td>2</td>\n    </tr>\n    <tr>\n      <th>1</th>\n      <td>1</td>\n      <td>4</td>\n      <td>1</td>\n      <td>2012-07-03 08:00:00</td>\n      <td>2</td>\n    </tr>\n    <tr>\n      <th>2</th>\n      <td>2</td>\n      <td>6</td>\n      <td>0</td>\n      <td>2012-07-03 18:00:00</td>\n      <td>2</td>\n    </tr>\n    <tr>\n      <th>3</th>\n      <td>3</td>\n      <td>7</td>\n      <td>1</td>\n      <td>2012-07-03 19:00:00</td>\n      <td>2</td>\n    </tr>\n    <tr>\n      <th>4</th>\n      <td>4</td>\n      <td>8</td>\n      <td>1</td>\n      <td>2012-07-03 10:00:00</td>\n      <td>1</td>\n    </tr>\n    <tr>\n      <th>...</th>\n      <td>...</td>\n      <td>...</td>\n      <td>...</td>\n      <td>...</td>\n      <td>...</td>\n    </tr>\n    <tr>\n      <th>4038</th>\n      <td>4038</td>\n      <td>8</td>\n      <td>29</td>\n      <td>2012-09-30 16:30:00</td>\n      <td>2</td>\n    </tr>\n    <tr>\n      <th>4039</th>\n      <td>4039</td>\n      <td>8</td>\n      <td>29</td>\n      <td>2012-09-30 18:00:00</td>\n      <td>1</td>\n    </tr>\n    <tr>\n      <th>4040</th>\n      <td>4040</td>\n      <td>8</td>\n      <td>21</td>\n      <td>2012-09-30 18:30:00</td>\n      <td>1</td>\n    </tr>\n    <tr>\n      <th>4041</th>\n      <td>4041</td>\n      <td>8</td>\n      <td>16</td>\n      <td>2012-09-30 19:00:00</td>\n      <td>1</td>\n    </tr>\n    <tr>\n      <th>4042</th>\n      <td>4042</td>\n      <td>8</td>\n      <td>29</td>\n      <td>2012-09-30 19:30:00</td>\n      <td>1</td>\n    </tr>\n  </tbody>\n</table>\n<p>4043 rows × 5 columns</p>\n</div>"
     },
     "execution_count": 7,
     "metadata": {},
     "output_type": "execute_result"
    }
   ],
   "source": [
    "# Preview bookings dataframe\n",
    "bookings"
   ],
   "metadata": {
    "collapsed": false,
    "ExecuteTime": {
     "end_time": "2024-02-19T23:42:27.933363Z",
     "start_time": "2024-02-19T23:42:27.919613Z"
    }
   },
   "id": "5c4be6790ab7d8a5",
   "execution_count": 7
  },
  {
   "cell_type": "code",
   "outputs": [
    {
     "data": {
      "text/plain": "dtype('<M8[ns]')"
     },
     "execution_count": 8,
     "metadata": {},
     "output_type": "execute_result"
    }
   ],
   "source": [
    "# Change dtype of starttime to datetime object\n",
    "bookings['starttime'] = pd.to_datetime(bookings['starttime'])\n",
    "bookings['starttime'].dtype"
   ],
   "metadata": {
    "collapsed": false,
    "ExecuteTime": {
     "end_time": "2024-02-19T23:42:27.933827Z",
     "start_time": "2024-02-19T23:42:27.925792Z"
    }
   },
   "id": "cf2da752182b9aea",
   "execution_count": 8
  },
  {
   "cell_type": "code",
   "outputs": [
    {
     "data": {
      "text/plain": "   facid             name  membercost  guestcost  initialoutlay  \\\n0      0   Tennis Court 1         5.0       25.0          10000   \n1      1   Tennis Court 2         5.0       25.0           8000   \n2      2  Badminton Court         0.0       15.5           4000   \n3      3     Table Tennis         0.0        5.0            320   \n4      4   Massage Room 1         9.9       80.0           4000   \n5      5   Massage Room 2         9.9       80.0           4000   \n6      6     Squash Court         3.5       17.5           5000   \n7      7    Snooker Table         0.0        5.0            450   \n8      8       Pool Table         0.0        5.0            400   \n\n   monthlymaintenance  \n0                 200  \n1                 200  \n2                  50  \n3                  10  \n4                3000  \n5                3000  \n6                  80  \n7                  15  \n8                  15  ",
      "text/html": "<div>\n<style scoped>\n    .dataframe tbody tr th:only-of-type {\n        vertical-align: middle;\n    }\n\n    .dataframe tbody tr th {\n        vertical-align: top;\n    }\n\n    .dataframe thead th {\n        text-align: right;\n    }\n</style>\n<table border=\"1\" class=\"dataframe\">\n  <thead>\n    <tr style=\"text-align: right;\">\n      <th></th>\n      <th>facid</th>\n      <th>name</th>\n      <th>membercost</th>\n      <th>guestcost</th>\n      <th>initialoutlay</th>\n      <th>monthlymaintenance</th>\n    </tr>\n  </thead>\n  <tbody>\n    <tr>\n      <th>0</th>\n      <td>0</td>\n      <td>Tennis Court 1</td>\n      <td>5.0</td>\n      <td>25.0</td>\n      <td>10000</td>\n      <td>200</td>\n    </tr>\n    <tr>\n      <th>1</th>\n      <td>1</td>\n      <td>Tennis Court 2</td>\n      <td>5.0</td>\n      <td>25.0</td>\n      <td>8000</td>\n      <td>200</td>\n    </tr>\n    <tr>\n      <th>2</th>\n      <td>2</td>\n      <td>Badminton Court</td>\n      <td>0.0</td>\n      <td>15.5</td>\n      <td>4000</td>\n      <td>50</td>\n    </tr>\n    <tr>\n      <th>3</th>\n      <td>3</td>\n      <td>Table Tennis</td>\n      <td>0.0</td>\n      <td>5.0</td>\n      <td>320</td>\n      <td>10</td>\n    </tr>\n    <tr>\n      <th>4</th>\n      <td>4</td>\n      <td>Massage Room 1</td>\n      <td>9.9</td>\n      <td>80.0</td>\n      <td>4000</td>\n      <td>3000</td>\n    </tr>\n    <tr>\n      <th>5</th>\n      <td>5</td>\n      <td>Massage Room 2</td>\n      <td>9.9</td>\n      <td>80.0</td>\n      <td>4000</td>\n      <td>3000</td>\n    </tr>\n    <tr>\n      <th>6</th>\n      <td>6</td>\n      <td>Squash Court</td>\n      <td>3.5</td>\n      <td>17.5</td>\n      <td>5000</td>\n      <td>80</td>\n    </tr>\n    <tr>\n      <th>7</th>\n      <td>7</td>\n      <td>Snooker Table</td>\n      <td>0.0</td>\n      <td>5.0</td>\n      <td>450</td>\n      <td>15</td>\n    </tr>\n    <tr>\n      <th>8</th>\n      <td>8</td>\n      <td>Pool Table</td>\n      <td>0.0</td>\n      <td>5.0</td>\n      <td>400</td>\n      <td>15</td>\n    </tr>\n  </tbody>\n</table>\n</div>"
     },
     "execution_count": 9,
     "metadata": {},
     "output_type": "execute_result"
    }
   ],
   "source": [
    "# Preview facilities dataframe\n",
    "facilities"
   ],
   "metadata": {
    "collapsed": false,
    "ExecuteTime": {
     "end_time": "2024-02-19T23:42:27.934720Z",
     "start_time": "2024-02-19T23:42:27.929957Z"
    }
   },
   "id": "32f97dee4d538553",
   "execution_count": 9
  },
  {
   "cell_type": "code",
   "outputs": [
    {
     "data": {
      "text/plain": "    memid            surname  firstname  \\\n0       0              GUEST      GUEST   \n1       1              Smith     Darren   \n2       2              Smith      Tracy   \n3       3             Rownam        Tim   \n4       4           Joplette     Janice   \n5       5            Butters     Gerald   \n6       6              Tracy     Burton   \n7       7               Dare      Nancy   \n8       8             Boothe        Tim   \n9       9           Stibbons     Ponder   \n10     10               Owen    Charles   \n11     11              Jones      David   \n12     12              Baker       Anne   \n13     13            Farrell     Jemima   \n14     14              Smith       Jack   \n15     15              Bader   Florence   \n16     16              Baker    Timothy   \n17     17             Pinker      David   \n18     20            Genting    Matthew   \n19     21          Mackenzie       Anna   \n20     22             Coplin       Joan   \n21     24             Sarwin  Ramnaresh   \n22     26              Jones    Douglas   \n23     27             Rumney  Henrietta   \n24     28            Farrell      David   \n25     29  Worthington-Smyth      Henry   \n26     30            Purview  Millicent   \n27     33         Tupperware   Hyacinth   \n28     35               Hunt       John   \n29     36            Crumpet      Erica   \n30     37              Smith     Darren   \n\n                                    address  zipcode       telephone  \\\n0                                     GUEST        0  (000) 000-0000   \n1                8 Bloomsbury Close, Boston     4321    555-555-5555   \n2              8 Bloomsbury Close, New York     4321    555-555-5555   \n3                    23 Highway Way, Boston    23423  (844) 693-0723   \n4                20 Crossing Road, New York      234  (833) 942-4710   \n5            1065 Huntingdon Avenue, Boston    56754  (844) 078-4130   \n6                   3 Tunisia Drive, Boston    45678  (822) 354-9973   \n7               6 Hunting Lodge Way, Boston    10383  (833) 776-4001   \n8        3 Bloomsbury Close, Reading, 00234      234  (811) 433-2547   \n9                 5 Dragons Way, Winchester    87630  (833) 160-3900   \n10     52 Cheshire Grove, Winchester, 28563    28563  (855) 542-5251   \n11                 976 Gnats Close, Reading    33862  (844) 536-8036   \n12                55 Powdery Street, Boston    80743    844-076-5141   \n13          103 Firth Avenue, North Reading    57392  (855) 016-0163   \n14               252 Binkington Way, Boston    69302  (822) 163-3254   \n15               264 Ursula Drive, Westford    84923  (833) 499-3527   \n16                329 James Street, Reading    58393    833-941-0824   \n17                   5 Impreza Road, Boston    65332    811 409-6734   \n18    4 Nunnington Place, Wingfield, Boston    52365  (811) 972-1377   \n19              64 Perkington Lane, Reading    64577  (822) 661-2898   \n20      85 Bard Street, Bloomington, Boston    43533  (822) 499-2232   \n21               12 Bullington Lane, Boston    65464  (822) 413-1470   \n22                 976 Gnats Close, Reading    11986    844 536-8036   \n23               3 Burkington Plaza, Boston    78533  (822) 989-8876   \n24          437 Granite Farm Road, Westford    43532  (855) 755-9876   \n25              55 Jagbi Way, North Reading    97676  (855) 894-3758   \n26   641 Drudgery Close, Burnington, Boston    34232  (855) 941-9786   \n27  33 Cheerful Plaza, Drake Road, Westford    68666  (822) 665-5327   \n28                5 Bullington Lane, Boston    54333  (899) 720-6978   \n29              Crimson Road, North Reading    75655  (811) 732-4816   \n30           3 Funktown, Denzington, Boston    66796  (822) 577-3541   \n\n   recommendedby             joindate  \n0                 2012-07-01 00:00:00  \n1                 2012-07-02 12:02:05  \n2                 2012-07-02 12:08:23  \n3                 2012-07-03 09:32:15  \n4              1  2012-07-03 10:25:05  \n5              1  2012-07-09 10:44:09  \n6                 2012-07-15 08:52:55  \n7              4  2012-07-25 08:59:12  \n8              3  2012-07-25 16:02:35  \n9              6  2012-07-25 17:09:05  \n10             1  2012-08-03 19:42:37  \n11             4  2012-08-06 16:32:55  \n12             9  2012-08-10 14:23:22  \n13                2012-08-10 14:28:01  \n14             1  2012-08-10 16:22:05  \n15             9  2012-08-10 17:52:03  \n16            13  2012-08-15 10:34:25  \n17            13  2012-08-16 11:32:47  \n18             5  2012-08-19 14:55:55  \n19             1  2012-08-26 09:32:05  \n20            16  2012-08-29 08:32:41  \n21            15  2012-09-01 08:44:42  \n22            11  2012-09-02 18:43:05  \n23            20  2012-09-05 08:42:35  \n24                2012-09-15 08:22:05  \n25             2  2012-09-17 12:27:15  \n26             2  2012-09-18 19:04:01  \n27                2012-09-18 19:32:05  \n28            30  2012-09-19 11:32:45  \n29             2  2012-09-22 08:36:38  \n30                2012-09-26 18:08:45  ",
      "text/html": "<div>\n<style scoped>\n    .dataframe tbody tr th:only-of-type {\n        vertical-align: middle;\n    }\n\n    .dataframe tbody tr th {\n        vertical-align: top;\n    }\n\n    .dataframe thead th {\n        text-align: right;\n    }\n</style>\n<table border=\"1\" class=\"dataframe\">\n  <thead>\n    <tr style=\"text-align: right;\">\n      <th></th>\n      <th>memid</th>\n      <th>surname</th>\n      <th>firstname</th>\n      <th>address</th>\n      <th>zipcode</th>\n      <th>telephone</th>\n      <th>recommendedby</th>\n      <th>joindate</th>\n    </tr>\n  </thead>\n  <tbody>\n    <tr>\n      <th>0</th>\n      <td>0</td>\n      <td>GUEST</td>\n      <td>GUEST</td>\n      <td>GUEST</td>\n      <td>0</td>\n      <td>(000) 000-0000</td>\n      <td></td>\n      <td>2012-07-01 00:00:00</td>\n    </tr>\n    <tr>\n      <th>1</th>\n      <td>1</td>\n      <td>Smith</td>\n      <td>Darren</td>\n      <td>8 Bloomsbury Close, Boston</td>\n      <td>4321</td>\n      <td>555-555-5555</td>\n      <td></td>\n      <td>2012-07-02 12:02:05</td>\n    </tr>\n    <tr>\n      <th>2</th>\n      <td>2</td>\n      <td>Smith</td>\n      <td>Tracy</td>\n      <td>8 Bloomsbury Close, New York</td>\n      <td>4321</td>\n      <td>555-555-5555</td>\n      <td></td>\n      <td>2012-07-02 12:08:23</td>\n    </tr>\n    <tr>\n      <th>3</th>\n      <td>3</td>\n      <td>Rownam</td>\n      <td>Tim</td>\n      <td>23 Highway Way, Boston</td>\n      <td>23423</td>\n      <td>(844) 693-0723</td>\n      <td></td>\n      <td>2012-07-03 09:32:15</td>\n    </tr>\n    <tr>\n      <th>4</th>\n      <td>4</td>\n      <td>Joplette</td>\n      <td>Janice</td>\n      <td>20 Crossing Road, New York</td>\n      <td>234</td>\n      <td>(833) 942-4710</td>\n      <td>1</td>\n      <td>2012-07-03 10:25:05</td>\n    </tr>\n    <tr>\n      <th>5</th>\n      <td>5</td>\n      <td>Butters</td>\n      <td>Gerald</td>\n      <td>1065 Huntingdon Avenue, Boston</td>\n      <td>56754</td>\n      <td>(844) 078-4130</td>\n      <td>1</td>\n      <td>2012-07-09 10:44:09</td>\n    </tr>\n    <tr>\n      <th>6</th>\n      <td>6</td>\n      <td>Tracy</td>\n      <td>Burton</td>\n      <td>3 Tunisia Drive, Boston</td>\n      <td>45678</td>\n      <td>(822) 354-9973</td>\n      <td></td>\n      <td>2012-07-15 08:52:55</td>\n    </tr>\n    <tr>\n      <th>7</th>\n      <td>7</td>\n      <td>Dare</td>\n      <td>Nancy</td>\n      <td>6 Hunting Lodge Way, Boston</td>\n      <td>10383</td>\n      <td>(833) 776-4001</td>\n      <td>4</td>\n      <td>2012-07-25 08:59:12</td>\n    </tr>\n    <tr>\n      <th>8</th>\n      <td>8</td>\n      <td>Boothe</td>\n      <td>Tim</td>\n      <td>3 Bloomsbury Close, Reading, 00234</td>\n      <td>234</td>\n      <td>(811) 433-2547</td>\n      <td>3</td>\n      <td>2012-07-25 16:02:35</td>\n    </tr>\n    <tr>\n      <th>9</th>\n      <td>9</td>\n      <td>Stibbons</td>\n      <td>Ponder</td>\n      <td>5 Dragons Way, Winchester</td>\n      <td>87630</td>\n      <td>(833) 160-3900</td>\n      <td>6</td>\n      <td>2012-07-25 17:09:05</td>\n    </tr>\n    <tr>\n      <th>10</th>\n      <td>10</td>\n      <td>Owen</td>\n      <td>Charles</td>\n      <td>52 Cheshire Grove, Winchester, 28563</td>\n      <td>28563</td>\n      <td>(855) 542-5251</td>\n      <td>1</td>\n      <td>2012-08-03 19:42:37</td>\n    </tr>\n    <tr>\n      <th>11</th>\n      <td>11</td>\n      <td>Jones</td>\n      <td>David</td>\n      <td>976 Gnats Close, Reading</td>\n      <td>33862</td>\n      <td>(844) 536-8036</td>\n      <td>4</td>\n      <td>2012-08-06 16:32:55</td>\n    </tr>\n    <tr>\n      <th>12</th>\n      <td>12</td>\n      <td>Baker</td>\n      <td>Anne</td>\n      <td>55 Powdery Street, Boston</td>\n      <td>80743</td>\n      <td>844-076-5141</td>\n      <td>9</td>\n      <td>2012-08-10 14:23:22</td>\n    </tr>\n    <tr>\n      <th>13</th>\n      <td>13</td>\n      <td>Farrell</td>\n      <td>Jemima</td>\n      <td>103 Firth Avenue, North Reading</td>\n      <td>57392</td>\n      <td>(855) 016-0163</td>\n      <td></td>\n      <td>2012-08-10 14:28:01</td>\n    </tr>\n    <tr>\n      <th>14</th>\n      <td>14</td>\n      <td>Smith</td>\n      <td>Jack</td>\n      <td>252 Binkington Way, Boston</td>\n      <td>69302</td>\n      <td>(822) 163-3254</td>\n      <td>1</td>\n      <td>2012-08-10 16:22:05</td>\n    </tr>\n    <tr>\n      <th>15</th>\n      <td>15</td>\n      <td>Bader</td>\n      <td>Florence</td>\n      <td>264 Ursula Drive, Westford</td>\n      <td>84923</td>\n      <td>(833) 499-3527</td>\n      <td>9</td>\n      <td>2012-08-10 17:52:03</td>\n    </tr>\n    <tr>\n      <th>16</th>\n      <td>16</td>\n      <td>Baker</td>\n      <td>Timothy</td>\n      <td>329 James Street, Reading</td>\n      <td>58393</td>\n      <td>833-941-0824</td>\n      <td>13</td>\n      <td>2012-08-15 10:34:25</td>\n    </tr>\n    <tr>\n      <th>17</th>\n      <td>17</td>\n      <td>Pinker</td>\n      <td>David</td>\n      <td>5 Impreza Road, Boston</td>\n      <td>65332</td>\n      <td>811 409-6734</td>\n      <td>13</td>\n      <td>2012-08-16 11:32:47</td>\n    </tr>\n    <tr>\n      <th>18</th>\n      <td>20</td>\n      <td>Genting</td>\n      <td>Matthew</td>\n      <td>4 Nunnington Place, Wingfield, Boston</td>\n      <td>52365</td>\n      <td>(811) 972-1377</td>\n      <td>5</td>\n      <td>2012-08-19 14:55:55</td>\n    </tr>\n    <tr>\n      <th>19</th>\n      <td>21</td>\n      <td>Mackenzie</td>\n      <td>Anna</td>\n      <td>64 Perkington Lane, Reading</td>\n      <td>64577</td>\n      <td>(822) 661-2898</td>\n      <td>1</td>\n      <td>2012-08-26 09:32:05</td>\n    </tr>\n    <tr>\n      <th>20</th>\n      <td>22</td>\n      <td>Coplin</td>\n      <td>Joan</td>\n      <td>85 Bard Street, Bloomington, Boston</td>\n      <td>43533</td>\n      <td>(822) 499-2232</td>\n      <td>16</td>\n      <td>2012-08-29 08:32:41</td>\n    </tr>\n    <tr>\n      <th>21</th>\n      <td>24</td>\n      <td>Sarwin</td>\n      <td>Ramnaresh</td>\n      <td>12 Bullington Lane, Boston</td>\n      <td>65464</td>\n      <td>(822) 413-1470</td>\n      <td>15</td>\n      <td>2012-09-01 08:44:42</td>\n    </tr>\n    <tr>\n      <th>22</th>\n      <td>26</td>\n      <td>Jones</td>\n      <td>Douglas</td>\n      <td>976 Gnats Close, Reading</td>\n      <td>11986</td>\n      <td>844 536-8036</td>\n      <td>11</td>\n      <td>2012-09-02 18:43:05</td>\n    </tr>\n    <tr>\n      <th>23</th>\n      <td>27</td>\n      <td>Rumney</td>\n      <td>Henrietta</td>\n      <td>3 Burkington Plaza, Boston</td>\n      <td>78533</td>\n      <td>(822) 989-8876</td>\n      <td>20</td>\n      <td>2012-09-05 08:42:35</td>\n    </tr>\n    <tr>\n      <th>24</th>\n      <td>28</td>\n      <td>Farrell</td>\n      <td>David</td>\n      <td>437 Granite Farm Road, Westford</td>\n      <td>43532</td>\n      <td>(855) 755-9876</td>\n      <td></td>\n      <td>2012-09-15 08:22:05</td>\n    </tr>\n    <tr>\n      <th>25</th>\n      <td>29</td>\n      <td>Worthington-Smyth</td>\n      <td>Henry</td>\n      <td>55 Jagbi Way, North Reading</td>\n      <td>97676</td>\n      <td>(855) 894-3758</td>\n      <td>2</td>\n      <td>2012-09-17 12:27:15</td>\n    </tr>\n    <tr>\n      <th>26</th>\n      <td>30</td>\n      <td>Purview</td>\n      <td>Millicent</td>\n      <td>641 Drudgery Close, Burnington, Boston</td>\n      <td>34232</td>\n      <td>(855) 941-9786</td>\n      <td>2</td>\n      <td>2012-09-18 19:04:01</td>\n    </tr>\n    <tr>\n      <th>27</th>\n      <td>33</td>\n      <td>Tupperware</td>\n      <td>Hyacinth</td>\n      <td>33 Cheerful Plaza, Drake Road, Westford</td>\n      <td>68666</td>\n      <td>(822) 665-5327</td>\n      <td></td>\n      <td>2012-09-18 19:32:05</td>\n    </tr>\n    <tr>\n      <th>28</th>\n      <td>35</td>\n      <td>Hunt</td>\n      <td>John</td>\n      <td>5 Bullington Lane, Boston</td>\n      <td>54333</td>\n      <td>(899) 720-6978</td>\n      <td>30</td>\n      <td>2012-09-19 11:32:45</td>\n    </tr>\n    <tr>\n      <th>29</th>\n      <td>36</td>\n      <td>Crumpet</td>\n      <td>Erica</td>\n      <td>Crimson Road, North Reading</td>\n      <td>75655</td>\n      <td>(811) 732-4816</td>\n      <td>2</td>\n      <td>2012-09-22 08:36:38</td>\n    </tr>\n    <tr>\n      <th>30</th>\n      <td>37</td>\n      <td>Smith</td>\n      <td>Darren</td>\n      <td>3 Funktown, Denzington, Boston</td>\n      <td>66796</td>\n      <td>(822) 577-3541</td>\n      <td></td>\n      <td>2012-09-26 18:08:45</td>\n    </tr>\n  </tbody>\n</table>\n</div>"
     },
     "execution_count": 10,
     "metadata": {},
     "output_type": "execute_result"
    }
   ],
   "source": [
    "# Preview members dataframe\n",
    "members"
   ],
   "metadata": {
    "collapsed": false,
    "ExecuteTime": {
     "end_time": "2024-02-19T23:42:27.965277Z",
     "start_time": "2024-02-19T23:42:27.936465Z"
    }
   },
   "id": "b05091e2fceca5cb",
   "execution_count": 10
  },
  {
   "cell_type": "code",
   "outputs": [
    {
     "data": {
      "text/plain": "array(['', '1', '4', '3', '6', '9', '13', '5', '16', '15', '11', '20',\n       '2', '30'], dtype=object)"
     },
     "execution_count": 11,
     "metadata": {},
     "output_type": "execute_result"
    }
   ],
   "source": [
    "# Check recommended by column values\n",
    "members['recommendedby'].unique()"
   ],
   "metadata": {
    "collapsed": false,
    "ExecuteTime": {
     "end_time": "2024-02-19T23:42:27.965905Z",
     "start_time": "2024-02-19T23:42:27.939277Z"
    }
   },
   "id": "4638d59d9d1b8014",
   "execution_count": 11
  },
  {
   "cell_type": "code",
   "outputs": [
    {
     "data": {
      "text/plain": "dtype('float64')"
     },
     "execution_count": 12,
     "metadata": {},
     "output_type": "execute_result"
    }
   ],
   "source": [
    "# They are all numeric values, so we change dtype to float (as we have empty stings)\n",
    "\n",
    "# Replace empty strings with NaN\n",
    "members['recommendedby'] = members['recommendedby'].replace('', np.nan)\n",
    "\n",
    "# Covert to integer dtype\n",
    "members['recommendedby'] = members['recommendedby'].astype(float)\n",
    "\n",
    "members['recommendedby'].dtype"
   ],
   "metadata": {
    "collapsed": false,
    "ExecuteTime": {
     "end_time": "2024-02-19T23:42:27.967402Z",
     "start_time": "2024-02-19T23:42:27.942005Z"
    }
   },
   "id": "951b1ad1cd9283b1",
   "execution_count": 12
  },
  {
   "cell_type": "code",
   "outputs": [
    {
     "data": {
      "text/plain": "array([nan,  1.,  4.,  3.,  6.,  9., 13.,  5., 16., 15., 11., 20.,  2.,\n       30.])"
     },
     "execution_count": 13,
     "metadata": {},
     "output_type": "execute_result"
    }
   ],
   "source": [
    "members['recommendedby'].unique()"
   ],
   "metadata": {
    "collapsed": false,
    "ExecuteTime": {
     "end_time": "2024-02-19T23:42:27.967979Z",
     "start_time": "2024-02-19T23:42:27.945243Z"
    }
   },
   "id": "e2de663a573bae67",
   "execution_count": 13
  },
  {
   "cell_type": "code",
   "outputs": [
    {
     "data": {
      "text/plain": "      bookid  facid  memid           starttime  slots            name  \\\n0          0      3      1 2012-07-03 11:00:00      2    Table Tennis   \n1          1      4      1 2012-07-03 08:00:00      2  Massage Room 1   \n2          2      6      0 2012-07-03 18:00:00      2    Squash Court   \n3          3      7      1 2012-07-03 19:00:00      2   Snooker Table   \n4          4      8      1 2012-07-03 10:00:00      1      Pool Table   \n...      ...    ...    ...                 ...    ...             ...   \n4038    4038      8     29 2012-09-30 16:30:00      2      Pool Table   \n4039    4039      8     29 2012-09-30 18:00:00      1      Pool Table   \n4040    4040      8     21 2012-09-30 18:30:00      1      Pool Table   \n4041    4041      8     16 2012-09-30 19:00:00      1      Pool Table   \n4042    4042      8     29 2012-09-30 19:30:00      1      Pool Table   \n\n      membercost  guestcost  initialoutlay  monthlymaintenance  \\\n0            0.0        5.0            320                  10   \n1            9.9       80.0           4000                3000   \n2            3.5       17.5           5000                  80   \n3            0.0        5.0            450                  15   \n4            0.0        5.0            400                  15   \n...          ...        ...            ...                 ...   \n4038         0.0        5.0            400                  15   \n4039         0.0        5.0            400                  15   \n4040         0.0        5.0            400                  15   \n4041         0.0        5.0            400                  15   \n4042         0.0        5.0            400                  15   \n\n                surname firstname                      address  zipcode  \\\n0                 Smith    Darren   8 Bloomsbury Close, Boston     4321   \n1                 Smith    Darren   8 Bloomsbury Close, Boston     4321   \n2                 GUEST     GUEST                        GUEST        0   \n3                 Smith    Darren   8 Bloomsbury Close, Boston     4321   \n4                 Smith    Darren   8 Bloomsbury Close, Boston     4321   \n...                 ...       ...                          ...      ...   \n4038  Worthington-Smyth     Henry  55 Jagbi Way, North Reading    97676   \n4039  Worthington-Smyth     Henry  55 Jagbi Way, North Reading    97676   \n4040          Mackenzie      Anna  64 Perkington Lane, Reading    64577   \n4041              Baker   Timothy    329 James Street, Reading    58393   \n4042  Worthington-Smyth     Henry  55 Jagbi Way, North Reading    97676   \n\n           telephone  recommendedby             joindate  \n0       555-555-5555            NaN  2012-07-02 12:02:05  \n1       555-555-5555            NaN  2012-07-02 12:02:05  \n2     (000) 000-0000            NaN  2012-07-01 00:00:00  \n3       555-555-5555            NaN  2012-07-02 12:02:05  \n4       555-555-5555            NaN  2012-07-02 12:02:05  \n...              ...            ...                  ...  \n4038  (855) 894-3758            2.0  2012-09-17 12:27:15  \n4039  (855) 894-3758            2.0  2012-09-17 12:27:15  \n4040  (822) 661-2898            1.0  2012-08-26 09:32:05  \n4041    833-941-0824           13.0  2012-08-15 10:34:25  \n4042  (855) 894-3758            2.0  2012-09-17 12:27:15  \n\n[4043 rows x 17 columns]",
      "text/html": "<div>\n<style scoped>\n    .dataframe tbody tr th:only-of-type {\n        vertical-align: middle;\n    }\n\n    .dataframe tbody tr th {\n        vertical-align: top;\n    }\n\n    .dataframe thead th {\n        text-align: right;\n    }\n</style>\n<table border=\"1\" class=\"dataframe\">\n  <thead>\n    <tr style=\"text-align: right;\">\n      <th></th>\n      <th>bookid</th>\n      <th>facid</th>\n      <th>memid</th>\n      <th>starttime</th>\n      <th>slots</th>\n      <th>name</th>\n      <th>membercost</th>\n      <th>guestcost</th>\n      <th>initialoutlay</th>\n      <th>monthlymaintenance</th>\n      <th>surname</th>\n      <th>firstname</th>\n      <th>address</th>\n      <th>zipcode</th>\n      <th>telephone</th>\n      <th>recommendedby</th>\n      <th>joindate</th>\n    </tr>\n  </thead>\n  <tbody>\n    <tr>\n      <th>0</th>\n      <td>0</td>\n      <td>3</td>\n      <td>1</td>\n      <td>2012-07-03 11:00:00</td>\n      <td>2</td>\n      <td>Table Tennis</td>\n      <td>0.0</td>\n      <td>5.0</td>\n      <td>320</td>\n      <td>10</td>\n      <td>Smith</td>\n      <td>Darren</td>\n      <td>8 Bloomsbury Close, Boston</td>\n      <td>4321</td>\n      <td>555-555-5555</td>\n      <td>NaN</td>\n      <td>2012-07-02 12:02:05</td>\n    </tr>\n    <tr>\n      <th>1</th>\n      <td>1</td>\n      <td>4</td>\n      <td>1</td>\n      <td>2012-07-03 08:00:00</td>\n      <td>2</td>\n      <td>Massage Room 1</td>\n      <td>9.9</td>\n      <td>80.0</td>\n      <td>4000</td>\n      <td>3000</td>\n      <td>Smith</td>\n      <td>Darren</td>\n      <td>8 Bloomsbury Close, Boston</td>\n      <td>4321</td>\n      <td>555-555-5555</td>\n      <td>NaN</td>\n      <td>2012-07-02 12:02:05</td>\n    </tr>\n    <tr>\n      <th>2</th>\n      <td>2</td>\n      <td>6</td>\n      <td>0</td>\n      <td>2012-07-03 18:00:00</td>\n      <td>2</td>\n      <td>Squash Court</td>\n      <td>3.5</td>\n      <td>17.5</td>\n      <td>5000</td>\n      <td>80</td>\n      <td>GUEST</td>\n      <td>GUEST</td>\n      <td>GUEST</td>\n      <td>0</td>\n      <td>(000) 000-0000</td>\n      <td>NaN</td>\n      <td>2012-07-01 00:00:00</td>\n    </tr>\n    <tr>\n      <th>3</th>\n      <td>3</td>\n      <td>7</td>\n      <td>1</td>\n      <td>2012-07-03 19:00:00</td>\n      <td>2</td>\n      <td>Snooker Table</td>\n      <td>0.0</td>\n      <td>5.0</td>\n      <td>450</td>\n      <td>15</td>\n      <td>Smith</td>\n      <td>Darren</td>\n      <td>8 Bloomsbury Close, Boston</td>\n      <td>4321</td>\n      <td>555-555-5555</td>\n      <td>NaN</td>\n      <td>2012-07-02 12:02:05</td>\n    </tr>\n    <tr>\n      <th>4</th>\n      <td>4</td>\n      <td>8</td>\n      <td>1</td>\n      <td>2012-07-03 10:00:00</td>\n      <td>1</td>\n      <td>Pool Table</td>\n      <td>0.0</td>\n      <td>5.0</td>\n      <td>400</td>\n      <td>15</td>\n      <td>Smith</td>\n      <td>Darren</td>\n      <td>8 Bloomsbury Close, Boston</td>\n      <td>4321</td>\n      <td>555-555-5555</td>\n      <td>NaN</td>\n      <td>2012-07-02 12:02:05</td>\n    </tr>\n    <tr>\n      <th>...</th>\n      <td>...</td>\n      <td>...</td>\n      <td>...</td>\n      <td>...</td>\n      <td>...</td>\n      <td>...</td>\n      <td>...</td>\n      <td>...</td>\n      <td>...</td>\n      <td>...</td>\n      <td>...</td>\n      <td>...</td>\n      <td>...</td>\n      <td>...</td>\n      <td>...</td>\n      <td>...</td>\n      <td>...</td>\n    </tr>\n    <tr>\n      <th>4038</th>\n      <td>4038</td>\n      <td>8</td>\n      <td>29</td>\n      <td>2012-09-30 16:30:00</td>\n      <td>2</td>\n      <td>Pool Table</td>\n      <td>0.0</td>\n      <td>5.0</td>\n      <td>400</td>\n      <td>15</td>\n      <td>Worthington-Smyth</td>\n      <td>Henry</td>\n      <td>55 Jagbi Way, North Reading</td>\n      <td>97676</td>\n      <td>(855) 894-3758</td>\n      <td>2.0</td>\n      <td>2012-09-17 12:27:15</td>\n    </tr>\n    <tr>\n      <th>4039</th>\n      <td>4039</td>\n      <td>8</td>\n      <td>29</td>\n      <td>2012-09-30 18:00:00</td>\n      <td>1</td>\n      <td>Pool Table</td>\n      <td>0.0</td>\n      <td>5.0</td>\n      <td>400</td>\n      <td>15</td>\n      <td>Worthington-Smyth</td>\n      <td>Henry</td>\n      <td>55 Jagbi Way, North Reading</td>\n      <td>97676</td>\n      <td>(855) 894-3758</td>\n      <td>2.0</td>\n      <td>2012-09-17 12:27:15</td>\n    </tr>\n    <tr>\n      <th>4040</th>\n      <td>4040</td>\n      <td>8</td>\n      <td>21</td>\n      <td>2012-09-30 18:30:00</td>\n      <td>1</td>\n      <td>Pool Table</td>\n      <td>0.0</td>\n      <td>5.0</td>\n      <td>400</td>\n      <td>15</td>\n      <td>Mackenzie</td>\n      <td>Anna</td>\n      <td>64 Perkington Lane, Reading</td>\n      <td>64577</td>\n      <td>(822) 661-2898</td>\n      <td>1.0</td>\n      <td>2012-08-26 09:32:05</td>\n    </tr>\n    <tr>\n      <th>4041</th>\n      <td>4041</td>\n      <td>8</td>\n      <td>16</td>\n      <td>2012-09-30 19:00:00</td>\n      <td>1</td>\n      <td>Pool Table</td>\n      <td>0.0</td>\n      <td>5.0</td>\n      <td>400</td>\n      <td>15</td>\n      <td>Baker</td>\n      <td>Timothy</td>\n      <td>329 James Street, Reading</td>\n      <td>58393</td>\n      <td>833-941-0824</td>\n      <td>13.0</td>\n      <td>2012-08-15 10:34:25</td>\n    </tr>\n    <tr>\n      <th>4042</th>\n      <td>4042</td>\n      <td>8</td>\n      <td>29</td>\n      <td>2012-09-30 19:30:00</td>\n      <td>1</td>\n      <td>Pool Table</td>\n      <td>0.0</td>\n      <td>5.0</td>\n      <td>400</td>\n      <td>15</td>\n      <td>Worthington-Smyth</td>\n      <td>Henry</td>\n      <td>55 Jagbi Way, North Reading</td>\n      <td>97676</td>\n      <td>(855) 894-3758</td>\n      <td>2.0</td>\n      <td>2012-09-17 12:27:15</td>\n    </tr>\n  </tbody>\n</table>\n<p>4043 rows × 17 columns</p>\n</div>"
     },
     "execution_count": 14,
     "metadata": {},
     "output_type": "execute_result"
    }
   ],
   "source": [
    "# Merging all data frames into one\n",
    "df_merged = pd.merge(bookings, facilities, how='left', on='facid').merge(members, how='left', on='memid')\n",
    "df_merged"
   ],
   "metadata": {
    "collapsed": false,
    "ExecuteTime": {
     "end_time": "2024-02-19T23:42:27.992958Z",
     "start_time": "2024-02-19T23:42:27.948029Z"
    }
   },
   "id": "bbf9e05509cb1232",
   "execution_count": 14
  },
  {
   "cell_type": "code",
   "outputs": [
    {
     "name": "stdout",
     "output_type": "stream",
     "text": [
      "<class 'pandas.core.frame.DataFrame'>\n",
      "Int64Index: 4043 entries, 0 to 4042\n",
      "Data columns (total 17 columns):\n",
      " #   Column              Non-Null Count  Dtype         \n",
      "---  ------              --------------  -----         \n",
      " 0   bookid              4043 non-null   int64         \n",
      " 1   facid               4043 non-null   int64         \n",
      " 2   memid               4043 non-null   int64         \n",
      " 3   starttime           4043 non-null   datetime64[ns]\n",
      " 4   slots               4043 non-null   int64         \n",
      " 5   name                4043 non-null   object        \n",
      " 6   membercost          4043 non-null   float64       \n",
      " 7   guestcost           4043 non-null   float64       \n",
      " 8   initialoutlay       4043 non-null   int64         \n",
      " 9   monthlymaintenance  4043 non-null   int64         \n",
      " 10  surname             4043 non-null   object        \n",
      " 11  firstname           4043 non-null   object        \n",
      " 12  address             4043 non-null   object        \n",
      " 13  zipcode             4043 non-null   int64         \n",
      " 14  telephone           4043 non-null   object        \n",
      " 15  recommendedby       1975 non-null   float64       \n",
      " 16  joindate            4043 non-null   object        \n",
      "dtypes: datetime64[ns](1), float64(3), int64(7), object(6)\n",
      "memory usage: 568.5+ KB\n"
     ]
    }
   ],
   "source": [
    "# Get info for the dataframe\n",
    "df_merged.info()"
   ],
   "metadata": {
    "collapsed": false,
    "ExecuteTime": {
     "end_time": "2024-02-19T23:42:28.011049Z",
     "start_time": "2024-02-19T23:42:27.957887Z"
    }
   },
   "id": "11078c13b799e06b",
   "execution_count": 15
  },
  {
   "cell_type": "code",
   "outputs": [],
   "source": [
    "# Function that calculates total cost based on slot price for guests and members and number of slots\n",
    "def calc_total_cost(row):\n",
    "    return row['slots'] * row['guestcost'] if row['memid'] == 0 else row['slots'] * row['membercost']"
   ],
   "metadata": {
    "collapsed": false,
    "ExecuteTime": {
     "end_time": "2024-02-19T23:42:28.038255Z",
     "start_time": "2024-02-19T23:42:27.964955Z"
    }
   },
   "id": "51d98b44337d8d71",
   "execution_count": 16
  },
  {
   "cell_type": "code",
   "outputs": [],
   "source": [
    "# Create new df and column 'total' and apply the function\n",
    "df_merged_total = df_merged.copy()\n",
    "df_merged_total['total_cost'] = df_merged_total.apply(calc_total_cost, axis=1)"
   ],
   "metadata": {
    "collapsed": false,
    "ExecuteTime": {
     "end_time": "2024-02-19T23:42:28.062320Z",
     "start_time": "2024-02-19T23:42:27.966465Z"
    }
   },
   "id": "6363955dca420b3c",
   "execution_count": 17
  },
  {
   "cell_type": "code",
   "outputs": [
    {
     "data": {
      "text/plain": "      memid  guestcost  membercost  slots  total_cost\n0         1        5.0         0.0      2         0.0\n1         1       80.0         9.9      2        19.8\n2         0       17.5         3.5      2        35.0\n3         1        5.0         0.0      2         0.0\n4         1        5.0         0.0      1         0.0\n...     ...        ...         ...    ...         ...\n4038     29        5.0         0.0      2         0.0\n4039     29        5.0         0.0      1         0.0\n4040     21        5.0         0.0      1         0.0\n4041     16        5.0         0.0      1         0.0\n4042     29        5.0         0.0      1         0.0\n\n[4043 rows x 5 columns]",
      "text/html": "<div>\n<style scoped>\n    .dataframe tbody tr th:only-of-type {\n        vertical-align: middle;\n    }\n\n    .dataframe tbody tr th {\n        vertical-align: top;\n    }\n\n    .dataframe thead th {\n        text-align: right;\n    }\n</style>\n<table border=\"1\" class=\"dataframe\">\n  <thead>\n    <tr style=\"text-align: right;\">\n      <th></th>\n      <th>memid</th>\n      <th>guestcost</th>\n      <th>membercost</th>\n      <th>slots</th>\n      <th>total_cost</th>\n    </tr>\n  </thead>\n  <tbody>\n    <tr>\n      <th>0</th>\n      <td>1</td>\n      <td>5.0</td>\n      <td>0.0</td>\n      <td>2</td>\n      <td>0.0</td>\n    </tr>\n    <tr>\n      <th>1</th>\n      <td>1</td>\n      <td>80.0</td>\n      <td>9.9</td>\n      <td>2</td>\n      <td>19.8</td>\n    </tr>\n    <tr>\n      <th>2</th>\n      <td>0</td>\n      <td>17.5</td>\n      <td>3.5</td>\n      <td>2</td>\n      <td>35.0</td>\n    </tr>\n    <tr>\n      <th>3</th>\n      <td>1</td>\n      <td>5.0</td>\n      <td>0.0</td>\n      <td>2</td>\n      <td>0.0</td>\n    </tr>\n    <tr>\n      <th>4</th>\n      <td>1</td>\n      <td>5.0</td>\n      <td>0.0</td>\n      <td>1</td>\n      <td>0.0</td>\n    </tr>\n    <tr>\n      <th>...</th>\n      <td>...</td>\n      <td>...</td>\n      <td>...</td>\n      <td>...</td>\n      <td>...</td>\n    </tr>\n    <tr>\n      <th>4038</th>\n      <td>29</td>\n      <td>5.0</td>\n      <td>0.0</td>\n      <td>2</td>\n      <td>0.0</td>\n    </tr>\n    <tr>\n      <th>4039</th>\n      <td>29</td>\n      <td>5.0</td>\n      <td>0.0</td>\n      <td>1</td>\n      <td>0.0</td>\n    </tr>\n    <tr>\n      <th>4040</th>\n      <td>21</td>\n      <td>5.0</td>\n      <td>0.0</td>\n      <td>1</td>\n      <td>0.0</td>\n    </tr>\n    <tr>\n      <th>4041</th>\n      <td>16</td>\n      <td>5.0</td>\n      <td>0.0</td>\n      <td>1</td>\n      <td>0.0</td>\n    </tr>\n    <tr>\n      <th>4042</th>\n      <td>29</td>\n      <td>5.0</td>\n      <td>0.0</td>\n      <td>1</td>\n      <td>0.0</td>\n    </tr>\n  </tbody>\n</table>\n<p>4043 rows × 5 columns</p>\n</div>"
     },
     "execution_count": 18,
     "metadata": {},
     "output_type": "execute_result"
    }
   ],
   "source": [
    "# Visually check the result\n",
    "df_merged_total[['memid', 'guestcost', 'membercost', 'slots', 'total_cost']]"
   ],
   "metadata": {
    "collapsed": false,
    "ExecuteTime": {
     "end_time": "2024-02-19T23:42:28.082514Z",
     "start_time": "2024-02-19T23:42:27.988913Z"
    }
   },
   "id": "467cdfcef0a2a20",
   "execution_count": 18
  },
  {
   "cell_type": "markdown",
   "source": [
    "## Questions"
   ],
   "metadata": {
    "collapsed": false
   },
   "id": "1295aa6e6005231e"
  },
  {
   "cell_type": "markdown",
   "source": [
    "Q10: Produce a list of facilities with a total revenue less than 1000.\n",
    "The output of facility name and total revenue, sorted by revenue. Remember that there's a different cost for guests and members!"
   ],
   "metadata": {
    "collapsed": false
   },
   "id": "724f872f86c9d477"
  },
  {
   "cell_type": "code",
   "outputs": [
    {
     "data": {
      "text/plain": "name\nPool Table       270.0\nSnooker Table    240.0\nTable Tennis     180.0\nName: total_cost, dtype: float64"
     },
     "execution_count": 19,
     "metadata": {},
     "output_type": "execute_result"
    }
   ],
   "source": [
    "less_than_1000 = df_merged_total.groupby('name')['total_cost'].sum().sort_values(ascending=False)\n",
    "less_than_1000[less_than_1000 < 1000]"
   ],
   "metadata": {
    "collapsed": false,
    "ExecuteTime": {
     "end_time": "2024-02-19T23:42:28.092413Z",
     "start_time": "2024-02-19T23:42:27.991782Z"
    }
   },
   "id": "c217be686c6a955c",
   "execution_count": 19
  },
  {
   "cell_type": "markdown",
   "source": [
    "Q11: Produce a report of members and who recommended them in alphabetic surname,firstname order"
   ],
   "metadata": {
    "collapsed": false
   },
   "id": "939a566b153309f"
  },
  {
   "cell_type": "code",
   "outputs": [
    {
     "data": {
      "text/plain": "    memid            surname  firstname  recommendedby\n1       1              Smith     Darren            NaN\n2       2              Smith      Tracy            NaN\n3       3             Rownam        Tim            NaN\n4       4           Joplette     Janice            1.0\n5       5            Butters     Gerald            1.0\n6       6              Tracy     Burton            NaN\n7       7               Dare      Nancy            4.0\n8       8             Boothe        Tim            3.0\n9       9           Stibbons     Ponder            6.0\n10     10               Owen    Charles            1.0\n11     11              Jones      David            4.0\n12     12              Baker       Anne            9.0\n13     13            Farrell     Jemima            NaN\n14     14              Smith       Jack            1.0\n15     15              Bader   Florence            9.0\n16     16              Baker    Timothy           13.0\n17     17             Pinker      David           13.0\n18     20            Genting    Matthew            5.0\n19     21          Mackenzie       Anna            1.0\n20     22             Coplin       Joan           16.0\n21     24             Sarwin  Ramnaresh           15.0\n22     26              Jones    Douglas           11.0\n23     27             Rumney  Henrietta           20.0\n24     28            Farrell      David            NaN\n25     29  Worthington-Smyth      Henry            2.0\n26     30            Purview  Millicent            2.0\n27     33         Tupperware   Hyacinth            NaN\n28     35               Hunt       John           30.0\n29     36            Crumpet      Erica            2.0\n30     37              Smith     Darren            NaN",
      "text/html": "<div>\n<style scoped>\n    .dataframe tbody tr th:only-of-type {\n        vertical-align: middle;\n    }\n\n    .dataframe tbody tr th {\n        vertical-align: top;\n    }\n\n    .dataframe thead th {\n        text-align: right;\n    }\n</style>\n<table border=\"1\" class=\"dataframe\">\n  <thead>\n    <tr style=\"text-align: right;\">\n      <th></th>\n      <th>memid</th>\n      <th>surname</th>\n      <th>firstname</th>\n      <th>recommendedby</th>\n    </tr>\n  </thead>\n  <tbody>\n    <tr>\n      <th>1</th>\n      <td>1</td>\n      <td>Smith</td>\n      <td>Darren</td>\n      <td>NaN</td>\n    </tr>\n    <tr>\n      <th>2</th>\n      <td>2</td>\n      <td>Smith</td>\n      <td>Tracy</td>\n      <td>NaN</td>\n    </tr>\n    <tr>\n      <th>3</th>\n      <td>3</td>\n      <td>Rownam</td>\n      <td>Tim</td>\n      <td>NaN</td>\n    </tr>\n    <tr>\n      <th>4</th>\n      <td>4</td>\n      <td>Joplette</td>\n      <td>Janice</td>\n      <td>1.0</td>\n    </tr>\n    <tr>\n      <th>5</th>\n      <td>5</td>\n      <td>Butters</td>\n      <td>Gerald</td>\n      <td>1.0</td>\n    </tr>\n    <tr>\n      <th>6</th>\n      <td>6</td>\n      <td>Tracy</td>\n      <td>Burton</td>\n      <td>NaN</td>\n    </tr>\n    <tr>\n      <th>7</th>\n      <td>7</td>\n      <td>Dare</td>\n      <td>Nancy</td>\n      <td>4.0</td>\n    </tr>\n    <tr>\n      <th>8</th>\n      <td>8</td>\n      <td>Boothe</td>\n      <td>Tim</td>\n      <td>3.0</td>\n    </tr>\n    <tr>\n      <th>9</th>\n      <td>9</td>\n      <td>Stibbons</td>\n      <td>Ponder</td>\n      <td>6.0</td>\n    </tr>\n    <tr>\n      <th>10</th>\n      <td>10</td>\n      <td>Owen</td>\n      <td>Charles</td>\n      <td>1.0</td>\n    </tr>\n    <tr>\n      <th>11</th>\n      <td>11</td>\n      <td>Jones</td>\n      <td>David</td>\n      <td>4.0</td>\n    </tr>\n    <tr>\n      <th>12</th>\n      <td>12</td>\n      <td>Baker</td>\n      <td>Anne</td>\n      <td>9.0</td>\n    </tr>\n    <tr>\n      <th>13</th>\n      <td>13</td>\n      <td>Farrell</td>\n      <td>Jemima</td>\n      <td>NaN</td>\n    </tr>\n    <tr>\n      <th>14</th>\n      <td>14</td>\n      <td>Smith</td>\n      <td>Jack</td>\n      <td>1.0</td>\n    </tr>\n    <tr>\n      <th>15</th>\n      <td>15</td>\n      <td>Bader</td>\n      <td>Florence</td>\n      <td>9.0</td>\n    </tr>\n    <tr>\n      <th>16</th>\n      <td>16</td>\n      <td>Baker</td>\n      <td>Timothy</td>\n      <td>13.0</td>\n    </tr>\n    <tr>\n      <th>17</th>\n      <td>17</td>\n      <td>Pinker</td>\n      <td>David</td>\n      <td>13.0</td>\n    </tr>\n    <tr>\n      <th>18</th>\n      <td>20</td>\n      <td>Genting</td>\n      <td>Matthew</td>\n      <td>5.0</td>\n    </tr>\n    <tr>\n      <th>19</th>\n      <td>21</td>\n      <td>Mackenzie</td>\n      <td>Anna</td>\n      <td>1.0</td>\n    </tr>\n    <tr>\n      <th>20</th>\n      <td>22</td>\n      <td>Coplin</td>\n      <td>Joan</td>\n      <td>16.0</td>\n    </tr>\n    <tr>\n      <th>21</th>\n      <td>24</td>\n      <td>Sarwin</td>\n      <td>Ramnaresh</td>\n      <td>15.0</td>\n    </tr>\n    <tr>\n      <th>22</th>\n      <td>26</td>\n      <td>Jones</td>\n      <td>Douglas</td>\n      <td>11.0</td>\n    </tr>\n    <tr>\n      <th>23</th>\n      <td>27</td>\n      <td>Rumney</td>\n      <td>Henrietta</td>\n      <td>20.0</td>\n    </tr>\n    <tr>\n      <th>24</th>\n      <td>28</td>\n      <td>Farrell</td>\n      <td>David</td>\n      <td>NaN</td>\n    </tr>\n    <tr>\n      <th>25</th>\n      <td>29</td>\n      <td>Worthington-Smyth</td>\n      <td>Henry</td>\n      <td>2.0</td>\n    </tr>\n    <tr>\n      <th>26</th>\n      <td>30</td>\n      <td>Purview</td>\n      <td>Millicent</td>\n      <td>2.0</td>\n    </tr>\n    <tr>\n      <th>27</th>\n      <td>33</td>\n      <td>Tupperware</td>\n      <td>Hyacinth</td>\n      <td>NaN</td>\n    </tr>\n    <tr>\n      <th>28</th>\n      <td>35</td>\n      <td>Hunt</td>\n      <td>John</td>\n      <td>30.0</td>\n    </tr>\n    <tr>\n      <th>29</th>\n      <td>36</td>\n      <td>Crumpet</td>\n      <td>Erica</td>\n      <td>2.0</td>\n    </tr>\n    <tr>\n      <th>30</th>\n      <td>37</td>\n      <td>Smith</td>\n      <td>Darren</td>\n      <td>NaN</td>\n    </tr>\n  </tbody>\n</table>\n</div>"
     },
     "execution_count": 20,
     "metadata": {},
     "output_type": "execute_result"
    }
   ],
   "source": [
    "# Get the df with first, last names and recommended by columns\n",
    "df_members_name_info = members[['memid', 'surname', 'firstname', 'recommendedby']]\n",
    "df_members_name_info = df_members_name_info.loc[df_members_name_info['surname'] != 'GUEST']\n",
    "df_members_name_info"
   ],
   "metadata": {
    "collapsed": false,
    "ExecuteTime": {
     "end_time": "2024-02-19T23:42:28.106630Z",
     "start_time": "2024-02-19T23:42:27.998256Z"
    }
   },
   "id": "7cf62f37257ff18f",
   "execution_count": 20
  },
  {
   "cell_type": "code",
   "outputs": [
    {
     "data": {
      "text/plain": "          surname_mem firstname_mem surname_rec firstname_rec\n0            Joplette        Janice       Smith        Darren\n1             Butters        Gerald       Smith        Darren\n2                Owen       Charles       Smith        Darren\n3               Smith          Jack       Smith        Darren\n4           Mackenzie          Anna       Smith        Darren\n5                Dare         Nancy    Joplette        Janice\n6               Jones         David    Joplette        Janice\n7              Boothe           Tim      Rownam           Tim\n8            Stibbons        Ponder       Tracy        Burton\n9               Baker          Anne    Stibbons        Ponder\n10              Bader      Florence    Stibbons        Ponder\n11              Baker       Timothy     Farrell        Jemima\n12             Pinker         David     Farrell        Jemima\n13            Genting       Matthew     Butters        Gerald\n14             Coplin          Joan       Baker       Timothy\n15             Sarwin     Ramnaresh       Bader      Florence\n16              Jones       Douglas       Jones         David\n17             Rumney     Henrietta     Genting       Matthew\n18  Worthington-Smyth         Henry       Smith         Tracy\n19            Purview     Millicent       Smith         Tracy\n20            Crumpet         Erica       Smith         Tracy\n21               Hunt          John     Purview     Millicent",
      "text/html": "<div>\n<style scoped>\n    .dataframe tbody tr th:only-of-type {\n        vertical-align: middle;\n    }\n\n    .dataframe tbody tr th {\n        vertical-align: top;\n    }\n\n    .dataframe thead th {\n        text-align: right;\n    }\n</style>\n<table border=\"1\" class=\"dataframe\">\n  <thead>\n    <tr style=\"text-align: right;\">\n      <th></th>\n      <th>surname_mem</th>\n      <th>firstname_mem</th>\n      <th>surname_rec</th>\n      <th>firstname_rec</th>\n    </tr>\n  </thead>\n  <tbody>\n    <tr>\n      <th>0</th>\n      <td>Joplette</td>\n      <td>Janice</td>\n      <td>Smith</td>\n      <td>Darren</td>\n    </tr>\n    <tr>\n      <th>1</th>\n      <td>Butters</td>\n      <td>Gerald</td>\n      <td>Smith</td>\n      <td>Darren</td>\n    </tr>\n    <tr>\n      <th>2</th>\n      <td>Owen</td>\n      <td>Charles</td>\n      <td>Smith</td>\n      <td>Darren</td>\n    </tr>\n    <tr>\n      <th>3</th>\n      <td>Smith</td>\n      <td>Jack</td>\n      <td>Smith</td>\n      <td>Darren</td>\n    </tr>\n    <tr>\n      <th>4</th>\n      <td>Mackenzie</td>\n      <td>Anna</td>\n      <td>Smith</td>\n      <td>Darren</td>\n    </tr>\n    <tr>\n      <th>5</th>\n      <td>Dare</td>\n      <td>Nancy</td>\n      <td>Joplette</td>\n      <td>Janice</td>\n    </tr>\n    <tr>\n      <th>6</th>\n      <td>Jones</td>\n      <td>David</td>\n      <td>Joplette</td>\n      <td>Janice</td>\n    </tr>\n    <tr>\n      <th>7</th>\n      <td>Boothe</td>\n      <td>Tim</td>\n      <td>Rownam</td>\n      <td>Tim</td>\n    </tr>\n    <tr>\n      <th>8</th>\n      <td>Stibbons</td>\n      <td>Ponder</td>\n      <td>Tracy</td>\n      <td>Burton</td>\n    </tr>\n    <tr>\n      <th>9</th>\n      <td>Baker</td>\n      <td>Anne</td>\n      <td>Stibbons</td>\n      <td>Ponder</td>\n    </tr>\n    <tr>\n      <th>10</th>\n      <td>Bader</td>\n      <td>Florence</td>\n      <td>Stibbons</td>\n      <td>Ponder</td>\n    </tr>\n    <tr>\n      <th>11</th>\n      <td>Baker</td>\n      <td>Timothy</td>\n      <td>Farrell</td>\n      <td>Jemima</td>\n    </tr>\n    <tr>\n      <th>12</th>\n      <td>Pinker</td>\n      <td>David</td>\n      <td>Farrell</td>\n      <td>Jemima</td>\n    </tr>\n    <tr>\n      <th>13</th>\n      <td>Genting</td>\n      <td>Matthew</td>\n      <td>Butters</td>\n      <td>Gerald</td>\n    </tr>\n    <tr>\n      <th>14</th>\n      <td>Coplin</td>\n      <td>Joan</td>\n      <td>Baker</td>\n      <td>Timothy</td>\n    </tr>\n    <tr>\n      <th>15</th>\n      <td>Sarwin</td>\n      <td>Ramnaresh</td>\n      <td>Bader</td>\n      <td>Florence</td>\n    </tr>\n    <tr>\n      <th>16</th>\n      <td>Jones</td>\n      <td>Douglas</td>\n      <td>Jones</td>\n      <td>David</td>\n    </tr>\n    <tr>\n      <th>17</th>\n      <td>Rumney</td>\n      <td>Henrietta</td>\n      <td>Genting</td>\n      <td>Matthew</td>\n    </tr>\n    <tr>\n      <th>18</th>\n      <td>Worthington-Smyth</td>\n      <td>Henry</td>\n      <td>Smith</td>\n      <td>Tracy</td>\n    </tr>\n    <tr>\n      <th>19</th>\n      <td>Purview</td>\n      <td>Millicent</td>\n      <td>Smith</td>\n      <td>Tracy</td>\n    </tr>\n    <tr>\n      <th>20</th>\n      <td>Crumpet</td>\n      <td>Erica</td>\n      <td>Smith</td>\n      <td>Tracy</td>\n    </tr>\n    <tr>\n      <th>21</th>\n      <td>Hunt</td>\n      <td>John</td>\n      <td>Purview</td>\n      <td>Millicent</td>\n    </tr>\n  </tbody>\n</table>\n</div>"
     },
     "execution_count": 21,
     "metadata": {},
     "output_type": "execute_result"
    }
   ],
   "source": [
    "# Left join facilities df on facid = recommendedBy\n",
    "df_members_name_recommend = df_members_name_info.merge(df_members_name_info, \n",
    "                                                       left_on='recommendedby', right_on='memid',\n",
    "                                                       suffixes=('_mem', '_rec'))\n",
    "df_members_name_recommend[['surname_mem', 'firstname_mem', 'surname_rec', 'firstname_rec']]"
   ],
   "metadata": {
    "collapsed": false,
    "ExecuteTime": {
     "end_time": "2024-02-19T23:42:28.107436Z",
     "start_time": "2024-02-19T23:42:28.004128Z"
    }
   },
   "id": "ba40618681ce7cbc",
   "execution_count": 21
  },
  {
   "cell_type": "code",
   "outputs": [
    {
     "name": "stdout",
     "output_type": "stream",
     "text": [
      "1. Joplette Janice was recommended by Smith Darren\n",
      "2. Butters Gerald was recommended by Smith Darren\n",
      "3. Owen Charles was recommended by Smith Darren\n",
      "4. Smith Jack was recommended by Smith Darren\n",
      "5. Mackenzie Anna was recommended by Smith Darren\n",
      "6. Dare Nancy was recommended by Joplette Janice\n",
      "7. Jones David was recommended by Joplette Janice\n",
      "8. Boothe Tim was recommended by Rownam Tim\n",
      "9. Stibbons Ponder was recommended by Tracy Burton\n",
      "10. Baker Anne was recommended by Stibbons Ponder\n",
      "11. Bader Florence was recommended by Stibbons Ponder\n",
      "12. Baker Timothy was recommended by Farrell Jemima\n",
      "13. Pinker David was recommended by Farrell Jemima\n",
      "14. Genting Matthew was recommended by Butters Gerald\n",
      "15. Coplin Joan was recommended by Baker Timothy\n",
      "16. Sarwin Ramnaresh was recommended by Bader Florence\n",
      "17. Jones Douglas was recommended by Jones David\n",
      "18. Rumney Henrietta was recommended by Genting Matthew\n",
      "19. Worthington-Smyth Henry was recommended by Smith Tracy\n",
      "20. Purview Millicent was recommended by Smith Tracy\n",
      "21. Crumpet Erica was recommended by Smith Tracy\n",
      "22. Hunt John was recommended by Purview Millicent\n"
     ]
    }
   ],
   "source": [
    "# Producing report\n",
    "for facility, row in enumerate(df_members_name_recommend.itertuples()):\n",
    "    print(f'{facility + 1}. {row.surname_mem} {row.firstname_mem} was recommended by {row.surname_rec} {row.firstname_rec}')"
   ],
   "metadata": {
    "collapsed": false,
    "ExecuteTime": {
     "end_time": "2024-02-19T23:42:28.111342Z",
     "start_time": "2024-02-19T23:42:28.007179Z"
    }
   },
   "id": "19420ccc7282d2e5",
   "execution_count": 22
  },
  {
   "cell_type": "markdown",
   "source": [
    "Q12: Find the facilities with their usage by member, but not guests "
   ],
   "metadata": {
    "collapsed": false
   },
   "id": "8825413446bf499d"
  },
  {
   "cell_type": "code",
   "outputs": [
    {
     "data": {
      "text/plain": "       facility_name            full_name  slots\n6     Tennis Court 1          Tracy Smith      3\n7     Tennis Court 1          Tracy Smith      3\n28    Tennis Court 1          Tracy Smith      3\n36    Tennis Court 1          Tracy Smith      3\n38    Tennis Court 1          Tracy Smith      3\n...              ...                  ...    ...\n3426      Pool Table  Hyacinth Tupperware      1\n3545      Pool Table  Hyacinth Tupperware      1\n3696      Pool Table  Hyacinth Tupperware      1\n3817      Pool Table  Hyacinth Tupperware      1\n3972      Pool Table  Hyacinth Tupperware      1\n\n[3160 rows x 3 columns]",
      "text/html": "<div>\n<style scoped>\n    .dataframe tbody tr th:only-of-type {\n        vertical-align: middle;\n    }\n\n    .dataframe tbody tr th {\n        vertical-align: top;\n    }\n\n    .dataframe thead th {\n        text-align: right;\n    }\n</style>\n<table border=\"1\" class=\"dataframe\">\n  <thead>\n    <tr style=\"text-align: right;\">\n      <th></th>\n      <th>facility_name</th>\n      <th>full_name</th>\n      <th>slots</th>\n    </tr>\n  </thead>\n  <tbody>\n    <tr>\n      <th>6</th>\n      <td>Tennis Court 1</td>\n      <td>Tracy Smith</td>\n      <td>3</td>\n    </tr>\n    <tr>\n      <th>7</th>\n      <td>Tennis Court 1</td>\n      <td>Tracy Smith</td>\n      <td>3</td>\n    </tr>\n    <tr>\n      <th>28</th>\n      <td>Tennis Court 1</td>\n      <td>Tracy Smith</td>\n      <td>3</td>\n    </tr>\n    <tr>\n      <th>36</th>\n      <td>Tennis Court 1</td>\n      <td>Tracy Smith</td>\n      <td>3</td>\n    </tr>\n    <tr>\n      <th>38</th>\n      <td>Tennis Court 1</td>\n      <td>Tracy Smith</td>\n      <td>3</td>\n    </tr>\n    <tr>\n      <th>...</th>\n      <td>...</td>\n      <td>...</td>\n      <td>...</td>\n    </tr>\n    <tr>\n      <th>3426</th>\n      <td>Pool Table</td>\n      <td>Hyacinth Tupperware</td>\n      <td>1</td>\n    </tr>\n    <tr>\n      <th>3545</th>\n      <td>Pool Table</td>\n      <td>Hyacinth Tupperware</td>\n      <td>1</td>\n    </tr>\n    <tr>\n      <th>3696</th>\n      <td>Pool Table</td>\n      <td>Hyacinth Tupperware</td>\n      <td>1</td>\n    </tr>\n    <tr>\n      <th>3817</th>\n      <td>Pool Table</td>\n      <td>Hyacinth Tupperware</td>\n      <td>1</td>\n    </tr>\n    <tr>\n      <th>3972</th>\n      <td>Pool Table</td>\n      <td>Hyacinth Tupperware</td>\n      <td>1</td>\n    </tr>\n  </tbody>\n</table>\n<p>3160 rows × 3 columns</p>\n</div>"
     },
     "execution_count": 23,
     "metadata": {},
     "output_type": "execute_result"
    }
   ],
   "source": [
    "# Sort dataframe by facid and memid\n",
    "df_by_facility = df_merged.sort_values(by=['facid', 'memid'])\n",
    "df_by_facility = df_by_facility.loc[df_by_facility['memid'] != 0]\n",
    "df_by_facility['full_name'] = df_by_facility['firstname'] + ' ' + df_by_facility['surname']\n",
    "df_by_facility['facility_name'] = df_by_facility['name']\n",
    "df_by_facility = df_by_facility[['facility_name', 'full_name', 'slots']]\n",
    "\n",
    "df_by_facility"
   ],
   "metadata": {
    "collapsed": false,
    "ExecuteTime": {
     "end_time": "2024-02-19T23:42:28.118106Z",
     "start_time": "2024-02-19T23:42:28.010293Z"
    }
   },
   "id": "c85bc6b473b57daa",
   "execution_count": 23
  },
  {
   "cell_type": "code",
   "outputs": [],
   "source": [
    "# Calculate time spent by each member\n",
    "df_by_facility_group = df_by_facility.groupby(['facility_name', 'full_name'])['slots'].sum().reset_index()\n",
    "df_by_facility_group['usage_time_min'] = df_by_facility['slots'] * 30\n",
    "df_by_facility_group = df_by_facility_group[['facility_name', 'full_name', 'usage_time_min']].dropna()\n",
    "df_by_facility_group['usage_time_min'] = df_by_facility_group['usage_time_min'].astype(int)"
   ],
   "metadata": {
    "collapsed": false,
    "ExecuteTime": {
     "end_time": "2024-02-19T23:42:28.124280Z",
     "start_time": "2024-02-19T23:42:28.017874Z"
    }
   },
   "id": "daed42e78185c572",
   "execution_count": 24
  },
  {
   "cell_type": "code",
   "outputs": [
    {
     "name": "stdout",
     "output_type": "stream",
     "text": [
      "Tennis Court 1:\n",
      "\tAnne Baker spent 90 min\n",
      "\tBurton Tracy spent 90 min\n",
      "\tCharles Owen spent 90 min\n",
      "\tDavid Farrell spent 90 min\n",
      "\tDavid Pinker spent 90 min\n",
      "\tDouglas Jones spent 60 min\n",
      "\tErica Crumpet spent 60 min\n",
      "\tFlorence Bader spent 60 min\n",
      "\tJack Smith spent 60 min\n",
      "\tJemima Farrell spent 60 min\n",
      "\tJoan Coplin spent 60 min\n",
      "\tJohn Hunt spent 60 min\n",
      "\tMatthew Genting spent 60 min\n",
      "\tNancy Dare spent 30 min\n",
      "\tPonder Stibbons spent 30 min\n",
      "\tRamnaresh Sarwin spent 90 min\n",
      "\tTim Rownam spent 90 min\n",
      "\n",
      "\n",
      "Tennis Court 2:\n",
      "\tAnne Baker spent 90 min\n",
      "\tBurton Tracy spent 90 min\n",
      "\tCharles Owen spent 60 min\n",
      "\tDarren Smith spent 60 min\n",
      "\tDavid Jones spent 60 min\n",
      "\tFlorence Bader spent 60 min\n",
      "\tGerald Butters spent 60 min\n",
      "\tHenrietta Rumney spent 30 min\n",
      "\tJack Smith spent 30 min\n",
      "\tJanice Joplette spent 30 min\n",
      "\tJemima Farrell spent 30 min\n",
      "\tJohn Hunt spent 90 min\n",
      "\tMillicent Purview spent 90 min\n",
      "\tNancy Dare spent 90 min\n",
      "\tRamnaresh Sarwin spent 90 min\n",
      "\tTim Boothe spent 60 min\n",
      "\tTim Rownam spent 60 min\n",
      "\tTimothy Baker spent 60 min\n",
      "\tTracy Smith spent 60 min\n",
      "\n",
      "\n",
      "Badminton Court:\n",
      "\tAnna Mackenzie spent 60 min\n",
      "\tAnne Baker spent 60 min\n",
      "\tCharles Owen spent 60 min\n",
      "\tDarren Smith spent 30 min\n",
      "\tDavid Jones spent 30 min\n",
      "\tDavid Pinker spent 90 min\n",
      "\tDouglas Jones spent 90 min\n",
      "\tErica Crumpet spent 60 min\n",
      "\tJack Smith spent 60 min\n",
      "\tJemima Farrell spent 60 min\n",
      "\tJohn Hunt spent 30 min\n",
      "\tMillicent Purview spent 30 min\n",
      "\tPonder Stibbons spent 90 min\n",
      "\tRamnaresh Sarwin spent 60 min\n",
      "\tTim Boothe spent 60 min\n",
      "\tTim Rownam spent 60 min\n",
      "\tTracy Smith spent 60 min\n",
      "\n",
      "\n",
      "Table Tennis:\n",
      "\tAnna Mackenzie spent 60 min\n",
      "\tBurton Tracy spent 60 min\n",
      "\tCharles Owen spent 60 min\n",
      "\tDarren Smith spent 60 min\n",
      "\tDavid Jones spent 30 min\n",
      "\tDavid Pinker spent 90 min\n",
      "\tErica Crumpet spent 90 min\n",
      "\tFlorence Bader spent 90 min\n",
      "\tGerald Butters spent 90 min\n",
      "\tHenry Worthington-Smyth spent 90 min\n",
      "\tJanice Joplette spent 90 min\n",
      "\tMatthew Genting spent 60 min\n",
      "\tMillicent Purview spent 60 min\n",
      "\tRamnaresh Sarwin spent 60 min\n",
      "\tTim Boothe spent 60 min\n",
      "\tTimothy Baker spent 30 min\n",
      "\tTracy Smith spent 90 min\n",
      "\n",
      "\n",
      "Massage Room 1:\n",
      "\tAnna Mackenzie spent 60 min\n",
      "\tAnne Baker spent 30 min\n",
      "\tDarren Smith spent 90 min\n",
      "\tDavid Jones spent 90 min\n",
      "\tDavid Pinker spent 60 min\n",
      "\tErica Crumpet spent 60 min\n",
      "\tGerald Butters spent 60 min\n",
      "\tHenry Worthington-Smyth spent 60 min\n",
      "\tHyacinth Tupperware spent 60 min\n",
      "\tJack Smith spent 30 min\n",
      "\tJanice Joplette spent 90 min\n",
      "\tJoan Coplin spent 90 min\n",
      "\tJohn Hunt spent 90 min\n",
      "\tMatthew Genting spent 90 min\n",
      "\tNancy Dare spent 90 min\n",
      "\tPonder Stibbons spent 90 min\n",
      "\tRamnaresh Sarwin spent 60 min\n",
      "\tTim Boothe spent 60 min\n",
      "\tTim Rownam spent 60 min\n",
      "\n",
      "\n",
      "Massage Room 2:\n",
      "\tAnne Baker spent 60 min\n",
      "\tCharles Owen spent 60 min\n",
      "\tFlorence Bader spent 60 min\n",
      "\tGerald Butters spent 30 min\n",
      "\tJack Smith spent 60 min\n",
      "\tJanice Joplette spent 90 min\n",
      "\tJoan Coplin spent 90 min\n",
      "\tMatthew Genting spent 90 min\n",
      "\tNancy Dare spent 90 min\n",
      "\tRamnaresh Sarwin spent 60 min\n",
      "\tTim Rownam spent 60 min\n",
      "\n",
      "\n",
      "Squash Court:\n",
      "\tBurton Tracy spent 90 min\n",
      "\tCharles Owen spent 90 min\n",
      "\tDavid Jones spent 60 min\n",
      "\tDouglas Jones spent 60 min\n",
      "\tGerald Butters spent 60 min\n",
      "\tJoan Coplin spent 30 min\n",
      "\tJohn Hunt spent 30 min\n",
      "\tPonder Stibbons spent 90 min\n",
      "\tRamnaresh Sarwin spent 90 min\n",
      "\tTim Boothe spent 90 min\n",
      "\tTimothy Baker spent 90 min\n",
      "\tTracy Smith spent 60 min\n",
      "\n",
      "\n",
      "Snooker Table:\n",
      "\tAnna Mackenzie spent 30 min\n",
      "\tDarren Smith spent 60 min\n",
      "\tDavid Farrell spent 60 min\n",
      "\tDavid Jones spent 60 min\n",
      "\tDavid Pinker spent 60 min\n",
      "\tFlorence Bader spent 60 min\n",
      "\tHenrietta Rumney spent 60 min\n",
      "\tJack Smith spent 120 min\n",
      "\tMatthew Genting spent 60 min\n",
      "\tMillicent Purview spent 60 min\n",
      "\tPonder Stibbons spent 30 min\n",
      "\tRamnaresh Sarwin spent 30 min\n",
      "\tTim Boothe spent 90 min\n",
      "\tTracy Smith spent 90 min\n",
      "\n",
      "\n",
      "Pool Table:\n",
      "\tAnna Mackenzie spent 60 min\n",
      "\tBurton Tracy spent 60 min\n",
      "\tDavid Pinker spent 60 min\n",
      "\tDouglas Jones spent 60 min\n",
      "\tFlorence Bader spent 30 min\n",
      "\tGerald Butters spent 30 min\n",
      "\tHenrietta Rumney spent 90 min\n",
      "\tHenry Worthington-Smyth spent 90 min\n",
      "\tHyacinth Tupperware spent 90 min\n",
      "\tJanice Joplette spent 90 min\n",
      "\tJemima Farrell spent 180 min\n",
      "\tMatthew Genting spent 60 min\n",
      "\tMillicent Purview spent 60 min\n",
      "\tNancy Dare spent 60 min\n",
      "\tPonder Stibbons spent 60 min\n",
      "\tTim Boothe spent 60 min\n",
      "\tTimothy Baker spent 30 min\n",
      "\tTracy Smith spent 30 min\n",
      "\n"
     ]
    }
   ],
   "source": [
    "# Print report\n",
    "for facility in facilities['name'].tolist():\n",
    "    print(f'{facility}:')\n",
    "    facility_df = df_by_facility_group.loc[df_by_facility_group['facility_name'] == facility]\n",
    "    for row in facility_df.itertuples():\n",
    "        print(f'\\t{row.full_name} spent {row.usage_time_min} min')\n",
    "    print('\\n')\n"
   ],
   "metadata": {
    "collapsed": false,
    "ExecuteTime": {
     "end_time": "2024-02-19T23:42:28.124924Z",
     "start_time": "2024-02-19T23:42:28.026718Z"
    }
   },
   "id": "9373f29a28f7b971",
   "execution_count": 25
  },
  {
   "cell_type": "markdown",
   "source": [
    "Q13: Find the facilities usage by month, but not guests "
   ],
   "metadata": {
    "collapsed": false
   },
   "id": "716eaa81c3bd725c"
  },
  {
   "cell_type": "code",
   "outputs": [
    {
     "data": {
      "text/plain": "                 name           starttime  slots  monthly_usage_min\n0     Badminton Court 2012-07-05 09:30:00      3                 90\n1     Badminton Court 2012-07-06 17:00:00      3                 90\n2     Badminton Court 2012-07-07 09:00:00      3                 90\n3     Badminton Court 2012-07-07 11:30:00      3                 90\n4     Badminton Court 2012-07-07 16:00:00      3                 90\n...               ...                 ...    ...                ...\n3155   Tennis Court 2 2012-09-30 08:30:00      3                 90\n3156   Tennis Court 2 2012-09-30 11:30:00      3                 90\n3157   Tennis Court 2 2012-09-30 13:30:00      6                180\n3158   Tennis Court 2 2012-09-30 16:30:00      3                 90\n3159   Tennis Court 2 2012-09-30 18:30:00      3                 90\n\n[3160 rows x 4 columns]",
      "text/html": "<div>\n<style scoped>\n    .dataframe tbody tr th:only-of-type {\n        vertical-align: middle;\n    }\n\n    .dataframe tbody tr th {\n        vertical-align: top;\n    }\n\n    .dataframe thead th {\n        text-align: right;\n    }\n</style>\n<table border=\"1\" class=\"dataframe\">\n  <thead>\n    <tr style=\"text-align: right;\">\n      <th></th>\n      <th>name</th>\n      <th>starttime</th>\n      <th>slots</th>\n      <th>monthly_usage_min</th>\n    </tr>\n  </thead>\n  <tbody>\n    <tr>\n      <th>0</th>\n      <td>Badminton Court</td>\n      <td>2012-07-05 09:30:00</td>\n      <td>3</td>\n      <td>90</td>\n    </tr>\n    <tr>\n      <th>1</th>\n      <td>Badminton Court</td>\n      <td>2012-07-06 17:00:00</td>\n      <td>3</td>\n      <td>90</td>\n    </tr>\n    <tr>\n      <th>2</th>\n      <td>Badminton Court</td>\n      <td>2012-07-07 09:00:00</td>\n      <td>3</td>\n      <td>90</td>\n    </tr>\n    <tr>\n      <th>3</th>\n      <td>Badminton Court</td>\n      <td>2012-07-07 11:30:00</td>\n      <td>3</td>\n      <td>90</td>\n    </tr>\n    <tr>\n      <th>4</th>\n      <td>Badminton Court</td>\n      <td>2012-07-07 16:00:00</td>\n      <td>3</td>\n      <td>90</td>\n    </tr>\n    <tr>\n      <th>...</th>\n      <td>...</td>\n      <td>...</td>\n      <td>...</td>\n      <td>...</td>\n    </tr>\n    <tr>\n      <th>3155</th>\n      <td>Tennis Court 2</td>\n      <td>2012-09-30 08:30:00</td>\n      <td>3</td>\n      <td>90</td>\n    </tr>\n    <tr>\n      <th>3156</th>\n      <td>Tennis Court 2</td>\n      <td>2012-09-30 11:30:00</td>\n      <td>3</td>\n      <td>90</td>\n    </tr>\n    <tr>\n      <th>3157</th>\n      <td>Tennis Court 2</td>\n      <td>2012-09-30 13:30:00</td>\n      <td>6</td>\n      <td>180</td>\n    </tr>\n    <tr>\n      <th>3158</th>\n      <td>Tennis Court 2</td>\n      <td>2012-09-30 16:30:00</td>\n      <td>3</td>\n      <td>90</td>\n    </tr>\n    <tr>\n      <th>3159</th>\n      <td>Tennis Court 2</td>\n      <td>2012-09-30 18:30:00</td>\n      <td>3</td>\n      <td>90</td>\n    </tr>\n  </tbody>\n</table>\n<p>3160 rows × 4 columns</p>\n</div>"
     },
     "execution_count": 26,
     "metadata": {},
     "output_type": "execute_result"
    }
   ],
   "source": [
    "# Prepare dataframe\n",
    "df_facility_monthly_usage = df_merged.loc[df_merged['memid'] != 0][['name', 'starttime', 'slots']]\n",
    "df_facility_monthly_usage['monthly_usage_min'] = df_facility_monthly_usage['slots'] * 30\n",
    "df_facility_monthly_usage.groupby(['name', 'starttime']).sum().reset_index()\n"
   ],
   "metadata": {
    "collapsed": false,
    "ExecuteTime": {
     "end_time": "2024-02-19T23:42:28.125553Z",
     "start_time": "2024-02-19T23:42:28.028859Z"
    }
   },
   "id": "2cf9959825b78683",
   "execution_count": 26
  },
  {
   "cell_type": "code",
   "outputs": [
    {
     "data": {
      "text/plain": "               name month  monthly_usage_min\n0   Badminton Court   Aug              12420\n1   Badminton Court   Jul               4950\n2   Badminton Court   Sep              15210\n3    Massage Room 1   Aug               9480\n4    Massage Room 1   Jul               4980\n5    Massage Room 1   Sep              12060\n6    Massage Room 2   Aug                540\n7    Massage Room 2   Jul                240\n8    Massage Room 2   Sep                840\n9        Pool Table   Aug               9090\n10       Pool Table   Jul               3300\n11       Pool Table   Sep              13290\n12    Snooker Table   Aug               9480\n13    Snooker Table   Jul               4200\n14    Snooker Table   Sep              12120\n15     Squash Court   Aug               5520\n16     Squash Court   Jul               1500\n17     Squash Court   Sep               5520\n18     Table Tennis   Aug               8880\n19     Table Tennis   Jul               2940\n20     Table Tennis   Sep              12000\n21   Tennis Court 1   Aug              10170\n22   Tennis Court 1   Jul               6030\n23   Tennis Court 1   Sep              12510\n24   Tennis Court 2   Aug              10350\n25   Tennis Court 2   Jul               3690\n26   Tennis Court 2   Sep              12420",
      "text/html": "<div>\n<style scoped>\n    .dataframe tbody tr th:only-of-type {\n        vertical-align: middle;\n    }\n\n    .dataframe tbody tr th {\n        vertical-align: top;\n    }\n\n    .dataframe thead th {\n        text-align: right;\n    }\n</style>\n<table border=\"1\" class=\"dataframe\">\n  <thead>\n    <tr style=\"text-align: right;\">\n      <th></th>\n      <th>name</th>\n      <th>month</th>\n      <th>monthly_usage_min</th>\n    </tr>\n  </thead>\n  <tbody>\n    <tr>\n      <th>0</th>\n      <td>Badminton Court</td>\n      <td>Aug</td>\n      <td>12420</td>\n    </tr>\n    <tr>\n      <th>1</th>\n      <td>Badminton Court</td>\n      <td>Jul</td>\n      <td>4950</td>\n    </tr>\n    <tr>\n      <th>2</th>\n      <td>Badminton Court</td>\n      <td>Sep</td>\n      <td>15210</td>\n    </tr>\n    <tr>\n      <th>3</th>\n      <td>Massage Room 1</td>\n      <td>Aug</td>\n      <td>9480</td>\n    </tr>\n    <tr>\n      <th>4</th>\n      <td>Massage Room 1</td>\n      <td>Jul</td>\n      <td>4980</td>\n    </tr>\n    <tr>\n      <th>5</th>\n      <td>Massage Room 1</td>\n      <td>Sep</td>\n      <td>12060</td>\n    </tr>\n    <tr>\n      <th>6</th>\n      <td>Massage Room 2</td>\n      <td>Aug</td>\n      <td>540</td>\n    </tr>\n    <tr>\n      <th>7</th>\n      <td>Massage Room 2</td>\n      <td>Jul</td>\n      <td>240</td>\n    </tr>\n    <tr>\n      <th>8</th>\n      <td>Massage Room 2</td>\n      <td>Sep</td>\n      <td>840</td>\n    </tr>\n    <tr>\n      <th>9</th>\n      <td>Pool Table</td>\n      <td>Aug</td>\n      <td>9090</td>\n    </tr>\n    <tr>\n      <th>10</th>\n      <td>Pool Table</td>\n      <td>Jul</td>\n      <td>3300</td>\n    </tr>\n    <tr>\n      <th>11</th>\n      <td>Pool Table</td>\n      <td>Sep</td>\n      <td>13290</td>\n    </tr>\n    <tr>\n      <th>12</th>\n      <td>Snooker Table</td>\n      <td>Aug</td>\n      <td>9480</td>\n    </tr>\n    <tr>\n      <th>13</th>\n      <td>Snooker Table</td>\n      <td>Jul</td>\n      <td>4200</td>\n    </tr>\n    <tr>\n      <th>14</th>\n      <td>Snooker Table</td>\n      <td>Sep</td>\n      <td>12120</td>\n    </tr>\n    <tr>\n      <th>15</th>\n      <td>Squash Court</td>\n      <td>Aug</td>\n      <td>5520</td>\n    </tr>\n    <tr>\n      <th>16</th>\n      <td>Squash Court</td>\n      <td>Jul</td>\n      <td>1500</td>\n    </tr>\n    <tr>\n      <th>17</th>\n      <td>Squash Court</td>\n      <td>Sep</td>\n      <td>5520</td>\n    </tr>\n    <tr>\n      <th>18</th>\n      <td>Table Tennis</td>\n      <td>Aug</td>\n      <td>8880</td>\n    </tr>\n    <tr>\n      <th>19</th>\n      <td>Table Tennis</td>\n      <td>Jul</td>\n      <td>2940</td>\n    </tr>\n    <tr>\n      <th>20</th>\n      <td>Table Tennis</td>\n      <td>Sep</td>\n      <td>12000</td>\n    </tr>\n    <tr>\n      <th>21</th>\n      <td>Tennis Court 1</td>\n      <td>Aug</td>\n      <td>10170</td>\n    </tr>\n    <tr>\n      <th>22</th>\n      <td>Tennis Court 1</td>\n      <td>Jul</td>\n      <td>6030</td>\n    </tr>\n    <tr>\n      <th>23</th>\n      <td>Tennis Court 1</td>\n      <td>Sep</td>\n      <td>12510</td>\n    </tr>\n    <tr>\n      <th>24</th>\n      <td>Tennis Court 2</td>\n      <td>Aug</td>\n      <td>10350</td>\n    </tr>\n    <tr>\n      <th>25</th>\n      <td>Tennis Court 2</td>\n      <td>Jul</td>\n      <td>3690</td>\n    </tr>\n    <tr>\n      <th>26</th>\n      <td>Tennis Court 2</td>\n      <td>Sep</td>\n      <td>12420</td>\n    </tr>\n  </tbody>\n</table>\n</div>"
     },
     "execution_count": 27,
     "metadata": {},
     "output_type": "execute_result"
    }
   ],
   "source": [
    "# Get month and sort by facility name and month\n",
    "df_facility_monthly_usage['month'] = df_facility_monthly_usage['starttime'].dt.strftime('%b')\n",
    "df_facility_monthly_usage = df_facility_monthly_usage[['name', 'month', 'monthly_usage_min']].groupby(['name', 'month']).sum().reset_index()\n",
    "df_facility_monthly_usage.sort_values(by=['name', 'month'], ascending=True, inplace=True)\n",
    "df_facility_monthly_usage"
   ],
   "metadata": {
    "collapsed": false,
    "ExecuteTime": {
     "end_time": "2024-02-19T23:42:28.171303Z",
     "start_time": "2024-02-19T23:42:28.038308Z"
    }
   },
   "id": "20876e2dcf37e4ed",
   "execution_count": 27
  },
  {
   "cell_type": "code",
   "outputs": [
    {
     "name": "stdout",
     "output_type": "stream",
     "text": [
      "Monthly usage of Tennis Court 1:\n",
      "\t10170 minutes in Aug\n",
      "\t6030 minutes in Jul\n",
      "\t12510 minutes in Sep\n",
      "\n",
      "\n",
      "Monthly usage of Tennis Court 2:\n",
      "\t10350 minutes in Aug\n",
      "\t3690 minutes in Jul\n",
      "\t12420 minutes in Sep\n",
      "\n",
      "\n",
      "Monthly usage of Badminton Court:\n",
      "\t12420 minutes in Aug\n",
      "\t4950 minutes in Jul\n",
      "\t15210 minutes in Sep\n",
      "\n",
      "\n",
      "Monthly usage of Table Tennis:\n",
      "\t8880 minutes in Aug\n",
      "\t2940 minutes in Jul\n",
      "\t12000 minutes in Sep\n",
      "\n",
      "\n",
      "Monthly usage of Massage Room 1:\n",
      "\t9480 minutes in Aug\n",
      "\t4980 minutes in Jul\n",
      "\t12060 minutes in Sep\n",
      "\n",
      "\n",
      "Monthly usage of Massage Room 2:\n",
      "\t540 minutes in Aug\n",
      "\t240 minutes in Jul\n",
      "\t840 minutes in Sep\n",
      "\n",
      "\n",
      "Monthly usage of Squash Court:\n",
      "\t5520 minutes in Aug\n",
      "\t1500 minutes in Jul\n",
      "\t5520 minutes in Sep\n",
      "\n",
      "\n",
      "Monthly usage of Snooker Table:\n",
      "\t9480 minutes in Aug\n",
      "\t4200 minutes in Jul\n",
      "\t12120 minutes in Sep\n",
      "\n",
      "\n",
      "Monthly usage of Pool Table:\n",
      "\t9090 minutes in Aug\n",
      "\t3300 minutes in Jul\n",
      "\t13290 minutes in Sep\n",
      "\n",
      "\n"
     ]
    }
   ],
   "source": [
    "# Print report\n",
    "\n",
    "for facility in facilities['name'].tolist():\n",
    "    print(f'Monthly usage of {facility}:')\n",
    "    facility_df = df_facility_monthly_usage.loc[df_facility_monthly_usage['name'] == facility]\n",
    "    for row in facility_df.itertuples():\n",
    "        print(f'\\t{row.monthly_usage_min} minutes in {row.month}')\n",
    "    print('\\n')"
   ],
   "metadata": {
    "collapsed": false,
    "ExecuteTime": {
     "end_time": "2024-02-19T23:42:28.172083Z",
     "start_time": "2024-02-19T23:42:28.055605Z"
    }
   },
   "id": "fa4641d646d770ba",
   "execution_count": 28
  }
 ],
 "metadata": {
  "kernelspec": {
   "display_name": "Python 3",
   "language": "python",
   "name": "python3"
  },
  "language_info": {
   "codemirror_mode": {
    "name": "ipython",
    "version": 2
   },
   "file_extension": ".py",
   "mimetype": "text/x-python",
   "name": "python",
   "nbconvert_exporter": "python",
   "pygments_lexer": "ipython2",
   "version": "2.7.6"
  }
 },
 "nbformat": 4,
 "nbformat_minor": 5
}
