{
 "cells": [
  {
   "cell_type": "code",
   "execution_count": 32,
   "metadata": {},
   "outputs": [],
   "source": [
    "import pandas as pd\n",
    "import numpy as np\n",
    "\n",
    "import matplotlib.pyplot as plt\n",
    "import seaborn as sns\n",
    "\n",
    "import folium\n",
    "from folium import plugins\n",
    "from folium.plugins import HeatMap\n",
    "\n",
    "import datetime\n",
    "from datetime import date"
   ]
  },
  {
   "cell_type": "code",
   "execution_count": 8,
   "metadata": {},
   "outputs": [],
   "source": [
    "df_loc = pd.read_csv('bfro_locations.csv')\n",
    "df_rep_geo = pd.read_csv('bfro_reports_geocoded.csv')\n",
    "df_rep = pd.read_csv('bfro_reports.csv')"
   ]
  },
  {
   "cell_type": "code",
   "execution_count": 9,
   "metadata": {},
   "outputs": [
    {
     "data": {
      "text/html": [
       "<div>\n",
       "<style scoped>\n",
       "    .dataframe tbody tr th:only-of-type {\n",
       "        vertical-align: middle;\n",
       "    }\n",
       "\n",
       "    .dataframe tbody tr th {\n",
       "        vertical-align: top;\n",
       "    }\n",
       "\n",
       "    .dataframe thead th {\n",
       "        text-align: right;\n",
       "    }\n",
       "</style>\n",
       "<table border=\"1\" class=\"dataframe\">\n",
       "  <thead>\n",
       "    <tr style=\"text-align: right;\">\n",
       "      <th></th>\n",
       "      <th>index</th>\n",
       "      <th>number</th>\n",
       "      <th>title</th>\n",
       "      <th>classification</th>\n",
       "      <th>timestamp</th>\n",
       "      <th>latitude</th>\n",
       "      <th>longitude</th>\n",
       "    </tr>\n",
       "  </thead>\n",
       "  <tbody>\n",
       "    <tr>\n",
       "      <th>0</th>\n",
       "      <td>0</td>\n",
       "      <td>637</td>\n",
       "      <td>Report 637: Campers' encounter just after dark...</td>\n",
       "      <td>Class A</td>\n",
       "      <td>2000-06-16T12:00:00Z</td>\n",
       "      <td>61.5000</td>\n",
       "      <td>-142.9000</td>\n",
       "    </tr>\n",
       "    <tr>\n",
       "      <th>1</th>\n",
       "      <td>1</td>\n",
       "      <td>2917</td>\n",
       "      <td>Report 2917: Family observes large biped from car</td>\n",
       "      <td>Class A</td>\n",
       "      <td>1995-05-15T12:00:00Z</td>\n",
       "      <td>55.1872</td>\n",
       "      <td>-132.7982</td>\n",
       "    </tr>\n",
       "    <tr>\n",
       "      <th>2</th>\n",
       "      <td>2</td>\n",
       "      <td>7963</td>\n",
       "      <td>Report 7963: Sasquatch walks past window of ho...</td>\n",
       "      <td>Class A</td>\n",
       "      <td>2004-02-09T12:00:00Z</td>\n",
       "      <td>55.2035</td>\n",
       "      <td>-132.8202</td>\n",
       "    </tr>\n",
       "    <tr>\n",
       "      <th>3</th>\n",
       "      <td>3</td>\n",
       "      <td>9317</td>\n",
       "      <td>Report 9317: Driver on Alcan Highway has noon,...</td>\n",
       "      <td>Class A</td>\n",
       "      <td>2004-06-18T12:00:00Z</td>\n",
       "      <td>62.9375</td>\n",
       "      <td>-141.5667</td>\n",
       "    </tr>\n",
       "    <tr>\n",
       "      <th>4</th>\n",
       "      <td>4</td>\n",
       "      <td>13038</td>\n",
       "      <td>Report 13038: Snowmobiler has encounter in dee...</td>\n",
       "      <td>Class A</td>\n",
       "      <td>2004-02-15T12:00:00Z</td>\n",
       "      <td>61.0595</td>\n",
       "      <td>-149.7853</td>\n",
       "    </tr>\n",
       "  </tbody>\n",
       "</table>\n",
       "</div>"
      ],
      "text/plain": [
       "   index  number                                              title  \\\n",
       "0      0     637  Report 637: Campers' encounter just after dark...   \n",
       "1      1    2917  Report 2917: Family observes large biped from car   \n",
       "2      2    7963  Report 7963: Sasquatch walks past window of ho...   \n",
       "3      3    9317  Report 9317: Driver on Alcan Highway has noon,...   \n",
       "4      4   13038  Report 13038: Snowmobiler has encounter in dee...   \n",
       "\n",
       "  classification             timestamp  latitude  longitude  \n",
       "0        Class A  2000-06-16T12:00:00Z   61.5000  -142.9000  \n",
       "1        Class A  1995-05-15T12:00:00Z   55.1872  -132.7982  \n",
       "2        Class A  2004-02-09T12:00:00Z   55.2035  -132.8202  \n",
       "3        Class A  2004-06-18T12:00:00Z   62.9375  -141.5667  \n",
       "4        Class A  2004-02-15T12:00:00Z   61.0595  -149.7853  "
      ]
     },
     "execution_count": 9,
     "metadata": {},
     "output_type": "execute_result"
    }
   ],
   "source": [
    "df_loc.head()"
   ]
  },
  {
   "cell_type": "code",
   "execution_count": 10,
   "metadata": {},
   "outputs": [
    {
     "name": "stdout",
     "output_type": "stream",
     "text": [
      "<class 'pandas.core.frame.DataFrame'>\n",
      "RangeIndex: 4250 entries, 0 to 4249\n",
      "Data columns (total 7 columns):\n",
      " #   Column          Non-Null Count  Dtype  \n",
      "---  ------          --------------  -----  \n",
      " 0   index           4250 non-null   int64  \n",
      " 1   number          4250 non-null   int64  \n",
      " 2   title           4250 non-null   object \n",
      " 3   classification  4250 non-null   object \n",
      " 4   timestamp       4250 non-null   object \n",
      " 5   latitude        4250 non-null   float64\n",
      " 6   longitude       4250 non-null   float64\n",
      "dtypes: float64(2), int64(2), object(3)\n",
      "memory usage: 232.6+ KB\n"
     ]
    }
   ],
   "source": [
    "df_loc.info()"
   ]
  },
  {
   "cell_type": "code",
   "execution_count": 11,
   "metadata": {},
   "outputs": [
    {
     "data": {
      "text/html": [
       "<div>\n",
       "<style scoped>\n",
       "    .dataframe tbody tr th:only-of-type {\n",
       "        vertical-align: middle;\n",
       "    }\n",
       "\n",
       "    .dataframe tbody tr th {\n",
       "        vertical-align: top;\n",
       "    }\n",
       "\n",
       "    .dataframe thead th {\n",
       "        text-align: right;\n",
       "    }\n",
       "</style>\n",
       "<table border=\"1\" class=\"dataframe\">\n",
       "  <thead>\n",
       "    <tr style=\"text-align: right;\">\n",
       "      <th></th>\n",
       "      <th>index</th>\n",
       "      <th>number</th>\n",
       "      <th>latitude</th>\n",
       "      <th>longitude</th>\n",
       "    </tr>\n",
       "  </thead>\n",
       "  <tbody>\n",
       "    <tr>\n",
       "      <th>count</th>\n",
       "      <td>4250.000000</td>\n",
       "      <td>4250.000000</td>\n",
       "      <td>4250.000000</td>\n",
       "      <td>4.250000e+03</td>\n",
       "    </tr>\n",
       "    <tr>\n",
       "      <th>mean</th>\n",
       "      <td>2124.500000</td>\n",
       "      <td>22586.533647</td>\n",
       "      <td>39.831850</td>\n",
       "      <td>-6.684490e+04</td>\n",
       "    </tr>\n",
       "    <tr>\n",
       "      <th>std</th>\n",
       "      <td>1227.013651</td>\n",
       "      <td>19015.127478</td>\n",
       "      <td>6.009091</td>\n",
       "      <td>2.028967e+06</td>\n",
       "    </tr>\n",
       "    <tr>\n",
       "      <th>min</th>\n",
       "      <td>0.000000</td>\n",
       "      <td>60.000000</td>\n",
       "      <td>25.141000</td>\n",
       "      <td>-9.486840e+07</td>\n",
       "    </tr>\n",
       "    <tr>\n",
       "      <th>25%</th>\n",
       "      <td>1062.250000</td>\n",
       "      <td>6923.750000</td>\n",
       "      <td>35.629365</td>\n",
       "      <td>-1.180889e+02</td>\n",
       "    </tr>\n",
       "    <tr>\n",
       "      <th>50%</th>\n",
       "      <td>2124.500000</td>\n",
       "      <td>17230.500000</td>\n",
       "      <td>39.633185</td>\n",
       "      <td>-9.235350e+01</td>\n",
       "    </tr>\n",
       "    <tr>\n",
       "      <th>75%</th>\n",
       "      <td>3186.750000</td>\n",
       "      <td>34236.000000</td>\n",
       "      <td>44.824168</td>\n",
       "      <td>-8.316599e+01</td>\n",
       "    </tr>\n",
       "    <tr>\n",
       "      <th>max</th>\n",
       "      <td>4249.000000</td>\n",
       "      <td>71997.000000</td>\n",
       "      <td>64.891390</td>\n",
       "      <td>-6.383683e+01</td>\n",
       "    </tr>\n",
       "  </tbody>\n",
       "</table>\n",
       "</div>"
      ],
      "text/plain": [
       "             index        number     latitude     longitude\n",
       "count  4250.000000   4250.000000  4250.000000  4.250000e+03\n",
       "mean   2124.500000  22586.533647    39.831850 -6.684490e+04\n",
       "std    1227.013651  19015.127478     6.009091  2.028967e+06\n",
       "min       0.000000     60.000000    25.141000 -9.486840e+07\n",
       "25%    1062.250000   6923.750000    35.629365 -1.180889e+02\n",
       "50%    2124.500000  17230.500000    39.633185 -9.235350e+01\n",
       "75%    3186.750000  34236.000000    44.824168 -8.316599e+01\n",
       "max    4249.000000  71997.000000    64.891390 -6.383683e+01"
      ]
     },
     "execution_count": 11,
     "metadata": {},
     "output_type": "execute_result"
    }
   ],
   "source": [
    "df_loc.describe()"
   ]
  },
  {
   "cell_type": "code",
   "execution_count": 12,
   "metadata": {},
   "outputs": [
    {
     "data": {
      "text/plain": [
       "index             4250\n",
       "number            4250\n",
       "title             4250\n",
       "classification       3\n",
       "timestamp         3235\n",
       "latitude          4168\n",
       "longitude         4158\n",
       "dtype: int64"
      ]
     },
     "execution_count": 12,
     "metadata": {},
     "output_type": "execute_result"
    }
   ],
   "source": [
    "df_loc.nunique()"
   ]
  },
  {
   "cell_type": "code",
   "execution_count": 13,
   "metadata": {},
   "outputs": [
    {
     "data": {
      "text/plain": [
       "index             0\n",
       "number            0\n",
       "title             0\n",
       "classification    0\n",
       "timestamp         0\n",
       "latitude          0\n",
       "longitude         0\n",
       "dtype: int64"
      ]
     },
     "execution_count": 13,
     "metadata": {},
     "output_type": "execute_result"
    }
   ],
   "source": [
    "df_loc.isna().sum()"
   ]
  },
  {
   "cell_type": "code",
   "execution_count": 14,
   "metadata": {},
   "outputs": [
    {
     "data": {
      "text/plain": [
       "index               int64\n",
       "number              int64\n",
       "title              object\n",
       "classification     object\n",
       "timestamp          object\n",
       "latitude          float64\n",
       "longitude         float64\n",
       "dtype: object"
      ]
     },
     "execution_count": 14,
     "metadata": {},
     "output_type": "execute_result"
    }
   ],
   "source": [
    "df_loc.dtypes"
   ]
  },
  {
   "cell_type": "code",
   "execution_count": 15,
   "metadata": {},
   "outputs": [],
   "source": [
    "df_loc['timestamp'] = pd.to_datetime(df_loc['timestamp'])"
   ]
  },
  {
   "cell_type": "code",
   "execution_count": 16,
   "metadata": {},
   "outputs": [
    {
     "data": {
      "text/html": [
       "<div>\n",
       "<style scoped>\n",
       "    .dataframe tbody tr th:only-of-type {\n",
       "        vertical-align: middle;\n",
       "    }\n",
       "\n",
       "    .dataframe tbody tr th {\n",
       "        vertical-align: top;\n",
       "    }\n",
       "\n",
       "    .dataframe thead th {\n",
       "        text-align: right;\n",
       "    }\n",
       "</style>\n",
       "<table border=\"1\" class=\"dataframe\">\n",
       "  <thead>\n",
       "    <tr style=\"text-align: right;\">\n",
       "      <th></th>\n",
       "      <th>index</th>\n",
       "      <th>number</th>\n",
       "      <th>title</th>\n",
       "      <th>classification</th>\n",
       "      <th>timestamp</th>\n",
       "      <th>latitude</th>\n",
       "      <th>longitude</th>\n",
       "      <th>year</th>\n",
       "      <th>month</th>\n",
       "      <th>day</th>\n",
       "    </tr>\n",
       "  </thead>\n",
       "  <tbody>\n",
       "    <tr>\n",
       "      <th>0</th>\n",
       "      <td>0</td>\n",
       "      <td>637</td>\n",
       "      <td>Report 637: Campers' encounter just after dark...</td>\n",
       "      <td>Class A</td>\n",
       "      <td>2000-06-16 12:00:00+00:00</td>\n",
       "      <td>61.5000</td>\n",
       "      <td>-142.9000</td>\n",
       "      <td>2000</td>\n",
       "      <td>6</td>\n",
       "      <td>16</td>\n",
       "    </tr>\n",
       "    <tr>\n",
       "      <th>1</th>\n",
       "      <td>1</td>\n",
       "      <td>2917</td>\n",
       "      <td>Report 2917: Family observes large biped from car</td>\n",
       "      <td>Class A</td>\n",
       "      <td>1995-05-15 12:00:00+00:00</td>\n",
       "      <td>55.1872</td>\n",
       "      <td>-132.7982</td>\n",
       "      <td>1995</td>\n",
       "      <td>5</td>\n",
       "      <td>15</td>\n",
       "    </tr>\n",
       "    <tr>\n",
       "      <th>2</th>\n",
       "      <td>2</td>\n",
       "      <td>7963</td>\n",
       "      <td>Report 7963: Sasquatch walks past window of ho...</td>\n",
       "      <td>Class A</td>\n",
       "      <td>2004-02-09 12:00:00+00:00</td>\n",
       "      <td>55.2035</td>\n",
       "      <td>-132.8202</td>\n",
       "      <td>2004</td>\n",
       "      <td>2</td>\n",
       "      <td>9</td>\n",
       "    </tr>\n",
       "    <tr>\n",
       "      <th>3</th>\n",
       "      <td>3</td>\n",
       "      <td>9317</td>\n",
       "      <td>Report 9317: Driver on Alcan Highway has noon,...</td>\n",
       "      <td>Class A</td>\n",
       "      <td>2004-06-18 12:00:00+00:00</td>\n",
       "      <td>62.9375</td>\n",
       "      <td>-141.5667</td>\n",
       "      <td>2004</td>\n",
       "      <td>6</td>\n",
       "      <td>18</td>\n",
       "    </tr>\n",
       "    <tr>\n",
       "      <th>4</th>\n",
       "      <td>4</td>\n",
       "      <td>13038</td>\n",
       "      <td>Report 13038: Snowmobiler has encounter in dee...</td>\n",
       "      <td>Class A</td>\n",
       "      <td>2004-02-15 12:00:00+00:00</td>\n",
       "      <td>61.0595</td>\n",
       "      <td>-149.7853</td>\n",
       "      <td>2004</td>\n",
       "      <td>2</td>\n",
       "      <td>15</td>\n",
       "    </tr>\n",
       "  </tbody>\n",
       "</table>\n",
       "</div>"
      ],
      "text/plain": [
       "   index  number                                              title  \\\n",
       "0      0     637  Report 637: Campers' encounter just after dark...   \n",
       "1      1    2917  Report 2917: Family observes large biped from car   \n",
       "2      2    7963  Report 7963: Sasquatch walks past window of ho...   \n",
       "3      3    9317  Report 9317: Driver on Alcan Highway has noon,...   \n",
       "4      4   13038  Report 13038: Snowmobiler has encounter in dee...   \n",
       "\n",
       "  classification                 timestamp  latitude  longitude  year  month  \\\n",
       "0        Class A 2000-06-16 12:00:00+00:00   61.5000  -142.9000  2000      6   \n",
       "1        Class A 1995-05-15 12:00:00+00:00   55.1872  -132.7982  1995      5   \n",
       "2        Class A 2004-02-09 12:00:00+00:00   55.2035  -132.8202  2004      2   \n",
       "3        Class A 2004-06-18 12:00:00+00:00   62.9375  -141.5667  2004      6   \n",
       "4        Class A 2004-02-15 12:00:00+00:00   61.0595  -149.7853  2004      2   \n",
       "\n",
       "   day  \n",
       "0   16  \n",
       "1   15  \n",
       "2    9  \n",
       "3   18  \n",
       "4   15  "
      ]
     },
     "execution_count": 16,
     "metadata": {},
     "output_type": "execute_result"
    }
   ],
   "source": [
    "df_loc['year'] = df_loc['timestamp'].dt.year\n",
    "df_loc['month'] = df_loc['timestamp'].dt.month\n",
    "df_loc['day'] = df_loc['timestamp'].dt.day\n",
    "df_loc.head()"
   ]
  },
  {
   "cell_type": "code",
   "execution_count": 18,
   "metadata": {},
   "outputs": [
    {
     "data": {
      "text/plain": [
       "count    4250.000000\n",
       "mean     1998.971294\n",
       "std        14.611518\n",
       "min      1869.000000\n",
       "25%      1990.000000\n",
       "50%      2003.000000\n",
       "75%      2009.000000\n",
       "max      2053.000000\n",
       "Name: year, dtype: float64"
      ]
     },
     "execution_count": 18,
     "metadata": {},
     "output_type": "execute_result"
    }
   ],
   "source": [
    "df_loc['year'].describe()"
   ]
  },
  {
   "cell_type": "code",
   "execution_count": 24,
   "metadata": {},
   "outputs": [
    {
     "data": {
      "text/plain": [
       "year     2021\n",
       "month      12\n",
       "day        31\n",
       "dtype: int32"
      ]
     },
     "execution_count": 24,
     "metadata": {},
     "output_type": "execute_result"
    }
   ],
   "source": [
    "df_loc[df_loc['year'] != 2053][['year', 'month', 'day']].max()"
   ]
  },
  {
   "cell_type": "code",
   "execution_count": 25,
   "metadata": {},
   "outputs": [
    {
     "data": {
      "text/plain": [
       "count    4249.000000\n",
       "mean     1998.958578\n",
       "std        14.589702\n",
       "min      1869.000000\n",
       "25%      1990.000000\n",
       "50%      2003.000000\n",
       "75%      2009.000000\n",
       "max      2021.000000\n",
       "Name: year, dtype: float64"
      ]
     },
     "execution_count": 25,
     "metadata": {},
     "output_type": "execute_result"
    }
   ],
   "source": [
    "# Remove the year 2053\n",
    "df_loc = df_loc[df_loc['year'] != 2053]\n",
    "df_loc['year'].describe()"
   ]
  },
  {
   "cell_type": "code",
   "execution_count": 30,
   "metadata": {},
   "outputs": [
    {
     "data": {
      "image/png": "[encoded data removed]",
      "text/plain": [
       "<Figure size 1200x600 with 1 Axes>"
      ]
     },
     "metadata": {},
     "output_type": "display_data"
    }
   ],
   "source": [
    "# plot the number of reports per year\n",
    "plt.figure(figsize=(12,6))\n",
    "sns.countplot(x='year', data=df_loc)\n",
    "plt.title('Number of Reports per Year since 1869')\n",
    "plt.xticks(rotation=90)\n",
    "plt.locator_params(axis='x', nbins=35);"
   ]
  },
  {
   "cell_type": "code",
   "execution_count": 27,
   "metadata": {},
   "outputs": [
    {
     "data": {
      "image/png": "[encoded data removed]",
      "text/plain": [
       "<Figure size 1200x600 with 1 Axes>"
      ]
     },
     "metadata": {},
     "output_type": "display_data"
    }
   ],
   "source": [
    "# plot the number of reports per month\n",
    "plt.figure(figsize=(12,6))\n",
    "sns.countplot(x='month', data=df_loc)\n",
    "plt.title('Number of Reports per Month')\n",
    "plt.locator_params(axis='x', nbins=35)\n",
    "# map the month number to the month name\n",
    "plt.xticks(ticks=np.arange(0,12), labels=['Jan','Feb','Mar','Apr','May','Jun','Jul','Aug','Sep','Oct','Nov','Dec']);"
   ]
  },
  {
   "cell_type": "code",
   "execution_count": 31,
   "metadata": {},
   "outputs": [
    {
     "data": {
      "image/png": "[encoded data removed]",
      "text/plain": [
       "<Figure size 1200x600 with 1 Axes>"
      ]
     },
     "metadata": {},
     "output_type": "display_data"
    }
   ],
   "source": [
    "# plot the number of reports per day\n",
    "plt.figure(figsize=(12,6))\n",
    "sns.countplot(x='day', data=df_loc)\n",
    "plt.title('Number of Reports per Day of the Month')\n",
    "plt.locator_params(axis='x', nbins=35);"
   ]
  },
  {
   "cell_type": "code",
   "execution_count": 68,
   "metadata": {},
   "outputs": [
    {
     "data": {
      "text/html": [
       "<div style=\"width:100%;\"><div style=\"position:relative;width:100%;height:0;padding-bottom:60%;\"><span style=\"color:#565656\">Make this Notebook Trusted to load map: File -> Trust Notebook</span><iframe srcdoc=\"&lt;!DOCTYPE html&gt;\n",
       "&lt;html&gt;\n",
       "&lt;head&gt;\n",
       "    \n",
       "    &lt;meta http-equiv=&quot;content-type&quot; content=&quot;text/html; charset=UTF-8&quot; /&gt;\n",
       "    \n",
       "        &lt;script&gt;\n",
       "            L_NO_TOUCH = false;\n",
       "            L_DISABLE_3D = false;\n",
       "        &lt;/script&gt;\n",
       "    \n",
       "    &lt;style&gt;html, body {width: 100%;height: 100%;margin: 0;padding: 0;}&lt;/style&gt;\n",
       "    &lt;style&gt;#map {position:absolute;top:0;bottom:0;right:0;left:0;}&lt;/style&gt;\n",
       "    &lt;script src=&quot;https://cdn.jsdelivr.net/npm/leaflet@1.9.3/dist/leaflet.js&quot;&gt;&lt;/script&gt;\n",
       "    &lt;script src=&quot;https://code.jquery.com/jquery-3.7.1.min.js&quot;&gt;&lt;/script&gt;\n",
       "    &lt;script src=&quot;https://cdn.jsdelivr.net/npm/bootstrap@5.2.2/dist/js/bootstrap.bundle.min.js&quot;&gt;&lt;/script&gt;\n",
       "    &lt;script src=&quot;https://cdnjs.cloudflare.com/ajax/libs/Leaflet.awesome-markers/2.0.2/leaflet.awesome-markers.js&quot;&gt;&lt;/script&gt;\n",
       "    &lt;link rel=&quot;stylesheet&quot; href=&quot;https://cdn.jsdelivr.net/npm/leaflet@1.9.3/dist/leaflet.css&quot;/&gt;\n",
       "    &lt;link rel=&quot;stylesheet&quot; href=&quot;https://cdn.jsdelivr.net/npm/bootstrap@5.2.2/dist/css/bootstrap.min.css&quot;/&gt;\n",
       "    &lt;link rel=&quot;stylesheet&quot; href=&quot;https://netdna.bootstrapcdn.com/bootstrap/3.0.0/css/bootstrap.min.css&quot;/&gt;\n",
       "    &lt;link rel=&quot;stylesheet&quot; href=&quot;https://cdn.jsdelivr.net/npm/@fortawesome/fontawesome-free@6.2.0/css/all.min.css&quot;/&gt;\n",
       "    &lt;link rel=&quot;stylesheet&quot; href=&quot;https://cdnjs.cloudflare.com/ajax/libs/Leaflet.awesome-markers/2.0.2/leaflet.awesome-markers.css&quot;/&gt;\n",
       "    &lt;link rel=&quot;stylesheet&quot; href=&quot;https://cdn.jsdelivr.net/gh/python-visualization/folium/folium/templates/leaflet.awesome.rotate.min.css&quot;/&gt;\n",
       "    \n",
       "            &lt;meta name=&quot;viewport&quot; content=&quot;width=device-width,\n",
       "                initial-scale=1.0, maximum-scale=1.0, user-scalable=no&quot; /&gt;\n",
       "            &lt;style&gt;\n",
       "                #map_fb0658e83543d6004206bcede083057d {\n",
       "                    position: relative;\n",
       "                    width: 100.0%;\n",
       "                    height: 100.0%;\n",
       "                    left: 0.0%;\n",
       "                    top: 0.0%;\n",
       "                }\n",
       "                .leaflet-container { font-size: 1rem; }\n",
       "            &lt;/style&gt;\n",
       "        \n",
       "    &lt;script src=&quot;https://cdn.jsdelivr.net/gh/python-visualization/folium@main/folium/templates/leaflet_heat.min.js&quot;&gt;&lt;/script&gt;\n",
       "&lt;/head&gt;\n",
       "&lt;body&gt;\n",
       "    \n",
       "    \n",
       "            &lt;div class=&quot;folium-map&quot; id=&quot;map_fb0658e83543d6004206bcede083057d&quot; &gt;&lt;/div&gt;\n",
       "        \n",
       "&lt;/body&gt;\n",
       "&lt;script&gt;\n",
       "    \n",
       "    \n",
       "            var map_fb0658e83543d6004206bcede083057d = L.map(\n",
       "                &quot;map_fb0658e83543d6004206bcede083057d&quot;,\n",
       "                {\n",
       "                    center: [39.63255, -92.3575],\n",
       "                    crs: L.CRS.EPSG3857,\n",
       "                    zoom: 2,\n",
       "                    zoomControl: true,\n",
       "                    preferCanvas: false,\n",
       "                }\n",
       "            );\n",
       "\n",
       "            \n",
       "\n",
       "        \n",
       "    \n",
       "            var tile_layer_19708088e18bc175b72ad52470074b8f = L.tileLayer(\n",
       "                &quot;https://tile.openstreetmap.org/{z}/{x}/{y}.png&quot;,\n",
       "                {&quot;attribution&quot;: &quot;\\u0026copy; \\u003ca href=\\&quot;https://www.openstreetmap.org/copyright\\&quot;\\u003eOpenStreetMap\\u003c/a\\u003e contributors&quot;, &quot;detectRetina&quot;: false, &quot;maxNativeZoom&quot;: 19, &quot;maxZoom&quot;: 19, &quot;minZoom&quot;: 0, &quot;noWrap&quot;: false, &quot;opacity&quot;: 1, &quot;subdomains&quot;: &quot;abc&quot;, &quot;tms&quot;: false}\n",
       "            );\n",
       "        \n",
       "    \n",
       "            tile_layer_19708088e18bc175b72ad52470074b8f.addTo(map_fb0658e83543d6004206bcede083057d);\n",
       "        \n",
       "    \n",
       "            var heat_map_5beba47796a2306e7d2ee5505ff90061 = L.heatLayer(\n",
       "                [[25.141, -80.926], [25.19935, -80.87379], [25.39544, -80.59502], [25.4817, -80.5158], [25.51665, -80.43689], [25.54494, -80.47805], [25.73951, -80.48021], [25.76119, -80.58182], [25.782, -81.07385], [25.84875, -81.3142], [25.86895, -81.1498], [25.889, -81.3215], [25.8972, -81.3065], [25.901, -81.303], [25.91695, -81.29691], [25.927, -81.33], [25.953, -81.356], [25.95574, -81.48598], [26.0079, -81.22285], [26.01535, -81.0651], [26.03808, -81.64948], [26.05091, -80.29457], [26.0645, -81.3615], [26.06885, -80.8368], [26.08285, -80.21025], [26.09729, -81.71505], [26.15915, -81.76041], [26.1699, -80.98849], [26.18326, -81.24751], [26.1875, -81.69245], [26.27395, -80.1937], [26.283, -81.2521], [26.28516, -80.27977], [26.28585, -80.17845], [26.529, -81.6455], [26.5931, -80.21295], [26.59885, -81.8708], [26.61979, -80.60976], [26.6685, -81.8768], [26.67822, -81.81697], [26.6878, -81.6143], [26.7621, -81.8539], [26.80829, -80.16933], [26.83656, -80.18501], [26.85451, -81.71583], [26.91319, -80.48412], [26.91675, -81.96517], [26.9745, -82.1475], [26.9807, -80.31353], [27.00061, -82.39019], [27.0047, -82.0332], [27.0099, -80.13215], [27.01091, -80.10344], [27.07842, -81.99105], [27.099, -82.454], [27.10589, -82.30699], [27.1788, -82.20475], [27.19995, -81.98468], [27.28518, -82.46557], [27.34928, -81.03941], [27.35273, -82.22301], [27.35644, -80.96515], [27.37341, -81.35876], [27.3973, -80.8044], [27.40743, -82.12901], [27.445, -82.391], [27.45883, -80.79379], [27.66726, -82.43094], [27.7068, -82.45165], [27.7752, -81.9755], [27.78042, -80.55011], [27.84434, -81.30249], [27.8565, -81.8995], [27.89469, -81.9742], [27.9013, -81.58581], [27.928, -82.124], [27.93531, -81.87347], [27.93991, -81.67247], [27.9664, -81.95285], [27.97255, -81.12476], [27.99245, -81.19445], [28.00845, -81.93871], [28.021, -81.8642], [28.043, -82.438], [28.05144, -81.51359], [28.09538, -82.74918], [28.11468, -81.35342], [28.12479, -82.23728], [28.12565, -81.02086], [28.13136, -81.00677], [28.1382, -81.0621], [28.14162, -82.3948], [28.14617, -82.24487], [28.19899, -82.76431], [28.20249, -81.45163], [28.20954, -80.83882], [28.21492, -82.4524], [28.252, -82.44749], [28.29324, -82.35606], [28.29425, -82.71758], [28.31193, -80.7217], [28.3609, -80.93504], [28.36168, -82.11937], [28.3725, -80.8595], [28.3836, -82.6053], [28.40593, -81.5547], [28.41655, -82.1426], [28.42146, -81.23721], [28.44926, -81.95577], [28.45247, -81.01299], [28.45786, -82.04508], [28.48106, -81.11927], [28.48899, -80.84716], [28.50566, -81.97483], [28.50665, -82.50591], [28.525, -81.95499], [28.54028, -82.11083], [28.54205, -81.20045], [28.54293, -80.94411], [28.5465, -81.5545], [28.55359, -82.63696], [28.555, -82.055], [28.56308, -81.03185], [28.5716, -82.52655], [28.62323, -81.12898], [28.63434, -81.14076], [28.662, -81.31985], [28.6901, -81.5446], [28.69205, -81.7089], [28.725, -97.06667], [28.76465, -82.42065], [28.775, -81.6965], [28.78028, -81.90477], [28.78812, -82.40295], [28.8, -96.04472], [28.80455, -81.45354], [28.84542, -82.20726], [28.85025, -80.93919], [28.8555, -81.306], [28.85982, -81.48534], [28.86151, -81.7757], [28.90854, -82.34611], [28.91605, -81.32394], [28.917, -81.898], [28.93312, -80.84301], [28.94296, -81.97549], [28.96416, -81.21989], [28.966, -81.649], [28.97672, -81.23386], [28.97944, -96.01666], [28.98195, -80.86715], [28.98491, -81.43248], [28.9935, -80.933], [28.99487, -81.78879], [28.99496, -81.59869], [29.0, -95.5], [29.00086, -81.64167], [29.01175, -82.03495], [29.02611, -96.71], [29.04865, -81.4692], [29.05872, -81.4819], [29.0599, -82.05835], [29.0765, -81.8945], [29.07655, -81.9055], [29.07718, -82.74918], [29.08405, -81.59005], [29.098, -82.42], [29.1039, -82.3722], [29.10635, -81.62275], [29.10855, -82.75685], [29.12915, -81.63025], [29.1299, -82.58765], [29.16722, -82.01917], [29.17805, -96.29222], [29.1795, -82.0435], [29.191, -82.6505], [29.19395, -81.9233], [29.1951, -81.90875], [29.22079, -81.80539], [29.23723, -83.00198], [29.24665, -100.4104], [29.26258, -98.56143], [29.27043, -81.69337], [29.28942, -82.92592], [29.28971, -81.52609], [29.29063, -81.08198], [29.30877, -97.47971], [29.3143, -81.7268], [29.32605, -82.61581], [29.32862, -97.77225], [29.33246, -81.12292], [29.3396, -81.0834], [29.36953, -81.86789], [29.38333, -96.25], [29.385, -97.81083], [29.39384, -82.44225], [29.4076, -81.12167], [29.4179, -82.55556], [29.41889, -81.13924], [29.42016, -82.82335], [29.43465, -81.80878], [29.4694, -82.71979], [29.47035, -81.1273], [29.47368, -82.6783], [29.47529, -81.78307], [29.49577, -81.74579], [29.52533, -98.15854], [29.5385, -90.593], [29.56835, -98.68465], [29.56871, -82.05391], [29.57444, -98.03083], [29.58358, -82.33316], [29.591, -82.929], [29.6699, -82.98365], [29.67757, -82.35501], [29.7351, -81.96195], [29.74815, -82.44075], [29.77291, -81.8592], [29.77295, -81.68295], [29.77535, -82.3657], [29.7788, -81.45421], [29.79893, -98.15556], [29.83863, -81.2299], [29.8398, -85.0681], [29.85375, -81.3456], [29.88528, -94.83334], [29.93629, -85.3948], [29.94011, -81.91354], [29.94974, -82.15501], [29.95301, -82.0125], [29.96828, -81.4048], [29.97454, -81.55172], [29.97917, -81.85223], [29.98085, -81.80005], [30.01667, -94.85], [30.03042, -81.90182], [30.0326, -83.52959], [30.03432, -81.90216], [30.0461, -81.9347], [30.05287, -81.82794], [30.05705, -81.75165], [30.069, -81.771], [30.07067, -82.38086], [30.0771, -81.39806], [30.0809, -81.7624], [30.08333, -94.86667], [30.08341, -85.11039], [30.08748, -81.85762], [30.10139, -81.88324], [30.10305, -94.82], [30.10386, -81.89565], [30.10534, -81.89438], [30.10851, -81.89905], [30.11584, -81.94118], [30.11597, -83.89289], [30.12615, -93.8117], [30.13156, -82.96643], [30.14378, -95.47556], [30.1766, -85.8055], [30.1878, -90.8493], [30.19144, -94.32404], [30.2333, -81.52915], [30.23333, -95.60834], [30.23693, -81.54172], [30.2386, -84.7025], [30.2464, -89.6111], [30.25389, -81.8992], [30.2576, -92.6221], [30.2637, -81.49433], [30.26667, -94.85], [30.26682, -82.87125], [30.26861, -94.79333], [30.2809, -81.83705], [30.28881, -85.64108], [30.302, -95.10654], [30.3115, -95.3175], [30.3125, -82.879], [30.31363, -95.17966], [30.31667, -95.32], [30.31709, -82.8436], [30.31786, -87.64934], [30.32305, -85.4427], [30.33333, -96.55], [30.3343, -95.28653], [30.33778, -93.97194], [30.36186, -81.41444], [30.37369, -83.1736], [30.38345, -88.72985], [30.38667, -98.08611], [30.40335, -97.2836], [30.405, -95.36166], [30.40785, -83.96767], [30.40833, -95.00833], [30.41667, -94.86667], [30.41667, -93.94], [30.43412, -82.28943], [30.43444, -93.89], [30.43703, -95.12381], [30.4544, -81.4189], [30.46, -95.13], [30.4664, -85.6316], [30.46805, -85.4937], [30.46825, -89.6918], [30.475, -95.09167], [30.47612, -88.34223], [30.4836, -84.20835], [30.49905, -91.01565], [30.509, -90.6763], [30.51295, -86.5065], [30.51559, -97.67403], [30.52361, -95.58334], [30.525, -96.59167], [30.52694, -95.71278], [30.52897, -95.72607], [30.54079, -84.91096], [30.54366, -95.77908], [30.55, -95.12305], [30.55044, -83.48494], [30.55738, -96.42506], [30.566, -100.545], [30.56775, -86.6913], [30.587, -84.583], [30.5931, -83.41369], [30.59612, -83.649], [30.6, -95.63], [30.6098, -86.4945], [30.61667, -95.52722], [30.62555, -86.54302], [30.63333, -95.3], [30.6645, -84.60745], [30.66986, -94.66653], [30.67, -83.412], [30.68441, -86.55637], [30.6966, -86.7513], [30.71004, -82.0443], [30.7113, -87.91833], [30.71139, -94.70139], [30.71139, -94.58], [30.7114, -94.04529], [30.71362, -85.20786], [30.71482, -86.63961], [30.72028, -93.61667], [30.73861, -94.89778], [30.74715, -91.76733], [30.75, -95.37666], [30.75, -86.65], [30.7599, -85.76891], [30.76667, -93.68333], [30.775, -94.41528], [30.77532, -97.93719], [30.77722, -103.7439], [30.79, -85.685], [30.79456, -84.78122], [30.8, -93.7], [30.812, -95.75645], [30.83105, -82.6386], [30.83315, -93.972], [30.8346, -92.64896], [30.84015, -86.9648], [30.85052, -89.81163], [30.8724, -85.217], [30.90529, -86.68372], [30.95972, -95.58334], [30.96745, -91.0955], [30.9725, -87.265], [30.97675, -89.0338], [30.9854, -85.95136], [30.98555, -85.6489], [30.9905, -87.1814], [30.993, -85.97701], [31.00002, -86.99782], [31.00009, -87.00008], [31.0232, -94.47903], [31.05591, -94.20776], [31.0614, -83.07575], [31.06278, -102.3881], [31.08012, -83.16414], [31.08774, -91.84467], [31.08925, -81.41267], [31.11611, -98.055], [31.13586, -87.06486], [31.1375, -92.4976], [31.14195, -93.2952], [31.1458, -93.2512], [31.16, -87.09069], [31.1603, -90.71574], [31.1659, -94.1679], [31.1683, -95.59745], [31.17384, -83.26071], [31.18523, -95.89323], [31.18562, -83.66153], [31.20325, -87.5047], [31.2137, -82.77173], [31.22333, -94.96611], [31.23374, -85.21574], [31.2371, -94.45095], [31.24305, -88.31126], [31.2439, -82.1341], [31.24842, -83.13654], [31.25385, -88.26291], [31.27278, -102.6922], [31.29, -86.255], [31.30062, -84.02254], [31.30503, -85.61766], [31.3058, -92.4054], [31.30853, -94.76362], [31.30952, -82.74675], [31.33333, -94.33334], [31.34781, -86.54527], [31.35, -85.7075], [31.35289, -83.08486], [31.35833, -95.48833], [31.368, -92.422], [31.37756, -97.59946], [31.3799, -92.37835], [31.3904, -92.3495], [31.39275, -91.08505], [31.40304, -92.46844], [31.40444, -95.70861], [31.41787, -92.28034], [31.43265, -84.1293], [31.44815, -100.4219], [31.4515, -88.08305], [31.45417, -100.4161], [31.46641, -81.64665], [31.4676, -92.2508], [31.4771, -98.53998], [31.4871, -92.3309], [31.50773, -95.20691], [31.53475, -85.7944], [31.55668, -95.38226], [31.55762, -81.47213], [31.56, -93.87194], [31.58255, -87.96095], [31.5831, -93.50845], [31.60641, -93.4991], [31.6212, -95.6669], [31.62608, -84.16016], [31.63, -110.177], [31.6498, -93.0887], [31.651, -85.19265], [31.6825, -92.3104], [31.71434, -84.60457], [31.78333, -95.68333], [31.809, -87.56807], [31.82345, -81.73075], [31.82347, -95.37101], [31.84167, -100.5167], [31.85, -85.925], [31.85605, -83.57655], [31.86794, -94.95061], [31.86801, -85.35995], [31.87333, -96.2], [31.87791, -94.89986], [31.8792, -81.88475], [31.90791, -95.01264], [31.91708, -94.63458], [31.93425, -96.12524], [31.9621, -81.88995], [31.98125, -80.89485], [31.9853, -81.61756], [31.99, -87.29], [31.99003, -110.1835], [32.01083, -94.14306], [32.0131, -91.14448], [32.01667, -94.68333], [32.0199, -92.914], [32.0321, -84.43484], [32.036, -88.77015], [32.0391, -81.436], [32.04361, -94.37444], [32.04417, -98.09234], [32.0538, -85.0409], [32.05806, -94.2], [32.09515, -88.68893], [32.1, -94.20695], [32.13781, -81.34159], [32.13972, -95.32], [32.15, -97.52499], [32.15, -97.5], [32.16139, -95.6], [32.17194, -97.54944], [32.1806, -88.864], [32.18333, -95.21667], [32.184, -86.581], [32.19202, -95.35257], [32.24083, -101.3903], [32.24271, -95.12872], [32.2462, -84.08932], [32.26889, -96.69583], [32.2714, -88.7496], [32.27444, -94.965], [32.28944, -94.86833], [32.29968, -80.95958], [32.30673, -87.24547], [32.30676, -83.16122], [32.31255, -88.65135], [32.31435, -85.16235], [32.31565, -95.48672], [32.33528, -94.7375], [32.3372, -88.74805], [32.34705, -82.2464], [32.35306, -94.90528], [32.36, -96.66], [32.375, -98.68], [32.375, -96.63], [32.38575, -82.24886], [32.39858, -82.30919], [32.40191, -90.19371], [32.4125, -94.81806], [32.4197, -93.4386], [32.42445, -109.5601], [32.43, -85.705], [32.4456, -86.5653], [32.45763, -93.36627], [32.475, -97.815], [32.48322, -86.37698], [32.51556, -95.41817], [32.51667, -94.9], [32.5175, -96.80417], [32.53333, -98.05], [32.57306, -95.80556], [32.5754, -81.78378], [32.58125, -94.86958], [32.58333, -94.15], [32.6218, -85.4258], [32.62194, -94.2], [32.62389, -94.52], [32.64, -97.84], [32.65, -110.175], [32.65, -94.37361], [32.66908, -98.03284], [32.675, -97.61], [32.675, -97.025], [32.67715, -85.21545], [32.68, -94.3], [32.6825, -85.2222], [32.68945, -94.59222], [32.69028, -95.61056], [32.7, -98.03333], [32.70631, -109.9134], [32.7071, -109.9643], [32.70722, -109.9648], [32.71528, -117.1564], [32.74985, -82.24796], [32.75, -97.75], [32.755, -98.0], [32.76967, -86.4891], [32.7817, -93.9467], [32.78611, -97.83334], [32.79338, -94.69412], [32.7943, -95.5425], [32.8, -94.16666], [32.8057, -92.40895], [32.80865, -84.25755], [32.81075, -116.4208], [32.815, -109.675], [32.817, -98.34489], [32.825, -80.559], [32.8269, -98.3298], [32.83333, -98.38333], [32.84, -97.445], [32.85, -98.375], [32.85232, -95.46671], [32.86288, -83.55708], [32.895, -93.45], [32.9, -94.6], [32.9032, -80.65645], [32.91874, -85.9793], [32.94722, -96.10222], [32.95, -112.73], [32.96854, -85.02602], [32.98597, -81.61264], [33.00014, -86.00004], [33.007, -80.156], [33.01, -94.44], [33.03333, -94.72334], [33.03662, -116.5645], [33.04, -97.18], [33.04536, -80.45451], [33.05685, -94.52925], [33.07639, -94.25694], [33.09184, -83.69681], [33.0932, -79.8102], [33.096, -80.316], [33.09625, -94.32139], [33.1, -86.86], [33.1075, -92.33472], [33.10925, -89.59135], [33.12572, -85.49103], [33.13, -88.14999], [33.13195, -88.17885], [33.132, -79.884], [33.13333, -98.35], [33.14663, -92.61493], [33.14759, -93.89135], [33.15405, -105.7947], [33.16972, -99.18778], [33.17162, -94.14799], [33.18528, -94.25556], [33.18639, -93.9475], [33.19944, -96.00306], [33.2, -98.4], [33.2, -96.17], [33.20837, -87.28992], [33.211, -94.0765], [33.21145, -87.35664], [33.24084, -85.7894], [33.245, -81.359], [33.24722, -95.77], [33.25, -97.05], [33.25, -95.84], [33.2516, -105.7197], [33.26035, -87.31821], [33.26222, -95.82056], [33.26462, -92.64066], [33.26666, -93.886], [33.2675, -116.8625], [33.26855, -91.22115], [33.26885, -85.12705], [33.2706, -84.73555], [33.27094, -105.7338], [33.27303, -97.03784], [33.275, -98.325], [33.27735, -105.7395], [33.2784, -94.12258], [33.28333, -94.35722], [33.28375, -87.32655], [33.29083, -97.8375], [33.31194, -93.8417], [33.32237, -116.8782], [33.32442, -84.2532], [33.33, -95.54278], [33.33171, -93.98622], [33.33614, -97.02299], [33.34139, -95.24917], [33.34677, -83.90588], [33.35, -85.625], [33.36305, -86.17122], [33.3646, -82.24471], [33.3674, -86.64066], [33.36867, -95.23958], [33.37095, -87.6942], [33.37111, -84.508], [33.375, -98.3], [33.3785, -112.6432], [33.37917, -94.11611], [33.387, -94.036], [33.40425, -91.48295], [33.4119, -82.13665], [33.41574, -88.12475], [33.445, -96.05], [33.45278, -101.5361], [33.46333, -95.8775], [33.46345, -85.87055], [33.46372, -83.61285], [33.48, -95.76861], [33.48028, -97.04361], [33.48295, -84.7681], [33.48665, -85.8175], [33.49565, -84.5317], [33.4996, -84.5422], [33.50025, -88.40335], [33.5155, -78.3829], [33.5388, -84.869], [33.55153, -86.98473], [33.56555, -90.8022], [33.59, -96.27306], [33.59, -86.5], [33.61666, -95.90694], [33.6205, -86.4664], [33.62167, -100.8361], [33.6247, -109.3191], [33.6332, -86.2952], [33.64341, -85.41961], [33.64555, -95.16028], [33.66554, -93.56799], [33.66666, -95.27361], [33.66675, -116.7], [33.67056, -95.06667], [33.675, -98.225], [33.69, -96.84806], [33.70037, -84.53352], [33.7065, -85.57415], [33.71472, -96.78917], [33.72, -78.9211], [33.75556, -96.53], [33.7655, -116.7078], [33.76986, -94.3643], [33.77528, -97.05903], [33.79094, -95.92831], [33.796, -84.79601], [33.7985, -91.27056], [33.80785, -84.78979], [33.81029, -84.97515], [33.81283, -84.80283], [33.8132, -86.7891], [33.81435, -96.76199], [33.81461, -85.15337], [33.81678, -116.6329], [33.81861, -96.96333], [33.81871, -85.10207], [33.82083, -95.83639], [33.82111, -92.03389], [33.82162, -85.48985], [33.82444, -97.07361], [33.825, -110.925], [33.825, -96.6075], [33.82722, -95.62861], [33.82819, -106.9285], [33.845, -95.19722], [33.85, -111.69], [33.88861, -93.20389], [33.89236, -87.3775], [33.89444, -96.75361], [33.8957, -87.53395], [33.89761, -82.4975], [33.89833, -86.84557], [33.9, -109.355], [33.91604, -85.01929], [33.94073, -94.09966], [33.94175, -86.17965], [33.94979, -84.82338], [33.95002, -116.5333], [33.95003, -85.35133], [33.97005, -84.20175], [33.97575, -87.45876], [33.9844, -85.3582], [33.988, -109.7452], [33.99989, -110.4298], [34.0, -110.0], [34.0, -85.0], [34.00806, -86.96416], [34.021, -94.4435], [34.03528, -84.83903], [34.03789, -94.32321], [34.04129, -85.86473], [34.04165, -117.0416], [34.0425, -110.4829], [34.0431, -80.80685], [34.0474, -84.68864], [34.05198, -85.16238], [34.06705, -82.86789], [34.06787, -84.79704], [34.0775, -94.4095], [34.08, -93.0], [34.08204, -94.3457], [34.08725, -79.1246], [34.1, -110.165], [34.1088, -84.6971], [34.11306, -95.62278], [34.1226, -84.7038], [34.125, -98.105], [34.1288, -86.68], [34.1318, -84.73846], [34.14117, -85.22781], [34.17376, -91.07266], [34.17521, -85.18678], [34.17769, -85.19659], [34.1962, -84.50055], [34.20873, -92.57542], [34.21174, -96.63857], [34.24174, -85.08995], [34.24228, -110.5712], [34.25, -118.225], [34.25, -96.21], [34.25, -93.1], [34.2556, -116.7944], [34.27139, -110.0632], [34.275, -110.85], [34.27607, -86.17524], [34.2802, -117.8333], [34.285, -110.11], [34.285, -93.162], [34.28665, -117.3395], [34.28745, -84.59345], [34.28939, -111.1367], [34.29511, -86.88621], [34.29861, -96.30222], [34.31, -99.295], [34.31605, -89.845], [34.31611, -93.17056], [34.31955, -84.48006], [34.32279, -86.5045], [34.325, -109.64], [34.33335, -110.9583], [34.33843, -117.1776], [34.34, -110.9725], [34.35, -110.98], [34.35765, -82.82005], [34.36153, -83.87177], [34.36725, -84.57616], [34.36778, -94.68028], [34.369, -94.3745], [34.374, -80.074], [34.375, -111.4925], [34.37537, -83.77232], [34.38638, -98.99414], [34.39, -93.23111], [34.39092, -81.54448], [34.3924, -77.7485], [34.39639, -95.01167], [34.39965, -84.383], [34.4, -111.5], [34.40434, -77.23759], [34.4082, -94.38045], [34.4125, -94.1125], [34.421, -81.396], [34.425, -111.375], [34.42654, -85.31646], [34.4274, -110.9986], [34.43542, -111.3164], [34.43951, -111.0946], [34.4415, -94.4325], [34.44333, -94.65639], [34.4447, -83.59509], [34.44652, -93.07654], [34.45, -112.53], [34.45025, -82.56786], [34.45195, -94.60042], [34.47, -92.58], [34.47091, -86.56954], [34.475, -111.08], [34.4826, -85.10299], [34.48287, -84.5136], [34.4881, -86.6333], [34.49108, -94.49968], [34.495, -96.972], [34.50572, -95.12156], [34.50917, -77.53445], [34.515, -111.375], [34.52414, -82.38998], [34.52436, -94.91928], [34.52473, -92.70348], [34.52667, -94.70278], [34.5287, -79.26708], [34.53167, -92.40778], [34.53654, -81.70052], [34.53784, -77.50434], [34.53889, -94.93722], [34.5422, -86.66465], [34.55, -113.46], [34.55056, -92.34083], [34.55154, -112.5421], [34.55946, -86.59747], [34.56327, -85.79889], [34.56384, -92.22704], [34.56444, -92.58667], [34.575, -111.4], [34.59, -80.3891], [34.59583, -94.55944], [34.6, -109.44], [34.6021, -95.11875], [34.60665, -120.0023], [34.60905, -88.19894], [34.61361, -94.84861], [34.6167, -118.4333], [34.625, -119.2916], [34.62689, -85.42266], [34.62944, -98.62833], [34.64145, -83.80404], [34.6423, -83.4192], [34.64583, -94.575], [34.6527, -84.0354], [34.65375, -83.11639], [34.66005, -85.4034], [34.66029, -85.39171], [34.66255, -83.76585], [34.66363, -118.4538], [34.66467, -83.71705], [34.672, -83.714], [34.67245, -111.7099], [34.6802, -87.00665], [34.68319, -83.69085], [34.689, -94.7325], [34.6894, -77.2914], [34.695, -94.685], [34.69895, -85.34145], [34.7, -112.05], [34.70107, -83.6746], [34.70112, -87.77686], [34.70157, -83.45181], [34.70435, -84.2269], [34.7064, -83.8329], [34.70694, -94.45417], [34.71139, -86.6575], [34.71425, -83.62215], [34.72195, -94.96639], [34.73139, -86.97057], [34.73147, -92.75093], [34.73153, -99.81514], [34.7325, -86.52105], [34.73389, -119.9254], [34.735, -88.26655], [34.73966, -94.7264], [34.74338, -94.7297], [34.74775, -83.48067], [34.75139, -95.04778], [34.7576, -77.5873], [34.76134, -98.61497], [34.76666, -118.5834], [34.7673, -83.77811], [34.7706, -111.8907], [34.77525, -85.3297], [34.78035, -83.78375], [34.78052, -77.85507], [34.787, -91.735], [34.78833, -94.70667], [34.79914, -77.10508], [34.80405, -87.50905], [34.81182, -84.3453], [34.81417, -95.65417], [34.8146, -94.66875], [34.8155, -84.58501], [34.8243, -84.72352], [34.84161, -83.94456], [34.84167, -94.63111], [34.85324, -92.25454], [34.86111, -96.66528], [34.86535, -92.3575], [34.87, -92.12], [34.8804, -83.31311], [34.88111, -91.08056], [34.8983, -84.6216], [34.8986, -87.95277], [34.90831, -110.8403], [34.92333, -95.26167], [34.92336, -92.30519], [34.9263, -87.02025], [34.92684, -92.30753], [34.92855, -87.1105], [34.93243, -101.667], [34.94325, -83.18237], [34.9533, -81.56005], [34.95605, -86.4559], [34.9575, -98.31556], [34.96295, -111.5228], [34.97181, -90.95902], [35.0, -99.0], [35.00278, -95.34111], [35.0055, -89.3808], [35.01305, -82.7962], [35.0194, -90.32], [35.0228, -87.2352], [35.0271, -94.66875], [35.0554, -79.88049], [35.06144, -93.45042], [35.07, -91.97], [35.08344, -98.24586], [35.09, -111.7], [35.09306, -94.356], [35.1013, -84.3046], [35.10278, -98.34056], [35.10486, -83.23206], [35.10615, -86.46987], [35.11417, -86.465], [35.129, -84.8215], [35.12931, -118.3302], [35.1312, -79.11128], [35.1394, -111.6259], [35.14639, -90.18444], [35.148, -81.861], [35.14947, -81.60892], [35.15193, -93.42848], [35.1685, -82.488], [35.175, -109.25], [35.1759, -94.0679], [35.17748, -118.625], [35.18083, -79.21278], [35.18597, -84.48414], [35.186, -93.206], [35.18637, -78.63611], [35.1918, -86.9094], [35.194, -81.402], [35.20416, -87.19556], [35.211, -83.007], [35.21111, -97.24139], [35.22149, -87.39061], [35.2256, -80.26915], [35.226, -89.94], [35.23036, -85.75014], [35.241, -111.8634], [35.24194, -97.5625], [35.24749, -79.97967], [35.2483, -83.28265], [35.25048, -79.86721], [35.255, -91.50301], [35.2597, -84.28315], [35.2673, -118.9591], [35.26808, -96.60222], [35.27056, -95.97], [35.2725, -82.65414], [35.27639, -97.33528], [35.27833, -93.13361], [35.28195, -82.39165], [35.2933, -95.94727], [35.3, -111.675], [35.3011, -99.1702], [35.30146, -85.07263], [35.30685, -111.7141], [35.30773, -79.75644], [35.31331, -80.00272], [35.31924, -80.03551], [35.3218, -87.2932], [35.325, -95.0585], [35.33069, -111.7101], [35.33389, -98.13028], [35.33783, -83.52992], [35.33975, -82.443], [35.34572, -93.75313], [35.34737, -91.60007], [35.3538, -84.0458], [35.35636, -80.01653], [35.36, -82.4831], [35.36335, -94.229], [35.36895, -95.97023], [35.37201, -108.2034], [35.40472, -84.05056], [35.416, -89.7735], [35.41939, -82.56715], [35.42014, -97.21555], [35.42097, -93.15208], [35.42525, -77.67995], [35.43787, -80.69763], [35.4449, -80.0616], [35.44944, -91.51306], [35.44986, -118.5821], [35.451, -82.287], [35.46865, -83.3626], [35.46955, -80.08778], [35.4745, -83.3032], [35.50285, -94.77699], [35.5035, -89.91499], [35.50556, -98.575], [35.51222, -118.3356], [35.5131, -83.5582], [35.52162, -105.2526], [35.52335, -89.35205], [35.5311, -78.4048], [35.53467, -83.17152], [35.537, -89.63499], [35.53925, -97.67827], [35.545, -87.8084], [35.545, -85.0667], [35.5467, -85.02585], [35.5506, -4319942.0], [35.55535, -93.1716], [35.5559, -84.0475], [35.5565, -121.2919], [35.5605, -83.5214], [35.56577, -79.75537], [35.56637, -94.98001], [35.56805, -118.6078], [35.5803, -118.3804], [35.58565, -107.9978], [35.618, -82.321], [35.6267, -81.5917], [35.63736, -108.8676], [35.64151, -83.47566], [35.64389, -97.45694], [35.64861, -91.45889], [35.656, -111.938], [35.6644, -81.78065], [35.665, -120.55], [35.6753, -86.7074], [35.68081, -97.26022], [35.68449, -83.53575], [35.68583, -97.00389], [35.69958, -91.51528], [35.7, -117.9667], [35.70166, -95.70208], [35.703, -91.46231], [35.738, -90.1355], [35.74111, -97.479], [35.74875, -82.26195], [35.75, -80.375], [35.75278, -82.22121], [35.75472, -118.4244], [35.7575, -95.60667], [35.76152, -99.93007], [35.7695, -82.87408], [35.77, -92.44583], [35.78043, -81.77603], [35.78439, -87.44963], [35.7909, -82.4614], [35.8019, -92.943], [35.80762, -88.30945], [35.83845, -81.80479], [35.84103, -81.20877], [35.84503, -118.6331], [35.85107, -82.05008], [35.8525, -80.6585], [35.8606, -89.0912], [35.86972, -96.968], [35.87885, -80.2068], [35.8823, -84.88694], [35.88561, -81.92929], [35.892, -82.829], [35.89305, -83.26097], [35.8934, -81.98335], [35.91965, -80.6282], [35.92806, -94.83], [35.93985, -100.6767], [35.94, -87.25375], [35.94585, -81.7418], [35.94647, -81.03185], [35.94778, -86.36485], [35.95815, -80.2084], [35.95835, -118.375], [35.95865, -81.95195], [35.97, -109.155], [35.97231, -84.88466], [35.97389, -97.03333], [35.98475, -106.8803], [35.988, -86.5101], [35.9975, -93.83426], [35.9978, -86.2011], [35.998, -76.946], [36.0, -100.5], [36.0055, -81.08335], [36.00565, -89.67815], [36.0089, -77.90525], [36.0165, -88.76775], [36.02306, -97.1225], [36.02328, -89.17284], [36.03501, -96.36707], [36.042, -93.1545], [36.0438, -118.7402], [36.05278, -118.1303], [36.05361, -118.5347], [36.0605, -108.84], [36.06055, -89.98725], [36.07081, -118.2084], [36.08089, -108.892], [36.09081, -109.4276], [36.0917, -86.9803], [36.0925, -82.3045], [36.095, -106.9571], [36.09583, -89.48666], [36.09945, -80.7704], [36.10222, -118.8489], [36.105, -84.38335], [36.10556, -118.5272], [36.1124, -87.4769], [36.12083, -90.51056], [36.12292, -88.65445], [36.12318, -87.38542], [36.126, -108.87], [36.13222, -95.79677], [36.13361, -93.94389], [36.134, -80.66], [36.14065, -92.52505], [36.14505, -108.8548], [36.154, -91.09], [36.15588, -82.38587], [36.16488, -89.03873], [36.1655, -93.5515], [36.18333, -94.44694], [36.1874, -87.0886], [36.18889, -95.74556], [36.1894, -118.1729], [36.19408, -83.73153], [36.19444, -92.38222], [36.19625, -105.5596], [36.19746, -84.66167], [36.19791, -91.1125], [36.1999, -118.1666], [36.2058, -78.968], [36.20611, -94.23417], [36.21335, -78.09365], [36.22306, -118.6744], [36.225, -109.11], [36.22935, -95.2419], [36.2485, -121.495], [36.25466, -86.15759], [36.25639, -94.07806], [36.2635, -83.918], [36.26451, -89.25397], [36.28, -109.14], [36.29871, -92.63179], [36.30155, -86.60155], [36.3025, -93.448], [36.3065, -84.34], [36.31126, -81.30889], [36.31519, -93.75723], [36.31625, -79.03025], [36.33205, -91.52025], [36.33528, -92.385], [36.34167, -93.94583], [36.3431, -112.0934], [36.34389, -93.76], [36.3461, -81.38915], [36.36, -92.55472], [36.36264, -82.98764], [36.37111, -91.87], [36.37139, -92.25139], [36.3715, -76.29115], [36.37399, -92.27071], [36.3779, -121.7146], [36.37919, -95.80589], [36.38287, -80.46865], [36.38605, -92.30614], [36.38632, -83.21461], [36.3881, -93.1073], [36.39135, -109.0612], [36.39403, -84.85902], [36.39835, -93.14626], [36.4, -112.0], [36.40406, -84.23711], [36.4075, -94.92667], [36.41, -93.74], [36.4168, -94.78227], [36.4178, -107.1612], [36.42315, -81.56219], [36.42846, -82.31094], [36.4504, -92.2428], [36.4525, -118.6092], [36.4583, -83.92841], [36.469, -91.154], [36.48615, -80.375], [36.50787, -94.2319], [36.51627, -94.60989], [36.54165, -109.29], [36.5587, -79.36079], [36.56304, -118.7729], [36.57869, -90.21339], [36.5802, -86.5104], [36.5884, -76.28729], [36.589, -93.3945], [36.589, -79.1345], [36.599, -105.4113], [36.6, -91.2], [36.615, -92.425], [36.62116, -96.12164], [36.62492, -81.48593], [36.63621, -93.31413], [36.63931, -78.55758], [36.65, -112.24], [36.65339, -105.9678], [36.66257, -84.33998], [36.66708, -90.9525], [36.66887, -93.29459], [36.67065, -93.65774], [36.67311, -83.85683], [36.6765, -76.364], [36.68937, -86.45915], [36.70835, -118.375], [36.71418, -93.25712], [36.72065, -107.3956], [36.72415, -93.11722], [36.7279, -93.6383], [36.73, -93.51], [36.73225, -81.62195], [36.74, -112.19], [36.74465, -80.98215], [36.745, -80.48], [36.7474, -107.6021], [36.75139, -87.89472], [36.7548, -92.1527], [36.7586, -76.0418], [36.76377, -81.9107], [36.772, -86.1425], [36.77763, -118.9604], [36.7818, -120.201], [36.79165, -118.125], [36.7999, -83.66641], [36.8066, -86.5549], [36.8109, -92.3046], [36.81315, -108.7608], [36.8133, -93.8232], [36.8207, -88.41175], [36.8216, -87.93167], [36.82806, -88.15556], [36.83193, -83.42429], [36.86345, -79.65835], [36.87593, -89.86899], [36.8778, -82.4179], [36.879, -95.1695], [36.8817, -84.0821], [36.88494, -82.89404], [36.89478, -87.02245], [36.89771, -83.16293], [36.90237, -106.5784], [36.91355, -77.95074], [36.91475, -106.9958], [36.91528, -95.80417], [36.91533, -86.73543], [36.9265, -83.0452], [36.92799, -88.12511], [36.932, -80.89], [36.9372, -88.9949], [36.94109, -92.7622], [36.94165, -80.04166], [36.94679, -94.71512], [36.97061, -92.09264], [36.9846, -80.3755], [36.9897, -89.25555], [36.9934, -104.4801], [37.0, -121.7], [37.00085, -80.8797], [37.0048, -81.11751], [37.00633, -83.56467], [37.01115, -79.908], [37.02496, -92.11988], [37.025, -106.8583], [37.02759, -80.38748], [37.03575, -94.52888], [37.047, -77.90815], [37.0504, -95.0802], [37.0505, -90.277], [37.055, -121.845], [37.05571, -90.89388], [37.05575, -86.98705], [37.0581, -97.3374], [37.06226, -83.9769], [37.06266, -79.82829], [37.07354, -93.13545], [37.0787, -83.95846], [37.07944, -118.9689], [37.09263, -104.3786], [37.0968, -93.4303], [37.1137, -106.3681], [37.1142, -89.1979], [37.11433, -93.71506], [37.117, -93.894], [37.12815, -79.8871], [37.1303, -118.9386], [37.1496, -86.0163], [37.15814, -80.36054], [37.15889, -118.3743], [37.1694, -76.77447], [37.17004, -118.5391], [37.17433, -82.39963], [37.18124, -94.47345], [37.182, -113.7382], [37.18404, -89.36896], [37.18847, -90.52135], [37.192, -95.7455], [37.19201, -93.73122], [37.19583, -107.1771], [37.19822, -82.81679], [37.22604, -82.74595], [37.22647, -81.09017], [37.22716, -118.6271], [37.2276, -88.7584], [37.228, -88.7476], [37.2306, -91.30804], [37.23167, -119.235], [37.23389, -119.2119], [37.236, -89.55949], [37.2362, -106.541], [37.23667, -119.2386], [37.2402, -87.40585], [37.2423, -80.13276], [37.248, -77.354], [37.26505, -106.4745], [37.26532, -82.69576], [37.27, -91.985], [37.2725, -118.9656], [37.2731, -83.49205], [37.274, -94.93115], [37.2804, -118.9614], [37.28205, -83.21735], [37.286, -89.6075], [37.28675, -118.8741], [37.2875, -81.68124], [37.289, -88.9963], [37.29395, -87.52757], [37.29734, -79.85085], [37.29854, -80.82856], [37.303, -78.193], [37.30427, -90.83465], [37.30833, -106.4917], [37.30984, -84.20422], [37.3141, -87.64487], [37.31413, -82.13403], [37.3181, -84.92358], [37.3199, -106.3325], [37.32091, -81.1271], [37.32255, -106.5123], [37.32355, -84.26856], [37.3317, -93.614], [37.33226, -76.70926], [37.33694, -119.0139], [37.33815, -107.501], [37.33925, -108.3364], [37.34029, -87.89844], [37.34339, -88.71672], [37.3444, -97.1953], [37.34592, -81.8074], [37.3557, -80.5378], [37.35861, -118.9975], [37.35944, -119.6436], [37.37285, -106.496], [37.37814, -83.25562], [37.3817, -86.1358], [37.38334, -107.4667], [37.38661, -79.55045], [37.3901, -97.56253], [37.39315, -91.3012], [37.39555, -121.4871], [37.40025, -90.23058], [37.40504, -97.4572], [37.41095, -80.6275], [37.41098, -85.26247], [37.4125, -108.1292], [37.422, -91.578], [37.4253, -94.7844], [37.42701, -82.48093], [37.4351, -89.30203], [37.44208, -95.35479], [37.44378, -77.6257], [37.445, -80.17], [37.44508, -88.36589], [37.4504, -92.5415], [37.4583, -120.0833], [37.46041, -92.63587], [37.4625, -108.2083], [37.46292, -81.60155], [37.46392, -92.52242], [37.475, -121.07], [37.47975, -82.5183], [37.48743, -93.86594], [37.49582, -83.89224], [37.49993, -82.353], [37.5, -88.3461], [37.50965, -80.64685], [37.50983, -92.22327], [37.515, -81.8], [37.51867, -86.05289], [37.52127, -88.65912], [37.52947, -97.60829], [37.5313, -80.01335], [37.53434, -79.49707], [37.53705, -84.2552], [37.53918, -83.46014], [37.54, -79.57], [37.54661, -93.41], [37.5515, -93.285], [37.55156, -84.50035], [37.55379, -86.35931], [37.5562, -90.2488], [37.56055, -105.2869], [37.56215, -97.85428], [37.56279, -98.42924], [37.5656, -92.1426], [37.56937, -89.36241], [37.5703, -118.972], [37.57039, -84.28714], [37.57915, -105.4979], [37.58135, -81.29745], [37.58325, -118.9166], [37.585, -79.052], [37.59461, -86.13757], [37.5965, -90.4935], [37.5969, -105.4826], [37.5999, -119.0], [37.60075, -88.38197], [37.603, -81.2625], [37.6095, -87.344], [37.61095, -88.9319], [37.61335, -89.15173], [37.61404, -88.50061], [37.62124, -121.7587], [37.63, -88.55], [37.63169, -91.41383], [37.63264, -89.17177], [37.641, -98.12825], [37.64103, -97.40294], [37.64224, -79.79759], [37.64966, -87.01657], [37.65028, -118.9592], [37.6541, -80.7582], [37.65522, -86.93743], [37.65805, -83.79678], [37.664, -93.684], [37.66643, -90.86792], [37.6665, -81.1447], [37.68393, -89.48825], [37.68485, -89.49155], [37.689, -85.359], [37.69639, -119.4275], [37.7, -81.095], [37.70338, -107.7015], [37.70835, -107.9584], [37.714, -92.173], [37.718, -90.177], [37.71917, -89.48784], [37.72693, -76.6658], [37.72735, -88.9487], [37.745, -89.3595], [37.75415, -82.0029], [37.75417, -107.7667], [37.75705, -109.3125], [37.75745, -84.10435], [37.75926, -79.5912], [37.75972, -87.96917], [37.7664, -93.5395], [37.76666, -118.5333], [37.7684, -94.97862], [37.7715, -97.424], [37.7755, -85.67188], [37.77591, -82.74628], [37.7764, -83.67952], [37.78048, -89.45728], [37.78861, -119.0736], [37.7925, -92.05], [37.7929, -80.9075], [37.79337, -119.118], [37.79465, -90.79886], [37.80531, -81.14714], [37.8058, -111.3481], [37.81005, -94.72448], [37.81144, -83.08006], [37.81269, -119.8609], [37.82708, -83.81139], [37.82861, -92.20055], [37.83074, -119.4626], [37.8322, -95.32129], [37.83438, -83.69043], [37.83777, -82.43635], [37.83837, -87.13843], [37.83905, -107.7247], [37.84203, -94.6028], [37.84239, -94.60359], [37.846, -89.0111], [37.85126, -89.23383], [37.85524, -94.11218], [37.8583, -118.325], [37.8597, -91.432], [37.8602, -90.0329], [37.87153, -93.82087], [37.88755, -88.98393], [37.89225, -107.1971], [37.89508, -84.1989], [37.89917, -119.9997], [37.90613, -119.2481], [37.91, -88.929], [37.91111, -119.2569], [37.91544, -94.32079], [37.92017, -88.98228], [37.9208, -80.71875], [37.92735, -75.6561], [37.9308, -88.362], [37.93125, -91.33569], [37.9333, -119.0], [37.94235, -82.88309], [37.95708, -84.97527], [37.96027, -86.11702], [37.97699, -84.90234], [37.97761, -119.1291], [37.9808, -78.9279], [37.99225, -91.42575], [37.9937, -80.3616], [37.9939, -93.8794], [38.0, -112.5], [38.0, -81.0], [38.01, -87.3203], [38.01223, -91.64719], [38.015, -120.245], [38.02372, -107.193], [38.02516, -77.97089], [38.02653, -82.83278], [38.02825, -82.83425], [38.02847, -85.57882], [38.0311, -83.1815], [38.0312, -120.2434], [38.03305, -120.2636], [38.03338, -82.44214], [38.03898, -120.2339], [38.039, -90.7517], [38.03917, -120.0459], [38.04165, -119.2167], [38.04414, -92.97639], [38.04679, -119.2654], [38.04806, -119.2642], [38.04813, -89.30435], [38.05, -120.2667], [38.05141, -120.0508], [38.05344, -82.5446], [38.05408, -79.77946], [38.05703, -83.46259], [38.06181, -82.69125], [38.0654, -105.1137], [38.06615, -120.1877], [38.0695, -81.08506], [38.0735, -77.2265], [38.07584, -120.1039], [38.09052, -90.06338], [38.0944, -93.5577], [38.09832, -120.0397], [38.0985, -89.4205], [38.10263, -81.8075], [38.1038, -88.99181], [38.1078, -82.73412], [38.10785, -80.19044], [38.10833, -80.17528], [38.11203, -91.1569], [38.11468, -91.06547], [38.11509, -82.70393], [38.12318, -86.64338], [38.12764, -82.59822], [38.12852, -80.6754], [38.12912, -84.94009], [38.14167, -119.7111], [38.14415, -85.89175], [38.1579, -87.41805], [38.16205, -82.643], [38.1625, -120.0522], [38.16391, -82.28279], [38.16811, -92.79309], [38.176, -95.3465], [38.17625, -119.864], [38.17677, -119.9065], [38.1814, -97.56185], [38.18389, -120.1547], [38.1875, -92.337], [38.1882, -80.1177], [38.18881, -88.83003], [38.18933, -80.2522], [38.195, -82.868], [38.19744, -97.41755], [38.19753, -119.9811], [38.19833, -120.0083], [38.20065, -80.17294], [38.203, -90.5545], [38.20444, -120.3689], [38.2081, -91.16042], [38.20835, -120.0416], [38.2128, -81.70641], [38.21285, -90.66216], [38.21719, -90.50072], [38.21877, -120.0124], [38.225, -112.35], [38.22635, -90.39488], [38.23243, -119.984], [38.23475, -120.1862], [38.2383, -81.5722], [38.2395, -119.8792], [38.24361, -85.03827], [38.24805, -119.9924], [38.25, -121.0], [38.25472, -120.3536], [38.25583, -122.5833], [38.25861, -85.03827], [38.2592, -83.41507], [38.2639, -81.4625], [38.26661, -119.8633], [38.27194, -120.2867], [38.27372, -89.21439], [38.27832, -80.51534], [38.28, -91.6253], [38.28085, -119.836], [38.2845, -80.6385], [38.29116, -119.7275], [38.29165, -119.54], [38.30056, -120.7053], [38.305, -92.411], [38.3068, -119.5483], [38.3085, -92.8254], [38.312, -80.429], [38.31722, -119.7489], [38.31738, -82.51773], [38.31944, -120.2603], [38.32304, -88.96978], [38.32417, -119.7519], [38.3248, -82.4438], [38.32548, -80.60419], [38.33109, -80.51374], [38.33115, -119.7853], [38.3331, -79.35755], [38.33527, -83.41575], [38.33885, -82.89059], [38.33912, -89.35323], [38.354, -87.8572], [38.35727, -82.59348], [38.35806, -82.43855], [38.36885, -78.5367], [38.36911, -78.53718], [38.375, -120.125], [38.37558, -97.58336], [38.3778, -88.07554], [38.37945, -87.79079], [38.38096, -82.52633], [38.39027, -85.95914], [38.3905, -94.352], [38.3908, -95.6491], [38.3958, -119.801], [38.397, -94.332], [38.39917, -120.5264], [38.4, -105.1167], [38.4063, -90.7357], [38.40685, -90.7], [38.4125, -92.1855], [38.415, -122.585], [38.4191, -86.23506], [38.42968, -82.64877], [38.43189, -89.87113], [38.43235, -86.19055], [38.4326, -89.79143], [38.4335, -89.7915], [38.437, -92.408], [38.441, -91.6284], [38.44148, -85.0016], [38.44367, -79.1347], [38.44714, -79.65548], [38.45795, -83.9311], [38.45799, -120.0491], [38.45861, -120.0397], [38.45927, -90.55145], [38.46118, -82.07358], [38.46156, -94.14297], [38.46253, -93.91737], [38.46472, -120.0389], [38.4763, -89.54485], [38.4775, -120.0047], [38.48342, -77.34673], [38.485, -92.225], [38.48959, -107.7], [38.4906, -121.7138], [38.4971, -90.7212], [38.4975, -88.9094], [38.49833, -107.8833], [38.51465, -83.83695], [38.51591, -79.02109], [38.51639, -123.24], [38.51665, -119.6234], [38.51689, -90.16501], [38.52019, -77.36115], [38.52026, -79.33413], [38.521, -94.188], [38.5229, -94.19245], [38.524, -94.1927], [38.528, -84.588], [38.53062, -89.89167], [38.53082, -82.70584], [38.53187, -82.7989], [38.54166, -104.9908], [38.54602, -79.16096], [38.5464, -82.25949], [38.54852, -82.66616], [38.55, -79.98], [38.56277, -83.32354], [38.56546, -79.14478], [38.567, -89.341], [38.56724, -92.07335], [38.5735, -94.477], [38.57502, -79.18524], [38.57716, -79.11095], [38.58125, -79.14795], [38.5859, -104.9426], [38.586, -94.286], [38.5992, -94.1057], [38.59998, -106.6417], [38.60124, -106.3466], [38.60551, -82.71107], [38.6167, -119.9501], [38.61792, -77.52767], [38.62, -91.96238], [38.6234, -94.6837], [38.62563, -96.44296], [38.63295, -75.80465], [38.63454, -83.80266], [38.63472, -86.79333], [38.63813, -85.00044], [38.64301, -83.69977], [38.6492, -79.26241], [38.655, -90.675], [38.66736, -89.87602], [38.6685, -80.03149], [38.6691, -104.8604], [38.676, -75.18375], [38.68516, -83.12916], [38.68707, -89.09732], [38.68775, -105.047], [38.6899, -86.25349], [38.69322, -83.12891], [38.6934, -79.5653], [38.69428, -90.52987], [38.7016, -79.52835], [38.70819, -77.17868], [38.7084, -79.7802], [38.71, -75.36536], [38.71145, -105.0354], [38.712, -79.7773], [38.71225, -105.1744], [38.71342, -86.04386], [38.716, -104.875], [38.71682, -87.68468], [38.71806, -120.5619], [38.71954, -106.2384], [38.7201, -79.7927], [38.72139, -120.5836], [38.72226, -89.80125], [38.73048, -78.33453], [38.7365, -81.0321], [38.73687, -83.39134], [38.73725, -85.84489], [38.73802, -90.53249], [38.73854, -84.63702], [38.741, -77.23238], [38.7437, -94.2633], [38.74625, -89.8774], [38.74784, -90.14547], [38.74899, -82.97854], [38.75, -122.7], [38.753, -105.1598], [38.76139, -120.5856], [38.76417, -87.60555], [38.76635, -95.70296], [38.77386, -120.4036], [38.77727, -83.18179], [38.7774, -90.012], [38.77741, -105.9111], [38.77778, -119.8208], [38.788, -79.495], [38.79215, -82.93085], [38.79381, -82.55177], [38.79833, -82.54968], [38.79998, -120.2083], [38.80319, -77.34879], [38.80435, -120.0825], [38.809, -89.918], [38.81124, -92.59781], [38.81639, -76.54514], [38.81772, -83.80582], [38.8204, -111.6631], [38.826, -105.1146], [38.82795, -83.56633], [38.8317, -81.5784], [38.835, -79.3762], [38.835, -79.3686], [38.83628, -83.12873], [38.83714, -106.199], [38.83859, -83.28128], [38.83996, -123.0585], [38.8409, -79.4016], [38.8448, -82.0849], [38.8554, -79.3999], [38.85556, -120.0133], [38.86, -120.1358], [38.8609, -79.55928], [38.86165, -120.2201], [38.875, -107.7084], [38.87531, -87.90503], [38.8762, -79.95695], [38.87813, -79.3434], [38.88059, -82.43382], [38.88665, -75.3793], [38.8922, -105.1058], [38.8926, -79.47325], [38.893, -87.869], [38.89625, -78.1268], [38.89665, -83.40573], [38.8993, -104.9743], [38.9, -105.3812], [38.9006, -104.9917], [38.90123, -89.80123], [38.90203, -79.33517], [38.90222, -121.0803], [38.90323, -78.48832], [38.90333, -120.6033], [38.9037, -120.6049], [38.90649, -84.67017], [38.90833, -107.575], [38.9099, -92.36771], [38.91, -105.275], [38.91185, -120.5764], [38.9142, -95.2577], [38.92241, -90.16171], [38.9241, -89.53419], [38.9264, -82.14285], [38.92993, -90.53175], [38.93, -120.205], [38.93027, -79.68047], [38.93333, -119.9833], [38.93333, -105.4917], [38.93704, -92.32704], [38.94564, -87.97622], [38.946, -89.582], [38.9506, -83.02551], [38.95242, -79.42547], [38.95285, -121.0479], [38.9575, -120.0914], [38.9593, -78.02081], [38.96, -120.0969], [38.965, -82.905], [38.96846, -89.72024], [38.9695, -79.7625], [38.9706, -79.4123], [38.9766, -78.6205], [38.98, -89.136], [38.98, -80.27], [38.98773, -78.20517], [38.99353, -94.22043], [38.99484, -84.10731], [38.9951, -90.1451], [38.9969, -108.1098], [38.99778, -120.2392], [39.0, -89.0], [39.00056, -119.8458], [39.00175, -84.14354], [39.00875, -94.30658], [39.01142, -76.53862], [39.01166, -86.57665], [39.01569, -84.08533], [39.01577, -106.7522], [39.01917, -120.8275], [39.01972, -81.85806], [39.02028, -120.8169], [39.02341, -90.40184], [39.02502, -86.49139], [39.02775, -90.4049], [39.03445, -94.10855], [39.03496, -79.95418], [39.03501, -84.1317], [39.04035, -94.16049], [39.0417, -79.43762], [39.0465, -105.2146], [39.04744, -86.38894], [39.05, -79.98335], [39.05922, -83.07492], [39.06, -89.98351], [39.06, -89.558], [39.0621, -105.0138], [39.06381, -95.74633], [39.06392, -77.2948], [39.06565, -85.01295], [39.06583, -123.4439], [39.06881, -79.32608], [39.072, -95.747], [39.08, -121.42], [39.08002, -84.79574], [39.0833, -120.1666], [39.08414, -76.82731], [39.08817, -92.31901], [39.0895, -82.8342], [39.09109, -87.80624], [39.0917, -106.4417], [39.10023, -79.4593], [39.1006, -106.5445], [39.10495, -82.79665], [39.10611, -83.0363], [39.1062, -99.26195], [39.1084, -107.0153], [39.11167, -120.4683], [39.11378, -76.811], [39.115, -89.952], [39.11636, -105.2155], [39.1175, -93.4025], [39.11929, -83.40022], [39.13595, -84.17227], [39.1405, -91.419], [39.14299, -82.41166], [39.1441, -95.488], [39.14519, -96.35309], [39.14588, -77.67422], [39.1463, -96.8223], [39.1489, -96.9614], [39.15735, -106.4213], [39.1611, -80.23375], [39.16305, -107.9514], [39.17029, -82.47604], [39.17257, -83.26393], [39.17295, -84.971], [39.17909, -86.3356], [39.18975, -106.4269], [39.20212, -83.13585], [39.2026, -106.1143], [39.20278, -79625.0], [39.2038, -89.9758], [39.205, -121.58], [39.2065, -86.22125], [39.20834, -106.0417], [39.20894, -94.2908], [39.21278, -120.8908], [39.21338, -105.0652], [39.2152, -86.05825], [39.21564, -77.4608], [39.21667, -120.8983], [39.21833, -81.16211], [39.22348, -74.69759], [39.22361, -123.7675], [39.225, -106.3625], [39.2305, -95.44415], [39.2372, -88.61966], [39.24523, -82.27037], [39.2475, -94.271], [39.24841, -86.33011], [39.24998, -106.2583], [39.25, -123.15], [39.25, -106.3], [39.25109, -82.3997], [39.25396, -121.0517], [39.26167, -121.015], [39.26188, -79.01405], [39.26361, -121.0161], [39.26776, -89.48787], [39.26903, -84.25986], [39.26944, -106.3833], [39.28537, -81.85331], [39.29007, -91.09014], [39.29056, -119.6564], [39.29325, -106.1215], [39.2949, -90.608], [39.30023, -105.6723], [39.30056, -120.6672], [39.3045, -106.171], [39.3047, -90.0775], [39.30525, -90.0933], [39.30595, -98.2833], [39.30745, -94.59565], [39.31667, -105.3542], [39.31917, -120.3275], [39.32117, -86.46065], [39.3225, -120.2653], [39.32385, -106.2275], [39.33292, -95.84024], [39.335, -78.94501], [39.3375, -107.0671], [39.34657, -90.1173], [39.355, -80.915], [39.35503, -105.2527], [39.3579, -85.61], [39.365, -85.8486], [39.3716, -94.9], [39.37215, -84.80138], [39.3731, -81.65929], [39.3735, -91.093], [39.37357, -107.0596], [39.374, -120.914], [39.37509, -84.79429], [39.37753, -90.04582], [39.38, -86.11], [39.3804, -86.4324], [39.38745, -81.67339], [39.3875, -94.43649], [39.39565, -105.7854], [39.3985, -94.4955], [39.39935, -82.52238], [39.40305, -105.8226], [39.4045, -94.91451], [39.40458, -87.7313], [39.40589, -105.475], [39.40877, -81.73172], [39.41087, -106.1444], [39.41546, -120.4187], [39.4191, -105.7065], [39.42606, -84.10463], [39.42635, -81.37085], [39.42923, -104.9677], [39.4383, -89.86021], [39.445, -91.07], [39.4455, -105.0787], [39.44583, -123.8042], [39.4484, -82.2244], [39.45697, -85.5481], [39.45789, -82.24257], [39.45824, -106.625], [39.46019, -81.54855], [39.4627, -106.6035], [39.47642, -82.24155], [39.48, -111.23], [39.48219, -82.32669], [39.4862, -86.161], [39.49265, -83.11422], [39.49695, -84.45905], [39.502, -94.29428], [39.50435, -120.3784], [39.50655, -88.70795], [39.5075, -89.3469], [39.51, -80.985], [39.51256, -78.05424], [39.51489, -123.3899], [39.52122, -80.37878], [39.5226, -78.49429], [39.5246, -82.6353], [39.52701, -105.4147], [39.53722, -121.4822], [39.53747, -90.17564], [39.5392, -77.9407], [39.54114, -80.11329], [39.54739, -81.39101], [39.55249, -121.5027], [39.5575, -120.8294], [39.56573, -82.49833], [39.57143, -82.49968], [39.57463, -90.24173], [39.58157, -82.36887], [39.58375, -111.1339], [39.592, -119.975], [39.59607, -82.35291], [39.59947, -82.63536], [39.60238, -94.40015], [39.607, -90.64], [39.60835, -74.43445], [39.61205, -84.36754], [39.61958, -81.14833], [39.62, -89.6845], [39.6279, -82.83647], [39.632, -75.5167], [39.63255, -82.26463], [39.63382, -81.40079], [39.63662, -84.36874], [39.6395, -89.66525], [39.64081, -81.47081], [39.64146, -84.48506], [39.64175, -111.2186], [39.64193, -82.1013], [39.64306, -121.2733], [39.64819, -78.32549], [39.652, -74.6298], [39.65361, -84.66399], [39.6543, -83.7278], [39.6548, -90.18651], [39.65625, -84.51192], [39.65749, -89.56981], [39.6632, -106.8085], [39.66676, -89.68079], [39.67095, -105.8199], [39.6716, -79.9442], [39.67183, -76.34047], [39.6723, -80.5621], [39.679, -119.6665], [39.68833, -123.4817], [39.69191, -74.55341], [39.6946, -76.6691], [39.6995, -79.5375], [39.70042, -84.62567], [39.705, -121.18], [39.70852, -75.38251], [39.7198, -106.1666], [39.7273, -97.34005], [39.72785, -76.2074], [39.72848, -86.93636], [39.73333, -89.61281], [39.73523, -76.04183], [39.7384, -74.2975], [39.74107, -82.70263], [39.74356, -86.81714], [39.745, -83.825], [39.74652, -90.17844], [39.74678, -89.34647], [39.74961, -84.09158], [39.75318, -89.56226], [39.75531, -81.02917], [39.7557, -92.9282], [39.75616, -88.62624], [39.76366, -77.27178], [39.7721, -89.4691], [39.7784, -74.54086], [39.781, -88.867], [39.78594, -82.29162], [39.7962, -74.3749], [39.80751, -94868400.0], [39.80777, -106.3023], [39.80825, -121.0456], [39.8213, -88.1676], [39.8234, -74.70135], [39.83, -123.115], [39.8352, -88.47835], [39.83627, -89.65926], [39.83804, -93.6515], [39.83929, -123.2393], [39.8397, -91.6533], [39.84874, -89.55229], [39.8494, -84.15971], [39.853, -89.5], [39.85461, -83.94906], [39.859, -94.856], [39.8595, -94.54], [39.86019, -81.20422], [39.86096, -83.96562], [39.8679, -87.23335], [39.8732, -88.9813], [39.879, -106.6735], [39.88653, -81.27132], [39.89172, -84.14493], [39.89203, -83.00142], [39.89216, -83.96123], [39.90416, -81.98721], [39.91209, -81.04791], [39.91682, -90.95499], [39.92104, -83.95184], [39.92778, -122.1781], [39.92781, -81.61014], [39.92821, -83.64597], [39.93154, -81.28671], [39.934, -74.3966], [39.9347, -87.08955], [39.93521, -89.88871], [39.94278, -121.0158], [39.9433, -79.665], [39.94853, -74.42721], [39.95329, -81.39827], [39.96627, -83.51394], [39.9784, -84.1735], [39.98216, -74.36187], [39.98705, -85.3149], [40.0, -90.0], [40.00385, -107.4381], [40.00817, -105.298], [40.00915, -82.67252], [40.01142, -123.9122], [40.01209, -82.13298], [40.01452, -81.34529], [40.01784, -80.93318], [40.01979, -83.56088], [40.01983, -81.07013], [40.025, -105.4458], [40.028, -110.9315], [40.03527, -123.7876], [40.03728, -120.9851], [40.0403, -86.1084], [40.04342, -84.04518], [40.0445, -111.5447], [40.04505, -90.1498], [40.04603, -82.14536], [40.04755, -80.25645], [40.04792, -83.5556], [40.05148, -79.56702], [40.053, -74.1301], [40.05998, -82.28814], [40.0625, -123.2208], [40.06831, -90.15218], [40.07849, -40757860.0], [40.0799, -81.49697], [40.08159, -83.0337], [40.08946, -81.69818], [40.09169, -87.71541], [40.1, -124.2], [40.10084, -81.14331], [40.10348, -81.50933], [40.10801, -81.56232], [40.10975, -80.85938], [40.1138, -81.5518], [40.11632, -81.52101], [40.11682, -81.4936], [40.1218, -81.5117], [40.12719, -81.50403], [40.1316, -74.85745], [40.1333, -80.68192], [40.1348, -90.6757], [40.1399, -96.7432], [40.14003, -81.49033], [40.14471, -89.41959], [40.15002, -83.02854], [40.1527, -87.7424], [40.16465, -74.68135], [40.16471, -3706646.0], [40.16912, -80.62003], [40.17585, -105.3792], [40.17699, -81.63656], [40.18, -86.1512], [40.18113, -74.09944], [40.18478, -74.72261], [40.19732, -88.724], [40.20275, -81.1188], [40.20556, -123.4908], [40.2287, -81.96845], [40.24354, -84.18491], [40.24786, -81.15179], [40.25597, -82.1334], [40.25622, -111.6068], [40.25679, -90.59952], [40.26059, -81.22332], [40.26494, -83.0556], [40.26639, -123.8692], [40.26705, -111.5986], [40.26821, -105.1821], [40.26916, -88.1033], [40.27488, -81.51749], [40.277, -107.8708], [40.2831, -80.78826], [40.28488, -81.58699], [40.29, -80.585], [40.29771, -80.75612], [40.29929, -79.8944], [40.3, -124.2], [40.30527, -80.93864], [40.30824, -81.24778], [40.3105, -105.812], [40.316, -90.459], [40.32247, -79.16817], [40.3244, -81.99955], [40.33345, -81.26559], [40.33498, -77.85934], [40.33556, -121.9139], [40.33838, -105.5728], [40.34042, -80.64211], [40.34057, -87.47077], [40.34937, -111.6956], [40.35097, -81.99847], [40.35259, -124.0101], [40.357, -79.8765], [40.36207, -81.18504], [40.36462, -82.24197], [40.36831, -81.32809], [40.36887, -80.81801], [40.36957, -80.77387], [40.3725, -80.67828], [40.3752, -91.3883], [40.37726, -75.37814], [40.38335, -87.0796], [40.3857, -111.6992], [40.38609, -82.69884], [40.39103, -80.6937], [40.39956, -94.02478], [40.40192, -81.08803], [40.40611, -81.13733], [40.42, -111.63], [40.4225, -75.06665], [40.42591, -80.6616], [40.42655, -81.25576], [40.42687, -81.2558], [40.43163, -79.58031], [40.43298, -120.7413], [40.4415, -91.4261], [40.4521, -106.6535], [40.45273, -90.79664], [40.45418, -108.5417], [40.45428, -90.78947], [40.45787, -121.8765], [40.45815, -74.77675], [40.46339, -82.82576], [40.465, -124.0], [40.4664, -91.0007], [40.47326, -83.44371], [40.4764, -82.80257], [40.47672, -81.39331], [40.478, -74.4611], [40.4805, -106.7682], [40.4871, -112.1402], [40.48724, -90.19624], [40.4925, -121.8881], [40.4999, -121.9167], [40.5, -109.9], [40.50322, -80.19804], [40.50945, -82.87663], [40.5258, -79.6575], [40.52737, -118.1806], [40.5278, -79.7668], [40.52825, -80.25475], [40.5332, -90.0594], [40.53806, -121.7314], [40.54167, -105.9333], [40.54269, -80.89606], [40.54605, -81.26217], [40.54919, -85.69739], [40.55179, -90.7771], [40.55415, -106.7084], [40.5634, -89.95824], [40.5658, -90.0055], [40.57499, -105.3646], [40.57773, -93.64312], [40.5833, -79.9167], [40.5835, -122.553], [40.58667, -122.3906], [40.5896, -82.82214], [40.59307, -82.14194], [40.59604, -93.77783], [40.59904, -89.88347], [40.59935, -82.23988], [40.60291, -82.16943], [40.60353, -110.8055], [40.60667, -74.84528], [40.60779, -111.6508], [40.60787, -82.26236], [40.60946, -80.3293], [40.61, -89.585], [40.61087, -110.8139], [40.61111, -82.29642], [40.61125, -110.3583], [40.61182, -90.01651], [40.61236, -82.48699], [40.61286, -82.17295], [40.61309, -82.31692], [40.6166, -80.0107], [40.61798, -77.62407], [40.62147, -81.34993], [40.62288, -89.99328], [40.625, -90.3832], [40.62731, -82.12366], [40.6298, -81.5693], [40.63267, -90.28404], [40.63281, -89.99568], [40.63556, -122.7325], [40.63606, -80.53528], [40.64043, -97.13196], [40.64049, -80.90944], [40.64289, -121.8214], [40.6445, -83.6118], [40.65, -110.0], [40.65083, -78.52589], [40.65572, -83.93892], [40.6559, -83.9374], [40.65639, -89.04518], [40.66972, -95.68422], [40.67577, -89.60034], [40.67855, -89.49032], [40.6789, -122.8055], [40.67979, -81.51075], [40.6807, -80.57164], [40.68514, -81.02382], [40.68935, -80.57593], [40.69334, -80.57396], [40.70386, -80.58332], [40.71737, -81.18352], [40.7219, -85.5045], [40.725, -80.616], [40.72943, -80.59236], [40.73206, -80.61996], [40.7333, -122.6667], [40.73412, -84.06565], [40.7343, -81.15622], [40.74065, -81.35575], [40.74451, -81.0758], [40.7446, -74.6215], [40.74705, -82.64864], [40.74765, -85.57069], [40.7485, -123.2718], [40.75, -122.1675], [40.75, -122.1667], [40.75, -109.575], [40.75079, -81.27147], [40.755, -122.33], [40.75872, -81.19895], [40.76345, -75.11044], [40.76533, -80.55217], [40.7729, -122.1024], [40.77545, -74.3516], [40.77789, -81.25768], [40.77972, -80.64831], [40.77988, -110.9325], [40.79166, -105.9583], [40.79362, -81.32337], [40.79438, -81.31219], [40.7974, -122.278], [40.80222, -124.1625], [40.80725, -84.21719], [40.81139, -82.26806], [40.8139, -91.0863], [40.8179, -85.3532], [40.8192, -74.85561], [40.82327, -82.32803], [40.825, -110.825], [40.82546, -88.50196], [40.82944, -89.73378], [40.8333, -122.6417], [40.8348, -93.85965], [40.8365, -89.599], [40.84707, -105.6385], [40.84792, -96.6824], [40.8495, -75.327], [40.85, -123.7], [40.85, -123.55], [40.85035, -82.29486], [40.8557, -82.26972], [40.86765, -109.5143], [40.87496, -80.7291], [40.88, -121.675], [40.8833, -122.2333], [40.8875, -122.3775], [40.89452, -74.79077], [40.8959, -74.2918], [40.9, -111.625], [40.9, -109.75], [40.90177, -81.26729], [40.9119, -90.928], [40.91197, -80.70913], [40.915, -109.725], [40.91689, -111.8038], [40.92128, -111.0837], [40.92276, -82.44401], [40.92344, -80.84042], [40.92895, -80.07216], [40.92911, -121.6156], [40.93552, -74.49518], [40.94083, -123.6283], [40.9427, -74.46155], [40.9452, -90.9009], [40.9474, -90.4429], [40.94825, -80.69776], [40.94997, -80.07443], [40.9575, -74.45995], [40.95818, -80.97507], [40.97015, -78.42314], [40.9744, -111.8189], [40.98073, -90.18332], [40.98333, -122.6986], [40.9847, -86.911], [40.98583, -110.3961], [40.98596, -81.11642], [40.9913, -122.8719], [40.9934, -74.3249], [40.995, -91.75205], [40.99562, -82.38627], [40.99567, -74.78004], [41.00418, -40544270.0], [41.01865, -78.377], [41.01941, -74.57013], [41.02174, -92.73979], [41.02176, -74.53322], [41.02524, -89.45454], [41.02572, -81.77677], [41.03, -82.0101], [41.0312, -123.669], [41.05, -80.50751], [41.05304, -80.51186], [41.05931, -81.3654], [41.06019, -81.79669], [41.06194, -81.36305], [41.062, -86.5945], [41.06499, -81.3741], [41.06648, -81.96419], [41.0672, -82.41861], [41.06939, -82.36591], [41.06945, -74.15562], [41.07374, -80.12229], [41.08335, -74.321], [41.09087, -80.77592], [41.09302, -81.82391], [41.10715, -81.1414], [41.10765, -81.4311], [41.1139, -122.7], [41.11417, -82.07824], [41.11447, -80.14099], [41.115, -75.205], [41.1174, -80.9835], [41.12012, -81.81317], [41.12409, -90.16382], [41.12782, -78.5826], [41.12884, -80.85832], [41.13021, -81.11578], [41.13183, -81.11617], [41.13356, -81.17155], [41.134, -95.88], [41.13498, -74.80315], [41.1445, -74.29085], [41.1462, -80.62124], [41.14652, -74.59959], [41.14896, -83.43667], [41.15384, -81.1124], [41.15845, -81.33134], [41.16, -123.9], [41.16124, -87.58124], [41.16187, -81.37181], [41.16984, -81.64181], [41.17222, -82.34181], [41.17646, -81.32425], [41.17838, -74.52625], [41.18518, -81.03764], [41.2, -110.5], [41.207, -88.01345], [41.21361, -122.2703], [41.21365, -80.26563], [41.21385, -124.0687], [41.21424, -81.5168], [41.2145, -74.5995], [41.22248, -81.91616], [41.2285, -89.3211], [41.23296, -74.11488], [41.2333, -96.42668], [41.23528, -123.6581], [41.23598, -123.292], [41.23638, -81.62379], [41.23739, -81.60576], [41.238, -95.92], [41.23925, -81.62295], [41.25, -123.6667], [41.25, -111.05], [41.25248, -81.60838], [41.2584, -81.56255], [41.2599, -81.1455], [41.26155, -89.03049], [41.2625, -84.38103], [41.26455, -74.1468], [41.27412, -74.64189], [41.27939, -82.21939], [41.28694, -124.0586], [41.28996, -123.056], [41.29077, -88.66103], [41.29247, -83.05098], [41.29453, -74.68758], [41.295, -88.595], [41.29596, -74.68832], [41.29601, -88.60679], [41.29621, -81.5745], [41.29663, -88.60814], [41.29873, -73.73717], [41.30056, -124.0644], [41.30265, -81.30896], [41.30374, -88.95451], [41.30412, -89.9595], [41.30566, -74.6854], [41.31268, -78.39445], [41.31405, -81.38112], [41.31609, -81.56152], [41.31917, -123.1778], [41.3224, -88.92], [41.3235, -81.22745], [41.32501, -75.74288], [41.33, -88.55], [41.33018, -88.53889], [41.3368, -88.562], [41.3382, -85.7037], [41.34404, -78.04547], [41.34693, -88.23882], [41.34728, -84.54476], [41.35208, -81.57021], [41.3657, -123.1317], [41.3675, -92.9008], [41.36755, -80.76735], [41.36935, -73.1512], [41.37861, -123.7481], [41.38084, -73.91649], [41.38199, -81.27506], [41.38274, -82.12263], [41.38609, -72.30142], [41.38622, -72.60558], [41.38695, -71.95564], [41.39803, -81.33974], [41.4065, -76.804], [41.40762, -87.60593], [41.40985, -82.11172], [41.41, -120.6781], [41.41125, -111.5833], [41.4209, -88.706], [41.42178, -72.85863], [41.42364, -82.82491], [41.42396, -88.71103], [41.42579, -80.89096], [41.42741, -88.71402], [41.42806, -122.3839], [41.43135, -111.4988], [41.432, -71.65183], [41.44442, -81.20629], [41.45, -71.5], [41.45833, -122.4306], [41.4596, -71.58906], [41.461, -94.045], [41.47349, -81.3726], [41.47445, -91.74585], [41.47511, -79.3178], [41.4811, -87.5321], [41.48453, -96.01464], [41.48722, -120.5414], [41.48962, -83.06977], [41.49472, -73.36136], [41.49887, -73.59659], [41.49955, -111.6348], [41.5, -111.75], [41.50086, -81.28275], [41.5036, -73.7171], [41.50383, -75.23662], [41.51105, -72.46315], [41.51954, -78.87955], [41.52387, -93.4371], [41.5325, -81.1351], [41.53346, -87.75156], [41.5343, -111.5281], [41.53887, -87.62597], [41.55099, -98.22576], [41.55965, -90.40675], [41.5621, -81.22853], [41.57231, -81.22075], [41.59272, -71.90106], [41.59377, -93.974], [41.59773, -73.64642], [41.6, -90.1], [41.60511, -73.59506], [41.60551, -70.97708], [41.61575, -88.4586], [41.62183, -93.63804], [41.625, -88.4375], [41.63039, -87.86476], [41.63243, -87.76622], [41.63289, -87.79683], [41.6359, -111.6149], [41.65, -123.85], [41.65225, -90.59601], [41.65925, -123.4498], [41.66955, -74.0863], [41.67433, -87.84415], [41.68669, -73.35194], [41.70813, -77.99314], [41.7086, -112.0179], [41.7164, -81.1438], [41.7173, -87.8617], [41.72134, -80.88494], [41.72264, -89.80784], [41.72278, -120.3292], [41.72735, -80.54558], [41.72944, -122.6361], [41.73125, -70.48792], [41.73315, -78.93985], [41.73534, -90.22054], [41.74419, -70.95906], [41.75, -123.35], [41.75611, -124.2006], [41.7584, -90.0795], [41.7627, -87.7714], [41.76292, -91.59415], [41.76392, -90.55585], [41.7655, -77.8768], [41.76702, -80.98022], [41.77945, -85.99374], [41.7798, -89.689], [41.7822, -91.57033], [41.78913, -84.53609], [41.79639, -84.4587], [41.79985, -75.9799], [41.80205, -85.84005], [41.80832, -84.20835], [41.8111, -123.375], [41.81287, -80.95952], [41.81391, -71.74425], [41.81429, -80.84143], [41.81835, -80.93665], [41.81902, -80.58163], [41.82417, -122.9958], [41.82935, -73.15157], [41.8333, -123.1668], [41.83664, -70.89049], [41.84136, -87.83285], [41.845, -122.575], [41.845, -77.7011], [41.84998, -124.1417], [41.85164, -70.95207], [41.85256, -80.96186], [41.85526, -123.8435], [41.8607, -123.793], [41.86395, -89.34285], [41.86425, -73.00099], [41.871, -84.2995], [41.87219, -73.55858], [41.89011, -88.18031], [41.89288, -123.7879], [41.90703, -89.41539], [41.91826, -80.54177], [41.93, -84.35389], [41.94512, -73.87915], [41.95082, -72.99536], [41.9548, -78.65621], [41.9586, -87.8574], [41.96181, -111.5333], [41.96925, -89.38184], [41.972, -83.3595], [41.97226, -78.66863], [41.97341, -73.66616], [41.9773, -84.7802], [41.98067, -71.6568], [41.98645, -123.1749], [42.00356, -73.32587], [42.01496, -71.58914], [42.0152, -94.3677], [42.02106, -123.2725], [42.0288, -86.5153], [42.03477, -93.92304], [42.068, -84.22701], [42.06832, -78.7492], [42.07, -124.3], [42.075, -88.53872], [42.07867, -73.38644], [42.08, -124.3], [42.08179, -72.82665], [42.0833, -123.3333], [42.08354, -73.47686], [42.08363, -71.83971], [42.0837, -75.38025], [42.08845, -122.7465], [42.09091, -71.42092], [42.09224, -123.4043], [42.09785, -77.93121], [42.10072, -112.2149], [42.10722, -94.01338], [42.1174, -75.64853], [42.12302, -72.89154], [42.12363, -122.339], [42.125, -123.2916], [42.12697, -70.97559], [42.1295, -88.1577], [42.1533, -123.5381], [42.1551, -88.2886], [42.15685, -96.34203], [42.15947, -78.82683], [42.15965, -83.55718], [42.16024, -123.6216], [42.16298, -123.6481], [42.17291, -84.10373], [42.17577, -88.09506], [42.17865, -70.75587], [42.1838, -88.30026], [42.1846, -89.022], [42.18476, -88.29926], [42.19, -86.36], [42.20901, -84.53098], [42.21, -89.85], [42.21834, -114.2634], [42.225, -85.6885], [42.22501, -123.75], [42.2356, -123.0137], [42.23576, -94.91264], [42.2375, -83.67], [42.23865, -121.9446], [42.24165, -123.6416], [42.24542, -77.98756], [42.28045, -77.60525], [42.28422, -91.68192], [42.28445, -124.2148], [42.285, -83.59014], [42.30283, -72.53766], [42.30472, -83.60472], [42.3125, -84.7378], [42.323, -85.05965], [42.32359, -72.43863], [42.32724, -76.75318], [42.32921, -75.3811], [42.33473, -77.29253], [42.33531, -90.93558], [42.34607, -36588780.0], [42.34607, -73.16418], [42.354, -123.4034], [42.35635, -111.5212], [42.36176, -75.0116], [42.36639, -83.86097], [42.36689, -73.18228], [42.36945, -121.3866], [42.375, -123.3833], [42.38553, -88.35001], [42.39031, -123.449], [42.39472, -85.60028], [42.4018, -124.426], [42.40489, -76.17366], [42.40611, -83.58], [42.4104, -90.66615], [42.43235, -84.2915], [42.4356, -122.2328], [42.4637, -85.95915], [42.47, -122.275], [42.47356, -96.46025], [42.47806, -93.82007], [42.4829, -110.5979], [42.4914, -110.9967], [42.50817, -96.40213], [42.50969, -90.84215], [42.5149, -111.1241], [42.51519, -87.52243], [42.51633, -91.96428], [42.54334, -71.80123], [42.54346, -77.36516], [42.55576, -96.47562], [42.55997, -90.76557], [42.56379, -74.8865], [42.56805, -123.3322], [42.5893, -103.398], [42.6, -122.475], [42.6153, -77.4028], [42.63678, -73.16617], [42.6425, -124.0255], [42.64809, -72.91994], [42.6688, -71.9023], [42.6766, -94.20245], [42.67993, -77.29334], [42.68505, -84.04025], [42.69657, -103.0044], [42.71425, -103.018], [42.72063, -94.22206], [42.73854, -93.22192], [42.7396, -73.21289], [42.75195, -81.52805], [42.7525, -91.8043], [42.76609, -97.97573], [42.78378, -71.77646], [42.79166, -116.25], [42.82, -124.53], [42.82445, -90.24295], [42.86222, -72.60887], [42.86361, -86.16861], [42.86631, -87.84023], [42.8673, -122.1629], [42.8674, -94.356], [42.87331, -100.5501], [42.9074, -94.3841], [42.95915, -89.6816], [42.9633, -89.66375], [42.97569, -88.44846], [42.9919, -108.9245], [43.0, -124.43], [43.00499, -91.17154], [43.00972, -76.10047], [43.05, -70.93333], [43.06171, -90.1687], [43.0625, -89.3179], [43.078, -91.3867], [43.08929, -122.0802], [43.0949, -74.27923], [43.103, -86.075], [43.1095, -84.9825], [43.11074, -71.35414], [43.13145, -90.2787], [43.13206, -74.47383], [43.153, -85.5995], [43.1546, -75.73906], [43.1573, -90.7109], [43.1575, -88.1255], [43.1635, -73.0723], [43.16815, -123.4911], [43.17215, -92.76577], [43.1786, -124.3688], [43.19481, -92.15997], [43.19501, -78.54224], [43.20335, -122.3759], [43.2045, -70.81187], [43.2073, -123.5585], [43.21, -85.41], [43.2114, -79.5985], [43.21667, -88.31644], [43.22, -85.68], [43.225, -123.175], [43.22649, -78.3253], [43.2265, -78.1946], [43.235, -85.34194], [43.251, -88.3245], [43.2547, -124.0598], [43.265, -84.94099], [43.26699, -88.29105], [43.26806, -82.53083], [43.26886, -78.28014], [43.2696, -77.664], [43.2725, -85.2515], [43.27314, -76.89331], [43.27355, -119.5089], [43.27402, -123.9834], [43.28556, -71.46778], [43.296, -122.5541], [43.3029, -123.1611], [43.30679, -74.15429], [43.31815, -122.1954], [43.32, -73.81], [43.32922, -92.06343], [43.34806, -78.23962], [43.35086, -73.34347], [43.35851, -102.3971], [43.3622, -122.1814], [43.37663, -99.1903], [43.38621, -84.88741], [43.39116, -82.53918], [43.4082, -114.8281], [43.40867, -122.8887], [43.41005, -111.7899], [43.41444, -83.18583], [43.41549, -72.33093], [43.4245, -86.353], [43.425, -88.68], [43.42645, -73.741], [43.43623, -72.43684], [43.4471, -101.7312], [43.45135, -85.12935], [43.45844, -71.07906], [43.46181, -74.23166], [43.4654, -72.7051], [43.47104, -95.12505], [43.48257, -121.9104], [43.5251, -123.311], [43.5345, -86.29], [43.54165, -123.875], [43.55, -86.325], [43.55915, -73.34116], [43.56058, -73.40212], [43.56211, -73.45947], [43.5705, -121.8955], [43.577, -85.293], [43.5883, -122.0833], [43.59611, -84.42722], [43.5975, -84.66833], [43.60667, -85.27652], [43.61015, -111.4418], [43.61538, -123.5036], [43.6165, -122.1], [43.61833, -74.75611], [43.62427, -80.60942], [43.64706, -75.57448], [43.6583, -122.8042], [43.66344, -73.56614], [43.6676, -70.6235], [43.6678, -73.51238], [43.674, -86.4565], [43.6744, -123.2675], [43.689, -86.376], [43.69005, -122.3755], [43.6947, -122.0449], [43.7151, -121.6347], [43.71597, -115.3929], [43.7268, -73.52], [43.74, -84.58583], [43.74251, -121.6009], [43.7667, -123.455], [43.7827, -123.9599], [43.79615, -113.8441], [43.79834, -84.2114], [43.80075, -92.36145], [43.81495, -74.00528], [43.83165, -84.41335], [43.85062, -122.7085], [43.857, -85.30701], [43.85809, -89.81407], [43.85975, -118.8215], [43.8628, -121.8829], [43.86739, -111.8617], [43.87, -84.355], [43.8708, -89.18135], [43.89418, -87.94178], [43.89875, -103.4966], [43.92736, -83.92834], [43.9311, -124.1214], [43.94111, -83.27139], [43.94225, -121.3815], [43.97603, -121.7828], [43.98136, -121.4705], [43.98694, -91.33662], [44.0555, -112.9954], [44.0559, -85.92196], [44.05917, -122.9343], [44.0639, -120.2782], [44.091, -86.42896], [44.0925, -112.455], [44.09462, -123.3724], [44.1028, -77.52356], [44.12, -84.50999], [44.1263, -121.3338], [44.1305, -85.2165], [44.14555, -115.3106], [44.14765, -114.9221], [44.15255, -80.02915], [44.15568, -121.9531], [44.1664, -78.4529], [44.16966, -121.5014], [44.16985, -85.63835], [44.1708, -86.10335], [44.17335, -84.6], [44.1856, -73.8094], [44.19167, -123.975], [44.2045, -442106.6], [44.2055, -83.95399], [44.2157, -121.4755], [44.21694, -103.7742], [44.22388, -73.87529], [44.22671, -86.10172], [44.23861, -122.0505], [44.25028, -114.7503], [44.2548, -112.6467], [44.25533, -85.9222], [44.26646, -74.14589], [44.2725, -83.89001], [44.27795, -121.9524], [44.28265, -115.8714], [44.29188, -84.72922], [44.30352, -80.66389], [44.34035, -84.00156], [44.34113, -70.61507], [44.35978, -115.8596], [44.36434, -84.05358], [44.377, -84.4995], [44.37775, -80.60455], [44.3801, -90.7221], [44.38367, -86.19037], [44.38611, -103.6183], [44.39104, -118.9491], [44.398, -84.4445], [44.4049, -91.3171], [44.40946, -122.1322], [44.41131, -112.2873], [44.4165, -104.1665], [44.41666, -115.5833], [44.41775, -84.5914], [44.41835, -84.40335], [44.42315, -89.7793], [44.42565, -121.726], [44.42654, -83.37971], [44.4308, -89.7715], [44.4355, -84.7602], [44.45584, -109.7935], [44.45835, -85.6667], [44.45853, -116.2853], [44.4625, -121.9683], [44.4723, -90.7167], [44.48134, -109.5113], [44.4887, -85.93575], [44.48875, -83.88607], [44.49427, -83.40396], [44.49817, -109.6824], [44.49817, -109.6429], [44.50132, -110.0042], [44.50455, -123.5524], [44.50587, -85.51546], [44.51436, -85.82096], [44.525, -85.075], [44.5256, -84.06493], [44.53665, -84.16389], [44.5385, -118.5908], [44.53995, -75.63184], [44.55505, -123.3604], [44.56203, -83.45052], [44.56215, -83.78585], [44.565, -83.845], [44.56625, -121.6384], [44.58333, -110.5], [44.58335, -123.4166], [44.58335, -116.0834], [44.59665, -84.0415], [44.5976, -86.09081], [44.61615, -76.4198], [44.62, -83.62335], [44.62185, -75.58825], [44.62801, -115.2019], [44.62845, -85.86292], [44.6335, -121.8165], [44.6375, -83.51418], [44.64535, -85.77714], [44.64824, -115.6803], [44.6543, -90.0411], [44.6616, -122.8494], [44.66399, -73.73606], [44.66666, -85.79052], [44.66862, -116.1155], [44.6693, -123.2433], [44.68, -84.01165], [44.68047, -83.61314], [44.685, -85.433], [44.68557, -118.0891], [44.6908, -69.3614], [44.6925, -76.3948], [44.69867, -87.49564], [44.699, -122.1874], [44.7, -84.71], [44.70596, -76.91354], [44.71466, -85.44922], [44.73109, -86.11156], [44.75, -115.9167], [44.75668, -92.03925], [44.76, -84.12485], [44.76665, -85.00165], [44.7679, -122.095], [44.7751, -118.7717], [44.77658, -76.06987], [44.78159, -68.2283], [44.79307, -122.5674], [44.79969, -71.1794], [44.81678, -76.43772], [44.82167, -84.47611], [44.825, -118.415], [44.83369, -85.72845], [44.83931, -120.5688], [44.8458, -123.5834], [44.8464, -121.1537], [44.8491, -88.51969], [44.85, -116.4], [44.86073, -79.76308], [44.8623, -122.2728], [44.8633, -122.6397], [44.86875, -123.4462], [44.89409, -63.83683], [44.90046, -63.84574], [44.915, -122.585], [44.9166, -116.4873], [44.91666, -116.0833], [44.94835, -84.165], [44.95023, -122.2347], [44.95277, -116.0542], [44.9625, -114.655], [44.9633, -122.4], [44.96651, -123.7718], [44.9723, -118.3692], [44.97487, -122.3057], [44.98276, -83.84937], [44.99745, -122.1647], [44.9979, -122.1631], [45.0, -85.0], [45.0018, -117.2022], [45.01904, -79.1338], [45.02046, -87.73608], [45.02176, -88.5233], [45.0255, -89.02036], [45.0262, -106.8331], [45.0295, -121.9584], [45.03255, -122.4808], [45.03575, -122.7789], [45.04705, -70.99485], [45.0487, -123.5792], [45.04943, -68.63222], [45.05592, -87.63705], [45.05855, -89.08323], [45.0608, -123.694], [45.06215, -123.7027], [45.0635, -83.9205], [45.06881, -123.6956], [45.07072, -123.6664], [45.08334, -115.75], [45.0837, -122.4888], [45.0902, -89.9905], [45.1097, -92.4573], [45.11259, -122.7875], [45.12266, -111.563], [45.12545, -122.533], [45.1365, -83.5175], [45.145, -123.972], [45.14665, -111.0834], [45.1475, -84.425], [45.15, -87.6779], [45.1518, -122.1032], [45.16792, -115.8405], [45.1836, -93.06226], [45.1867, -122.3803], [45.2075, -121.886], [45.22039, -84.21035], [45.22417, -111.125], [45.22849, -89.67523], [45.24006, -121.6794], [45.25725, -121.5684], [45.2704, -113.8186], [45.274, -121.6796], [45.28074, -109.5528], [45.31061, -121.8388], [45.31278, -109.6449], [45.31915, -84.30746], [45.3207, -121.9547], [45.32301, -121.7115], [45.3233, -118.2742], [45.33, -121.9165], [45.33075, -85.23538], [45.33175, -121.9139], [45.33418, -88.16359], [45.33788, -75.98326], [45.33935, -121.3226], [45.351, -83.4885], [45.35665, -84.605], [45.3705, -112.9707], [45.3712, -118.5518], [45.3725, -121.5835], [45.3865, -87.9604], [45.38736, -121.5134], [45.38867, -92.66538], [45.3894, -122.4163], [45.40023, -122.2777], [45.4051, -121.424], [45.40985, -83.85985], [45.4237, -122.3876], [45.43522, -88.12464], [45.43806, -118.0883], [45.44986, -117.7273], [45.45024, -118.3243], [45.4549, -122.1761], [45.46429, -123.0697], [45.46571, -118.875], [45.4684, -122.2487], [45.48204, -122.9903], [45.48318, -118.83], [45.4861, -122.277], [45.4915, -123.2665], [45.49805, -121.8214], [45.5, -118.42], [45.5, -91.71295], [45.50396, -78.90285], [45.5051, -89.16425], [45.5145, -122.3352], [45.5258, -91.87774], [45.534, -77.85804], [45.54478, -121.5449], [45.55364, -122.1884], [45.56326, -88.7829], [45.5666, -121.7745], [45.5775, -121.6444], [45.5789, -118.6016], [45.58858, -91.59938], [45.5891, -123.5469], [45.58982, -118.6131], [45.59669, -123.3768], [45.59864, -123.6113], [45.61308, -123.3973], [45.61331, -110.7897], [45.61785, -78.92731], [45.62778, -122.0194], [45.63061, -92.12408], [45.63092, -90.02283], [45.63606, -123.3471], [45.63893, -122.8889], [45.63921, -121.9883], [45.63923, -121.8735], [45.64585, -88.0896], [45.64867, -88.03413], [45.65125, -121.9123], [45.65532, -78.93061], [45.6605, -118.5654], [45.66194, -122.0144], [45.66721, -118.7056], [45.66722, -110.8069], [45.672, -90.43515], [45.6746, -67.05334], [45.6764, -118.5658], [45.69, -122.3353], [45.69347, -87.74364], [45.69833, -121.7753], [45.70835, -123.625], [45.723, -121.8864], [45.7264, -89.8741], [45.73271, -90.42001], [45.7351, -123.466], [45.737, -76.601], [45.74023, -87.09378], [45.7457, -87.87157], [45.74639, -122.2375], [45.74715, -122.2339], [45.74796, -122.2389], [45.7492, -122.9546], [45.75056, -121.6508], [45.75095, -446665.2], [45.75449, -123.866], [45.75806, -121.2303], [45.75957, -121.6267], [45.76569, -123.3601], [45.77225, -122.3445], [45.7743, -90.51145], [45.775, -90.444], [45.776, -92.683], [45.7811, -122.5322], [45.78177, -90.51659], [45.78247, -87.326], [45.7922, -111.3637], [45.8, -94.27725], [45.80191, -121.9223], [45.80374, -118.0603], [45.8083, -121.9063], [45.81611, -121.5708], [45.82285, -114.0125], [45.82565, -123.296], [45.8331, -122.3985], [45.83632, -121.921], [45.83675, -119.6389], [45.8417, -121.7084], [45.84175, -117.991], [45.85606, -123.1691], [45.8581, -122.4089], [45.8618, -91.75641], [45.86883, -121.4813], [45.87116, -89.66046], [45.87165, -87.02158], [45.88039, -121.1692], [45.8911, -122.4076], [45.89259, -87.04828], [45.89832, -89.6965], [45.90015, -90.43416], [45.90052, -122.3898], [45.91515, -84.87524], [45.91665, -117.925], [45.91694, -121.5825], [45.9216, -121.718], [45.93311, -87.05026], [45.9358, -120.9855], [45.93701, -123.5417], [45.93992, -64.43061], [45.94, -90.46], [45.94002, -121.7582], [45.941, -89.21035], [45.95359, -88.38782], [45.9555, -89.7384], [45.95602, -94.87069], [45.95625, -76.85125], [45.95919, -91.30911], [45.96112, -121.6314], [45.96384, -121.6095], [45.964, -86.1437], [45.9642, -87.3289], [45.96578, -121.7576], [45.9667, -121.6667], [45.9754, -112.4554], [45.9796, -86.0221], [45.98335, -64.4627], [45.99215, -118.0811], [45.99378, -123.9211], [45.9957, -118.1253], [45.9978, -116.9156], [45.99935, -121.4821], [46.01278, -86.81917], [46.01398, -87.98718], [46.01665, -121.6669], [46.01793, -84.72002], [46.01833, -110.3308], [46.0189, -121.7476], [46.02361, -92.88618], [46.02962, -113.1198], [46.03193, -123.4573], [46.03333, -117.9486], [46.03944, -118.0711], [46.0471, -122.8294], [46.04722, -122.1914], [46.0484, -89.66195], [46.05, -121.95], [46.05229, -92.30575], [46.05292, -112.571], [46.05333, -122.6228], [46.0573, -117.9793], [46.06195, -90.0545], [46.06333, -122.1967], [46.06728, -87.15701], [46.0675, -118.0519], [46.0722, -121.3055], [46.0803, -121.7512], [46.08392, -89.91314], [46.08515, -121.7064], [46.09035, -121.9313], [46.09045, -87.48289], [46.0969, -121.9191], [46.10293, -83.47763], [46.10294, -88.45181], [46.1036, -121.7944], [46.10444, -122.015], [46.10445, -91.49319], [46.10861, -122.1283], [46.11887, -122.1931], [46.1333, -121.8], [46.1333, -68.8405], [46.13657, -122.1692], [46.13795, -122.3291], [46.14853, -121.5775], [46.15194, -122.1572], [46.159, -86.611], [46.1675, -89.3381], [46.1725, -121.9305], [46.17861, -122.0514], [46.18694, -113.6925], [46.18968, -85.97613], [46.1903, -123.1175], [46.1911, -123.1875], [46.19183, -86.21193], [46.19328, -167.131], [46.19614, -141.006], [46.19945, -123.9513], [46.20128, -122.9329], [46.21583, -121.9192], [46.2262, -124.0133], [46.23361, -119.3172], [46.24, -111.75], [46.2404, -115.2088], [46.24639, -120.8681], [46.25, -89.5], [46.25961, -91.10812], [46.27583, -122.2083], [46.2803, -88.7751], [46.295, -121.5478], [46.2965, -122.3431], [46.29871, -83.70184], [46.3018, -89.91997], [46.30688, -79.40278], [46.30766, -113.1424], [46.3105, -122.028], [46.3105, -121.9256], [46.3126, -86.5228], [46.31401, -124.0273], [46.3261, -122.4988], [46.32793, -122.4349], [46.33333, -117.6767], [46.3341, -121.7913], [46.33425, -123.5439], [46.33448, -122.0504], [46.34445, -87.3459], [46.34575, -85.95865], [46.35099, -123.6886], [46.35503, -86.97], [46.35639, -123.6081], [46.364, -122.5935], [46.3666, -92.84309], [46.37, -122.82], [46.37165, -84.91665], [46.3725, -92.83521], [46.3751, -122.1301], [46.3758, -122.5855], [46.37944, -117.9458], [46.38448, -122.5572], [46.385, -122.1379], [46.39019, -122.0303], [46.40153, -121.8738], [46.4125, -122.182], [46.4205, -123.8165], [46.42085, -91.2421], [46.43362, -121.8326], [46.44165, -122.3416], [46.46447, -121.5314], [46.47182, -87.42407], [46.4722, -86.5367], [46.47816, -121.9103], [46.48392, -111.2644], [46.48441, -121.936], [46.48508, -122.7372], [46.48917, -117.9592], [46.49139, -122.9367], [46.49406, -122.5319], [46.4984, -120.4474], [46.50105, -122.8722], [46.50385, -95.11484], [46.50511, -122.9316], [46.50835, -123.0235], [46.51122, -121.2719], [46.51479, -122.6361], [46.52352, -122.3045], [46.5244, -88.16701], [46.52485, -121.2957], [46.5252, -113.5911], [46.52545, -87.5034], [46.5256, -122.0252], [46.52889, -85.49639], [46.5347, -122.4275], [46.53686, -122.202], [46.55139, -121.4625], [46.55354, -122.2842], [46.5579, -122.2988], [46.55861, -122.2739], [46.5602, -121.1458], [46.5672, -122.2963], [46.56725, -85.589], [46.56913, -88.28403], [46.59632, -122.5308], [46.59692, -110.6268], [46.59847, -90.90444], [46.60207, -123.3749], [46.60424, -87.46171], [46.61183, -87.73236], [46.61583, -122.4369], [46.621, -121.0638], [46.63153, -123.2349], [46.63477, -122.7746], [46.64191, -122.4607], [46.6425, -91.1713], [46.64558, -121.2323], [46.6622, -122.9627], [46.6711, -121.5863], [46.67111, -121.5863], [46.67197, -94.80162], [46.67389, -121.5867], [46.67816, -121.5763], [46.67915, -90.86665], [46.68102, -121.6014], [46.69303, -92.49979], [46.6979, -121.5094], [46.7002, -122.1983], [46.71, -122.3442], [46.71103, -123.4013], [46.71195, -85.38834], [46.71444, -121.5406], [46.71444, -120.6694], [46.71833, -122.1767], [46.7225, -121.6606], [46.73252, -94.68516], [46.73581, -121.3201], [46.74551, -121.8221], [46.74621, -122.0467], [46.74778, -121.3603], [46.75225, -122.0566], [46.75468, -122.1183], [46.75473, -116.4292], [46.75861, -122.0297], [46.75889, -114.08], [46.75905, -115.8545], [46.75953, -122.0246], [46.76389, -110.7781], [46.76472, -111.8861], [46.766, -122.1652], [46.77641, -121.9557], [46.78149, -93.81888], [46.7818, -123.8793], [46.78571, -122.7515], [46.79165, -110.4165], [46.79955, -122.2738], [46.803, -122.4133], [46.80505, -121.0909], [46.8102, -116.8368], [46.81045, -124.072], [46.81398, -122.0571], [46.82167, -121.2764], [46.82742, -123.7095], [46.83285, -112.702], [46.8434, -123.2383], [46.84565, -122.3076], [46.84748, -122.2719], [46.85, -121.25], [46.85524, -121.3034], [46.86044, -122.7043], [46.86113, -122.2669], [46.87111, -89.31389], [46.87139, -121.2981], [46.8733, -121.3051], [46.878, -122.3574], [46.88234, -122.4331], [46.92417, -92.83774], [46.92694, -124.1736], [46.93333, -121.2692], [46.93335, -113.8334], [46.9363, -122.7607], [46.93755, -123.8358], [46.9382, -122.382], [46.94, -115.586], [46.94102, -123.7727], [46.94445, -122.6893], [46.94913, -122.6869], [46.94917, -122.6869], [46.951, -122.2985], [46.958, -122.6755], [46.96114, -124.1526], [46.96189, -124.1692], [46.96508, -114.0725], [46.96515, -122.69], [46.9705, -123.6288], [46.97441, -122.6317], [46.97694, -113.8381], [46.9782, -123.3893], [46.97822, -116.923], [46.97944, -121.0939], [46.9805, -121.7464], [46.98278, -123.1742], [46.98333, -121.0922], [46.985, -122.7669], [46.98578, -122.6997], [46.98621, -123.8161], [46.988, -123.8647], [46.9974, -122.1694], [46.99857, -121.6321], [47.00008, -121.9563], [47.0019, -121.6279], [47.0033, -123.4822], [47.0044, -122.5386], [47.00444, -122.5386], [47.00625, -123.2902], [47.01139, -123.6619], [47.01278, -121.4642], [47.01562, -122.0282], [47.0183, -121.5344], [47.02242, -116.0518], [47.0228, -121.5497], [47.0274, -122.3003], [47.03189, -122.3677], [47.03222, -114.0906], [47.0413, -124.053], [47.04333, -112.7031], [47.04433, -121.4234], [47.0466, -121.51], [47.05072, -122.4212], [47.05472, -121.8211], [47.05556, -79.72499], [47.0562, -124.0556], [47.0586, -122.2864], [47.06032, -114.0717], [47.06045, -122.157], [47.0615, -116.322], [47.064, -122.3482], [47.0709, -124.166], [47.07405, -122.4428], [47.07444, -111.9625], [47.07954, -112.5649], [47.0849, -122.5926], [47.08824, -123.7194], [47.0945, -122.0874], [47.0958, -122.2356], [47.09685, -121.45], [47.09762, -122.5368], [47.09982, -122.6246], [47.10637, -122.5958], [47.1144, -121.4844], [47.12015, -123.0865], [47.12045, -121.5298], [47.12806, -111.9094], [47.1305, -123.0966], [47.13485, -121.9418], [47.1352, -122.0669], [47.14385, -122.3055], [47.14472, -120.7967], [47.147, -122.6028], [47.15556, -122.4328], [47.1589, -94.83755], [47.1608, -121.6594], [47.16145, -121.8943], [47.172, -122.1625], [47.17295, -122.2214], [47.1772, -122.1852], [47.17833, -111.9744], [47.1787, -122.2484], [47.1826, -121.7713], [47.18556, -122.2917], [47.1862, -122.1054], [47.18806, -120.554], [47.19006, -124.199], [47.1902, -120.9783], [47.19253, -116.0776], [47.19944, -120.2758], [47.1998, -121.7565], [47.20113, -121.0161], [47.2055, -123.3958], [47.21551, -120.9383], [47.2255, -121.805], [47.2293, -123.4898], [47.23194, -122.885], [47.232, -88.16361], [47.2331, -123.9878], [47.23444, -115.6292], [47.23455, -116.7369], [47.2416, -122.1833], [47.2475, -123.8886], [47.25335, -114.45], [47.25722, -120.8908], [47.2637, -120.2238], [47.2641, -123.1583], [47.27147, -93.02428], [47.275, -122.195], [47.27667, -122.8858], [47.28069, -122.8833], [47.2831, -121.9258], [47.2838, -124.2306], [47.2842, -121.0777], [47.28435, -122.8665], [47.288, -121.9658], [47.29435, -123.1267], [47.29833, -120.3], [47.29944, -122.1806], [47.31732, -93.28008], [47.3178, -121.2802], [47.323, -93.9137], [47.32307, -61921560.0], [47.32944, -122.5789], [47.3304, -94.1211], [47.3338, -121.2309], [47.33515, -121.4044], [47.33694, -123.5894], [47.34072, -122.0775], [47.34432, -120.9477], [47.34805, -122.741], [47.35305, -120.2955], [47.3542, -123.2334], [47.3631, -123.9718], [47.3704, -122.782], [47.3724, -122.5819], [47.38115, -78.64526], [47.39, -122.2187], [47.3958, -121.5356], [47.396, -123.1976], [47.3978, -123.2008], [47.3991, -121.1008], [47.39974, -94.41713], [47.40245, -121.5633], [47.4028, -123.2022], [47.40667, -122.0375], [47.41, -121.725], [47.41184, -123.3212], [47.41306, -123.8792], [47.41704, -121.1417], [47.41995, -123.2005], [47.425, -121.4317], [47.425, -121.4142], [47.4259, -123.8763], [47.4284, -92.01759], [47.4317, -121.7731], [47.4352, -121.7812], [47.43534, -121.7666], [47.43842, -94.98708], [47.43904, -115.6545], [47.44, -123.7635], [47.4506, -122.3234], [47.45411, -122.3219], [47.4549, -122.2825], [47.46312, -121.4454], [47.4644, -120.6705], [47.4645, -123.8979], [47.46872, -123.2259], [47.47025, -92.75357], [47.47745, -121.0415], [47.48176, -121.6548], [47.4822, -120.319], [47.48271, -95.05023], [47.485, -121.5287], [47.4914, -94.57375], [47.49367, -123.8859], [47.49488, -121.7555], [47.495, -120.835], [47.49753, -93.61481], [47.49865, -123.2182], [47.5, -93.0], [47.50319, -123.8343], [47.509, -115.9965], [47.5103, -122.0456], [47.51591, -92.6349], [47.5225, -121.7569], [47.52413, -94.88525], [47.52522, -93.25262], [47.5279, -122.3454], [47.52877, -122.7197], [47.5405, -115.947], [47.5505, -117.167], [47.5532, -124.3324], [47.55477, -121.5354], [47.5616, -123.1967], [47.57132, -123.1586], [47.5754, -92.53], [47.57549, -144.0265], [47.57576, -121.7427], [47.57778, -124.2933], [47.5889, -84.68153], [47.5958, -123.1208], [47.6016, -121.6785], [47.60413, -113.7593], [47.6068, -121.9008], [47.6181, -121.3114], [47.61893, -116.2617], [47.61922, -123.1592], [47.61947, -116.9945], [47.62167, -115.3903], [47.62769, -117.3606], [47.63297, -102.7291], [47.64581, -120.607], [47.65885, -93.75745], [47.6597, -122.105], [47.6633, -122.1253], [47.6653, -122.9714], [47.66724, -108.6873], [47.67304, -122.941], [47.6835, -116.211], [47.70178, -121.1859], [47.70667, -104.1922], [47.7079, -122.9179], [47.70965, -116.9266], [47.71167, -121.1544], [47.7117, -121.1544], [47.71188, -101.8886], [47.71782, -123.0533], [47.72142, -124.3985], [47.72298, -120.7219], [47.72964, -102.701], [47.73081, -117.159], [47.7393, -121.9749], [47.74207, -117.5302], [47.74225, -122.5377], [47.7442, -122.8994], [47.74435, -120.7426], [47.74897, -122.4966], [47.75026, -117.5152], [47.75034, -122.1979], [47.7504, -122.535], [47.7613, -122.7063], [47.763, -122.5344], [47.76524, -94.07877], [47.77293, -122.5552], [47.775, -120.715], [47.77559, -120.8206], [47.78212, -122.528], [47.7853, -121.6647], [47.79, -122.54], [47.79111, -122.1914], [47.79222, -121.1958], [47.7925, -122.1676], [47.79538, -120.6295], [47.82243, -124.195], [47.82636, -121.1057], [47.8306, -123.2135], [47.8323, -120.718], [47.83334, -92.92708], [47.83843, -120.55], [47.8465, -122.1357], [47.8498, -120.9591], [47.85001, -116.6079], [47.85556, -121.9697], [47.85691, -120.6502], [47.8573, -121.6352], [47.86028, -123.9364], [47.86405, -121.6738], [47.86697, -123.8796], [47.8764, -95.0168], [47.87725, -121.8943], [47.87965, -91.97748], [47.8895, -121.8134], [47.8901, -121.3676], [47.8925, -122.0111], [47.89745, -122.8345], [47.90079, -121.6692], [47.9093, -118.9505], [47.9237, -122.8531], [47.92528, -117.1153], [47.9261, -123.3769], [47.93722, -123.82], [47.94001, -124.3863], [47.94056, -122.7919], [47.94485, -123.5436], [47.9477, -124.5301], [47.95614, -116.7787], [47.96136, -118.1611], [47.969, -123.582], [47.96905, -116.5499], [47.97205, -121.4008], [47.97637, -117.7324], [47.981, -117.6454], [47.9817, -122.0447], [47.98521, -113.9818], [47.98577, -84.71373], [48.0028, -121.9572], [48.00503, -122.911], [48.02073, -121.3552], [48.02611, -121.6406], [48.0281, -123.5864], [48.03027, -79.94618], [48.03062, -117.5429], [48.03114, -121.6708], [48.03278, -105.8642], [48.03632, -122.9539], [48.04725, -121.4469], [48.05305, -121.429], [48.0607, -90.58915], [48.0715, -91.41945], [48.0744, -121.7915], [48.07834, -121.7363], [48.08025, -123.7108], [48.0835, -121.9683], [48.08955, -123.3678], [48.09725, -122.8241], [48.0985, -123.3261], [48.09853, -121.8135], [48.10255, -122.2763], [48.105, -121.905], [48.10892, -121.5186], [48.11308, -122.1375], [48.1143, -116.0558], [48.11509, -121.9677], [48.11556, -122.0958], [48.11949, -124.5989], [48.1278, -121.7692], [48.13025, -121.851], [48.1316, -92.296], [48.13261, -121.3539], [48.1368, -123.7349], [48.13826, -92.2895], [48.1472, -121.3819], [48.15585, -116.1842], [48.15997, -118.0387], [48.1609, -124.7312], [48.17107, -122.5089], [48.1784, -92.12065], [48.1864, -122.2612], [48.18676, -118.0076], [48.1917, -121.5757], [48.1964, -116.99], [48.19923, -120.7772], [48.19984, -120.7744], [48.21095, -122.0262], [48.21167, -121.6769], [48.22336, -121.5777], [48.22407, -116.8768], [48.247, -122.6916], [48.2475, -121.9425], [48.25206, -116.0969], [48.25422, -101.3166], [48.255, -116.1475], [48.2681, -121.3314], [48.2688, -121.705], [48.27011, -115.6418], [48.27646, -124.6802], [48.27656, -122.2138], [48.2775, -121.8078], [48.2914, -117.4546], [48.308, -122.215], [48.31199, -120.6599], [48.321, -120.0745], [48.32675, -121.6962], [48.32956, -119.187], [48.33, -116.71], [48.35552, -121.8668], [48.35765, -123.3647], [48.36139, -113.1236], [48.36266, -92.04907], [48.36361, -120.1211], [48.36624, -117.9368], [48.36861, -122.2778], [48.3766, -89.30945], [48.37697, -121.8281], [48.3912, -119.7595], [48.39936, -122.645], [48.40611, -118.9844], [48.40859, -119.0709], [48.43505, -121.3455], [48.43676, -116.9137], [48.44425, -119.9417], [48.45359, -116.6339], [48.45809, -120.1611], [48.48157, -122.1845], [48.49398, -117.0579], [48.49805, -116.4171], [48.50999, -120.793], [48.51035, -79.81129], [48.5149, -121.2543], [48.51673, -118.5905], [48.52395, -121.4105], [48.52579, -96.28425], [48.53944, -121.745], [48.56245, -121.8588], [48.56704, -123.6171], [48.57028, -119.8345], [48.57605, -89.2351], [48.57806, -119.6985], [48.57989, -117.5888], [48.58177, -120.8032], [48.59694, -120.5122], [48.60385, -93.47855], [48.6055, -90.44405], [48.60844, -118.4379], [48.60873, -93.33372], [48.61972, -120.1075], [48.6254, -118.4262], [48.6334, -116.934], [48.64056, -121.8053], [48.64185, -120.502], [48.64385, -119.182], [48.65083, -117.3347], [48.65397, -117.3349], [48.65528, -117.7619], [48.6584, -119.8428], [48.66175, -121.3685], [48.66611, -117.4694], [48.68, -113.82], [48.68985, -122.4078], [48.71545, -119.0802], [48.72917, -121.6278], [48.7305, -124.1744], [48.73665, -116.8596], [48.74111, -117.4161], [48.74915, -116.8415], [48.75528, -117.4214], [48.75694, -116.7338], [48.76075, -122.2156], [48.78009, -88.60707], [48.78056, -122.1483], [48.78336, -122.2196], [48.78389, -117.8106], [48.7844, -118.5545], [48.79056, -117.2833], [48.80483, -117.5853], [48.8178, -122.1656], [48.83319, -124.2872], [48.83558, -117.2776], [48.84984, -122.1455], [48.8572, -96.0073], [48.86, -121.6738], [48.86479, -117.3672], [48.87097, -123.9035], [48.90147, -122.3347], [48.9058, -121.6967], [48.9138, -119.7023], [48.92928, -122.2638], [48.9294, -122.0247], [48.92982, -122.2018], [48.93221, -118.609], [48.93228, -121.9995], [48.94655, -119.5423], [48.95835, -119.7084], [48.95876, -118.4102], [48.9588, -119.7085], [48.9651, -120.5949], [49.01115, -114.0243], [49.0489, -123.8713], [49.06165, -121.323], [49.07165, -125.4736], [49.0922, -122.6089], [49.09555, -119.8664], [49.13644, -121.2607], [49.1497, -124.1526], [49.15235, -121.589], [49.16669, -81.00553], [49.16795, -121.6495], [49.175, -121.525], [49.20805, -117.9636], [49.24, -121.94], [49.25, -121.8], [49.2605, -121.85], [49.26528, -125.3675], [49.28569, -117.8504], [49.32014, -121.6064], [49.3402, -121.3177], [49.40276, -94.02934], [49.40372, -121.8461], [49.4068, -122.1171], [49.4085, -124.6929], [49.41289, -116.5133], [49.48486, -122.3269], [49.51069, -123.8562], [49.5298, -124.8627], [49.53, -123.84], [49.53402, -121.3222], [49.5368, -125.1676], [49.54, -123.94], [49.5828, -124.7914], [49.58458, -125.4051], [49.62125, -121.3976], [49.69263, -119.7497], [49.70889, -125.2581], [49.72417, -122.7746], [49.73385, -119.8076], [49.75, -110.13], [49.77521, -92.76801], [49.7905, -100.069], [49.82221, -117.0654], [49.84818, -122.2674], [49.89706, -117.3797], [49.94374, -123.2054], [49.9818, -112.9413], [50.03625, -119.5143], [50.03888, -110.6488], [50.05149, -120.966], [50.06295, -100.8188], [50.07, -95.276], [50.0865, -114.2347], [50.09222, -125.5634], [50.15078, -118.7952], [50.15531, -122.3104], [50.2368, -124.4165], [50.24532, -118.7652], [50.25, -98.03333], [50.29765, -115.5743], [50.35025, -119.2018], [50.3715, -118.8412], [50.4023, -114.4419], [50.42139, -119.0626], [50.46674, -119.5504], [50.47305, -125.8811], [50.50041, -116.1386], [50.55219, -115.0944], [50.5697, -96.17149], [50.57889, -117.8775], [50.58304, -118.188], [50.58378, -118.1976], [50.61847, -119.0812], [50.7, -112.76], [50.7395, -120.1173], [50.80041, -122.1751], [50.81168, -114.7829], [50.83779, -120.0556], [50.84333, -116.0426], [50.85595, -95.41525], [50.8604, -127.735], [50.91725, -100.9129], [50.92345, -95.33125], [50.94152, -121.8785], [50.99847, -121.6101], [51.03149, -114.7982], [51.03202, -115.09], [51.03445, -93.88194], [51.05747, -118.398], [51.20306, -114.7861], [51.26903, -116.1654], [51.3, -116.96], [51.35316, -115.0964], [52.51666, -115.8742], [52.60837, -103.9236], [52.6752, -94.5176], [52.78074, -116.3651], [52.83539, -118.1561], [52.94971, -106.0525], [52.9884, -99.11815], [53.08, -119.665], [53.13605, -117.7728], [53.24, -120.105], [53.53125, -124.2721], [53.53485, -119.2044], [53.59444, -120.4736], [53.62819, -114.1397], [53.687, -101.5205], [53.7312, -105.8799], [53.92005, -113.0987], [53.99, -101.274], [54.23708, -122.0064], [54.245, -97.595], [54.27101, -113.4698], [54.31648, -107.7171], [54.36361, -119.4058], [54.7, -117.18], [54.78464, -127.1616], [54.88394, -112.6921], [55.1872, -132.7982], [55.2035, -132.8202], [55.26332, -114.3957], [55.3, -119.9], [55.404, -119.152], [55.4555, -132.7333], [55.9027, -120.6502], [56.03458, -129.1523], [56.12543, -117.1638], [56.3321, -121.3324], [56.54958, -129.4015], [57.7566, -155.981], [57.81, -69.55], [58.5, -122.5], [59.61, -123.12], [60.36933, -134.4837], [60.69976, -135.1155], [61.0595, -149.7853], [61.09085, -149.7667], [61.5, -142.9], [62.0875, -136.2924], [62.77335, -141.3165], [62.9375, -141.5667], [63.98869, -142.7691], [64.89139, -147.8142]],\n",
       "                {&quot;blur&quot;: 15, &quot;maxZoom&quot;: 10, &quot;minOpacity&quot;: 0.5, &quot;radius&quot;: 7}\n",
       "            );\n",
       "        \n",
       "    \n",
       "            heat_map_5beba47796a2306e7d2ee5505ff90061.addTo(map_fb0658e83543d6004206bcede083057d);\n",
       "        \n",
       "    \n",
       "            map_fb0658e83543d6004206bcede083057d.fitBounds(\n",
       "                [[24.396308, -125.0], [49.384358, -66.93457]],\n",
       "                {}\n",
       "            );\n",
       "        \n",
       "&lt;/script&gt;\n",
       "&lt;/html&gt;\" style=\"position:absolute;width:100%;height:100%;left:0;top:0;border:none !important;\" allowfullscreen webkitallowfullscreen mozallowfullscreen></iframe></div></div>"
      ],
      "text/plain": [
       "<folium.folium.Map at 0x30c7394d0>"
      ]
     },
     "execution_count": 68,
     "metadata": {},
     "output_type": "execute_result"
    }
   ],
   "source": [
    "map = folium.Map(df_loc[['latitude','longitude']].median().values.tolist(), \n",
    "                zoom_start=2)\n",
    "\n",
    "HeatMap(data=df_loc[['latitude','longitude']].groupby([\n",
    "    'latitude','longitude']).sum().reset_index().values.tolist(), \n",
    "        radius=7, max_zoom=10).add_to(map)\n",
    "\n",
    "# zoom to the US\n",
    "map.fit_bounds([[24.396308, -125.0], [49.384358, -66.93457]])\n",
    "\n",
    "map"
   ]
  },
  {
   "cell_type": "code",
   "execution_count": 130,
   "metadata": {},
   "outputs": [
    {
     "data": {
      "text/plain": [
       "'WA'"
      ]
     },
     "execution_count": 130,
     "metadata": {},
     "output_type": "execute_result"
    }
   ],
   "source": [
    "import united_states\n",
    "\n",
    "latitude = 47.6062\n",
    "longitude = -122.3321\n",
    "us = united_states.UnitedStates()\n",
    "state_name = us.from_coords(latitude, longitude)[0]\n",
    "state_name.abbr\n"
   ]
  },
  {
   "cell_type": "code",
   "execution_count": 147,
   "metadata": {},
   "outputs": [
    {
     "name": "stderr",
     "output_type": "stream",
     "text": [
      "/opt/anaconda3/envs/conda311/lib/python3.11/site-packages/united_states/geometry.py:57: RuntimeWarning: invalid value encountered in scalar multiply\n",
      "  left = (by - ay) * (cx - bx)\n",
      "/opt/anaconda3/envs/conda311/lib/python3.11/site-packages/united_states/geometry.py:58: RuntimeWarning: invalid value encountered in scalar multiply\n",
      "  right = (bx - ax) * (cy - by)\n",
      "/opt/anaconda3/envs/conda311/lib/python3.11/site-packages/united_states/geometry.py:57: RuntimeWarning: invalid value encountered in scalar multiply\n",
      "  left = (by - ay) * (cx - bx)\n",
      "/opt/anaconda3/envs/conda311/lib/python3.11/site-packages/united_states/geometry.py:58: RuntimeWarning: invalid value encountered in scalar multiply\n",
      "  right = (bx - ax) * (cy - by)\n"
     ]
    }
   ],
   "source": [
    "for i in range(0,len(df_loc)):\n",
    "    latitude = df_loc.iloc[i]['latitude']\n",
    "    longitude = df_loc.iloc[i]['longitude']\n",
    "    try:\n",
    "        state_name = us.from_coords(latitude, longitude)[0]\n",
    "        df_loc.at[i, 'state'] = state_name.abbr\n",
    "    except:\n",
    "        df_loc.at[i, 'state'] = 'Not in US'"
   ]
  },
  {
   "cell_type": "code",
   "execution_count": 179,
   "metadata": {},
   "outputs": [
    {
     "name": "stderr",
     "output_type": "stream",
     "text": [
      "/var/folders/rg/4zbmxsb52b3_t75jmnsfr4vm0000gn/T/ipykernel_42558/4266042737.py:1: SettingWithCopyWarning: \n",
      "A value is trying to be set on a copy of a slice from a DataFrame\n",
      "\n",
      "See the caveats in the documentation: https://pandas.pydata.org/pandas-docs/stable/user_guide/indexing.html#returning-a-view-versus-a-copy\n",
      "  df_loc.dropna(subset=['state', 'longitude', 'latitude'], inplace=True)\n"
     ]
    },
    {
     "data": {
      "text/plain": [
       "array(['AK', 'AL', 'GA', 'AR', 'AZ', 'CA', 'NY', 'CO', 'CT', 'FL', 'IA',\n",
       "       'ID', 'IL', 'IN', 'KY', 'KS', 'MO', 'WV', 'LA', 'MA', 'MD', 'ME',\n",
       "       'MI', 'MN', 'TN', 'MS', 'MT', 'NC', 'SC', 'ND', 'NE', 'NH', 'NJ',\n",
       "       'NM', 'NV', 'OH', 'PA', 'OK', 'OR', 'WA', 'RI', 'VA', 'SD', 'TX',\n",
       "       'UT', 'VT', 'WI', 'WY', 'DE'], dtype=object)"
      ]
     },
     "execution_count": 179,
     "metadata": {},
     "output_type": "execute_result"
    }
   ],
   "source": [
    "df_loc.dropna(subset=['state', 'longitude', 'latitude'], inplace=True)\n",
    "# Drop the rows where the state is not in the US\n",
    "df_loc = df_loc[df_loc['state'] != 'Not in US']\n",
    "df_loc['state'].unique()"
   ]
  },
  {
   "cell_type": "code",
   "execution_count": 180,
   "metadata": {},
   "outputs": [
    {
     "data": {
      "text/html": [
       "<div style=\"width:100%;\"><div style=\"position:relative;width:100%;height:0;padding-bottom:60%;\"><span style=\"color:#565656\">Make this Notebook Trusted to load map: File -> Trust Notebook</span><iframe srcdoc=\"&lt;!DOCTYPE html&gt;\n",
       "&lt;html&gt;\n",
       "&lt;head&gt;\n",
       "    \n",
       "    &lt;meta http-equiv=&quot;content-type&quot; content=&quot;text/html; charset=UTF-8&quot; /&gt;\n",
       "    \n",
       "        &lt;script&gt;\n",
       "            L_NO_TOUCH = false;\n",
       "            L_DISABLE_3D = false;\n",
       "        &lt;/script&gt;\n",
       "    \n",
       "    &lt;style&gt;html, body {width: 100%;height: 100%;margin: 0;padding: 0;}&lt;/style&gt;\n",
       "    &lt;style&gt;#map {position:absolute;top:0;bottom:0;right:0;left:0;}&lt;/style&gt;\n",
       "    &lt;script src=&quot;https://cdn.jsdelivr.net/npm/leaflet@1.9.3/dist/leaflet.js&quot;&gt;&lt;/script&gt;\n",
       "    &lt;script src=&quot;https://code.jquery.com/jquery-3.7.1.min.js&quot;&gt;&lt;/script&gt;\n",
       "    &lt;script src=&quot;https://cdn.jsdelivr.net/npm/bootstrap@5.2.2/dist/js/bootstrap.bundle.min.js&quot;&gt;&lt;/script&gt;\n",
       "    &lt;script src=&quot;https://cdnjs.cloudflare.com/ajax/libs/Leaflet.awesome-markers/2.0.2/leaflet.awesome-markers.js&quot;&gt;&lt;/script&gt;\n",
       "    &lt;link rel=&quot;stylesheet&quot; href=&quot;https://cdn.jsdelivr.net/npm/leaflet@1.9.3/dist/leaflet.css&quot;/&gt;\n",
       "    &lt;link rel=&quot;stylesheet&quot; href=&quot;https://cdn.jsdelivr.net/npm/bootstrap@5.2.2/dist/css/bootstrap.min.css&quot;/&gt;\n",
       "    &lt;link rel=&quot;stylesheet&quot; href=&quot;https://netdna.bootstrapcdn.com/bootstrap/3.0.0/css/bootstrap.min.css&quot;/&gt;\n",
       "    &lt;link rel=&quot;stylesheet&quot; href=&quot;https://cdn.jsdelivr.net/npm/@fortawesome/fontawesome-free@6.2.0/css/all.min.css&quot;/&gt;\n",
       "    &lt;link rel=&quot;stylesheet&quot; href=&quot;https://cdnjs.cloudflare.com/ajax/libs/Leaflet.awesome-markers/2.0.2/leaflet.awesome-markers.css&quot;/&gt;\n",
       "    &lt;link rel=&quot;stylesheet&quot; href=&quot;https://cdn.jsdelivr.net/gh/python-visualization/folium/folium/templates/leaflet.awesome.rotate.min.css&quot;/&gt;\n",
       "    \n",
       "            &lt;meta name=&quot;viewport&quot; content=&quot;width=device-width,\n",
       "                initial-scale=1.0, maximum-scale=1.0, user-scalable=no&quot; /&gt;\n",
       "            &lt;style&gt;\n",
       "                #map_aebc933d2cd0f7155bb67c191939aa93 {\n",
       "                    position: relative;\n",
       "                    width: 100.0%;\n",
       "                    height: 100.0%;\n",
       "                    left: 0.0%;\n",
       "                    top: 0.0%;\n",
       "                }\n",
       "                .leaflet-container { font-size: 1rem; }\n",
       "            &lt;/style&gt;\n",
       "        \n",
       "    &lt;script src=&quot;https://cdn.jsdelivr.net/gh/python-visualization/folium@main/folium/templates/leaflet_heat.min.js&quot;&gt;&lt;/script&gt;\n",
       "&lt;/head&gt;\n",
       "&lt;body&gt;\n",
       "    \n",
       "    \n",
       "            &lt;div class=&quot;folium-map&quot; id=&quot;map_aebc933d2cd0f7155bb67c191939aa93&quot; &gt;&lt;/div&gt;\n",
       "        \n",
       "&lt;/body&gt;\n",
       "&lt;script&gt;\n",
       "    \n",
       "    \n",
       "            var map_aebc933d2cd0f7155bb67c191939aa93 = L.map(\n",
       "                &quot;map_aebc933d2cd0f7155bb67c191939aa93&quot;,\n",
       "                {\n",
       "                    center: [39.30253, -91.824485],\n",
       "                    crs: L.CRS.EPSG3857,\n",
       "                    zoom: 4,\n",
       "                    zoomControl: true,\n",
       "                    preferCanvas: false,\n",
       "                }\n",
       "            );\n",
       "\n",
       "            \n",
       "\n",
       "        \n",
       "    \n",
       "            var tile_layer_73377d0116e68c66fecc899ae5ff024e = L.tileLayer(\n",
       "                &quot;https://tile.openstreetmap.org/{z}/{x}/{y}.png&quot;,\n",
       "                {&quot;attribution&quot;: &quot;\\u0026copy; \\u003ca href=\\&quot;https://www.openstreetmap.org/copyright\\&quot;\\u003eOpenStreetMap\\u003c/a\\u003e contributors&quot;, &quot;detectRetina&quot;: false, &quot;maxNativeZoom&quot;: 19, &quot;maxZoom&quot;: 19, &quot;minZoom&quot;: 0, &quot;noWrap&quot;: false, &quot;opacity&quot;: 1, &quot;subdomains&quot;: &quot;abc&quot;, &quot;tms&quot;: false}\n",
       "            );\n",
       "        \n",
       "    \n",
       "            tile_layer_73377d0116e68c66fecc899ae5ff024e.addTo(map_aebc933d2cd0f7155bb67c191939aa93);\n",
       "        \n",
       "    \n",
       "            var heat_map_8da1b3ff5ec443b5df0ef14ebdbc2a5c = L.heatLayer(\n",
       "                [[25.141, -80.926], [25.19935, -80.87379], [25.39544, -80.59502], [25.4817, -80.5158], [25.51665, -80.43689], [25.54494, -80.47805], [25.73951, -80.48021], [25.76119, -80.58182], [25.782, -81.07385], [25.84875, -81.3142], [25.86895, -81.1498], [25.889, -81.3215], [25.8972, -81.3065], [25.901, -81.303], [25.91695, -81.29691], [25.927, -81.33], [25.953, -81.356], [25.95574, -81.48598], [26.0079, -81.22285], [26.01535, -81.0651], [26.03808, -81.64948], [26.05091, -80.29457], [26.0645, -81.3615], [26.06885, -80.8368], [26.08285, -80.21025], [26.09729, -81.71505], [26.15915, -81.76041], [26.1699, -80.98849], [26.18326, -81.24751], [26.1875, -81.69245], [26.27395, -80.1937], [26.283, -81.2521], [26.28516, -80.27977], [26.28585, -80.17845], [26.529, -81.6455], [26.5931, -80.21295], [26.59885, -81.8708], [26.61979, -80.60976], [26.6685, -81.8768], [26.67822, -81.81697], [26.6878, -81.6143], [26.7621, -81.8539], [26.80829, -80.16933], [26.83656, -80.18501], [26.85451, -81.71583], [26.91319, -80.48412], [26.91675, -81.96517], [26.9745, -82.1475], [26.9807, -80.31353], [27.00061, -82.39019], [27.0047, -82.0332], [27.0099, -80.13215], [27.01091, -80.10344], [27.07842, -81.99105], [27.099, -82.454], [27.10589, -82.30699], [27.1788, -82.20475], [27.19995, -81.98468], [27.28518, -82.46557], [27.34928, -81.03941], [27.35273, -82.22301], [27.35644, -80.96515], [27.37341, -81.35876], [27.3973, -80.8044], [27.40743, -82.12901], [27.445, -82.391], [27.45883, -80.79379], [27.66726, -82.43094], [27.7068, -82.45165], [27.7752, -81.9755], [27.78042, -80.55011], [27.84434, -81.30249], [27.8565, -81.8995], [27.89469, -81.9742], [27.9013, -81.58581], [27.928, -82.124], [27.93531, -81.87347], [27.93991, -81.67247], [27.9664, -81.95285], [27.97255, -81.12476], [27.99245, -81.19445], [28.00845, -81.93871], [28.021, -81.8642], [28.043, -82.438], [28.05144, -81.51359], [28.09538, -82.74918], [28.11468, -81.35342], [28.12479, -82.23728], [28.12565, -81.02086], [28.13136, -81.00677], [28.1382, -81.0621], [28.14162, -82.3948], [28.14617, -82.24487], [28.19899, -82.76431], [28.20249, -81.45163], [28.20954, -80.83882], [28.21492, -82.4524], [28.252, -82.44749], [28.29324, -82.35606], [28.29425, -82.71758], [28.31193, -80.7217], [28.3609, -80.93504], [28.36168, -82.11937], [28.3725, -80.8595], [28.3836, -82.6053], [28.40593, -81.5547], [28.41655, -82.1426], [28.42146, -81.23721], [28.44926, -81.95577], [28.45247, -81.01299], [28.45786, -82.04508], [28.48106, -81.11927], [28.48899, -80.84716], [28.50566, -81.97483], [28.50665, -82.50591], [28.525, -81.95499], [28.54028, -82.11083], [28.54205, -81.20045], [28.54293, -80.94411], [28.5465, -81.5545], [28.55359, -82.63696], [28.555, -82.055], [28.56308, -81.03185], [28.5716, -82.52655], [28.62323, -81.12898], [28.63434, -81.14076], [28.662, -81.31985], [28.6901, -81.5446], [28.69205, -81.7089], [28.725, -97.06667], [28.76465, -82.42065], [28.775, -81.6965], [28.78028, -81.90477], [28.78812, -82.40295], [28.8, -96.04472], [28.80455, -81.45354], [28.84542, -82.20726], [28.85025, -80.93919], [28.8555, -81.306], [28.85982, -81.48534], [28.86151, -81.7757], [28.90854, -82.34611], [28.91605, -81.32394], [28.917, -81.898], [28.93312, -80.84301], [28.94296, -81.97549], [28.96416, -81.21989], [28.966, -81.649], [28.97672, -81.23386], [28.97944, -96.01666], [28.98195, -80.86715], [28.98491, -81.43248], [28.9935, -80.933], [28.99487, -81.78879], [28.99496, -81.59869], [29.0, -95.5], [29.00086, -81.64167], [29.01175, -82.03495], [29.02611, -96.71], [29.04865, -81.4692], [29.05872, -81.4819], [29.0599, -82.05835], [29.0765, -81.8945], [29.07655, -81.9055], [29.07718, -82.74918], [29.08405, -81.59005], [29.098, -82.42], [29.1039, -82.3722], [29.10635, -81.62275], [29.10855, -82.75685], [29.12915, -81.63025], [29.1299, -82.58765], [29.16722, -82.01917], [29.17805, -96.29222], [29.1795, -82.0435], [29.191, -82.6505], [29.19395, -81.9233], [29.1951, -81.90875], [29.22079, -81.80539], [29.23723, -83.00198], [29.24665, -100.4104], [29.26258, -98.56143], [29.27043, -81.69337], [29.28942, -82.92592], [29.28971, -81.52609], [29.29063, -81.08198], [29.30877, -97.47971], [29.3143, -81.7268], [29.32605, -82.61581], [29.32862, -97.77225], [29.33246, -81.12292], [29.3396, -81.0834], [29.36953, -81.86789], [29.38333, -96.25], [29.385, -97.81083], [29.39384, -82.44225], [29.4076, -81.12167], [29.4179, -82.55556], [29.41889, -81.13924], [29.42016, -82.82335], [29.43465, -81.80878], [29.4694, -82.71979], [29.47035, -81.1273], [29.47368, -82.6783], [29.47529, -81.78307], [29.49577, -81.74579], [29.52533, -98.15854], [29.5385, -90.593], [29.56835, -98.68465], [29.56871, -82.05391], [29.57444, -98.03083], [29.58358, -82.33316], [29.591, -82.929], [29.6699, -82.98365], [29.67757, -82.35501], [29.7351, -81.96195], [29.74815, -82.44075], [29.77291, -81.8592], [29.77295, -81.68295], [29.77535, -82.3657], [29.7788, -81.45421], [29.79893, -98.15556], [29.83863, -81.2299], [29.8398, -85.0681], [29.85375, -81.3456], [29.88528, -94.83334], [29.93629, -85.3948], [29.94011, -81.91354], [29.94974, -82.15501], [29.95301, -82.0125], [29.96828, -81.4048], [29.97454, -81.55172], [29.97917, -81.85223], [29.98085, -81.80005], [30.01667, -94.85], [30.03042, -81.90182], [30.0326, -83.52959], [30.03432, -81.90216], [30.0461, -81.9347], [30.05287, -81.82794], [30.05705, -81.75165], [30.069, -81.771], [30.07067, -82.38086], [30.0771, -81.39806], [30.0809, -81.7624], [30.08333, -94.86667], [30.08341, -85.11039], [30.08748, -81.85762], [30.10139, -81.88324], [30.10305, -94.82], [30.10386, -81.89565], [30.10534, -81.89438], [30.10851, -81.89905], [30.11584, -81.94118], [30.11597, -83.89289], [30.12615, -93.8117], [30.13156, -82.96643], [30.14378, -95.47556], [30.1766, -85.8055], [30.1878, -90.8493], [30.19144, -94.32404], [30.2333, -81.52915], [30.23333, -95.60834], [30.23693, -81.54172], [30.2386, -84.7025], [30.2464, -89.6111], [30.25389, -81.8992], [30.2576, -92.6221], [30.2637, -81.49433], [30.26667, -94.85], [30.26682, -82.87125], [30.26861, -94.79333], [30.2809, -81.83705], [30.28881, -85.64108], [30.302, -95.10654], [30.3115, -95.3175], [30.3125, -82.879], [30.31363, -95.17966], [30.31667, -95.32], [30.31709, -82.8436], [30.31786, -87.64934], [30.32305, -85.4427], [30.33333, -96.55], [30.3343, -95.28653], [30.33778, -93.97194], [30.36186, -81.41444], [30.37369, -83.1736], [30.38345, -88.72985], [30.38667, -98.08611], [30.40335, -97.2836], [30.405, -95.36166], [30.40785, -83.96767], [30.40833, -95.00833], [30.41667, -94.86667], [30.41667, -93.94], [30.43412, -82.28943], [30.43444, -93.89], [30.43703, -95.12381], [30.4544, -81.4189], [30.46, -95.13], [30.4664, -85.6316], [30.46805, -85.4937], [30.46825, -89.6918], [30.475, -95.09167], [30.47612, -88.34223], [30.4836, -84.20835], [30.49905, -91.01565], [30.509, -90.6763], [30.51295, -86.5065], [30.51559, -97.67403], [30.52361, -95.58334], [30.525, -96.59167], [30.52694, -95.71278], [30.52897, -95.72607], [30.54079, -84.91096], [30.54366, -95.77908], [30.55, -95.12305], [30.55044, -83.48494], [30.55738, -96.42506], [30.566, -100.545], [30.56775, -86.6913], [30.587, -84.583], [30.5931, -83.41369], [30.59612, -83.649], [30.6, -95.63], [30.6098, -86.4945], [30.61667, -95.52722], [30.62555, -86.54302], [30.63333, -95.3], [30.6645, -84.60745], [30.66986, -94.66653], [30.67, -83.412], [30.68441, -86.55637], [30.6966, -86.7513], [30.71004, -82.0443], [30.7113, -87.91833], [30.71139, -94.70139], [30.71139, -94.58], [30.7114, -94.04529], [30.71362, -85.20786], [30.71482, -86.63961], [30.72028, -93.61667], [30.73861, -94.89778], [30.74715, -91.76733], [30.75, -95.37666], [30.75, -86.65], [30.7599, -85.76891], [30.76667, -93.68333], [30.775, -94.41528], [30.77532, -97.93719], [30.77722, -103.7439], [30.79, -85.685], [30.79456, -84.78122], [30.8, -93.7], [30.812, -95.75645], [30.83105, -82.6386], [30.83315, -93.972], [30.8346, -92.64896], [30.84015, -86.9648], [30.85052, -89.81163], [30.8724, -85.217], [30.90529, -86.68372], [30.95972, -95.58334], [30.96745, -91.0955], [30.9725, -87.265], [30.97675, -89.0338], [30.9854, -85.95136], [30.98555, -85.6489], [30.9905, -87.1814], [30.993, -85.97701], [31.00002, -86.99782], [31.00009, -87.00008], [31.0232, -94.47903], [31.05591, -94.20776], [31.0614, -83.07575], [31.06278, -102.3881], [31.08012, -83.16414], [31.08774, -91.84467], [31.08925, -81.41267], [31.11611, -98.055], [31.13586, -87.06486], [31.1375, -92.4976], [31.14195, -93.2952], [31.1458, -93.2512], [31.16, -87.09069], [31.1603, -90.71574], [31.1659, -94.1679], [31.1683, -95.59745], [31.17384, -83.26071], [31.18523, -95.89323], [31.18562, -83.66153], [31.20325, -87.5047], [31.2137, -82.77173], [31.22333, -94.96611], [31.23374, -85.21574], [31.2371, -94.45095], [31.24305, -88.31126], [31.2439, -82.1341], [31.24842, -83.13654], [31.25385, -88.26291], [31.27278, -102.6922], [31.29, -86.255], [31.30062, -84.02254], [31.30503, -85.61766], [31.3058, -92.4054], [31.30853, -94.76362], [31.30952, -82.74675], [31.33333, -94.33334], [31.34781, -86.54527], [31.35, -85.7075], [31.35289, -83.08486], [31.35833, -95.48833], [31.368, -92.422], [31.37756, -97.59946], [31.3799, -92.37835], [31.3904, -92.3495], [31.39275, -91.08505], [31.40304, -92.46844], [31.40444, -95.70861], [31.41787, -92.28034], [31.43265, -84.1293], [31.44815, -100.4219], [31.4515, -88.08305], [31.45417, -100.4161], [31.46641, -81.64665], [31.4676, -92.2508], [31.4771, -98.53998], [31.4871, -92.3309], [31.50773, -95.20691], [31.53475, -85.7944], [31.55668, -95.38226], [31.55762, -81.47213], [31.56, -93.87194], [31.58255, -87.96095], [31.5831, -93.50845], [31.60641, -93.4991], [31.6212, -95.6669], [31.62608, -84.16016], [31.63, -110.177], [31.6498, -93.0887], [31.651, -85.19265], [31.6825, -92.3104], [31.71434, -84.60457], [31.78333, -95.68333], [31.809, -87.56807], [31.82345, -81.73075], [31.82347, -95.37101], [31.84167, -100.5167], [31.85, -85.925], [31.85605, -83.57655], [31.86794, -94.95061], [31.86801, -85.35995], [31.87333, -96.2], [31.87791, -94.89986], [31.8792, -81.88475], [31.90791, -95.01264], [31.91708, -94.63458], [31.93425, -96.12524], [31.9621, -81.88995], [31.98125, -80.89485], [31.9853, -81.61756], [31.99, -87.29], [31.99003, -110.1835], [32.01083, -94.14306], [32.0131, -91.14448], [32.01667, -94.68333], [32.0199, -92.914], [32.0321, -84.43484], [32.036, -88.77015], [32.0391, -81.436], [32.04361, -94.37444], [32.04417, -98.09234], [32.0538, -85.0409], [32.05806, -94.2], [32.09515, -88.68893], [32.1, -94.20695], [32.13781, -81.34159], [32.13972, -95.32], [32.15, -97.52499], [32.15, -97.5], [32.16139, -95.6], [32.17194, -97.54944], [32.1806, -88.864], [32.18333, -95.21667], [32.184, -86.581], [32.19202, -95.35257], [32.24083, -101.3903], [32.24271, -95.12872], [32.2462, -84.08932], [32.26889, -96.69583], [32.2714, -88.7496], [32.27444, -94.965], [32.28944, -94.86833], [32.29968, -80.95958], [32.30673, -87.24547], [32.30676, -83.16122], [32.31255, -88.65135], [32.31435, -85.16235], [32.31565, -95.48672], [32.33528, -94.7375], [32.3372, -88.74805], [32.34705, -82.2464], [32.35306, -94.90528], [32.36, -96.66], [32.375, -98.68], [32.375, -96.63], [32.38575, -82.24886], [32.39858, -82.30919], [32.40191, -90.19371], [32.4125, -94.81806], [32.4197, -93.4386], [32.42445, -109.5601], [32.43, -85.705], [32.4456, -86.5653], [32.45763, -93.36627], [32.475, -97.815], [32.48322, -86.37698], [32.51556, -95.41817], [32.51667, -94.9], [32.5175, -96.80417], [32.53333, -98.05], [32.57306, -95.80556], [32.5754, -81.78378], [32.58125, -94.86958], [32.58333, -94.15], [32.6218, -85.4258], [32.62194, -94.2], [32.62389, -94.52], [32.64, -97.84], [32.65, -110.175], [32.65, -94.37361], [32.66908, -98.03284], [32.675, -97.61], [32.675, -97.025], [32.67715, -85.21545], [32.68, -94.3], [32.6825, -85.2222], [32.68945, -94.59222], [32.69028, -95.61056], [32.7, -98.03333], [32.70631, -109.9134], [32.7071, -109.9643], [32.70722, -109.9648], [32.71528, -117.1564], [32.74985, -82.24796], [32.75, -97.75], [32.755, -98.0], [32.76967, -86.4891], [32.7817, -93.9467], [32.78611, -97.83334], [32.79338, -94.69412], [32.7943, -95.5425], [32.8, -94.16666], [32.8057, -92.40895], [32.80865, -84.25755], [32.81075, -116.4208], [32.815, -109.675], [32.817, -98.34489], [32.825, -80.559], [32.8269, -98.3298], [32.83333, -98.38333], [32.84, -97.445], [32.85, -98.375], [32.85232, -95.46671], [32.86288, -83.55708], [32.895, -93.45], [32.9, -94.6], [32.9032, -80.65645], [32.91874, -85.9793], [32.94722, -96.10222], [32.95, -112.73], [32.96854, -85.02602], [32.98597, -81.61264], [33.00014, -86.00004], [33.007, -80.156], [33.01, -94.44], [33.03333, -94.72334], [33.03662, -116.5645], [33.04, -97.18], [33.04536, -80.45451], [33.05685, -94.52925], [33.07639, -94.25694], [33.09184, -83.69681], [33.0932, -79.8102], [33.096, -80.316], [33.09625, -94.32139], [33.1, -86.86], [33.1075, -92.33472], [33.10925, -89.59135], [33.12572, -85.49103], [33.13, -88.14999], [33.13195, -88.17885], [33.13333, -98.35], [33.14663, -92.61493], [33.14759, -93.89135], [33.15405, -105.7947], [33.16972, -99.18778], [33.17162, -94.14799], [33.18528, -94.25556], [33.18639, -93.9475], [33.19944, -96.00306], [33.2, -98.4], [33.2, -96.17], [33.20837, -87.28992], [33.211, -94.0765], [33.21145, -87.35664], [33.24084, -85.7894], [33.245, -81.359], [33.24722, -95.77], [33.25, -97.05], [33.25, -95.84], [33.2516, -105.7197], [33.26035, -87.31821], [33.26222, -95.82056], [33.26462, -92.64066], [33.26666, -93.886], [33.2675, -116.8625], [33.26855, -91.22115], [33.26885, -85.12705], [33.2706, -84.73555], [33.27094, -105.7338], [33.27303, -97.03784], [33.275, -98.325], [33.27735, -105.7395], [33.2784, -94.12258], [33.28333, -94.35722], [33.28375, -87.32655], [33.29083, -97.8375], [33.32237, -116.8782], [33.32442, -84.2532], [33.33, -95.54278], [33.33171, -93.98622], [33.33614, -97.02299], [33.34139, -95.24917], [33.34677, -83.90588], [33.35, -85.625], [33.36305, -86.17122], [33.3646, -82.24471], [33.3674, -86.64066], [33.36867, -95.23958], [33.37095, -87.6942], [33.37111, -84.508], [33.375, -98.3], [33.3785, -112.6432], [33.37917, -94.11611], [33.387, -94.036], [33.40425, -91.48295], [33.4119, -82.13665], [33.41574, -88.12475], [33.445, -96.05], [33.45278, -101.5361], [33.46333, -95.8775], [33.46345, -85.87055], [33.46372, -83.61285], [33.48, -95.76861], [33.48028, -97.04361], [33.48295, -84.7681], [33.48665, -85.8175], [33.49565, -84.5317], [33.4996, -84.5422], [33.50025, -88.40335], [33.5155, -78.3829], [33.5388, -84.869], [33.55153, -86.98473], [33.56555, -90.8022], [33.59, -96.27306], [33.59, -86.5], [33.61666, -95.90694], [33.6205, -86.4664], [33.62167, -100.8361], [33.6247, -109.3191], [33.6332, -86.2952], [33.64341, -85.41961], [33.64555, -95.16028], [33.66554, -93.56799], [33.66666, -95.27361], [33.66675, -116.7], [33.67056, -95.06667], [33.675, -98.225], [33.69, -96.84806], [33.70037, -84.53352], [33.7065, -85.57415], [33.71472, -96.78917], [33.72, -78.9211], [33.75556, -96.53], [33.7655, -116.7078], [33.76986, -94.3643], [33.77528, -97.05903], [33.79094, -95.92831], [33.796, -84.79601], [33.7985, -91.27056], [33.80785, -84.78979], [33.81029, -84.97515], [33.81283, -84.80283], [33.8132, -86.7891], [33.81435, -96.76199], [33.81461, -85.15337], [33.81678, -116.6329], [33.81861, -96.96333], [33.81871, -85.10207], [33.82083, -95.83639], [33.82111, -92.03389], [33.82162, -85.48985], [33.82444, -97.07361], [33.825, -110.925], [33.825, -96.6075], [33.82722, -95.62861], [33.82819, -106.9285], [33.845, -95.19722], [33.85, -111.69], [33.88861, -93.20389], [33.89236, -87.3775], [33.89444, -96.75361], [33.8957, -87.53395], [33.89761, -82.4975], [33.89833, -86.84557], [33.9, -109.355], [33.91604, -85.01929], [33.94073, -94.09966], [33.94175, -86.17965], [33.94979, -84.82338], [33.95002, -116.5333], [33.95003, -85.35133], [33.97005, -84.20175], [33.97575, -87.45876], [33.9844, -85.3582], [33.988, -109.7452], [33.99989, -110.4298], [34.0, -110.0], [34.0, -85.0], [34.00806, -86.96416], [34.021, -94.4435], [34.03528, -84.83903], [34.03789, -94.32321], [34.04129, -85.86473], [34.04165, -117.0416], [34.0425, -110.4829], [34.0431, -80.80685], [34.0474, -84.68864], [34.05198, -85.16238], [34.06705, -82.86789], [34.06787, -84.79704], [34.0775, -94.4095], [34.08, -93.0], [34.08204, -94.3457], [34.08725, -79.1246], [34.1, -110.165], [34.1088, -84.6971], [34.11306, -95.62278], [34.1226, -84.7038], [34.125, -98.105], [34.1288, -86.68], [34.1318, -84.73846], [34.14117, -85.22781], [34.17376, -91.07266], [34.17521, -85.18678], [34.17769, -85.19659], [34.1962, -84.50055], [34.20873, -92.57542], [34.21174, -96.63857], [34.24174, -85.08995], [34.24228, -110.5712], [34.25, -118.225], [34.25, -96.21], [34.25, -93.1], [34.2556, -116.7944], [34.27139, -110.0632], [34.275, -110.85], [34.27607, -86.17524], [34.2802, -117.8333], [34.285, -110.11], [34.285, -93.162], [34.28665, -117.3395], [34.28745, -84.59345], [34.28939, -111.1367], [34.29511, -86.88621], [34.29861, -96.30222], [34.31, -99.295], [34.31605, -89.845], [34.31611, -93.17056], [34.31955, -84.48006], [34.32279, -86.5045], [34.325, -109.64], [34.33335, -110.9583], [34.33843, -117.1776], [34.34, -110.9725], [34.35, -110.98], [34.35765, -82.82005], [34.36153, -83.87177], [34.36725, -84.57616], [34.36778, -94.68028], [34.369, -94.3745], [34.374, -80.074], [34.375, -111.4925], [34.37537, -83.77232], [34.38638, -98.99414], [34.39, -93.23111], [34.39092, -81.54448], [34.3924, -77.7485], [34.39639, -95.01167], [34.39965, -84.383], [34.4, -111.5], [34.4082, -94.38045], [34.4125, -94.1125], [34.421, -81.396], [34.425, -111.375], [34.42654, -85.31646], [34.4274, -110.9986], [34.43542, -111.3164], [34.43951, -111.0946], [34.4415, -94.4325], [34.44333, -94.65639], [34.4447, -83.59509], [34.44652, -93.07654], [34.45, -112.53], [34.45025, -82.56786], [34.45195, -94.60042], [34.47, -92.58], [34.47091, -86.56954], [34.475, -111.08], [34.4826, -85.10299], [34.48287, -84.5136], [34.4881, -86.6333], [34.49108, -94.49968], [34.495, -96.972], [34.50572, -95.12156], [34.50917, -77.53445], [34.515, -111.375], [34.52414, -82.38998], [34.52436, -94.91928], [34.52473, -92.70348], [34.52667, -94.70278], [34.5287, -79.26708], [34.53167, -92.40778], [34.53654, -81.70052], [34.53784, -77.50434], [34.53889, -94.93722], [34.5422, -86.66465], [34.55, -113.46], [34.55056, -92.34083], [34.55154, -112.5421], [34.55946, -86.59747], [34.56327, -85.79889], [34.56384, -92.22704], [34.56444, -92.58667], [34.575, -111.4], [34.59, -80.3891], [34.59583, -94.55944], [34.6, -109.44], [34.6021, -95.11875], [34.60665, -120.0023], [34.60905, -88.19894], [34.61361, -94.84861], [34.6167, -118.4333], [34.625, -119.2916], [34.62689, -85.42266], [34.62944, -98.62833], [34.64145, -83.80404], [34.6423, -83.4192], [34.64583, -94.575], [34.6527, -84.0354], [34.65375, -83.11639], [34.66005, -85.4034], [34.66029, -85.39171], [34.66255, -83.76585], [34.66363, -118.4538], [34.66467, -83.71705], [34.672, -83.714], [34.67245, -111.7099], [34.6802, -87.00665], [34.68319, -83.69085], [34.689, -94.7325], [34.6894, -77.2914], [34.695, -94.685], [34.69895, -85.34145], [34.7, -112.05], [34.70107, -83.6746], [34.70112, -87.77686], [34.70157, -83.45181], [34.70435, -84.2269], [34.7064, -83.8329], [34.70694, -94.45417], [34.71139, -86.6575], [34.71425, -83.62215], [34.72195, -94.96639], [34.73139, -86.97057], [34.73147, -92.75093], [34.73153, -99.81514], [34.7325, -86.52105], [34.73389, -119.9254], [34.735, -88.26655], [34.73966, -94.7264], [34.74338, -94.7297], [34.74775, -83.48067], [34.75139, -95.04778], [34.7576, -77.5873], [34.76134, -98.61497], [34.76666, -118.5834], [34.7673, -83.77811], [34.7706, -111.8907], [34.77525, -85.3297], [34.78035, -83.78375], [34.78052, -77.85507], [34.787, -91.735], [34.78833, -94.70667], [34.79914, -77.10508], [34.80405, -87.50905], [34.81182, -84.3453], [34.81417, -95.65417], [34.8146, -94.66875], [34.8155, -84.58501], [34.8243, -84.72352], [34.84161, -83.94456], [34.84167, -94.63111], [34.85324, -92.25454], [34.86111, -96.66528], [34.86535, -92.3575], [34.87, -92.12], [34.8804, -83.31311], [34.88111, -91.08056], [34.8983, -84.6216], [34.8986, -87.95277], [34.90831, -110.8403], [34.92333, -95.26167], [34.92336, -92.30519], [34.9263, -87.02025], [34.92684, -92.30753], [34.92855, -87.1105], [34.93243, -101.667], [34.94325, -83.18237], [34.9533, -81.56005], [34.95605, -86.4559], [34.9575, -98.31556], [34.96295, -111.5228], [34.97181, -90.95902], [35.0, -99.0], [35.00278, -95.34111], [35.0055, -89.3808], [35.01305, -82.7962], [35.0194, -90.32], [35.0228, -87.2352], [35.0271, -94.66875], [35.0554, -79.88049], [35.06144, -93.45042], [35.07, -91.97], [35.08344, -98.24586], [35.09, -111.7], [35.09306, -94.356], [35.1013, -84.3046], [35.10278, -98.34056], [35.10486, -83.23206], [35.10615, -86.46987], [35.11417, -86.465], [35.129, -84.8215], [35.12931, -118.3302], [35.1312, -79.11128], [35.1394, -111.6259], [35.14639, -90.18444], [35.148, -81.861], [35.14947, -81.60892], [35.15193, -93.42848], [35.1685, -82.488], [35.175, -109.25], [35.1759, -94.0679], [35.17748, -118.625], [35.18083, -79.21278], [35.18597, -84.48414], [35.186, -93.206], [35.18637, -78.63611], [35.1918, -86.9094], [35.194, -81.402], [35.20416, -87.19556], [35.211, -83.007], [35.21111, -97.24139], [35.22149, -87.39061], [35.2256, -80.26915], [35.226, -89.94], [35.23036, -85.75014], [35.241, -111.8634], [35.24194, -97.5625], [35.24749, -79.97967], [35.2483, -83.28265], [35.25048, -79.86721], [35.255, -91.50301], [35.2597, -84.28315], [35.2673, -118.9591], [35.26808, -96.60222], [35.27056, -95.97], [35.2725, -82.65414], [35.27639, -97.33528], [35.27833, -93.13361], [35.28195, -82.39165], [35.2933, -95.94727], [35.3, -111.675], [35.3011, -99.1702], [35.30146, -85.07263], [35.30685, -111.7141], [35.30773, -79.75644], [35.31331, -80.00272], [35.31924, -80.03551], [35.3218, -87.2932], [35.325, -95.0585], [35.33069, -111.7101], [35.33389, -98.13028], [35.33783, -83.52992], [35.33975, -82.443], [35.34572, -93.75313], [35.34737, -91.60007], [35.3538, -84.0458], [35.35636, -80.01653], [35.36, -82.4831], [35.36335, -94.229], [35.36895, -95.97023], [35.37201, -108.2034], [35.40472, -84.05056], [35.416, -89.7735], [35.41939, -82.56715], [35.42014, -97.21555], [35.42097, -93.15208], [35.42525, -77.67995], [35.43787, -80.69763], [35.4449, -80.0616], [35.44944, -91.51306], [35.44986, -118.5821], [35.451, -82.287], [35.46865, -83.3626], [35.46955, -80.08778], [35.4745, -83.3032], [35.50285, -94.77699], [35.5035, -89.91499], [35.50556, -98.575], [35.51222, -118.3356], [35.5131, -83.5582], [35.52162, -105.2526], [35.52335, -89.35205], [35.5311, -78.4048], [35.53467, -83.17152], [35.537, -89.63499], [35.53925, -97.67827], [35.545, -87.8084], [35.545, -85.0667], [35.5467, -85.02585], [35.55535, -93.1716], [35.5559, -84.0475], [35.5605, -83.5214], [35.56577, -79.75537], [35.56637, -94.98001], [35.56805, -118.6078], [35.5803, -118.3804], [35.58565, -107.9978], [35.618, -82.321], [35.6267, -81.5917], [35.63736, -108.8676], [35.64151, -83.47566], [35.64389, -97.45694], [35.64861, -91.45889], [35.656, -111.938], [35.6644, -81.78065], [35.665, -120.55], [35.6753, -86.7074], [35.68081, -97.26022], [35.68449, -83.53575], [35.68583, -97.00389], [35.69958, -91.51528], [35.7, -117.9667], [35.70166, -95.70208], [35.703, -91.46231], [35.738, -90.1355], [35.74111, -97.479], [35.74875, -82.26195], [35.75, -80.375], [35.75278, -82.22121], [35.75472, -118.4244], [35.7575, -95.60667], [35.76152, -99.93007], [35.7695, -82.87408], [35.77, -92.44583], [35.78043, -81.77603], [35.78439, -87.44963], [35.7909, -82.4614], [35.8019, -92.943], [35.80762, -88.30945], [35.83845, -81.80479], [35.84103, -81.20877], [35.84503, -118.6331], [35.85107, -82.05008], [35.8525, -80.6585], [35.8606, -89.0912], [35.86972, -96.968], [35.87885, -80.2068], [35.8823, -84.88694], [35.88561, -81.92929], [35.892, -82.829], [35.89305, -83.26097], [35.8934, -81.98335], [35.91965, -80.6282], [35.92806, -94.83], [35.93985, -100.6767], [35.94, -87.25375], [35.94585, -81.7418], [35.94647, -81.03185], [35.94778, -86.36485], [35.95815, -80.2084], [35.95835, -118.375], [35.95865, -81.95195], [35.97, -109.155], [35.97231, -84.88466], [35.97389, -97.03333], [35.98475, -106.8803], [35.988, -86.5101], [35.9975, -93.83426], [35.9978, -86.2011], [35.998, -76.946], [36.0, -100.5], [36.0055, -81.08335], [36.00565, -89.67815], [36.0089, -77.90525], [36.0165, -88.76775], [36.02306, -97.1225], [36.02328, -89.17284], [36.03501, -96.36707], [36.042, -93.1545], [36.0438, -118.7402], [36.05278, -118.1303], [36.05361, -118.5347], [36.0605, -108.84], [36.06055, -89.98725], [36.07081, -118.2084], [36.08089, -108.892], [36.09081, -109.4276], [36.0917, -86.9803], [36.0925, -82.3045], [36.095, -106.9571], [36.09583, -89.48666], [36.09945, -80.7704], [36.10222, -118.8489], [36.105, -84.38335], [36.10556, -118.5272], [36.1124, -87.4769], [36.12083, -90.51056], [36.12292, -88.65445], [36.12318, -87.38542], [36.126, -108.87], [36.13222, -95.79677], [36.13361, -93.94389], [36.134, -80.66], [36.14065, -92.52505], [36.14505, -108.8548], [36.154, -91.09], [36.15588, -82.38587], [36.16488, -89.03873], [36.1655, -93.5515], [36.18333, -94.44694], [36.1874, -87.0886], [36.18889, -95.74556], [36.1894, -118.1729], [36.19408, -83.73153], [36.19444, -92.38222], [36.19625, -105.5596], [36.19746, -84.66167], [36.19791, -91.1125], [36.1999, -118.1666], [36.2058, -78.968], [36.20611, -94.23417], [36.21335, -78.09365], [36.22306, -118.6744], [36.225, -109.11], [36.22935, -95.2419], [36.2485, -121.495], [36.25466, -86.15759], [36.25639, -94.07806], [36.2635, -83.918], [36.26451, -89.25397], [36.28, -109.14], [36.29871, -92.63179], [36.30155, -86.60155], [36.3025, -93.448], [36.3065, -84.34], [36.31126, -81.30889], [36.31519, -93.75723], [36.31625, -79.03025], [36.33205, -91.52025], [36.33528, -92.385], [36.34167, -93.94583], [36.3431, -112.0934], [36.34389, -93.76], [36.3461, -81.38915], [36.36, -92.55472], [36.36264, -82.98764], [36.37111, -91.87], [36.37139, -92.25139], [36.3715, -76.29115], [36.37399, -92.27071], [36.3779, -121.7146], [36.37919, -95.80589], [36.38287, -80.46865], [36.38605, -92.30614], [36.38632, -83.21461], [36.3881, -93.1073], [36.39135, -109.0612], [36.39403, -84.85902], [36.39835, -93.14626], [36.4, -112.0], [36.40406, -84.23711], [36.4075, -94.92667], [36.41, -93.74], [36.4168, -94.78227], [36.4178, -107.1612], [36.42315, -81.56219], [36.42846, -82.31094], [36.4504, -92.2428], [36.4525, -118.6092], [36.4583, -83.92841], [36.469, -91.154], [36.48615, -80.375], [36.50787, -94.2319], [36.51627, -94.60989], [36.54165, -109.29], [36.5587, -79.36079], [36.56304, -118.7729], [36.57869, -90.21339], [36.5802, -86.5104], [36.5884, -76.28729], [36.589, -93.3945], [36.589, -79.1345], [36.599, -105.4113], [36.6, -91.2], [36.615, -92.425], [36.62116, -96.12164], [36.62492, -81.48593], [36.63621, -93.31413], [36.63931, -78.55758], [36.65339, -105.9678], [36.66257, -84.33998], [36.66708, -90.9525], [36.66887, -93.29459], [36.67065, -93.65774], [36.67311, -83.85683], [36.6765, -76.364], [36.68937, -86.45915], [36.70835, -118.375], [36.71418, -93.25712], [36.72065, -107.3956], [36.72415, -93.11722], [36.7279, -93.6383], [36.73, -93.51], [36.73225, -81.62195], [36.74, -112.19], [36.74465, -80.98215], [36.745, -80.48], [36.7474, -107.6021], [36.75139, -87.89472], [36.7548, -92.1527], [36.7586, -76.0418], [36.76377, -81.9107], [36.772, -86.1425], [36.77763, -118.9604], [36.7818, -120.201], [36.79165, -118.125], [36.7999, -83.66641], [36.8066, -86.5549], [36.8109, -92.3046], [36.81315, -108.7608], [36.8133, -93.8232], [36.8207, -88.41175], [36.8216, -87.93167], [36.82806, -88.15556], [36.83193, -83.42429], [36.86345, -79.65835], [36.87593, -89.86899], [36.8778, -82.4179], [36.879, -95.1695], [36.8817, -84.0821], [36.88494, -82.89404], [36.89478, -87.02245], [36.89771, -83.16293], [36.90237, -106.5784], [36.91355, -77.95074], [36.91475, -106.9958], [36.91528, -95.80417], [36.91533, -86.73543], [36.9265, -83.0452], [36.92799, -88.12511], [36.932, -80.89], [36.9372, -88.9949], [36.94109, -92.7622], [36.94165, -80.04166], [36.94679, -94.71512], [36.97061, -92.09264], [36.9846, -80.3755], [36.9897, -89.25555], [36.9934, -104.4801], [37.0, -121.7], [37.00085, -80.8797], [37.0048, -81.11751], [37.00633, -83.56467], [37.01115, -79.908], [37.02496, -92.11988], [37.025, -106.8583], [37.02759, -80.38748], [37.03575, -94.52888], [37.047, -77.90815], [37.0504, -95.0802], [37.0505, -90.277], [37.055, -121.845], [37.05571, -90.89388], [37.05575, -86.98705], [37.0581, -97.3374], [37.06226, -83.9769], [37.06266, -79.82829], [37.07354, -93.13545], [37.0787, -83.95846], [37.07944, -118.9689], [37.09263, -104.3786], [37.0968, -93.4303], [37.1137, -106.3681], [37.1142, -89.1979], [37.11433, -93.71506], [37.117, -93.894], [37.12815, -79.8871], [37.1303, -118.9386], [37.1496, -86.0163], [37.15814, -80.36054], [37.15889, -118.3743], [37.1694, -76.77447], [37.17004, -118.5391], [37.17433, -82.39963], [37.18124, -94.47345], [37.182, -113.7382], [37.18404, -89.36896], [37.18847, -90.52135], [37.192, -95.7455], [37.19201, -93.73122], [37.19583, -107.1771], [37.19822, -82.81679], [37.22604, -82.74595], [37.22647, -81.09017], [37.22716, -118.6271], [37.2276, -88.7584], [37.228, -88.7476], [37.2306, -91.30804], [37.23167, -119.235], [37.23389, -119.2119], [37.236, -89.55949], [37.2362, -106.541], [37.23667, -119.2386], [37.2402, -87.40585], [37.2423, -80.13276], [37.248, -77.354], [37.26505, -106.4745], [37.26532, -82.69576], [37.27, -91.985], [37.2725, -118.9656], [37.2731, -83.49205], [37.274, -94.93115], [37.2804, -118.9614], [37.28205, -83.21735], [37.286, -89.6075], [37.28675, -118.8741], [37.2875, -81.68124], [37.289, -88.9963], [37.29395, -87.52757], [37.29734, -79.85085], [37.29854, -80.82856], [37.303, -78.193], [37.30427, -90.83465], [37.30833, -106.4917], [37.30984, -84.20422], [37.3141, -87.64487], [37.31413, -82.13403], [37.3181, -84.92358], [37.3199, -106.3325], [37.32091, -81.1271], [37.32255, -106.5123], [37.32355, -84.26856], [37.3317, -93.614], [37.33226, -76.70926], [37.33694, -119.0139], [37.33815, -107.501], [37.33925, -108.3364], [37.34029, -87.89844], [37.34339, -88.71672], [37.3444, -97.1953], [37.34592, -81.8074], [37.3557, -80.5378], [37.35861, -118.9975], [37.35944, -119.6436], [37.37285, -106.496], [37.37814, -83.25562], [37.3817, -86.1358], [37.38334, -107.4667], [37.38661, -79.55045], [37.3901, -97.56253], [37.39315, -91.3012], [37.39555, -121.4871], [37.40025, -90.23058], [37.40504, -97.4572], [37.41095, -80.6275], [37.41098, -85.26247], [37.4125, -108.1292], [37.422, -91.578], [37.4253, -94.7844], [37.42701, -82.48093], [37.4351, -89.30203], [37.44208, -95.35479], [37.44378, -77.6257], [37.445, -80.17], [37.44508, -88.36589], [37.4504, -92.5415], [37.4583, -120.0833], [37.46041, -92.63587], [37.4625, -108.2083], [37.46292, -81.60155], [37.46392, -92.52242], [37.475, -121.07], [37.47975, -82.5183], [37.48743, -93.86594], [37.49582, -83.89224], [37.49993, -82.353], [37.5, -88.3461], [37.50965, -80.64685], [37.50983, -92.22327], [37.515, -81.8], [37.51867, -86.05289], [37.52127, -88.65912], [37.52947, -97.60829], [37.5313, -80.01335], [37.53434, -79.49707], [37.53705, -84.2552], [37.53918, -83.46014], [37.54, -79.57], [37.54661, -93.41], [37.5515, -93.285], [37.55156, -84.50035], [37.55379, -86.35931], [37.5562, -90.2488], [37.56055, -105.2869], [37.56215, -97.85428], [37.56279, -98.42924], [37.5656, -92.1426], [37.56937, -89.36241], [37.5703, -118.972], [37.57039, -84.28714], [37.57915, -105.4979], [37.58135, -81.29745], [37.58325, -118.9166], [37.585, -79.052], [37.59461, -86.13757], [37.5965, -90.4935], [37.5969, -105.4826], [37.5999, -119.0], [37.60075, -88.38197], [37.603, -81.2625], [37.6095, -87.344], [37.61095, -88.9319], [37.61335, -89.15173], [37.61404, -88.50061], [37.62124, -121.7587], [37.63, -88.55], [37.63169, -91.41383], [37.63264, -89.17177], [37.641, -98.12825], [37.64103, -97.40294], [37.64224, -79.79759], [37.64966, -87.01657], [37.65028, -118.9592], [37.6541, -80.7582], [37.65522, -86.93743], [37.65805, -83.79678], [37.664, -93.684], [37.66643, -90.86792], [37.6665, -81.1447], [37.68393, -89.48825], [37.68485, -89.49155], [37.689, -85.359], [37.69639, -119.4275], [37.7, -81.095], [37.70338, -107.7015], [37.70835, -107.9584], [37.714, -92.173], [37.718, -90.177], [37.71917, -89.48784], [37.72693, -76.6658], [37.72735, -88.9487], [37.745, -89.3595], [37.75415, -82.0029], [37.75417, -107.7667], [37.75705, -109.3125], [37.75745, -84.10435], [37.75926, -79.5912], [37.75972, -87.96917], [37.7664, -93.5395], [37.76666, -118.5333], [37.7684, -94.97862], [37.7715, -97.424], [37.7755, -85.67188], [37.77591, -82.74628], [37.7764, -83.67952], [37.78048, -89.45728], [37.78861, -119.0736], [37.7925, -92.05], [37.7929, -80.9075], [37.79337, -119.118], [37.79465, -90.79886], [37.80531, -81.14714], [37.8058, -111.3481], [37.81005, -94.72448], [37.81144, -83.08006], [37.81269, -119.8609], [37.82708, -83.81139], [37.82861, -92.20055], [37.83074, -119.4626], [37.8322, -95.32129], [37.83438, -83.69043], [37.83777, -82.43635], [37.83837, -87.13843], [37.83905, -107.7247], [37.84203, -94.6028], [37.84239, -94.60359], [37.846, -89.0111], [37.85126, -89.23383], [37.85524, -94.11218], [37.8583, -118.325], [37.8597, -91.432], [37.8602, -90.0329], [37.87153, -93.82087], [37.88755, -88.98393], [37.89225, -107.1971], [37.89508, -84.1989], [37.89917, -119.9997], [37.90613, -119.2481], [37.91, -88.929], [37.91111, -119.2569], [37.91544, -94.32079], [37.92017, -88.98228], [37.9208, -80.71875], [37.92735, -75.6561], [37.9308, -88.362], [37.93125, -91.33569], [37.9333, -119.0], [37.94235, -82.88309], [37.95708, -84.97527], [37.96027, -86.11702], [37.97699, -84.90234], [37.97761, -119.1291], [37.9808, -78.9279], [37.99225, -91.42575], [37.9937, -80.3616], [37.9939, -93.8794], [38.0, -112.5], [38.0, -81.0], [38.01, -87.3203], [38.01223, -91.64719], [38.015, -120.245], [38.02372, -107.193], [38.02516, -77.97089], [38.02653, -82.83278], [38.02825, -82.83425], [38.02847, -85.57882], [38.0311, -83.1815], [38.0312, -120.2434], [38.03305, -120.2636], [38.03338, -82.44214], [38.03898, -120.2339], [38.039, -90.7517], [38.03917, -120.0459], [38.04165, -119.2167], [38.04414, -92.97639], [38.04679, -119.2654], [38.04806, -119.2642], [38.04813, -89.30435], [38.05, -120.2667], [38.05141, -120.0508], [38.05344, -82.5446], [38.05408, -79.77946], [38.05703, -83.46259], [38.06181, -82.69125], [38.0654, -105.1137], [38.06615, -120.1877], [38.0695, -81.08506], [38.0735, -77.2265], [38.07584, -120.1039], [38.09052, -90.06338], [38.0944, -93.5577], [38.09832, -120.0397], [38.0985, -89.4205], [38.10263, -81.8075], [38.1038, -88.99181], [38.1078, -82.73412], [38.10785, -80.19044], [38.10833, -80.17528], [38.11203, -91.1569], [38.11468, -91.06547], [38.11509, -82.70393], [38.12318, -86.64338], [38.12764, -82.59822], [38.12852, -80.6754], [38.12912, -84.94009], [38.14167, -119.7111], [38.14415, -85.89175], [38.1579, -87.41805], [38.16205, -82.643], [38.1625, -120.0522], [38.16391, -82.28279], [38.16811, -92.79309], [38.176, -95.3465], [38.17625, -119.864], [38.17677, -119.9065], [38.1814, -97.56185], [38.18389, -120.1547], [38.1875, -92.337], [38.1882, -80.1177], [38.18881, -88.83003], [38.18933, -80.2522], [38.195, -82.868], [38.19744, -97.41755], [38.19753, -119.9811], [38.19833, -120.0083], [38.20065, -80.17294], [38.203, -90.5545], [38.20444, -120.3689], [38.2081, -91.16042], [38.20835, -120.0416], [38.2128, -81.70641], [38.21285, -90.66216], [38.21719, -90.50072], [38.21877, -120.0124], [38.225, -112.35], [38.22635, -90.39488], [38.23243, -119.984], [38.23475, -120.1862], [38.2383, -81.5722], [38.2395, -119.8792], [38.24361, -85.03827], [38.24805, -119.9924], [38.25, -121.0], [38.25472, -120.3536], [38.25583, -122.5833], [38.25861, -85.03827], [38.2592, -83.41507], [38.2639, -81.4625], [38.26661, -119.8633], [38.27194, -120.2867], [38.27372, -89.21439], [38.27832, -80.51534], [38.28, -91.6253], [38.28085, -119.836], [38.2845, -80.6385], [38.29116, -119.7275], [38.29165, -119.54], [38.30056, -120.7053], [38.305, -92.411], [38.3068, -119.5483], [38.3085, -92.8254], [38.312, -80.429], [38.31722, -119.7489], [38.31738, -82.51773], [38.31944, -120.2603], [38.32304, -88.96978], [38.32417, -119.7519], [38.3248, -82.4438], [38.32548, -80.60419], [38.33109, -80.51374], [38.33115, -119.7853], [38.3331, -79.35755], [38.33527, -83.41575], [38.33885, -82.89059], [38.33912, -89.35323], [38.354, -87.8572], [38.35727, -82.59348], [38.35806, -82.43855], [38.36885, -78.5367], [38.36911, -78.53718], [38.375, -120.125], [38.37558, -97.58336], [38.3778, -88.07554], [38.37945, -87.79079], [38.38096, -82.52633], [38.39027, -85.95914], [38.3905, -94.352], [38.3908, -95.6491], [38.3958, -119.801], [38.397, -94.332], [38.39917, -120.5264], [38.4, -105.1167], [38.4063, -90.7357], [38.40685, -90.7], [38.4125, -92.1855], [38.415, -122.585], [38.4191, -86.23506], [38.42968, -82.64877], [38.43189, -89.87113], [38.43235, -86.19055], [38.4326, -89.79143], [38.4335, -89.7915], [38.437, -92.408], [38.441, -91.6284], [38.44148, -85.0016], [38.44367, -79.1347], [38.44714, -79.65548], [38.45795, -83.9311], [38.45799, -120.0491], [38.45861, -120.0397], [38.45927, -90.55145], [38.46118, -82.07358], [38.46156, -94.14297], [38.46253, -93.91737], [38.46472, -120.0389], [38.4763, -89.54485], [38.4775, -120.0047], [38.48342, -77.34673], [38.485, -92.225], [38.48959, -107.7], [38.4906, -121.7138], [38.4971, -90.7212], [38.4975, -88.9094], [38.49833, -107.8833], [38.51465, -83.83695], [38.51591, -79.02109], [38.51639, -123.24], [38.51665, -119.6234], [38.51689, -90.16501], [38.52019, -77.36115], [38.52026, -79.33413], [38.521, -94.188], [38.5229, -94.19245], [38.524, -94.1927], [38.528, -84.588], [38.53062, -89.89167], [38.53082, -82.70584], [38.53187, -82.7989], [38.54166, -104.9908], [38.54602, -79.16096], [38.5464, -82.25949], [38.54852, -82.66616], [38.55, -79.98], [38.56277, -83.32354], [38.56546, -79.14478], [38.567, -89.341], [38.56724, -92.07335], [38.5735, -94.477], [38.57502, -79.18524], [38.57716, -79.11095], [38.58125, -79.14795], [38.5859, -104.9426], [38.586, -94.286], [38.5992, -94.1057], [38.59998, -106.6417], [38.60124, -106.3466], [38.60551, -82.71107], [38.6167, -119.9501], [38.61792, -77.52767], [38.62, -91.96238], [38.6234, -94.6837], [38.62563, -96.44296], [38.63295, -75.80465], [38.63454, -83.80266], [38.63472, -86.79333], [38.63813, -85.00044], [38.64301, -83.69977], [38.6492, -79.26241], [38.655, -90.675], [38.66736, -89.87602], [38.6685, -80.03149], [38.6691, -104.8604], [38.676, -75.18375], [38.68516, -83.12916], [38.68707, -89.09732], [38.68775, -105.047], [38.6899, -86.25349], [38.69322, -83.12891], [38.6934, -79.5653], [38.69428, -90.52987], [38.7016, -79.52835], [38.70819, -77.17868], [38.7084, -79.7802], [38.71, -75.36536], [38.71145, -105.0354], [38.712, -79.7773], [38.71225, -105.1744], [38.71342, -86.04386], [38.716, -104.875], [38.71682, -87.68468], [38.71806, -120.5619], [38.71954, -106.2384], [38.7201, -79.7927], [38.72139, -120.5836], [38.72226, -89.80125], [38.73048, -78.33453], [38.7365, -81.0321], [38.73687, -83.39134], [38.73725, -85.84489], [38.73802, -90.53249], [38.73854, -84.63702], [38.741, -77.23238], [38.7437, -94.2633], [38.74625, -89.8774], [38.74784, -90.14547], [38.74899, -82.97854], [38.75, -122.7], [38.753, -105.1598], [38.76139, -120.5856], [38.76417, -87.60555], [38.76635, -95.70296], [38.77386, -120.4036], [38.77727, -83.18179], [38.7774, -90.012], [38.77741, -105.9111], [38.77778, -119.8208], [38.788, -79.495], [38.79215, -82.93085], [38.79381, -82.55177], [38.79833, -82.54968], [38.79998, -120.2083], [38.80319, -77.34879], [38.80435, -120.0825], [38.809, -89.918], [38.81124, -92.59781], [38.81639, -76.54514], [38.81772, -83.80582], [38.8204, -111.6631], [38.826, -105.1146], [38.82795, -83.56633], [38.8317, -81.5784], [38.835, -79.3762], [38.835, -79.3686], [38.83628, -83.12873], [38.83714, -106.199], [38.83859, -83.28128], [38.83996, -123.0585], [38.8409, -79.4016], [38.8448, -82.0849], [38.8554, -79.3999], [38.85556, -120.0133], [38.86, -120.1358], [38.8609, -79.55928], [38.86165, -120.2201], [38.875, -107.7084], [38.87531, -87.90503], [38.8762, -79.95695], [38.87813, -79.3434], [38.88059, -82.43382], [38.88665, -75.3793], [38.8922, -105.1058], [38.8926, -79.47325], [38.893, -87.869], [38.89625, -78.1268], [38.89665, -83.40573], [38.8993, -104.9743], [38.9, -105.3812], [38.9006, -104.9917], [38.90123, -89.80123], [38.90203, -79.33517], [38.90222, -121.0803], [38.90323, -78.48832], [38.90333, -120.6033], [38.9037, -120.6049], [38.90649, -84.67017], [38.90833, -107.575], [38.9099, -92.36771], [38.91, -105.275], [38.91185, -120.5764], [38.9142, -95.2577], [38.92241, -90.16171], [38.9241, -89.53419], [38.9264, -82.14285], [38.92993, -90.53175], [38.93, -120.205], [38.93027, -79.68047], [38.93333, -119.9833], [38.93333, -105.4917], [38.93704, -92.32704], [38.94564, -87.97622], [38.946, -89.582], [38.9506, -83.02551], [38.95242, -79.42547], [38.95285, -121.0479], [38.9575, -120.0914], [38.9593, -78.02081], [38.96, -120.0969], [38.965, -82.905], [38.96846, -89.72024], [38.9695, -79.7625], [38.9706, -79.4123], [38.9766, -78.6205], [38.98, -89.136], [38.98, -80.27], [38.98773, -78.20517], [38.99353, -94.22043], [38.99484, -84.10731], [38.9951, -90.1451], [38.9969, -108.1098], [38.99778, -120.2392], [39.0, -89.0], [39.00056, -119.8458], [39.00175, -84.14354], [39.00875, -94.30658], [39.01142, -76.53862], [39.01166, -86.57665], [39.01569, -84.08533], [39.01577, -106.7522], [39.01917, -120.8275], [39.01972, -81.85806], [39.02028, -120.8169], [39.02341, -90.40184], [39.02502, -86.49139], [39.02775, -90.4049], [39.03445, -94.10855], [39.03496, -79.95418], [39.03501, -84.1317], [39.04035, -94.16049], [39.0417, -79.43762], [39.0465, -105.2146], [39.04744, -86.38894], [39.05, -79.98335], [39.05922, -83.07492], [39.06, -89.98351], [39.06, -89.558], [39.0621, -105.0138], [39.06381, -95.74633], [39.06392, -77.2948], [39.06565, -85.01295], [39.06583, -123.4439], [39.06881, -79.32608], [39.072, -95.747], [39.08, -121.42], [39.08002, -84.79574], [39.0833, -120.1666], [39.08414, -76.82731], [39.08817, -92.31901], [39.0895, -82.8342], [39.09109, -87.80624], [39.0917, -106.4417], [39.10023, -79.4593], [39.1006, -106.5445], [39.10495, -82.79665], [39.10611, -83.0363], [39.1062, -99.26195], [39.1084, -107.0153], [39.11167, -120.4683], [39.11378, -76.811], [39.115, -89.952], [39.11636, -105.2155], [39.1175, -93.4025], [39.11929, -83.40022], [39.13595, -84.17227], [39.1405, -91.419], [39.14299, -82.41166], [39.1441, -95.488], [39.14519, -96.35309], [39.14588, -77.67422], [39.1463, -96.8223], [39.1489, -96.9614], [39.15735, -106.4213], [39.1611, -80.23375], [39.16305, -107.9514], [39.17029, -82.47604], [39.17257, -83.26393], [39.17295, -84.971], [39.17909, -86.3356], [39.18975, -106.4269], [39.20212, -83.13585], [39.2026, -106.1143], [39.2038, -89.9758], [39.205, -121.58], [39.2065, -86.22125], [39.20834, -106.0417], [39.20894, -94.2908], [39.21278, -120.8908], [39.21338, -105.0652], [39.2152, -86.05825], [39.21564, -77.4608], [39.21667, -120.8983], [39.21833, -81.16211], [39.22348, -74.69759], [39.22361, -123.7675], [39.225, -106.3625], [39.2305, -95.44415], [39.2372, -88.61966], [39.24523, -82.27037], [39.2475, -94.271], [39.24841, -86.33011], [39.24998, -106.2583], [39.25, -123.15], [39.25, -106.3], [39.25109, -82.3997], [39.25396, -121.0517], [39.26167, -121.015], [39.26188, -79.01405], [39.26361, -121.0161], [39.26776, -89.48787], [39.26903, -84.25986], [39.26944, -106.3833], [39.28537, -81.85331], [39.29007, -91.09014], [39.29056, -119.6564], [39.29325, -106.1215], [39.2949, -90.608], [39.30023, -105.6723], [39.30056, -120.6672], [39.3045, -106.171], [39.3047, -90.0775], [39.30525, -90.0933], [39.30595, -98.2833], [39.30745, -94.59565], [39.31667, -105.3542], [39.31917, -120.3275], [39.32117, -86.46065], [39.3225, -120.2653], [39.32385, -106.2275], [39.33292, -95.84024], [39.335, -78.94501], [39.3375, -107.0671], [39.355, -80.915], [39.35503, -105.2527], [39.3579, -85.61], [39.365, -85.8486], [39.3716, -94.9], [39.37215, -84.80138], [39.3731, -81.65929], [39.3735, -91.093], [39.37357, -107.0596], [39.374, -120.914], [39.37509, -84.79429], [39.37753, -90.04582], [39.38, -86.11], [39.3804, -86.4324], [39.38745, -81.67339], [39.3875, -94.43649], [39.39565, -105.7854], [39.3985, -94.4955], [39.39935, -82.52238], [39.40305, -105.8226], [39.4045, -94.91451], [39.40458, -87.7313], [39.40589, -105.475], [39.40877, -81.73172], [39.41087, -106.1444], [39.41546, -120.4187], [39.4191, -105.7065], [39.42635, -81.37085], [39.42923, -104.9677], [39.4383, -89.86021], [39.445, -91.07], [39.4455, -105.0787], [39.44583, -123.8042], [39.4484, -82.2244], [39.45697, -85.5481], [39.45789, -82.24257], [39.45824, -106.625], [39.46019, -81.54855], [39.4627, -106.6035], [39.47642, -82.24155], [39.48, -111.23], [39.48219, -82.32669], [39.4862, -86.161], [39.49265, -83.11422], [39.49695, -84.45905], [39.502, -94.29428], [39.50435, -120.3784], [39.50655, -88.70795], [39.5075, -89.3469], [39.51, -80.985], [39.51256, -78.05424], [39.51489, -123.3899], [39.52122, -80.37878], [39.5226, -78.49429], [39.5246, -82.6353], [39.52701, -105.4147], [39.53722, -121.4822], [39.53747, -90.17564], [39.5392, -77.9407], [39.54114, -80.11329], [39.54739, -81.39101], [39.55249, -121.5027], [39.5575, -120.8294], [39.56573, -82.49833], [39.57143, -82.49968], [39.57463, -90.24173], [39.58157, -82.36887], [39.58375, -111.1339], [39.592, -119.975], [39.59607, -82.35291], [39.59947, -82.63536], [39.60238, -94.40015], [39.607, -90.64], [39.60835, -74.43445], [39.61205, -84.36754], [39.61958, -81.14833], [39.62, -89.6845], [39.6279, -82.83647], [39.632, -75.5167], [39.63255, -82.26463], [39.63382, -81.40079], [39.63662, -84.36874], [39.6395, -89.66525], [39.64081, -81.47081], [39.64146, -84.48506], [39.64175, -111.2186], [39.64193, -82.1013], [39.64306, -121.2733], [39.64819, -78.32549], [39.652, -74.6298], [39.65361, -84.66399], [39.6543, -83.7278], [39.6548, -90.18651], [39.65625, -84.51192], [39.65749, -89.56981], [39.6632, -106.8085], [39.66676, -89.68079], [39.67095, -105.8199], [39.6716, -79.9442], [39.67183, -76.34047], [39.6723, -80.5621], [39.679, -119.6665], [39.68833, -123.4817], [39.69191, -74.55341], [39.6946, -76.6691], [39.6995, -79.5375], [39.70042, -84.62567], [39.705, -121.18], [39.70852, -75.38251], [39.7198, -106.1666], [39.7273, -97.34005], [39.72785, -76.2074], [39.72848, -86.93636], [39.73333, -89.61281], [39.73523, -76.04183], [39.7384, -74.2975], [39.74107, -82.70263], [39.74356, -86.81714], [39.745, -83.825], [39.74652, -90.17844], [39.74678, -89.34647], [39.74961, -84.09158], [39.75318, -89.56226], [39.75531, -81.02917], [39.7557, -92.9282], [39.75616, -88.62624], [39.76366, -77.27178], [39.7721, -89.4691], [39.7784, -74.54086], [39.781, -88.867], [39.78594, -82.29162], [39.7962, -74.3749], [39.80777, -106.3023], [39.80825, -121.0456], [39.8213, -88.1676], [39.8234, -74.70135], [39.83, -123.115], [39.8352, -88.47835], [39.83627, -89.65926], [39.83804, -93.6515], [39.83929, -123.2393], [39.8397, -91.6533], [39.84874, -89.55229], [39.8494, -84.15971], [39.853, -89.5], [39.85461, -83.94906], [39.859, -94.856], [39.8595, -94.54], [39.86019, -81.20422], [39.86096, -83.96562], [39.8679, -87.23335], [39.8732, -88.9813], [39.879, -106.6735], [39.88653, -81.27132], [39.89172, -84.14493], [39.89203, -83.00142], [39.89216, -83.96123], [39.90416, -81.98721], [39.91209, -81.04791], [39.91682, -90.95499], [39.92104, -83.95184], [39.92778, -122.1781], [39.92781, -81.61014], [39.92821, -83.64597], [39.93154, -81.28671], [39.934, -74.3966], [39.9347, -87.08955], [39.93521, -89.88871], [39.94278, -121.0158], [39.9433, -79.665], [39.94853, -74.42721], [39.95329, -81.39827], [39.96627, -83.51394], [39.9784, -84.1735], [39.98216, -74.36187], [39.98705, -85.3149], [40.0, -90.0], [40.00385, -107.4381], [40.00817, -105.298], [40.00915, -82.67252], [40.01142, -123.9122], [40.01209, -82.13298], [40.01452, -81.34529], [40.01784, -80.93318], [40.01979, -83.56088], [40.01983, -81.07013], [40.025, -105.4458], [40.028, -110.9315], [40.03527, -123.7876], [40.03728, -120.9851], [40.0403, -86.1084], [40.04342, -84.04518], [40.0445, -111.5447], [40.04505, -90.1498], [40.04603, -82.14536], [40.04755, -80.25645], [40.04792, -83.5556], [40.05148, -79.56702], [40.053, -74.1301], [40.05998, -82.28814], [40.0625, -123.2208], [40.06831, -90.15218], [40.07849, -40757860.0], [40.0799, -81.49697], [40.08159, -83.0337], [40.08946, -81.69818], [40.09169, -87.71541], [40.1, -124.2], [40.10084, -81.14331], [40.10348, -81.50933], [40.10801, -81.56232], [40.10975, -80.85938], [40.1138, -81.5518], [40.11632, -81.52101], [40.11682, -81.4936], [40.1218, -81.5117], [40.12719, -81.50403], [40.1316, -74.85745], [40.1333, -80.68192], [40.1348, -90.6757], [40.1399, -96.7432], [40.14003, -81.49033], [40.14471, -89.41959], [40.15002, -83.02854], [40.1527, -87.7424], [40.16465, -74.68135], [40.16912, -80.62003], [40.17585, -105.3792], [40.17699, -81.63656], [40.18, -86.1512], [40.18113, -74.09944], [40.18478, -74.72261], [40.19732, -88.724], [40.20275, -81.1188], [40.20556, -123.4908], [40.2287, -81.96845], [40.24354, -84.18491], [40.24786, -81.15179], [40.25597, -82.1334], [40.25622, -111.6068], [40.25679, -90.59952], [40.26059, -81.22332], [40.26494, -83.0556], [40.26639, -123.8692], [40.26705, -111.5986], [40.26821, -105.1821], [40.26916, -88.1033], [40.27488, -81.51749], [40.277, -107.8708], [40.2831, -80.78826], [40.28488, -81.58699], [40.29, -80.585], [40.29771, -80.75612], [40.29929, -79.8944], [40.3, -124.2], [40.30527, -80.93864], [40.30824, -81.24778], [40.3105, -105.812], [40.316, -90.459], [40.32247, -79.16817], [40.3244, -81.99955], [40.33345, -81.26559], [40.33498, -77.85934], [40.33556, -121.9139], [40.33838, -105.5728], [40.34042, -80.64211], [40.34057, -87.47077], [40.34937, -111.6956], [40.35097, -81.99847], [40.35259, -124.0101], [40.357, -79.8765], [40.36207, -81.18504], [40.36462, -82.24197], [40.36831, -81.32809], [40.36887, -80.81801], [40.36957, -80.77387], [40.3725, -80.67828], [40.3752, -91.3883], [40.37726, -75.37814], [40.38335, -87.0796], [40.3857, -111.6992], [40.38609, -82.69884], [40.39103, -80.6937], [40.39956, -94.02478], [40.40192, -81.08803], [40.40611, -81.13733], [40.42, -111.63], [40.4225, -75.06665], [40.42591, -80.6616], [40.42655, -81.25576], [40.42687, -81.2558], [40.43163, -79.58031], [40.43298, -120.7413], [40.4415, -91.4261], [40.4521, -106.6535], [40.45273, -90.79664], [40.45418, -108.5417], [40.45428, -90.78947], [40.45787, -121.8765], [40.45815, -74.77675], [40.46339, -82.82576], [40.465, -124.0], [40.4664, -91.0007], [40.47326, -83.44371], [40.4764, -82.80257], [40.47672, -81.39331], [40.478, -74.4611], [40.4805, -106.7682], [40.4871, -112.1402], [40.48724, -90.19624], [40.4925, -121.8881], [40.4999, -121.9167], [40.5, -109.9], [40.50322, -80.19804], [40.50945, -82.87663], [40.5258, -79.6575], [40.52737, -118.1806], [40.5278, -79.7668], [40.52825, -80.25475], [40.5332, -90.0594], [40.53806, -121.7314], [40.54167, -105.9333], [40.54269, -80.89606], [40.54605, -81.26217], [40.54919, -85.69739], [40.55179, -90.7771], [40.55415, -106.7084], [40.5634, -89.95824], [40.5658, -90.0055], [40.57499, -105.3646], [40.57773, -93.64312], [40.5833, -79.9167], [40.5835, -122.553], [40.58667, -122.3906], [40.5896, -82.82214], [40.59307, -82.14194], [40.59604, -93.77783], [40.59904, -89.88347], [40.59935, -82.23988], [40.60291, -82.16943], [40.60353, -110.8055], [40.60667, -74.84528], [40.60779, -111.6508], [40.60787, -82.26236], [40.60946, -80.3293], [40.61, -89.585], [40.61087, -110.8139], [40.61111, -82.29642], [40.61125, -110.3583], [40.61182, -90.01651], [40.61236, -82.48699], [40.61286, -82.17295], [40.61309, -82.31692], [40.6166, -80.0107], [40.61798, -77.62407], [40.62147, -81.34993], [40.62288, -89.99328], [40.625, -90.3832], [40.62731, -82.12366], [40.6298, -81.5693], [40.63267, -90.28404], [40.63281, -89.99568], [40.63556, -122.7325], [40.63606, -80.53528], [40.64043, -97.13196], [40.64049, -80.90944], [40.64289, -121.8214], [40.6445, -83.6118], [40.65, -110.0], [40.65083, -78.52589], [40.65572, -83.93892], [40.6559, -83.9374], [40.65639, -89.04518], [40.66972, -95.68422], [40.67577, -89.60034], [40.67855, -89.49032], [40.6789, -122.8055], [40.67979, -81.51075], [40.6807, -80.57164], [40.68514, -81.02382], [40.68935, -80.57593], [40.69334, -80.57396], [40.70386, -80.58332], [40.71737, -81.18352], [40.7219, -85.5045], [40.725, -80.616], [40.72943, -80.59236], [40.73206, -80.61996], [40.7333, -122.6667], [40.73412, -84.06565], [40.7343, -81.15622], [40.74065, -81.35575], [40.74451, -81.0758], [40.7446, -74.6215], [40.74705, -82.64864], [40.74765, -85.57069], [40.7485, -123.2718], [40.75, -122.1675], [40.75, -122.1667], [40.75, -109.575], [40.75079, -81.27147], [40.755, -122.33], [40.75872, -81.19895], [40.76345, -75.11044], [40.76533, -80.55217], [40.7729, -122.1024], [40.77545, -74.3516], [40.77789, -81.25768], [40.77972, -80.64831], [40.77988, -110.9325], [40.79166, -105.9583], [40.79362, -81.32337], [40.79438, -81.31219], [40.7974, -122.278], [40.80222, -124.1625], [40.80725, -84.21719], [40.81139, -82.26806], [40.8139, -91.0863], [40.8179, -85.3532], [40.8192, -74.85561], [40.82327, -82.32803], [40.825, -110.825], [40.82546, -88.50196], [40.82944, -89.73378], [40.8333, -122.6417], [40.8348, -93.85965], [40.8365, -89.599], [40.84707, -105.6385], [40.84792, -96.6824], [40.8495, -75.327], [40.85, -123.7], [40.85, -123.55], [40.85035, -82.29486], [40.8557, -82.26972], [40.86765, -109.5143], [40.87496, -80.7291], [40.88, -121.675], [40.8833, -122.2333], [40.8875, -122.3775], [40.89452, -74.79077], [40.8959, -74.2918], [40.9, -111.625], [40.9, -109.75], [40.90177, -81.26729], [40.9119, -90.928], [40.91197, -80.70913], [40.915, -109.725], [40.91689, -111.8038], [40.92128, -111.0837], [40.92276, -82.44401], [40.92344, -80.84042], [40.92895, -80.07216], [40.92911, -121.6156], [40.93552, -74.49518], [40.94083, -123.6283], [40.9427, -74.46155], [40.9452, -90.9009], [40.9474, -90.4429], [40.94825, -80.69776], [40.94997, -80.07443], [40.9575, -74.45995], [40.95818, -80.97507], [40.97015, -78.42314], [40.9744, -111.8189], [40.98073, -90.18332], [40.98333, -122.6986], [40.9847, -86.911], [40.98583, -110.3961], [40.98596, -81.11642], [40.9913, -122.8719], [40.9934, -74.3249], [40.995, -91.75205], [40.99562, -82.38627], [40.99567, -74.78004], [41.00418, -40544270.0], [41.01865, -78.377], [41.01941, -74.57013], [41.02174, -92.73979], [41.02176, -74.53322], [41.02524, -89.45454], [41.02572, -81.77677], [41.03, -82.0101], [41.0312, -123.669], [41.05, -80.50751], [41.05304, -80.51186], [41.05931, -81.3654], [41.06019, -81.79669], [41.06194, -81.36305], [41.062, -86.5945], [41.06499, -81.3741], [41.06648, -81.96419], [41.0672, -82.41861], [41.06939, -82.36591], [41.06945, -74.15562], [41.07374, -80.12229], [41.08335, -74.321], [41.09087, -80.77592], [41.09302, -81.82391], [41.10715, -81.1414], [41.10765, -81.4311], [41.1139, -122.7], [41.11417, -82.07824], [41.11447, -80.14099], [41.115, -75.205], [41.1174, -80.9835], [41.12012, -81.81317], [41.12409, -90.16382], [41.12782, -78.5826], [41.12884, -80.85832], [41.13021, -81.11578], [41.13183, -81.11617], [41.13356, -81.17155], [41.134, -95.88], [41.13498, -74.80315], [41.1445, -74.29085], [41.1462, -80.62124], [41.14652, -74.59959], [41.14896, -83.43667], [41.15384, -81.1124], [41.15845, -81.33134], [41.16, -123.9], [41.16124, -87.58124], [41.16187, -81.37181], [41.17222, -82.34181], [41.17646, -81.32425], [41.17838, -74.52625], [41.18518, -81.03764], [41.2, -110.5], [41.207, -88.01345], [41.21361, -122.2703], [41.21365, -80.26563], [41.21385, -124.0687], [41.21424, -81.5168], [41.2145, -74.5995], [41.22248, -81.91616], [41.2285, -89.3211], [41.23296, -74.11488], [41.2333, -96.42668], [41.23528, -123.6581], [41.23598, -123.292], [41.23638, -81.62379], [41.23739, -81.60576], [41.238, -95.92], [41.23925, -81.62295], [41.25, -123.6667], [41.25, -111.05], [41.25248, -81.60838], [41.2584, -81.56255], [41.2599, -81.1455], [41.26155, -89.03049], [41.2625, -84.38103], [41.26455, -74.1468], [41.27412, -74.64189], [41.27939, -82.21939], [41.28694, -124.0586], [41.28996, -123.056], [41.29077, -88.66103], [41.29247, -83.05098], [41.29453, -74.68758], [41.295, -88.595], [41.29596, -74.68832], [41.29601, -88.60679], [41.29621, -81.5745], [41.29663, -88.60814], [41.29873, -73.73717], [41.30056, -124.0644], [41.30265, -81.30896], [41.30374, -88.95451], [41.30412, -89.9595], [41.30566, -74.6854], [41.31268, -78.39445], [41.31405, -81.38112], [41.31609, -81.56152], [41.31917, -123.1778], [41.3224, -88.92], [41.3235, -81.22745], [41.32501, -75.74288], [41.33, -88.55], [41.33018, -88.53889], [41.3368, -88.562], [41.3382, -85.7037], [41.34404, -78.04547], [41.34693, -88.23882], [41.34728, -84.54476], [41.35208, -81.57021], [41.3657, -123.1317], [41.3675, -92.9008], [41.36755, -80.76735], [41.36935, -73.1512], [41.37861, -123.7481], [41.38084, -73.91649], [41.38199, -81.27506], [41.38274, -82.12263], [41.38609, -72.30142], [41.38622, -72.60558], [41.38695, -71.95564], [41.39803, -81.33974], [41.4065, -76.804], [41.40762, -87.60593], [41.40985, -82.11172], [41.41, -120.6781], [41.41125, -111.5833], [41.4209, -88.706], [41.42178, -72.85863], [41.42364, -82.82491], [41.42396, -88.71103], [41.42579, -80.89096], [41.42741, -88.71402], [41.42806, -122.3839], [41.43135, -111.4988], [41.432, -71.65183], [41.44442, -81.20629], [41.45, -71.5], [41.45833, -122.4306], [41.4596, -71.58906], [41.461, -94.045], [41.47349, -81.3726], [41.47445, -91.74585], [41.47511, -79.3178], [41.4811, -87.5321], [41.48453, -96.01464], [41.48722, -120.5414], [41.48962, -83.06977], [41.49472, -73.36136], [41.49887, -73.59659], [41.49955, -111.6348], [41.5, -111.75], [41.50086, -81.28275], [41.5036, -73.7171], [41.50383, -75.23662], [41.51105, -72.46315], [41.51954, -78.87955], [41.52387, -93.4371], [41.5325, -81.1351], [41.53346, -87.75156], [41.5343, -111.5281], [41.53887, -87.62597], [41.55099, -98.22576], [41.55965, -90.40675], [41.5621, -81.22853], [41.57231, -81.22075], [41.59272, -71.90106], [41.59377, -93.974], [41.59773, -73.64642], [41.6, -90.1], [41.60511, -73.59506], [41.60551, -70.97708], [41.61575, -88.4586], [41.62183, -93.63804], [41.625, -88.4375], [41.63039, -87.86476], [41.63243, -87.76622], [41.63289, -87.79683], [41.6359, -111.6149], [41.65, -123.85], [41.65225, -90.59601], [41.65925, -123.4498], [41.66955, -74.0863], [41.67433, -87.84415], [41.68669, -73.35194], [41.70813, -77.99314], [41.7086, -112.0179], [41.7164, -81.1438], [41.7173, -87.8617], [41.72134, -80.88494], [41.72264, -89.80784], [41.72278, -120.3292], [41.72735, -80.54558], [41.72944, -122.6361], [41.73125, -70.48792], [41.73315, -78.93985], [41.73534, -90.22054], [41.74419, -70.95906], [41.75, -123.35], [41.75611, -124.2006], [41.7584, -90.0795], [41.7627, -87.7714], [41.76292, -91.59415], [41.76392, -90.55585], [41.7655, -77.8768], [41.76702, -80.98022], [41.77945, -85.99374], [41.7798, -89.689], [41.7822, -91.57033], [41.78913, -84.53609], [41.79639, -84.4587], [41.79985, -75.9799], [41.80205, -85.84005], [41.80832, -84.20835], [41.8111, -123.375], [41.81287, -80.95952], [41.81391, -71.74425], [41.81429, -80.84143], [41.81835, -80.93665], [41.81902, -80.58163], [41.82417, -122.9958], [41.82935, -73.15157], [41.8333, -123.1668], [41.83664, -70.89049], [41.84136, -87.83285], [41.845, -122.575], [41.845, -77.7011], [41.84998, -124.1417], [41.85164, -70.95207], [41.85256, -80.96186], [41.85526, -123.8435], [41.8607, -123.793], [41.86395, -89.34285], [41.86425, -73.00099], [41.871, -84.2995], [41.87219, -73.55858], [41.89011, -88.18031], [41.89288, -123.7879], [41.90703, -89.41539], [41.91826, -80.54177], [41.93, -84.35389], [41.94512, -73.87915], [41.95082, -72.99536], [41.9548, -78.65621], [41.9586, -87.8574], [41.96181, -111.5333], [41.96925, -89.38184], [41.972, -83.3595], [41.97226, -78.66863], [41.97341, -73.66616], [41.9773, -84.7802], [41.98067, -71.6568], [41.98645, -123.1749], [42.00356, -73.32587], [42.01496, -71.58914], [42.0152, -94.3677], [42.02106, -123.2725], [42.0288, -86.5153], [42.03477, -93.92304], [42.068, -84.22701], [42.06832, -78.7492], [42.07, -124.3], [42.075, -88.53872], [42.07867, -73.38644], [42.08, -124.3], [42.08179, -72.82665], [42.0833, -123.3333], [42.08354, -73.47686], [42.08363, -71.83971], [42.0837, -75.38025], [42.09091, -71.42092], [42.09224, -123.4043], [42.09785, -77.93121], [42.10072, -112.2149], [42.10722, -94.01338], [42.1174, -75.64853], [42.12302, -72.89154], [42.12363, -122.339], [42.125, -123.2916], [42.12697, -70.97559], [42.1295, -88.1577], [42.1533, -123.5381], [42.1551, -88.2886], [42.15685, -96.34203], [42.15947, -78.82683], [42.15965, -83.55718], [42.16024, -123.6216], [42.16298, -123.6481], [42.17291, -84.10373], [42.17577, -88.09506], [42.17865, -70.75587], [42.1838, -88.30026], [42.1846, -89.022], [42.18476, -88.29926], [42.19, -86.36], [42.20901, -84.53098], [42.21, -89.85], [42.21834, -114.2634], [42.225, -85.6885], [42.22501, -123.75], [42.2356, -123.0137], [42.23576, -94.91264], [42.2375, -83.67], [42.23865, -121.9446], [42.24165, -123.6416], [42.24542, -77.98756], [42.28045, -77.60525], [42.28422, -91.68192], [42.28445, -124.2148], [42.285, -83.59014], [42.30283, -72.53766], [42.30472, -83.60472], [42.3125, -84.7378], [42.323, -85.05965], [42.32359, -72.43863], [42.32724, -76.75318], [42.32921, -75.3811], [42.33473, -77.29253], [42.33531, -90.93558], [42.34607, -73.16418], [42.354, -123.4034], [42.35635, -111.5212], [42.36176, -75.0116], [42.36639, -83.86097], [42.36689, -73.18228], [42.36945, -121.3866], [42.375, -123.3833], [42.38553, -88.35001], [42.39031, -123.449], [42.39472, -85.60028], [42.4018, -124.426], [42.40489, -76.17366], [42.40611, -83.58], [42.4104, -90.66615], [42.43235, -84.2915], [42.4356, -122.2328], [42.4637, -85.95915], [42.47, -122.275], [42.47356, -96.46025], [42.47806, -93.82007], [42.4829, -110.5979], [42.4914, -110.9967], [42.50817, -96.40213], [42.50969, -90.84215], [42.5149, -111.1241], [42.51519, -87.52243], [42.51633, -91.96428], [42.54334, -71.80123], [42.54346, -77.36516], [42.55576, -96.47562], [42.55997, -90.76557], [42.56379, -74.8865], [42.56805, -123.3322], [42.5893, -103.398], [42.6, -122.475], [42.6153, -77.4028], [42.63678, -73.16617], [42.6425, -124.0255], [42.64809, -72.91994], [42.6688, -71.9023], [42.6766, -94.20245], [42.67993, -77.29334], [42.68505, -84.04025], [42.69657, -103.0044], [42.71425, -103.018], [42.72063, -94.22206], [42.73854, -93.22192], [42.7396, -73.21289], [42.7525, -91.8043], [42.76609, -97.97573], [42.78378, -71.77646], [42.79166, -116.25], [42.82, -124.53], [42.82445, -90.24295], [42.86222, -72.60887], [42.86361, -86.16861], [42.86631, -87.84023], [42.8673, -122.1629], [42.8674, -94.356], [42.87331, -100.5501], [42.9074, -94.3841], [42.95915, -89.6816], [42.9633, -89.66375], [42.97569, -88.44846], [42.9919, -108.9245], [43.0, -124.43], [43.00499, -91.17154], [43.00972, -76.10047], [43.05, -70.93333], [43.06171, -90.1687], [43.0625, -89.3179], [43.078, -91.3867], [43.08929, -122.0802], [43.0949, -74.27923], [43.103, -86.075], [43.1095, -84.9825], [43.11074, -71.35414], [43.13206, -74.47383], [43.153, -85.5995], [43.1546, -75.73906], [43.1573, -90.7109], [43.1575, -88.1255], [43.1635, -73.0723], [43.16815, -123.4911], [43.17215, -92.76577], [43.1786, -124.3688], [43.19481, -92.15997], [43.19501, -78.54224], [43.20335, -122.3759], [43.2045, -70.81187], [43.2073, -123.5585], [43.21, -85.41], [43.21667, -88.31644], [43.22, -85.68], [43.225, -123.175], [43.22649, -78.3253], [43.2265, -78.1946], [43.235, -85.34194], [43.251, -88.3245], [43.2547, -124.0598], [43.265, -84.94099], [43.26699, -88.29105], [43.26806, -82.53083], [43.26886, -78.28014], [43.2696, -77.664], [43.2725, -85.2515], [43.27314, -76.89331], [43.27355, -119.5089], [43.27402, -123.9834], [43.28556, -71.46778], [43.296, -122.5541], [43.3029, -123.1611], [43.30679, -74.15429], [43.31815, -122.1954], [43.32, -73.81], [43.32922, -92.06343], [43.34806, -78.23962], [43.35086, -73.34347], [43.35851, -102.3971], [43.3622, -122.1814], [43.37663, -99.1903], [43.38621, -84.88741], [43.39116, -82.53918], [43.4082, -114.8281], [43.40867, -122.8887], [43.41005, -111.7899], [43.41444, -83.18583], [43.41549, -72.33093], [43.4245, -86.353], [43.425, -88.68], [43.42645, -73.741], [43.43623, -72.43684], [43.4471, -101.7312], [43.45135, -85.12935], [43.45844, -71.07906], [43.46181, -74.23166], [43.4654, -72.7051], [43.47104, -95.12505], [43.48257, -121.9104], [43.5251, -123.311], [43.5345, -86.29], [43.54165, -123.875], [43.55, -86.325], [43.55915, -73.34116], [43.56058, -73.40212], [43.56211, -73.45947], [43.5705, -121.8955], [43.577, -85.293], [43.5883, -122.0833], [43.59611, -84.42722], [43.5975, -84.66833], [43.60667, -85.27652], [43.61015, -111.4418], [43.61538, -123.5036], [43.6165, -122.1], [43.61833, -74.75611], [43.64706, -75.57448], [43.6583, -122.8042], [43.66344, -73.56614], [43.6676, -70.6235], [43.6678, -73.51238], [43.674, -86.4565], [43.6744, -123.2675], [43.689, -86.376], [43.69005, -122.3755], [43.6947, -122.0449], [43.7151, -121.6347], [43.71597, -115.3929], [43.7268, -73.52], [43.74, -84.58583], [43.74251, -121.6009], [43.7667, -123.455], [43.7827, -123.9599], [43.79615, -113.8441], [43.79834, -84.2114], [43.80075, -92.36145], [43.81495, -74.00528], [43.83165, -84.41335], [43.85062, -122.7085], [43.857, -85.30701], [43.85809, -89.81407], [43.85975, -118.8215], [43.8628, -121.8829], [43.86739, -111.8617], [43.87, -84.355], [43.8708, -89.18135], [43.89875, -103.4966], [43.92736, -83.92834], [43.9311, -124.1214], [43.94111, -83.27139], [43.94225, -121.3815], [43.97603, -121.7828], [43.98136, -121.4705], [44.0555, -112.9954], [44.0559, -85.92196], [44.05917, -122.9343], [44.0639, -120.2782], [44.091, -86.42896], [44.0925, -112.455], [44.09462, -123.3724], [44.12, -84.50999], [44.1263, -121.3338], [44.1305, -85.2165], [44.14555, -115.3106], [44.14765, -114.9221], [44.15568, -121.9531], [44.16966, -121.5014], [44.16985, -85.63835], [44.1708, -86.10335], [44.17335, -84.6], [44.1856, -73.8094], [44.19167, -123.975], [44.2045, -442106.6], [44.2055, -83.95399], [44.2157, -121.4755], [44.21694, -103.7742], [44.22388, -73.87529], [44.22671, -86.10172], [44.23861, -122.0505], [44.25028, -114.7503], [44.2548, -112.6467], [44.25533, -85.9222], [44.26646, -74.14589], [44.2725, -83.89001], [44.27795, -121.9524], [44.28265, -115.8714], [44.29188, -84.72922], [44.34035, -84.00156], [44.34113, -70.61507], [44.35978, -115.8596], [44.36434, -84.05358], [44.377, -84.4995], [44.3801, -90.7221], [44.38367, -86.19037], [44.38611, -103.6183], [44.39104, -118.9491], [44.398, -84.4445], [44.4049, -91.3171], [44.40946, -122.1322], [44.41131, -112.2873], [44.4165, -104.1665], [44.41666, -115.5833], [44.41775, -84.5914], [44.41835, -84.40335], [44.42315, -89.7793], [44.42565, -121.726], [44.42654, -83.37971], [44.4308, -89.7715], [44.4355, -84.7602], [44.45584, -109.7935], [44.45835, -85.6667], [44.45853, -116.2853], [44.4625, -121.9683], [44.4723, -90.7167], [44.48134, -109.5113], [44.4887, -85.93575], [44.48875, -83.88607], [44.49427, -83.40396], [44.49817, -109.6824], [44.49817, -109.6429], [44.50132, -110.0042], [44.50455, -123.5524], [44.50587, -85.51546], [44.51436, -85.82096], [44.525, -85.075], [44.5256, -84.06493], [44.53665, -84.16389], [44.5385, -118.5908], [44.53995, -75.63184], [44.55505, -123.3604], [44.56203, -83.45052], [44.56215, -83.78585], [44.565, -83.845], [44.56625, -121.6384], [44.58333, -110.5], [44.58335, -123.4166], [44.58335, -116.0834], [44.59665, -84.0415], [44.5976, -86.09081], [44.62, -83.62335], [44.62185, -75.58825], [44.62801, -115.2019], [44.62845, -85.86292], [44.6335, -121.8165], [44.6375, -83.51418], [44.64535, -85.77714], [44.64824, -115.6803], [44.6543, -90.0411], [44.6616, -122.8494], [44.66399, -73.73606], [44.66666, -85.79052], [44.66862, -116.1155], [44.6693, -123.2433], [44.68, -84.01165], [44.68047, -83.61314], [44.685, -85.433], [44.68557, -118.0891], [44.6908, -69.3614], [44.69867, -87.49564], [44.699, -122.1874], [44.7, -84.71], [44.71466, -85.44922], [44.73109, -86.11156], [44.75, -115.9167], [44.75668, -92.03925], [44.76, -84.12485], [44.76665, -85.00165], [44.7679, -122.095], [44.7751, -118.7717], [44.78159, -68.2283], [44.79307, -122.5674], [44.79969, -71.1794], [44.82167, -84.47611], [44.825, -118.415], [44.83369, -85.72845], [44.83931, -120.5688], [44.8458, -123.5834], [44.8464, -121.1537], [44.8491, -88.51969], [44.85, -116.4], [44.8623, -122.2728], [44.8633, -122.6397], [44.86875, -123.4462], [44.915, -122.585], [44.9166, -116.4873], [44.91666, -116.0833], [44.94835, -84.165], [44.95023, -122.2347], [44.95277, -116.0542], [44.9625, -114.655], [44.9633, -122.4], [44.96651, -123.7718], [44.9723, -118.3692], [44.97487, -122.3057], [44.98276, -83.84937], [44.99745, -122.1647], [44.9979, -122.1631], [45.0, -85.0], [45.0018, -117.2022], [45.02046, -87.73608], [45.02176, -88.5233], [45.0255, -89.02036], [45.0262, -106.8331], [45.0295, -121.9584], [45.03255, -122.4808], [45.03575, -122.7789], [45.04705, -70.99485], [45.0487, -123.5792], [45.04943, -68.63222], [45.05592, -87.63705], [45.05855, -89.08323], [45.0608, -123.694], [45.06215, -123.7027], [45.0635, -83.9205], [45.06881, -123.6956], [45.07072, -123.6664], [45.08334, -115.75], [45.0837, -122.4888], [45.0902, -89.9905], [45.1097, -92.4573], [45.11259, -122.7875], [45.12266, -111.563], [45.12545, -122.533], [45.1365, -83.5175], [45.145, -123.972], [45.14665, -111.0834], [45.1475, -84.425], [45.15, -87.6779], [45.1518, -122.1032], [45.16792, -115.8405], [45.1836, -93.06226], [45.1867, -122.3803], [45.2075, -121.886], [45.22039, -84.21035], [45.22417, -111.125], [45.22849, -89.67523], [45.24006, -121.6794], [45.25725, -121.5684], [45.2704, -113.8186], [45.274, -121.6796], [45.28074, -109.5528], [45.31061, -121.8388], [45.31278, -109.6449], [45.31915, -84.30746], [45.3207, -121.9547], [45.32301, -121.7115], [45.3233, -118.2742], [45.33, -121.9165], [45.33075, -85.23538], [45.33175, -121.9139], [45.33418, -88.16359], [45.33935, -121.3226], [45.351, -83.4885], [45.35665, -84.605], [45.3705, -112.9707], [45.3712, -118.5518], [45.3725, -121.5835], [45.3865, -87.9604], [45.38736, -121.5134], [45.38867, -92.66538], [45.3894, -122.4163], [45.40023, -122.2777], [45.4051, -121.424], [45.40985, -83.85985], [45.4237, -122.3876], [45.43522, -88.12464], [45.43806, -118.0883], [45.44986, -117.7273], [45.45024, -118.3243], [45.4549, -122.1761], [45.46429, -123.0697], [45.46571, -118.875], [45.4684, -122.2487], [45.48204, -122.9903], [45.48318, -118.83], [45.4861, -122.277], [45.4915, -123.2665], [45.49805, -121.8214], [45.5, -118.42], [45.5, -91.71295], [45.5051, -89.16425], [45.5145, -122.3352], [45.5258, -91.87774], [45.54478, -121.5449], [45.55364, -122.1884], [45.56326, -88.7829], [45.5666, -121.7745], [45.5775, -121.6444], [45.5789, -118.6016], [45.58858, -91.59938], [45.5891, -123.5469], [45.58982, -118.6131], [45.59669, -123.3768], [45.59864, -123.6113], [45.61308, -123.3973], [45.61331, -110.7897], [45.62778, -122.0194], [45.63061, -92.12408], [45.63092, -90.02283], [45.63606, -123.3471], [45.63893, -122.8889], [45.63921, -121.9883], [45.63923, -121.8735], [45.64585, -88.0896], [45.64867, -88.03413], [45.65125, -121.9123], [45.6605, -118.5654], [45.66194, -122.0144], [45.66721, -118.7056], [45.66722, -110.8069], [45.672, -90.43515], [45.6764, -118.5658], [45.69, -122.3353], [45.69347, -87.74364], [45.69833, -121.7753], [45.70835, -123.625], [45.723, -121.8864], [45.7264, -89.8741], [45.73271, -90.42001], [45.7351, -123.466], [45.74023, -87.09378], [45.7457, -87.87157], [45.74639, -122.2375], [45.74715, -122.2339], [45.74796, -122.2389], [45.7492, -122.9546], [45.75056, -121.6508], [45.75095, -446665.2], [45.75449, -123.866], [45.75806, -121.2303], [45.75957, -121.6267], [45.76569, -123.3601], [45.77225, -122.3445], [45.7743, -90.51145], [45.775, -90.444], [45.776, -92.683], [45.7811, -122.5322], [45.78177, -90.51659], [45.78247, -87.326], [45.7922, -111.3637], [45.8, -94.27725], [45.80191, -121.9223], [45.80374, -118.0603], [45.8083, -121.9063], [45.81611, -121.5708], [45.82285, -114.0125], [45.82565, -123.296], [45.8331, -122.3985], [45.83632, -121.921], [45.83675, -119.6389], [45.8417, -121.7084], [45.84175, -117.991], [45.85606, -123.1691], [45.8581, -122.4089], [45.8618, -91.75641], [45.86883, -121.4813], [45.87116, -89.66046], [45.87165, -87.02158], [45.88039, -121.1692], [45.8911, -122.4076], [45.89259, -87.04828], [45.89832, -89.6965], [45.90015, -90.43416], [45.90052, -122.3898], [45.91515, -84.87524], [45.91665, -117.925], [45.91694, -121.5825], [45.9216, -121.718], [45.93311, -87.05026], [45.9358, -120.9855], [45.93701, -123.5417], [45.94, -90.46], [45.94002, -121.7582], [45.941, -89.21035], [45.95359, -88.38782], [45.9555, -89.7384], [45.95602, -94.87069], [45.95919, -91.30911], [45.96112, -121.6314], [45.96384, -121.6095], [45.964, -86.1437], [45.9642, -87.3289], [45.96578, -121.7576], [45.9667, -121.6667], [45.9754, -112.4554], [45.9796, -86.0221], [45.99215, -118.0811], [45.99378, -123.9211], [45.9957, -118.1253], [45.9978, -116.9156], [45.99935, -121.4821], [46.01278, -86.81917], [46.01398, -87.98718], [46.01665, -121.6669], [46.01793, -84.72002], [46.01833, -110.3308], [46.0189, -121.7476], [46.02361, -92.88618], [46.02962, -113.1198], [46.03193, -123.4573], [46.03333, -117.9486], [46.03944, -118.0711], [46.0471, -122.8294], [46.04722, -122.1914], [46.0484, -89.66195], [46.05, -121.95], [46.05229, -92.30575], [46.05292, -112.571], [46.05333, -122.6228], [46.0573, -117.9793], [46.06195, -90.0545], [46.06333, -122.1967], [46.06728, -87.15701], [46.0675, -118.0519], [46.0722, -121.3055], [46.0803, -121.7512], [46.08392, -89.91314], [46.08515, -121.7064], [46.09035, -121.9313], [46.09045, -87.48289], [46.0969, -121.9191], [46.10294, -88.45181], [46.1036, -121.7944], [46.10444, -122.015], [46.10445, -91.49319], [46.10861, -122.1283], [46.11887, -122.1931], [46.1333, -121.8], [46.1333, -68.8405], [46.13657, -122.1692], [46.13795, -122.3291], [46.14853, -121.5775], [46.15194, -122.1572], [46.159, -86.611], [46.1675, -89.3381], [46.1725, -121.9305], [46.17861, -122.0514], [46.18694, -113.6925], [46.18968, -85.97613], [46.1903, -123.1175], [46.1911, -123.1875], [46.19183, -86.21193], [46.19328, -167.131], [46.19945, -123.9513], [46.20128, -122.9329], [46.21583, -121.9192], [46.2262, -124.0133], [46.23361, -119.3172], [46.24, -111.75], [46.2404, -115.2088], [46.24639, -120.8681], [46.25, -89.5], [46.25961, -91.10812], [46.27583, -122.2083], [46.2803, -88.7751], [46.295, -121.5478], [46.2965, -122.3431], [46.3018, -89.91997], [46.30766, -113.1424], [46.3105, -122.028], [46.3105, -121.9256], [46.3126, -86.5228], [46.31401, -124.0273], [46.3261, -122.4988], [46.32793, -122.4349], [46.33333, -117.6767], [46.3341, -121.7913], [46.33425, -123.5439], [46.33448, -122.0504], [46.34445, -87.3459], [46.34575, -85.95865], [46.35099, -123.6886], [46.35503, -86.97], [46.35639, -123.6081], [46.364, -122.5935], [46.3666, -92.84309], [46.37, -122.82], [46.37165, -84.91665], [46.3725, -92.83521], [46.3751, -122.1301], [46.3758, -122.5855], [46.37944, -117.9458], [46.38448, -122.5572], [46.385, -122.1379], [46.39019, -122.0303], [46.40153, -121.8738], [46.4125, -122.182], [46.4205, -123.8165], [46.42085, -91.2421], [46.43362, -121.8326], [46.44165, -122.3416], [46.46447, -121.5314], [46.47182, -87.42407], [46.4722, -86.5367], [46.47816, -121.9103], [46.48392, -111.2644], [46.48441, -121.936], [46.48508, -122.7372], [46.48917, -117.9592], [46.49139, -122.9367], [46.49406, -122.5319], [46.4984, -120.4474], [46.50105, -122.8722], [46.50385, -95.11484], [46.50511, -122.9316], [46.50835, -123.0235], [46.51122, -121.2719], [46.51479, -122.6361], [46.52352, -122.3045], [46.5244, -88.16701], [46.52485, -121.2957], [46.5252, -113.5911], [46.52545, -87.5034], [46.5256, -122.0252], [46.52889, -85.49639], [46.5347, -122.4275], [46.53686, -122.202], [46.55139, -121.4625], [46.55354, -122.2842], [46.5579, -122.2988], [46.55861, -122.2739], [46.5602, -121.1458], [46.5672, -122.2963], [46.56725, -85.589], [46.56913, -88.28403], [46.59632, -122.5308], [46.59692, -110.6268], [46.59847, -90.90444], [46.60207, -123.3749], [46.60424, -87.46171], [46.61183, -87.73236], [46.61583, -122.4369], [46.621, -121.0638], [46.63153, -123.2349], [46.63477, -122.7746], [46.64191, -122.4607], [46.6425, -91.1713], [46.64558, -121.2323], [46.6622, -122.9627], [46.6711, -121.5863], [46.67111, -121.5863], [46.67197, -94.80162], [46.67389, -121.5867], [46.67816, -121.5763], [46.67915, -90.86665], [46.68102, -121.6014], [46.69303, -92.49979], [46.6979, -121.5094], [46.7002, -122.1983], [46.71, -122.3442], [46.71103, -123.4013], [46.71195, -85.38834], [46.71444, -121.5406], [46.71444, -120.6694], [46.71833, -122.1767], [46.7225, -121.6606], [46.73252, -94.68516], [46.73581, -121.3201], [46.74551, -121.8221], [46.74621, -122.0467], [46.74778, -121.3603], [46.75225, -122.0566], [46.75468, -122.1183], [46.75473, -116.4292], [46.75861, -122.0297], [46.75889, -114.08], [46.75905, -115.8545], [46.75953, -122.0246], [46.76389, -110.7781], [46.76472, -111.8861], [46.766, -122.1652], [46.77641, -121.9557], [46.78149, -93.81888], [46.7818, -123.8793], [46.78571, -122.7515], [46.79165, -110.4165], [46.79955, -122.2738], [46.803, -122.4133], [46.80505, -121.0909], [46.8102, -116.8368], [46.81045, -124.072], [46.81398, -122.0571], [46.82167, -121.2764], [46.82742, -123.7095], [46.83285, -112.702], [46.8434, -123.2383], [46.84565, -122.3076], [46.84748, -122.2719], [46.85, -121.25], [46.85524, -121.3034], [46.86044, -122.7043], [46.86113, -122.2669], [46.87111, -89.31389], [46.87139, -121.2981], [46.8733, -121.3051], [46.878, -122.3574], [46.88234, -122.4331], [46.92417, -92.83774], [46.92694, -124.1736], [46.93333, -121.2692], [46.93335, -113.8334], [46.9363, -122.7607], [46.93755, -123.8358], [46.9382, -122.382], [46.94, -115.586], [46.94102, -123.7727], [46.94445, -122.6893], [46.94913, -122.6869], [46.94917, -122.6869], [46.951, -122.2985], [46.958, -122.6755], [46.96114, -124.1526], [46.96189, -124.1692], [46.96508, -114.0725], [46.96515, -122.69], [46.9705, -123.6288], [46.97441, -122.6317], [46.97694, -113.8381], [46.9782, -123.3893], [46.97822, -116.923], [46.97944, -121.0939], [46.9805, -121.7464], [46.98278, -123.1742], [46.98333, -121.0922], [46.985, -122.7669], [46.98578, -122.6997], [46.98621, -123.8161], [46.988, -123.8647], [46.9974, -122.1694], [46.99857, -121.6321], [47.00008, -121.9563], [47.0019, -121.6279], [47.0033, -123.4822], [47.0044, -122.5386], [47.00444, -122.5386], [47.00625, -123.2902], [47.01139, -123.6619], [47.01278, -121.4642], [47.01562, -122.0282], [47.0183, -121.5344], [47.0228, -121.5497], [47.0274, -122.3003], [47.03189, -122.3677], [47.03222, -114.0906], [47.0413, -124.053], [47.04333, -112.7031], [47.04433, -121.4234], [47.0466, -121.51], [47.05072, -122.4212], [47.05472, -121.8211], [47.0562, -124.0556], [47.0586, -122.2864], [47.06032, -114.0717], [47.06045, -122.157], [47.0615, -116.322], [47.064, -122.3482], [47.0709, -124.166], [47.07405, -122.4428], [47.07444, -111.9625], [47.07954, -112.5649], [47.0849, -122.5926], [47.08824, -123.7194], [47.0945, -122.0874], [47.0958, -122.2356], [47.09685, -121.45], [47.09762, -122.5368], [47.09982, -122.6246], [47.10637, -122.5958], [47.1144, -121.4844], [47.12015, -123.0865], [47.12045, -121.5298], [47.12806, -111.9094], [47.1305, -123.0966], [47.13485, -121.9418], [47.1352, -122.0669], [47.14385, -122.3055], [47.14472, -120.7967], [47.147, -122.6028], [47.15556, -122.4328], [47.1589, -94.83755], [47.1608, -121.6594], [47.16145, -121.8943], [47.172, -122.1625], [47.17295, -122.2214], [47.1772, -122.1852], [47.17833, -111.9744], [47.1787, -122.2484], [47.1826, -121.7713], [47.18556, -122.2917], [47.1862, -122.1054], [47.18806, -120.554], [47.19006, -124.199], [47.1902, -120.9783], [47.19253, -116.0776], [47.19944, -120.2758], [47.1998, -121.7565], [47.20113, -121.0161], [47.2055, -123.3958], [47.21551, -120.9383], [47.2255, -121.805], [47.2293, -123.4898], [47.23194, -122.885], [47.232, -88.16361], [47.2331, -123.9878], [47.23444, -115.6292], [47.23455, -116.7369], [47.2416, -122.1833], [47.2475, -123.8886], [47.25335, -114.45], [47.25722, -120.8908], [47.2637, -120.2238], [47.2641, -123.1583], [47.27147, -93.02428], [47.275, -122.195], [47.27667, -122.8858], [47.28069, -122.8833], [47.2831, -121.9258], [47.2838, -124.2306], [47.2842, -121.0777], [47.288, -121.9658], [47.29435, -123.1267], [47.29833, -120.3], [47.29944, -122.1806], [47.31732, -93.28008], [47.3178, -121.2802], [47.323, -93.9137], [47.32307, -61921560.0], [47.32944, -122.5789], [47.3304, -94.1211], [47.3338, -121.2309], [47.33515, -121.4044], [47.33694, -123.5894], [47.34072, -122.0775], [47.34432, -120.9477], [47.34805, -122.741], [47.35305, -120.2955], [47.3542, -123.2334], [47.3631, -123.9718], [47.3704, -122.782], [47.3724, -122.5819], [47.39, -122.2187], [47.3958, -121.5356], [47.396, -123.1976], [47.3978, -123.2008], [47.3991, -121.1008], [47.39974, -94.41713], [47.40245, -121.5633], [47.4028, -123.2022], [47.41, -121.725], [47.41306, -123.8792], [47.41704, -121.1417], [47.41995, -123.2005], [47.425, -121.4317], [47.425, -121.4142], [47.4259, -123.8763], [47.4284, -92.01759], [47.4317, -121.7731], [47.4352, -121.7812], [47.43534, -121.7666], [47.43842, -94.98708], [47.43904, -115.6545], [47.44, -123.7635], [47.4506, -122.3234], [47.45411, -122.3219], [47.4549, -122.2825], [47.46312, -121.4454], [47.4644, -120.6705], [47.4645, -123.8979], [47.46872, -123.2259], [47.47025, -92.75357], [47.47745, -121.0415], [47.48176, -121.6548], [47.4822, -120.319], [47.48271, -95.05023], [47.485, -121.5287], [47.4914, -94.57375], [47.49367, -123.8859], [47.49488, -121.7555], [47.495, -120.835], [47.49753, -93.61481], [47.49865, -123.2182], [47.5, -93.0], [47.50319, -123.8343], [47.509, -115.9965], [47.5103, -122.0456], [47.51591, -92.6349], [47.5225, -121.7569], [47.52413, -94.88525], [47.52522, -93.25262], [47.5279, -122.3454], [47.52877, -122.7197], [47.5405, -115.947], [47.5505, -117.167], [47.5532, -124.3324], [47.55477, -121.5354], [47.5616, -123.1967], [47.57132, -123.1586], [47.5754, -92.53], [47.57576, -121.7427], [47.57778, -124.2933], [47.5958, -123.1208], [47.6016, -121.6785], [47.60413, -113.7593], [47.6068, -121.9008], [47.6181, -121.3114], [47.61893, -116.2617], [47.61922, -123.1592], [47.61947, -116.9945], [47.62167, -115.3903], [47.62769, -117.3606], [47.63297, -102.7291], [47.64581, -120.607], [47.65885, -93.75745], [47.6597, -122.105], [47.6633, -122.1253], [47.6653, -122.9714], [47.66724, -108.6873], [47.67304, -122.941], [47.6835, -116.211], [47.70178, -121.1859], [47.70667, -104.1922], [47.7079, -122.9179], [47.70965, -116.9266], [47.71167, -121.1544], [47.7117, -121.1544], [47.71188, -101.8886], [47.71782, -123.0533], [47.72142, -124.3985], [47.72298, -120.7219], [47.72964, -102.701], [47.73081, -117.159], [47.7393, -121.9749], [47.74207, -117.5302], [47.74225, -122.5377], [47.7442, -122.8994], [47.74435, -120.7426], [47.74897, -122.4966], [47.75026, -117.5152], [47.75034, -122.1979], [47.7504, -122.535], [47.7613, -122.7063], [47.763, -122.5344], [47.76524, -94.07877], [47.77293, -122.5552], [47.775, -120.715], [47.77559, -120.8206], [47.78212, -122.528], [47.7853, -121.6647], [47.79, -122.54], [47.79111, -122.1914], [47.79222, -121.1958], [47.7925, -122.1676], [47.79538, -120.6295], [47.82243, -124.195], [47.82636, -121.1057], [47.8306, -123.2135], [47.8323, -120.718], [47.83334, -92.92708], [47.83843, -120.55], [47.8465, -122.1357], [47.8498, -120.9591], [47.85001, -116.6079], [47.85556, -121.9697], [47.85691, -120.6502], [47.8573, -121.6352], [47.86028, -123.9364], [47.86405, -121.6738], [47.86697, -123.8796], [47.8764, -95.0168], [47.87725, -121.8943], [47.87965, -91.97748], [47.8895, -121.8134], [47.8901, -121.3676], [47.8925, -122.0111], [47.89745, -122.8345], [47.90079, -121.6692], [47.9093, -118.9505], [47.9237, -122.8531], [47.92528, -117.1153], [47.9261, -123.3769], [47.93722, -123.82], [47.94001, -124.3863], [47.94056, -122.7919], [47.94485, -123.5436], [47.9477, -124.5301], [47.95614, -116.7787], [47.96136, -118.1611], [47.969, -123.582], [47.96905, -116.5499], [47.97205, -121.4008], [47.97637, -117.7324], [47.981, -117.6454], [47.9817, -122.0447], [47.98521, -113.9818], [48.0028, -121.9572], [48.00503, -122.911], [48.02073, -121.3552], [48.02611, -121.6406], [48.0281, -123.5864], [48.03062, -117.5429], [48.03114, -121.6708], [48.03278, -105.8642], [48.03632, -122.9539], [48.04725, -121.4469], [48.05305, -121.429], [48.0607, -90.58915], [48.0744, -121.7915], [48.07834, -121.7363], [48.08025, -123.7108], [48.0835, -121.9683], [48.08955, -123.3678], [48.09725, -122.8241], [48.0985, -123.3261], [48.09853, -121.8135], [48.10255, -122.2763], [48.105, -121.905], [48.10892, -121.5186], [48.11308, -122.1375], [48.1143, -116.0558], [48.11509, -121.9677], [48.11556, -122.0958], [48.11949, -124.5989], [48.1278, -121.7692], [48.13025, -121.851], [48.1316, -92.296], [48.13261, -121.3539], [48.1368, -123.7349], [48.13826, -92.2895], [48.1472, -121.3819], [48.15585, -116.1842], [48.15997, -118.0387], [48.1609, -124.7312], [48.17107, -122.5089], [48.1784, -92.12065], [48.18676, -118.0076], [48.1917, -121.5757], [48.1964, -116.99], [48.19923, -120.7772], [48.19984, -120.7744], [48.21095, -122.0262], [48.21167, -121.6769], [48.22336, -121.5777], [48.22407, -116.8768], [48.247, -122.6916], [48.2475, -121.9425], [48.25206, -116.0969], [48.25422, -101.3166], [48.255, -116.1475], [48.2681, -121.3314], [48.2688, -121.705], [48.27011, -115.6418], [48.27646, -124.6802], [48.27656, -122.2138], [48.2775, -121.8078], [48.2914, -117.4546], [48.308, -122.215], [48.31199, -120.6599], [48.321, -120.0745], [48.32675, -121.6962], [48.32956, -119.187], [48.33, -116.71], [48.35552, -121.8668], [48.36139, -113.1236], [48.36361, -120.1211], [48.36624, -117.9368], [48.36861, -122.2778], [48.37697, -121.8281], [48.3912, -119.7595], [48.39936, -122.645], [48.40611, -118.9844], [48.40859, -119.0709], [48.43505, -121.3455], [48.43676, -116.9137], [48.44425, -119.9417], [48.45359, -116.6339], [48.45809, -120.1611], [48.48157, -122.1845], [48.49398, -117.0579], [48.49805, -116.4171], [48.50999, -120.793], [48.5149, -121.2543], [48.51673, -118.5905], [48.52395, -121.4105], [48.52579, -96.28425], [48.53944, -121.745], [48.56245, -121.8588], [48.57028, -119.8345], [48.57806, -119.6985], [48.57989, -117.5888], [48.58177, -120.8032], [48.59694, -120.5122], [48.60844, -118.4379], [48.60873, -93.33372], [48.61972, -120.1075], [48.6254, -118.4262], [48.6334, -116.934], [48.64056, -121.8053], [48.64185, -120.502], [48.64385, -119.182], [48.65083, -117.3347], [48.65397, -117.3349], [48.65528, -117.7619], [48.6584, -119.8428], [48.66175, -121.3685], [48.66611, -117.4694], [48.68, -113.82], [48.68985, -122.4078], [48.71545, -119.0802], [48.72917, -121.6278], [48.73665, -116.8596], [48.74111, -117.4161], [48.74915, -116.8415], [48.75528, -117.4214], [48.75694, -116.7338], [48.76075, -122.2156], [48.78056, -122.1483], [48.78336, -122.2196], [48.78389, -117.8106], [48.7844, -118.5545], [48.79056, -117.2833], [48.80483, -117.5853], [48.8178, -122.1656], [48.83558, -117.2776], [48.84984, -122.1455], [48.8572, -96.0073], [48.86, -121.6738], [48.86479, -117.3672], [48.90147, -122.3347], [48.9058, -121.6967], [48.9138, -119.7023], [48.92928, -122.2638], [48.9294, -122.0247], [48.92982, -122.2018], [48.93221, -118.609], [48.93228, -121.9995], [48.94655, -119.5423], [48.95835, -119.7084], [48.95876, -118.4102], [48.9588, -119.7085], [48.9651, -120.5949], [55.1872, -132.7982], [55.2035, -132.8202], [55.4555, -132.7333], [57.7566, -155.981], [61.0595, -149.7853], [61.09085, -149.7667], [61.5, -142.9], [62.77335, -141.3165], [62.9375, -141.5667], [63.98869, -142.7691], [64.89139, -147.8142]],\n",
       "                {&quot;blur&quot;: 15, &quot;maxZoom&quot;: 10, &quot;minOpacity&quot;: 0.5, &quot;radius&quot;: 7}\n",
       "            );\n",
       "        \n",
       "    \n",
       "            heat_map_8da1b3ff5ec443b5df0ef14ebdbc2a5c.addTo(map_aebc933d2cd0f7155bb67c191939aa93);\n",
       "        \n",
       "    \n",
       "            map_aebc933d2cd0f7155bb67c191939aa93.fitBounds(\n",
       "                [[24.396308, -125.0], [49.384358, -66.93457]],\n",
       "                {}\n",
       "            );\n",
       "        \n",
       "&lt;/script&gt;\n",
       "&lt;/html&gt;\" style=\"position:absolute;width:100%;height:100%;left:0;top:0;border:none !important;\" allowfullscreen webkitallowfullscreen mozallowfullscreen></iframe></div></div>"
      ],
      "text/plain": [
       "<folium.folium.Map at 0x321529f10>"
      ]
     },
     "execution_count": 180,
     "metadata": {},
     "output_type": "execute_result"
    }
   ],
   "source": [
    "# Display the reports on the map as a heatmap\n",
    "map = folium.Map(df_loc[['latitude','longitude']].median().values.tolist(), \n",
    "                zoom_start=4)\n",
    "\n",
    "HeatMap(data=df_loc[['latitude','longitude']].groupby([\n",
    "    'latitude','longitude']).sum().reset_index().values.tolist(), \n",
    "        radius=7, max_zoom=10).add_to(map)\n",
    "\n",
    "# zoom to the US\n",
    "map.fit_bounds([[24.396308, -125.0], [49.384358, -66.93457]])\n",
    "\n",
    "map"
   ]
  },
  {
   "cell_type": "code",
   "execution_count": 181,
   "metadata": {},
   "outputs": [
    {
     "data": {
      "image/png": "[encoded data removed]",
      "text/plain": [
       "<Figure size 1200x600 with 1 Axes>"
      ]
     },
     "metadata": {},
     "output_type": "display_data"
    }
   ],
   "source": [
    "# plot the number of reports per state sorted by the number of reports\n",
    "plt.figure(figsize=(12,6))\n",
    "sns.countplot(x='state', data=df_loc, order=df_loc['state'].value_counts().index)\n",
    "plt.title('Number of Reports per State')\n",
    "plt.xticks(rotation=90)\n",
    "plt.locator_params(axis='x', nbins=50);"
   ]
  },
  {
   "cell_type": "code",
   "execution_count": 182,
   "metadata": {},
   "outputs": [
    {
     "data": {
      "image/png": "[encoded data removed]",
      "text/plain": [
       "<Figure size 1200x600 with 1 Axes>"
      ]
     },
     "metadata": {},
     "output_type": "display_data"
    }
   ],
   "source": [
    "# Plot the percentage of reports per state\n",
    "plt.figure(figsize=(12,6))\n",
    "(df_loc['state'].value_counts(normalize=True)*100).plot(kind='bar')\n",
    "plt.title('Percentage of Reports per State')\n",
    "plt.xticks(rotation=90)\n",
    "plt.ylabel('Percentage')\n",
    "plt.locator_params(axis='x', nbins=50);"
   ]
  },
  {
   "cell_type": "code",
   "execution_count": 199,
   "metadata": {},
   "outputs": [
    {
     "data": {
      "text/html": [
       "<div>\n",
       "<style scoped>\n",
       "    .dataframe tbody tr th:only-of-type {\n",
       "        vertical-align: middle;\n",
       "    }\n",
       "\n",
       "    .dataframe tbody tr th {\n",
       "        vertical-align: top;\n",
       "    }\n",
       "\n",
       "    .dataframe thead th {\n",
       "        text-align: right;\n",
       "    }\n",
       "</style>\n",
       "<table border=\"1\" class=\"dataframe\">\n",
       "  <thead>\n",
       "    <tr style=\"text-align: right;\">\n",
       "      <th></th>\n",
       "      <th>state</th>\n",
       "      <th>year</th>\n",
       "      <th>count</th>\n",
       "    </tr>\n",
       "  </thead>\n",
       "  <tbody>\n",
       "    <tr>\n",
       "      <th>0</th>\n",
       "      <td>AK</td>\n",
       "      <td>1995.0</td>\n",
       "      <td>1</td>\n",
       "    </tr>\n",
       "    <tr>\n",
       "      <th>1</th>\n",
       "      <td>AK</td>\n",
       "      <td>2000.0</td>\n",
       "      <td>1</td>\n",
       "    </tr>\n",
       "    <tr>\n",
       "      <th>2</th>\n",
       "      <td>AK</td>\n",
       "      <td>2001.0</td>\n",
       "      <td>1</td>\n",
       "    </tr>\n",
       "    <tr>\n",
       "      <th>3</th>\n",
       "      <td>AK</td>\n",
       "      <td>2003.0</td>\n",
       "      <td>1</td>\n",
       "    </tr>\n",
       "    <tr>\n",
       "      <th>4</th>\n",
       "      <td>AK</td>\n",
       "      <td>2004.0</td>\n",
       "      <td>4</td>\n",
       "    </tr>\n",
       "    <tr>\n",
       "      <th>...</th>\n",
       "      <td>...</td>\n",
       "      <td>...</td>\n",
       "      <td>...</td>\n",
       "    </tr>\n",
       "    <tr>\n",
       "      <th>1369</th>\n",
       "      <td>WY</td>\n",
       "      <td>2002.0</td>\n",
       "      <td>1</td>\n",
       "    </tr>\n",
       "    <tr>\n",
       "      <th>1370</th>\n",
       "      <td>WY</td>\n",
       "      <td>2003.0</td>\n",
       "      <td>1</td>\n",
       "    </tr>\n",
       "    <tr>\n",
       "      <th>1371</th>\n",
       "      <td>WY</td>\n",
       "      <td>2005.0</td>\n",
       "      <td>1</td>\n",
       "    </tr>\n",
       "    <tr>\n",
       "      <th>1372</th>\n",
       "      <td>WY</td>\n",
       "      <td>2007.0</td>\n",
       "      <td>1</td>\n",
       "    </tr>\n",
       "    <tr>\n",
       "      <th>1373</th>\n",
       "      <td>WY</td>\n",
       "      <td>2017.0</td>\n",
       "      <td>1</td>\n",
       "    </tr>\n",
       "  </tbody>\n",
       "</table>\n",
       "<p>1374 rows × 3 columns</p>\n",
       "</div>"
      ],
      "text/plain": [
       "     state    year  count\n",
       "0       AK  1995.0      1\n",
       "1       AK  2000.0      1\n",
       "2       AK  2001.0      1\n",
       "3       AK  2003.0      1\n",
       "4       AK  2004.0      4\n",
       "...    ...     ...    ...\n",
       "1369    WY  2002.0      1\n",
       "1370    WY  2003.0      1\n",
       "1371    WY  2005.0      1\n",
       "1372    WY  2007.0      1\n",
       "1373    WY  2017.0      1\n",
       "\n",
       "[1374 rows x 3 columns]"
      ]
     },
     "execution_count": 199,
     "metadata": {},
     "output_type": "execute_result"
    }
   ],
   "source": [
    "df_occur_by_state_by_year = df_loc.groupby(['state', 'year']).size().reset_index(name='count')\n",
    "df_occur_by_state_by_year"
   ]
  },
  {
   "cell_type": "code",
   "execution_count": 215,
   "metadata": {},
   "outputs": [
    {
     "data": {
      "application/vnd.plotly.v1+json": {
       "config": {
        "plotlyServerURL": "https://plot.ly"
       },
       "data": [
        {
         "coloraxis": "coloraxis",
         "geo": "geo",
         "hovertemplate": "year=1869<br>state=%{location}<br>count=%{z}<extra></extra>",
         "locationmode": "USA-states",
         "locations": [
          "CA"
         ],
         "name": "",
         "type": "choropleth",
         "z": [
          1
         ]
        }
       ],
       "frames": [
        {
         "data": [
          {
           "coloraxis": "coloraxis",
           "geo": "geo",
           "hovertemplate": "year=1869<br>state=%{location}<br>count=%{z}<extra></extra>",
           "locationmode": "USA-states",
           "locations": [
            "CA"
           ],
           "name": "",
           "type": "choropleth",
           "z": [
            1
           ]
          }
         ],
         "name": "1869"
        },
        {
         "data": [
          {
           "coloraxis": "coloraxis",
           "geo": "geo",
           "hovertemplate": "year=1921<br>state=%{location}<br>count=%{z}<extra></extra>",
           "locationmode": "USA-states",
           "locations": [
            "PA"
           ],
           "name": "",
           "type": "choropleth",
           "z": [
            1
           ]
          }
         ],
         "name": "1921"
        },
        {
         "data": [
          {
           "coloraxis": "coloraxis",
           "geo": "geo",
           "hovertemplate": "year=1925<br>state=%{location}<br>count=%{z}<extra></extra>",
           "locationmode": "USA-states",
           "locations": [
            "LA"
           ],
           "name": "",
           "type": "choropleth",
           "z": [
            1
           ]
          }
         ],
         "name": "1925"
        },
        {
         "data": [
          {
           "coloraxis": "coloraxis",
           "geo": "geo",
           "hovertemplate": "year=1930<br>state=%{location}<br>count=%{z}<extra></extra>",
           "locationmode": "USA-states",
           "locations": [
            "TX"
           ],
           "name": "",
           "type": "choropleth",
           "z": [
            1
           ]
          }
         ],
         "name": "1930"
        },
        {
         "data": [
          {
           "coloraxis": "coloraxis",
           "geo": "geo",
           "hovertemplate": "year=1937<br>state=%{location}<br>count=%{z}<extra></extra>",
           "locationmode": "USA-states",
           "locations": [
            "IN"
           ],
           "name": "",
           "type": "choropleth",
           "z": [
            1
           ]
          }
         ],
         "name": "1937"
        },
        {
         "data": [
          {
           "coloraxis": "coloraxis",
           "geo": "geo",
           "hovertemplate": "year=1938<br>state=%{location}<br>count=%{z}<extra></extra>",
           "locationmode": "USA-states",
           "locations": [
            "TX"
           ],
           "name": "",
           "type": "choropleth",
           "z": [
            1
           ]
          }
         ],
         "name": "1938"
        },
        {
         "data": [
          {
           "coloraxis": "coloraxis",
           "geo": "geo",
           "hovertemplate": "year=1941<br>state=%{location}<br>count=%{z}<extra></extra>",
           "locationmode": "USA-states",
           "locations": [
            "WA"
           ],
           "name": "",
           "type": "choropleth",
           "z": [
            1
           ]
          }
         ],
         "name": "1941"
        },
        {
         "data": [
          {
           "coloraxis": "coloraxis",
           "geo": "geo",
           "hovertemplate": "year=1942<br>state=%{location}<br>count=%{z}<extra></extra>",
           "locationmode": "USA-states",
           "locations": [
            "OK"
           ],
           "name": "",
           "type": "choropleth",
           "z": [
            1
           ]
          }
         ],
         "name": "1942"
        },
        {
         "data": [
          {
           "coloraxis": "coloraxis",
           "geo": "geo",
           "hovertemplate": "year=1944<br>state=%{location}<br>count=%{z}<extra></extra>",
           "locationmode": "USA-states",
           "locations": [
            "CA",
            "MI"
           ],
           "name": "",
           "type": "choropleth",
           "z": [
            1,
            1
           ]
          }
         ],
         "name": "1944"
        },
        {
         "data": [
          {
           "coloraxis": "coloraxis",
           "geo": "geo",
           "hovertemplate": "year=1947<br>state=%{location}<br>count=%{z}<extra></extra>",
           "locationmode": "USA-states",
           "locations": [
            "FL"
           ],
           "name": "",
           "type": "choropleth",
           "z": [
            1
           ]
          }
         ],
         "name": "1947"
        },
        {
         "data": [
          {
           "coloraxis": "coloraxis",
           "geo": "geo",
           "hovertemplate": "year=1948<br>state=%{location}<br>count=%{z}<extra></extra>",
           "locationmode": "USA-states",
           "locations": [
            "WA"
           ],
           "name": "",
           "type": "choropleth",
           "z": [
            1
           ]
          }
         ],
         "name": "1948"
        },
        {
         "data": [
          {
           "coloraxis": "coloraxis",
           "geo": "geo",
           "hovertemplate": "year=1949<br>state=%{location}<br>count=%{z}<extra></extra>",
           "locationmode": "USA-states",
           "locations": [
            "OR",
            "WA"
           ],
           "name": "",
           "type": "choropleth",
           "z": [
            1,
            1
           ]
          }
         ],
         "name": "1949"
        },
        {
         "data": [
          {
           "coloraxis": "coloraxis",
           "geo": "geo",
           "hovertemplate": "year=1950<br>state=%{location}<br>count=%{z}<extra></extra>",
           "locationmode": "USA-states",
           "locations": [
            "WA",
            "MS",
            "KY"
           ],
           "name": "",
           "type": "choropleth",
           "z": [
            1,
            1,
            1
           ]
          }
         ],
         "name": "1950"
        },
        {
         "data": [
          {
           "coloraxis": "coloraxis",
           "geo": "geo",
           "hovertemplate": "year=1952<br>state=%{location}<br>count=%{z}<extra></extra>",
           "locationmode": "USA-states",
           "locations": [
            "WA"
           ],
           "name": "",
           "type": "choropleth",
           "z": [
            1
           ]
          }
         ],
         "name": "1952"
        },
        {
         "data": [
          {
           "coloraxis": "coloraxis",
           "geo": "geo",
           "hovertemplate": "year=1953<br>state=%{location}<br>count=%{z}<extra></extra>",
           "locationmode": "USA-states",
           "locations": [
            "CT",
            "KY"
           ],
           "name": "",
           "type": "choropleth",
           "z": [
            1,
            1
           ]
          }
         ],
         "name": "1953"
        },
        {
         "data": [
          {
           "coloraxis": "coloraxis",
           "geo": "geo",
           "hovertemplate": "year=1954<br>state=%{location}<br>count=%{z}<extra></extra>",
           "locationmode": "USA-states",
           "locations": [
            "MO"
           ],
           "name": "",
           "type": "choropleth",
           "z": [
            1
           ]
          }
         ],
         "name": "1954"
        },
        {
         "data": [
          {
           "coloraxis": "coloraxis",
           "geo": "geo",
           "hovertemplate": "year=1955<br>state=%{location}<br>count=%{z}<extra></extra>",
           "locationmode": "USA-states",
           "locations": [
            "FL",
            "TN",
            "CA"
           ],
           "name": "",
           "type": "choropleth",
           "z": [
            1,
            1,
            1
           ]
          }
         ],
         "name": "1955"
        },
        {
         "data": [
          {
           "coloraxis": "coloraxis",
           "geo": "geo",
           "hovertemplate": "year=1956<br>state=%{location}<br>count=%{z}<extra></extra>",
           "locationmode": "USA-states",
           "locations": [
            "MO",
            "OR",
            "OH",
            "CA"
           ],
           "name": "",
           "type": "choropleth",
           "z": [
            1,
            1,
            1,
            1
           ]
          }
         ],
         "name": "1956"
        },
        {
         "data": [
          {
           "coloraxis": "coloraxis",
           "geo": "geo",
           "hovertemplate": "year=1957<br>state=%{location}<br>count=%{z}<extra></extra>",
           "locationmode": "USA-states",
           "locations": [
            "NE",
            "CA",
            "VA",
            "GA"
           ],
           "name": "",
           "type": "choropleth",
           "z": [
            1,
            1,
            1,
            1
           ]
          }
         ],
         "name": "1957"
        },
        {
         "data": [
          {
           "coloraxis": "coloraxis",
           "geo": "geo",
           "hovertemplate": "year=1958<br>state=%{location}<br>count=%{z}<extra></extra>",
           "locationmode": "USA-states",
           "locations": [
            "WA",
            "KY",
            "OH",
            "CA"
           ],
           "name": "",
           "type": "choropleth",
           "z": [
            1,
            1,
            2,
            1
           ]
          }
         ],
         "name": "1958"
        },
        {
         "data": [
          {
           "coloraxis": "coloraxis",
           "geo": "geo",
           "hovertemplate": "year=1959<br>state=%{location}<br>count=%{z}<extra></extra>",
           "locationmode": "USA-states",
           "locations": [
            "CA"
           ],
           "name": "",
           "type": "choropleth",
           "z": [
            1
           ]
          }
         ],
         "name": "1959"
        },
        {
         "data": [
          {
           "coloraxis": "coloraxis",
           "geo": "geo",
           "hovertemplate": "year=1960<br>state=%{location}<br>count=%{z}<extra></extra>",
           "locationmode": "USA-states",
           "locations": [
            "WA",
            "GA",
            "WV",
            "KS",
            "MI",
            "TN"
           ],
           "name": "",
           "type": "choropleth",
           "z": [
            1,
            1,
            1,
            1,
            1,
            1
           ]
          }
         ],
         "name": "1960"
        },
        {
         "data": [
          {
           "coloraxis": "coloraxis",
           "geo": "geo",
           "hovertemplate": "year=1961<br>state=%{location}<br>count=%{z}<extra></extra>",
           "locationmode": "USA-states",
           "locations": [
            "FL",
            "CA",
            "GA",
            "AR",
            "PA",
            "TX",
            "WA",
            "MO",
            "WV"
           ],
           "name": "",
           "type": "choropleth",
           "z": [
            1,
            1,
            1,
            1,
            1,
            1,
            1,
            1,
            1
           ]
          }
         ],
         "name": "1961"
        },
        {
         "data": [
          {
           "coloraxis": "coloraxis",
           "geo": "geo",
           "hovertemplate": "year=1962<br>state=%{location}<br>count=%{z}<extra></extra>",
           "locationmode": "USA-states",
           "locations": [
            "MI",
            "FL",
            "OH",
            "UT",
            "CA"
           ],
           "name": "",
           "type": "choropleth",
           "z": [
            2,
            1,
            1,
            1,
            1
           ]
          }
         ],
         "name": "1962"
        },
        {
         "data": [
          {
           "coloraxis": "coloraxis",
           "geo": "geo",
           "hovertemplate": "year=1963<br>state=%{location}<br>count=%{z}<extra></extra>",
           "locationmode": "USA-states",
           "locations": [
            "CA",
            "FL",
            "OH",
            "ID",
            "GA",
            "PA",
            "OR"
           ],
           "name": "",
           "type": "choropleth",
           "z": [
            4,
            1,
            1,
            1,
            1,
            1,
            1
           ]
          }
         ],
         "name": "1963"
        },
        {
         "data": [
          {
           "coloraxis": "coloraxis",
           "geo": "geo",
           "hovertemplate": "year=1964<br>state=%{location}<br>count=%{z}<extra></extra>",
           "locationmode": "USA-states",
           "locations": [
            "CO",
            "TX",
            "SC",
            "UT",
            "CA",
            "IL"
           ],
           "name": "",
           "type": "choropleth",
           "z": [
            2,
            2,
            1,
            1,
            1,
            1
           ]
          }
         ],
         "name": "1964"
        },
        {
         "data": [
          {
           "coloraxis": "coloraxis",
           "geo": "geo",
           "hovertemplate": "year=1965<br>state=%{location}<br>count=%{z}<extra></extra>",
           "locationmode": "USA-states",
           "locations": [
            "CA",
            "MI",
            "IL",
            "NC",
            "WA",
            "GA"
           ],
           "name": "",
           "type": "choropleth",
           "z": [
            2,
            2,
            1,
            1,
            1,
            1
           ]
          }
         ],
         "name": "1965"
        },
        {
         "data": [
          {
           "coloraxis": "coloraxis",
           "geo": "geo",
           "hovertemplate": "year=1966<br>state=%{location}<br>count=%{z}<extra></extra>",
           "locationmode": "USA-states",
           "locations": [
            "WA",
            "TN",
            "NY",
            "CA",
            "OK"
           ],
           "name": "",
           "type": "choropleth",
           "z": [
            1,
            1,
            1,
            2,
            1
           ]
          }
         ],
         "name": "1966"
        },
        {
         "data": [
          {
           "coloraxis": "coloraxis",
           "geo": "geo",
           "hovertemplate": "year=1967<br>state=%{location}<br>count=%{z}<extra></extra>",
           "locationmode": "USA-states",
           "locations": [
            "VA",
            "WA",
            "CA",
            "MI",
            "IL",
            "ID",
            "PA",
            "OH",
            "MO"
           ],
           "name": "",
           "type": "choropleth",
           "z": [
            1,
            5,
            1,
            1,
            1,
            1,
            1,
            1,
            1
           ]
          }
         ],
         "name": "1967"
        },
        {
         "data": [
          {
           "coloraxis": "coloraxis",
           "geo": "geo",
           "hovertemplate": "year=1968<br>state=%{location}<br>count=%{z}<extra></extra>",
           "locationmode": "USA-states",
           "locations": [
            "WI",
            "IL",
            "WA",
            "OR",
            "OH",
            "NC",
            "MI",
            "CA",
            "TX"
           ],
           "name": "",
           "type": "choropleth",
           "z": [
            1,
            3,
            1,
            1,
            1,
            1,
            1,
            2,
            1
           ]
          }
         ],
         "name": "1968"
        },
        {
         "data": [
          {
           "coloraxis": "coloraxis",
           "geo": "geo",
           "hovertemplate": "year=1969<br>state=%{location}<br>count=%{z}<extra></extra>",
           "locationmode": "USA-states",
           "locations": [
            "CA",
            "WA",
            "SC",
            "MI",
            "MO",
            "TX",
            "IL",
            "AR",
            "WV",
            "FL",
            "ID"
           ],
           "name": "",
           "type": "choropleth",
           "z": [
            1,
            4,
            1,
            1,
            1,
            1,
            3,
            1,
            2,
            1,
            2
           ]
          }
         ],
         "name": "1969"
        },
        {
         "data": [
          {
           "coloraxis": "coloraxis",
           "geo": "geo",
           "hovertemplate": "year=1970<br>state=%{location}<br>count=%{z}<extra></extra>",
           "locationmode": "USA-states",
           "locations": [
            "MI",
            "IA",
            "SC",
            "TN",
            "LA",
            "VA",
            "OR",
            "UT",
            "NH",
            "MN",
            "OH",
            "AR",
            "WA",
            "NV",
            "ME"
           ],
           "name": "",
           "type": "choropleth",
           "z": [
            1,
            4,
            1,
            2,
            1,
            3,
            4,
            1,
            1,
            1,
            1,
            1,
            5,
            1,
            1
           ]
          }
         ],
         "name": "1970"
        },
        {
         "data": [
          {
           "coloraxis": "coloraxis",
           "geo": "geo",
           "hovertemplate": "year=1971<br>state=%{location}<br>count=%{z}<extra></extra>",
           "locationmode": "USA-states",
           "locations": [
            "OK",
            "MI",
            "CO",
            "NC",
            "OH",
            "LA",
            "OR",
            "FL",
            "KY",
            "NJ",
            "CA",
            "WA",
            "MT",
            "MO"
           ],
           "name": "",
           "type": "choropleth",
           "z": [
            1,
            1,
            4,
            1,
            2,
            1,
            1,
            1,
            1,
            1,
            2,
            3,
            1,
            2
           ]
          }
         ],
         "name": "1971"
        },
        {
         "data": [
          {
           "coloraxis": "coloraxis",
           "geo": "geo",
           "hovertemplate": "year=1972<br>state=%{location}<br>count=%{z}<extra></extra>",
           "locationmode": "USA-states",
           "locations": [
            "MI",
            "IL",
            "NC",
            "MD",
            "FL",
            "AZ",
            "WY",
            "NV",
            "VA",
            "OH",
            "KY",
            "TX",
            "AR",
            "NY",
            "CA",
            "WA",
            "ID",
            "OR",
            "LA",
            "MO"
           ],
           "name": "",
           "type": "choropleth",
           "z": [
            2,
            3,
            1,
            1,
            3,
            1,
            1,
            2,
            1,
            2,
            2,
            3,
            1,
            1,
            1,
            3,
            1,
            1,
            1,
            1
           ]
          }
         ],
         "name": "1972"
        },
        {
         "data": [
          {
           "coloraxis": "coloraxis",
           "geo": "geo",
           "hovertemplate": "year=1973<br>state=%{location}<br>count=%{z}<extra></extra>",
           "locationmode": "USA-states",
           "locations": [
            "MS",
            "ID",
            "AZ",
            "NY",
            "VA",
            "CA",
            "OK",
            "IL",
            "OH",
            "PA",
            "KY",
            "IN",
            "OR",
            "AR",
            "IA",
            "MT",
            "MI",
            "WA",
            "FL",
            "NC",
            "MO"
           ],
           "name": "",
           "type": "choropleth",
           "z": [
            1,
            1,
            1,
            1,
            1,
            2,
            1,
            3,
            1,
            1,
            1,
            2,
            1,
            1,
            1,
            1,
            1,
            5,
            1,
            1,
            3
           ]
          }
         ],
         "name": "1973"
        },
        {
         "data": [
          {
           "coloraxis": "coloraxis",
           "geo": "geo",
           "hovertemplate": "year=1974<br>state=%{location}<br>count=%{z}<extra></extra>",
           "locationmode": "USA-states",
           "locations": [
            "CA",
            "RI",
            "ID",
            "OH",
            "FL",
            "MI",
            "SC",
            "GA",
            "WV",
            "WA",
            "OK",
            "TN",
            "OR",
            "KS",
            "NE"
           ],
           "name": "",
           "type": "choropleth",
           "z": [
            3,
            1,
            2,
            1,
            6,
            4,
            1,
            3,
            1,
            4,
            1,
            1,
            4,
            1,
            1
           ]
          }
         ],
         "name": "1974"
        },
        {
         "data": [
          {
           "coloraxis": "coloraxis",
           "geo": "geo",
           "hovertemplate": "year=1975<br>state=%{location}<br>count=%{z}<extra></extra>",
           "locationmode": "USA-states",
           "locations": [
            "IA",
            "WI",
            "CA",
            "IL",
            "MS",
            "KS",
            "TX",
            "FL",
            "WA",
            "AR",
            "SC",
            "NC",
            "OR",
            "IN",
            "WV",
            "MN",
            "MO",
            "ID",
            "CO",
            "KY"
           ],
           "name": "",
           "type": "choropleth",
           "z": [
            1,
            2,
            2,
            4,
            2,
            2,
            2,
            6,
            5,
            4,
            1,
            1,
            3,
            2,
            1,
            1,
            2,
            1,
            1,
            1
           ]
          }
         ],
         "name": "1975"
        },
        {
         "data": [
          {
           "coloraxis": "coloraxis",
           "geo": "geo",
           "hovertemplate": "year=1976<br>state=%{location}<br>count=%{z}<extra></extra>",
           "locationmode": "USA-states",
           "locations": [
            "NC",
            "IA",
            "LA",
            "AR",
            "FL",
            "TX",
            "MO",
            "NJ",
            "OR",
            "GA",
            "OH",
            "IL",
            "WA",
            "CA",
            "KY",
            "MI",
            "VA",
            "WI"
           ],
           "name": "",
           "type": "choropleth",
           "z": [
            2,
            1,
            1,
            2,
            1,
            3,
            4,
            1,
            6,
            3,
            6,
            1,
            3,
            1,
            1,
            1,
            1,
            2
           ]
          }
         ],
         "name": "1976"
        },
        {
         "data": [
          {
           "coloraxis": "coloraxis",
           "geo": "geo",
           "hovertemplate": "year=1977<br>state=%{location}<br>count=%{z}<extra></extra>",
           "locationmode": "USA-states",
           "locations": [
            "OH",
            "IA",
            "OK",
            "LA",
            "KS",
            "GA",
            "IN",
            "IL",
            "MA",
            "KY",
            "TX",
            "CO",
            "NJ",
            "CA",
            "OR",
            "MO",
            "UT",
            "NC",
            "MI",
            "MS",
            "MN",
            "FL",
            "AR",
            "MT",
            "WA"
           ],
           "name": "",
           "type": "choropleth",
           "z": [
            6,
            2,
            1,
            2,
            1,
            1,
            1,
            3,
            2,
            1,
            3,
            2,
            2,
            7,
            4,
            4,
            3,
            2,
            3,
            1,
            1,
            4,
            1,
            2,
            7
           ]
          }
         ],
         "name": "1977"
        },
        {
         "data": [
          {
           "coloraxis": "coloraxis",
           "geo": "geo",
           "hovertemplate": "year=1978<br>state=%{location}<br>count=%{z}<extra></extra>",
           "locationmode": "USA-states",
           "locations": [
            "AL",
            "GA",
            "MS",
            "CO",
            "WV",
            "KS",
            "IA",
            "AR",
            "RI",
            "NC",
            "SC",
            "MI",
            "TN",
            "PA",
            "MO",
            "OR",
            "IL",
            "KY",
            "MN",
            "MT",
            "CA",
            "FL",
            "WA",
            "TX",
            "VA",
            "OH",
            "LA",
            "WY",
            "UT"
           ],
           "name": "",
           "type": "choropleth",
           "z": [
            2,
            2,
            1,
            1,
            1,
            3,
            2,
            1,
            1,
            1,
            1,
            2,
            1,
            3,
            1,
            7,
            4,
            5,
            2,
            2,
            7,
            1,
            7,
            2,
            2,
            13,
            1,
            1,
            2
           ]
          }
         ],
         "name": "1978"
        },
        {
         "data": [
          {
           "coloraxis": "coloraxis",
           "geo": "geo",
           "hovertemplate": "year=1979<br>state=%{location}<br>count=%{z}<extra></extra>",
           "locationmode": "USA-states",
           "locations": [
            "MT",
            "NC",
            "CA",
            "WA",
            "FL",
            "ID",
            "WI",
            "OK",
            "AZ",
            "AL",
            "MO",
            "NE",
            "LA",
            "CO",
            "AR",
            "IL",
            "OR",
            "OH",
            "NJ",
            "TX",
            "MA",
            "MS",
            "GA",
            "IN",
            "MI",
            "VA"
           ],
           "name": "",
           "type": "choropleth",
           "z": [
            1,
            1,
            2,
            3,
            2,
            2,
            4,
            1,
            1,
            2,
            1,
            2,
            2,
            1,
            1,
            2,
            2,
            1,
            1,
            3,
            1,
            2,
            2,
            1,
            4,
            1
           ]
          }
         ],
         "name": "1979"
        },
        {
         "data": [
          {
           "coloraxis": "coloraxis",
           "geo": "geo",
           "hovertemplate": "year=1980<br>state=%{location}<br>count=%{z}<extra></extra>",
           "locationmode": "USA-states",
           "locations": [
            "OH",
            "LA",
            "TX",
            "PA",
            "CA",
            "WV",
            "FL",
            "AR",
            "WA",
            "OR",
            "KY",
            "KS",
            "NV",
            "VA",
            "ID",
            "AL",
            "TN",
            "MI",
            "NY",
            "GA",
            "NE",
            "IL",
            "MO"
           ],
           "name": "",
           "type": "choropleth",
           "z": [
            7,
            4,
            3,
            2,
            7,
            1,
            6,
            2,
            10,
            7,
            3,
            1,
            1,
            2,
            1,
            2,
            1,
            3,
            2,
            1,
            1,
            4,
            1
           ]
          }
         ],
         "name": "1980"
        },
        {
         "data": [
          {
           "coloraxis": "coloraxis",
           "geo": "geo",
           "hovertemplate": "year=1981<br>state=%{location}<br>count=%{z}<extra></extra>",
           "locationmode": "USA-states",
           "locations": [
            "NJ",
            "CO",
            "CA",
            "SC",
            "WI",
            "ID",
            "MT",
            "TN",
            "MS",
            "OH",
            "AZ",
            "KY",
            "VA",
            "FL",
            "IA",
            "TX",
            "WA",
            "MO",
            "IN",
            "AR",
            "LA",
            "AL"
           ],
           "name": "",
           "type": "choropleth",
           "z": [
            1,
            1,
            3,
            1,
            2,
            2,
            1,
            3,
            1,
            3,
            3,
            1,
            1,
            6,
            1,
            2,
            6,
            1,
            1,
            1,
            1,
            1
           ]
          }
         ],
         "name": "1981"
        },
        {
         "data": [
          {
           "coloraxis": "coloraxis",
           "geo": "geo",
           "hovertemplate": "year=1982<br>state=%{location}<br>count=%{z}<extra></extra>",
           "locationmode": "USA-states",
           "locations": [
            "UT",
            "WA",
            "MI",
            "OK",
            "MT",
            "KS",
            "NM",
            "GA",
            "IN",
            "FL",
            "OH",
            "OR",
            "ID",
            "IA",
            "LA",
            "MO",
            "NC",
            "CA",
            "TX",
            "KY"
           ],
           "name": "",
           "type": "choropleth",
           "z": [
            1,
            10,
            3,
            2,
            3,
            1,
            1,
            2,
            1,
            4,
            4,
            4,
            1,
            1,
            1,
            3,
            1,
            3,
            2,
            3
           ]
          }
         ],
         "name": "1982"
        },
        {
         "data": [
          {
           "coloraxis": "coloraxis",
           "geo": "geo",
           "hovertemplate": "year=1983<br>state=%{location}<br>count=%{z}<extra></extra>",
           "locationmode": "USA-states",
           "locations": [
            "IL",
            "TX",
            "MO",
            "CA",
            "WV",
            "FL",
            "AR",
            "WA",
            "NC",
            "IA",
            "ID",
            "AL",
            "MN",
            "OK",
            "MI",
            "NM",
            "OH",
            "AZ",
            "WI",
            "OR",
            "KY"
           ],
           "name": "",
           "type": "choropleth",
           "z": [
            1,
            2,
            3,
            3,
            1,
            4,
            1,
            4,
            3,
            1,
            1,
            2,
            1,
            1,
            1,
            1,
            5,
            1,
            2,
            4,
            3
           ]
          }
         ],
         "name": "1983"
        },
        {
         "data": [
          {
           "coloraxis": "coloraxis",
           "geo": "geo",
           "hovertemplate": "year=1984<br>state=%{location}<br>count=%{z}<extra></extra>",
           "locationmode": "USA-states",
           "locations": [
            "UT",
            "VA",
            "TX",
            "KY",
            "IN",
            "OR",
            "FL",
            "GA",
            "NV",
            "KS",
            "WI",
            "OH",
            "MI",
            "WA",
            "CA",
            "IL",
            "AR"
           ],
           "name": "",
           "type": "choropleth",
           "z": [
            1,
            1,
            1,
            1,
            1,
            3,
            3,
            2,
            1,
            1,
            1,
            2,
            3,
            9,
            3,
            1,
            1
           ]
          }
         ],
         "name": "1984"
        },
        {
         "data": [
          {
           "coloraxis": "coloraxis",
           "geo": "geo",
           "hovertemplate": "year=1985<br>state=%{location}<br>count=%{z}<extra></extra>",
           "locationmode": "USA-states",
           "locations": [
            "PA",
            "IA",
            "VA",
            "WA",
            "UT",
            "NY",
            "OR",
            "AL",
            "WV",
            "MI",
            "ID",
            "CA",
            "IL",
            "TN",
            "WI",
            "LA",
            "FL",
            "GA",
            "OH"
           ],
           "name": "",
           "type": "choropleth",
           "z": [
            1,
            1,
            1,
            4,
            1,
            1,
            1,
            1,
            1,
            1,
            2,
            3,
            2,
            1,
            1,
            1,
            6,
            1,
            1
           ]
          }
         ],
         "name": "1985"
        },
        {
         "data": [
          {
           "coloraxis": "coloraxis",
           "geo": "geo",
           "hovertemplate": "year=1986<br>state=%{location}<br>count=%{z}<extra></extra>",
           "locationmode": "USA-states",
           "locations": [
            "MO",
            "AZ",
            "NM",
            "NC",
            "GA",
            "OK",
            "FL",
            "OH",
            "CA",
            "CO",
            "TN",
            "UT",
            "OR",
            "TX",
            "MI",
            "IL",
            "MN",
            "WA",
            "KY",
            "AR"
           ],
           "name": "",
           "type": "choropleth",
           "z": [
            4,
            1,
            1,
            2,
            5,
            1,
            2,
            5,
            3,
            2,
            2,
            1,
            1,
            1,
            3,
            5,
            1,
            5,
            1,
            3
           ]
          }
         ],
         "name": "1986"
        },
        {
         "data": [
          {
           "coloraxis": "coloraxis",
           "geo": "geo",
           "hovertemplate": "year=1987<br>state=%{location}<br>count=%{z}<extra></extra>",
           "locationmode": "USA-states",
           "locations": [
            "NC",
            "MI",
            "CT",
            "CO",
            "OH",
            "GA",
            "TN",
            "OK",
            "CA",
            "PA",
            "WA",
            "FL",
            "IL",
            "MS",
            "TX",
            "LA",
            "WV"
           ],
           "name": "",
           "type": "choropleth",
           "z": [
            3,
            1,
            1,
            2,
            6,
            2,
            3,
            2,
            3,
            1,
            4,
            1,
            1,
            2,
            1,
            1,
            2
           ]
          }
         ],
         "name": "1987"
        },
        {
         "data": [
          {
           "coloraxis": "coloraxis",
           "geo": "geo",
           "hovertemplate": "year=1988<br>state=%{location}<br>count=%{z}<extra></extra>",
           "locationmode": "USA-states",
           "locations": [
            "TX",
            "IN",
            "NC",
            "MT",
            "MO",
            "OH",
            "PA",
            "TN",
            "VA",
            "WA",
            "ID",
            "FL",
            "CA",
            "AR",
            "UT",
            "AL",
            "NJ"
           ],
           "name": "",
           "type": "choropleth",
           "z": [
            2,
            1,
            1,
            1,
            2,
            7,
            1,
            3,
            1,
            2,
            2,
            2,
            5,
            1,
            2,
            1,
            1
           ]
          }
         ],
         "name": "1988"
        },
        {
         "data": [
          {
           "coloraxis": "coloraxis",
           "geo": "geo",
           "hovertemplate": "year=1989<br>state=%{location}<br>count=%{z}<extra></extra>",
           "locationmode": "USA-states",
           "locations": [
            "WV",
            "IA",
            "UT",
            "AR",
            "IL",
            "OR",
            "MI",
            "TN",
            "WI",
            "CO",
            "FL",
            "MO",
            "AZ",
            "WA",
            "MD",
            "OH",
            "NC",
            "MN",
            "MT"
           ],
           "name": "",
           "type": "choropleth",
           "z": [
            1,
            1,
            1,
            1,
            2,
            2,
            1,
            2,
            1,
            1,
            3,
            4,
            1,
            2,
            1,
            2,
            2,
            1,
            2
           ]
          }
         ],
         "name": "1989"
        },
        {
         "data": [
          {
           "coloraxis": "coloraxis",
           "geo": "geo",
           "hovertemplate": "year=1990<br>state=%{location}<br>count=%{z}<extra></extra>",
           "locationmode": "USA-states",
           "locations": [
            "VA",
            "FL",
            "GA",
            "TX",
            "AZ",
            "NJ",
            "ID",
            "WA",
            "CO",
            "AR",
            "MT",
            "CA",
            "IN",
            "NC",
            "MO",
            "AL",
            "OR",
            "KY",
            "MI",
            "PA",
            "OH",
            "WV"
           ],
           "name": "",
           "type": "choropleth",
           "z": [
            1,
            3,
            1,
            3,
            1,
            1,
            1,
            7,
            1,
            1,
            1,
            2,
            1,
            1,
            1,
            2,
            1,
            2,
            2,
            1,
            2,
            3
           ]
          }
         ],
         "name": "1990"
        },
        {
         "data": [
          {
           "coloraxis": "coloraxis",
           "geo": "geo",
           "hovertemplate": "year=1991<br>state=%{location}<br>count=%{z}<extra></extra>",
           "locationmode": "USA-states",
           "locations": [
            "FL",
            "CO",
            "OH",
            "CA",
            "AZ",
            "NC",
            "OR",
            "MO",
            "IL",
            "WA",
            "KY",
            "WV",
            "SC",
            "MI",
            "IA",
            "LA",
            "WI",
            "MT",
            "NJ"
           ],
           "name": "",
           "type": "choropleth",
           "z": [
            3,
            1,
            4,
            4,
            1,
            2,
            5,
            3,
            1,
            8,
            2,
            1,
            1,
            1,
            1,
            1,
            1,
            1,
            1
           ]
          }
         ],
         "name": "1991"
        },
        {
         "data": [
          {
           "coloraxis": "coloraxis",
           "geo": "geo",
           "hovertemplate": "year=1992<br>state=%{location}<br>count=%{z}<extra></extra>",
           "locationmode": "USA-states",
           "locations": [
            "CA",
            "AZ",
            "TX",
            "OH",
            "WI",
            "FL",
            "AR",
            "AL",
            "IL",
            "IN",
            "MN",
            "GA",
            "KY",
            "NY",
            "OK",
            "VA",
            "WA",
            "OR"
           ],
           "name": "",
           "type": "choropleth",
           "z": [
            6,
            1,
            1,
            2,
            1,
            1,
            1,
            1,
            1,
            1,
            1,
            1,
            1,
            1,
            2,
            2,
            5,
            1
           ]
          }
         ],
         "name": "1992"
        },
        {
         "data": [
          {
           "coloraxis": "coloraxis",
           "geo": "geo",
           "hovertemplate": "year=1993<br>state=%{location}<br>count=%{z}<extra></extra>",
           "locationmode": "USA-states",
           "locations": [
            "GA",
            "MT",
            "KY",
            "OH",
            "IL",
            "TX",
            "AZ",
            "MI",
            "TN",
            "WA",
            "FL",
            "CA",
            "MD",
            "LA",
            "ID",
            "VA",
            "AL",
            "OR"
           ],
           "name": "",
           "type": "choropleth",
           "z": [
            2,
            2,
            3,
            1,
            1,
            2,
            1,
            2,
            2,
            5,
            4,
            9,
            1,
            1,
            1,
            1,
            1,
            4
           ]
          }
         ],
         "name": "1993"
        },
        {
         "data": [
          {
           "coloraxis": "coloraxis",
           "geo": "geo",
           "hovertemplate": "year=1994<br>state=%{location}<br>count=%{z}<extra></extra>",
           "locationmode": "USA-states",
           "locations": [
            "VA",
            "MI",
            "MO",
            "CO",
            "PA",
            "WI",
            "IL",
            "OR",
            "CA",
            "KY",
            "AR",
            "NY",
            "UT",
            "MT",
            "WV",
            "GA",
            "TX",
            "AL",
            "MD",
            "FL",
            "WA",
            "TN",
            "OH",
            "NC"
           ],
           "name": "",
           "type": "choropleth",
           "z": [
            2,
            1,
            2,
            4,
            1,
            1,
            3,
            5,
            6,
            3,
            2,
            1,
            1,
            2,
            1,
            1,
            1,
            1,
            1,
            6,
            6,
            3,
            5,
            1
           ]
          }
         ],
         "name": "1994"
        },
        {
         "data": [
          {
           "coloraxis": "coloraxis",
           "geo": "geo",
           "hovertemplate": "year=1995<br>state=%{location}<br>count=%{z}<extra></extra>",
           "locationmode": "USA-states",
           "locations": [
            "TN",
            "OH",
            "AZ",
            "WA",
            "CA",
            "AR",
            "NC",
            "AK",
            "NJ",
            "FL",
            "CO",
            "KY",
            "IL",
            "VA",
            "OR",
            "MI",
            "OK",
            "KS",
            "GA"
           ],
           "name": "",
           "type": "choropleth",
           "z": [
            1,
            5,
            1,
            11,
            2,
            1,
            1,
            1,
            1,
            3,
            2,
            1,
            1,
            2,
            7,
            2,
            1,
            1,
            1
           ]
          }
         ],
         "name": "1995"
        },
        {
         "data": [
          {
           "coloraxis": "coloraxis",
           "geo": "geo",
           "hovertemplate": "year=1996<br>state=%{location}<br>count=%{z}<extra></extra>",
           "locationmode": "USA-states",
           "locations": [
            "AL",
            "OR",
            "AR",
            "LA",
            "NY",
            "PA",
            "KY",
            "WA",
            "IL",
            "OK",
            "FL",
            "ID",
            "KS",
            "MI",
            "CO",
            "MO",
            "CA",
            "WV",
            "UT",
            "OH",
            "TX",
            "NE"
           ],
           "name": "",
           "type": "choropleth",
           "z": [
            2,
            4,
            2,
            1,
            1,
            1,
            3,
            13,
            2,
            1,
            3,
            2,
            1,
            3,
            3,
            1,
            1,
            1,
            2,
            2,
            3,
            1
           ]
          }
         ],
         "name": "1996"
        },
        {
         "data": [
          {
           "coloraxis": "coloraxis",
           "geo": "geo",
           "hovertemplate": "year=1997<br>state=%{location}<br>count=%{z}<extra></extra>",
           "locationmode": "USA-states",
           "locations": [
            "WV",
            "KY",
            "UT",
            "OR",
            "IL",
            "MO",
            "AL",
            "OH",
            "WI",
            "WY",
            "NJ",
            "OK",
            "IN",
            "TX",
            "AZ",
            "ID",
            "LA",
            "CO",
            "IA",
            "CA",
            "MI",
            "MS",
            "NE",
            "WA",
            "AR",
            "FL",
            "VA",
            "NY",
            "NC"
           ],
           "name": "",
           "type": "choropleth",
           "z": [
            2,
            2,
            1,
            4,
            1,
            4,
            1,
            7,
            3,
            2,
            1,
            5,
            2,
            2,
            1,
            1,
            1,
            5,
            1,
            6,
            3,
            2,
            1,
            13,
            2,
            3,
            1,
            2,
            1
           ]
          }
         ],
         "name": "1997"
        },
        {
         "data": [
          {
           "coloraxis": "coloraxis",
           "geo": "geo",
           "hovertemplate": "year=1998<br>state=%{location}<br>count=%{z}<extra></extra>",
           "locationmode": "USA-states",
           "locations": [
            "NJ",
            "NC",
            "OR",
            "NE",
            "WV",
            "UT",
            "PA",
            "VA",
            "WA",
            "NY",
            "SC",
            "TX",
            "OH",
            "CA",
            "MO",
            "FL",
            "KY",
            "KS",
            "AL",
            "CO",
            "MA",
            "RI",
            "IL",
            "AZ",
            "GA",
            "MI",
            "AR"
           ],
           "name": "",
           "type": "choropleth",
           "z": [
            1,
            4,
            3,
            1,
            3,
            1,
            1,
            3,
            10,
            1,
            2,
            2,
            10,
            5,
            2,
            6,
            1,
            2,
            1,
            6,
            1,
            1,
            3,
            1,
            4,
            1,
            3
           ]
          }
         ],
         "name": "1998"
        },
        {
         "data": [
          {
           "coloraxis": "coloraxis",
           "geo": "geo",
           "hovertemplate": "year=1999<br>state=%{location}<br>count=%{z}<extra></extra>",
           "locationmode": "USA-states",
           "locations": [
            "MN",
            "IA",
            "NC",
            "OK",
            "MD",
            "IN",
            "UT",
            "MI",
            "OH",
            "WA",
            "KY",
            "CO",
            "AZ",
            "WI",
            "NY",
            "GA",
            "OR",
            "DE",
            "FL",
            "MO",
            "CA",
            "AR",
            "IL",
            "WV",
            "AL"
           ],
           "name": "",
           "type": "choropleth",
           "z": [
            1,
            1,
            2,
            2,
            1,
            1,
            1,
            3,
            7,
            9,
            1,
            3,
            1,
            2,
            4,
            5,
            1,
            1,
            4,
            2,
            3,
            2,
            4,
            2,
            3
           ]
          }
         ],
         "name": "1999"
        },
        {
         "data": [
          {
           "coloraxis": "coloraxis",
           "geo": "geo",
           "hovertemplate": "year=2000<br>state=%{location}<br>count=%{z}<extra></extra>",
           "locationmode": "USA-states",
           "locations": [
            "AK",
            "MN",
            "CO",
            "IL",
            "AL",
            "IA",
            "WY",
            "OH",
            "LA",
            "MI",
            "GA",
            "CA",
            "ND",
            "TN",
            "MA",
            "TX",
            "WV",
            "FL",
            "OR",
            "NH",
            "WA",
            "NM",
            "WI",
            "NC",
            "MO",
            "ID",
            "KS",
            "VA",
            "KY",
            "AZ",
            "OK",
            "AR"
           ],
           "name": "",
           "type": "choropleth",
           "z": [
            1,
            1,
            9,
            6,
            5,
            4,
            2,
            14,
            4,
            5,
            3,
            8,
            1,
            2,
            2,
            3,
            2,
            10,
            11,
            1,
            27,
            1,
            2,
            2,
            3,
            2,
            1,
            2,
            2,
            3,
            5,
            2
           ]
          }
         ],
         "name": "2000"
        },
        {
         "data": [
          {
           "coloraxis": "coloraxis",
           "geo": "geo",
           "hovertemplate": "year=2001<br>state=%{location}<br>count=%{z}<extra></extra>",
           "locationmode": "USA-states",
           "locations": [
            "IL",
            "NH",
            "WI",
            "WA",
            "CA",
            "OR",
            "MI",
            "AR",
            "LA",
            "IA",
            "KS",
            "ID",
            "NY",
            "KY",
            "NM",
            "OH",
            "GA",
            "AL",
            "FL",
            "WV",
            "UT",
            "AZ",
            "MO",
            "NC",
            "MT",
            "OK",
            "MS",
            "CO",
            "AK",
            "TX"
           ],
           "name": "",
           "type": "choropleth",
           "z": [
            2,
            1,
            2,
            20,
            18,
            12,
            5,
            7,
            1,
            2,
            2,
            2,
            3,
            2,
            1,
            10,
            1,
            2,
            5,
            5,
            1,
            2,
            1,
            1,
            1,
            6,
            1,
            9,
            1,
            4
           ]
          }
         ],
         "name": "2001"
        },
        {
         "data": [
          {
           "coloraxis": "coloraxis",
           "geo": "geo",
           "hovertemplate": "year=2002<br>state=%{location}<br>count=%{z}<extra></extra>",
           "locationmode": "USA-states",
           "locations": [
            "NM",
            "WA",
            "NC",
            "NY",
            "MT",
            "WY",
            "WV",
            "VA",
            "IN",
            "UT",
            "OR",
            "MO",
            "OK",
            "GA",
            "WI",
            "AL",
            "MN",
            "OH",
            "SD",
            "CO",
            "CA",
            "TX",
            "TN",
            "MI",
            "AR",
            "KY"
           ],
           "name": "",
           "type": "choropleth",
           "z": [
            3,
            19,
            2,
            3,
            2,
            1,
            1,
            3,
            2,
            1,
            11,
            2,
            3,
            1,
            2,
            2,
            1,
            11,
            1,
            4,
            12,
            3,
            1,
            6,
            4,
            1
           ]
          }
         ],
         "name": "2002"
        },
        {
         "data": [
          {
           "coloraxis": "coloraxis",
           "geo": "geo",
           "hovertemplate": "year=2003<br>state=%{location}<br>count=%{z}<extra></extra>",
           "locationmode": "USA-states",
           "locations": [
            "WA",
            "SD",
            "MI",
            "KY",
            "AR",
            "PA",
            "ID",
            "UT",
            "OH",
            "LA",
            "MO",
            "FL",
            "GA",
            "TN",
            "AZ",
            "WY",
            "CA",
            "NE",
            "TX",
            "AL",
            "OK",
            "WV",
            "IN",
            "OR",
            "NY",
            "SC",
            "KS",
            "VA",
            "IL",
            "WI",
            "AK",
            "MT",
            "CO"
           ],
           "name": "",
           "type": "choropleth",
           "z": [
            19,
            1,
            5,
            4,
            5,
            1,
            1,
            1,
            10,
            1,
            2,
            7,
            4,
            1,
            2,
            1,
            14,
            1,
            29,
            3,
            6,
            1,
            2,
            9,
            4,
            2,
            1,
            6,
            2,
            1,
            1,
            1,
            5
           ]
          }
         ],
         "name": "2003"
        },
        {
         "data": [
          {
           "coloraxis": "coloraxis",
           "geo": "geo",
           "hovertemplate": "year=2004<br>state=%{location}<br>count=%{z}<extra></extra>",
           "locationmode": "USA-states",
           "locations": [
            "OR",
            "AR",
            "WA",
            "KY",
            "NY",
            "CA",
            "IN",
            "TX",
            "NC",
            "GA",
            "OH",
            "AL",
            "MI",
            "AK",
            "ND",
            "MO",
            "MS",
            "CO",
            "TN",
            "NH",
            "WV",
            "IA",
            "MT",
            "NV",
            "VA",
            "FL",
            "ID",
            "PA",
            "AZ",
            "WI",
            "MN",
            "IL",
            "KS",
            "NJ",
            "OK",
            "NM",
            "UT"
           ],
           "name": "",
           "type": "choropleth",
           "z": [
            16,
            8,
            31,
            2,
            4,
            12,
            1,
            50,
            2,
            6,
            13,
            3,
            4,
            4,
            2,
            12,
            1,
            4,
            3,
            1,
            5,
            1,
            3,
            1,
            2,
            14,
            2,
            1,
            1,
            4,
            2,
            7,
            1,
            1,
            11,
            3,
            5
           ]
          }
         ],
         "name": "2004"
        },
        {
         "data": [
          {
           "coloraxis": "coloraxis",
           "geo": "geo",
           "hovertemplate": "year=2005<br>state=%{location}<br>count=%{z}<extra></extra>",
           "locationmode": "USA-states",
           "locations": [
            "MI",
            "KS",
            "OK",
            "KY",
            "OH",
            "SC",
            "TN",
            "AZ",
            "NC",
            "MT",
            "MN",
            "AL",
            "ND",
            "WA",
            "UT",
            "NE",
            "IL",
            "GA",
            "WV",
            "IN",
            "MD",
            "WI",
            "FL",
            "OR",
            "NY",
            "AR",
            "LA",
            "TX",
            "CO",
            "CA",
            "NM",
            "MO",
            "PA",
            "WY",
            "MS",
            "ID",
            "NJ",
            "VA",
            "VT"
           ],
           "name": "",
           "type": "choropleth",
           "z": [
            2,
            5,
            4,
            8,
            11,
            2,
            4,
            5,
            3,
            2,
            2,
            2,
            1,
            28,
            4,
            2,
            7,
            9,
            7,
            4,
            1,
            2,
            11,
            7,
            5,
            5,
            1,
            19,
            8,
            10,
            6,
            4,
            1,
            1,
            2,
            3,
            7,
            1,
            2
           ]
          }
         ],
         "name": "2005"
        },
        {
         "data": [
          {
           "coloraxis": "coloraxis",
           "geo": "geo",
           "hovertemplate": "year=2006<br>state=%{location}<br>count=%{z}<extra></extra>",
           "locationmode": "USA-states",
           "locations": [
            "GA",
            "ID",
            "IN",
            "TX",
            "UT",
            "SD",
            "CO",
            "SC",
            "IL",
            "RI",
            "IA",
            "VA",
            "PA",
            "CA",
            "OR",
            "TN",
            "AZ",
            "KY",
            "FL",
            "MS",
            "MO",
            "NY",
            "NJ",
            "NM",
            "WI",
            "NC",
            "NE",
            "MI",
            "AL",
            "MT",
            "MN",
            "WV",
            "CT",
            "OH",
            "WA",
            "MD",
            "AR"
           ],
           "name": "",
           "type": "choropleth",
           "z": [
            9,
            3,
            5,
            7,
            4,
            2,
            3,
            2,
            8,
            1,
            1,
            2,
            3,
            16,
            4,
            5,
            9,
            4,
            17,
            1,
            2,
            4,
            5,
            1,
            5,
            1,
            1,
            7,
            5,
            1,
            3,
            6,
            1,
            3,
            22,
            1,
            1
           ]
          }
         ],
         "name": "2006"
        },
        {
         "data": [
          {
           "coloraxis": "coloraxis",
           "geo": "geo",
           "hovertemplate": "year=2007<br>state=%{location}<br>count=%{z}<extra></extra>",
           "locationmode": "USA-states",
           "locations": [
            "MT",
            "TN",
            "MI",
            "WI",
            "NC",
            "OH",
            "SC",
            "AL",
            "CA",
            "MO",
            "GA",
            "ID",
            "NY",
            "WA",
            "NJ",
            "PA",
            "VA",
            "KY",
            "AR",
            "OK",
            "TX",
            "WV",
            "IL",
            "MN",
            "WY",
            "FL",
            "IA",
            "AZ",
            "UT"
           ],
           "name": "",
           "type": "choropleth",
           "z": [
            2,
            2,
            4,
            2,
            4,
            4,
            5,
            10,
            13,
            4,
            9,
            3,
            3,
            11,
            4,
            5,
            3,
            3,
            2,
            1,
            4,
            11,
            6,
            4,
            1,
            16,
            2,
            6,
            3
           ]
          }
         ],
         "name": "2007"
        },
        {
         "data": [
          {
           "coloraxis": "coloraxis",
           "geo": "geo",
           "hovertemplate": "year=2008<br>state=%{location}<br>count=%{z}<extra></extra>",
           "locationmode": "USA-states",
           "locations": [
            "CA",
            "MA",
            "AL",
            "OK",
            "PA",
            "NE",
            "AZ",
            "NM",
            "IA",
            "MD",
            "VA",
            "IN",
            "TX",
            "WV",
            "WI",
            "FL",
            "SD",
            "KY",
            "NC",
            "MO",
            "GA",
            "UT",
            "CO",
            "OH",
            "NJ",
            "TN",
            "MI",
            "IL",
            "WA",
            "MN",
            "AK",
            "ID",
            "OR",
            "AR"
           ],
           "name": "",
           "type": "choropleth",
           "z": [
            15,
            1,
            6,
            2,
            5,
            1,
            4,
            1,
            1,
            1,
            3,
            2,
            3,
            6,
            5,
            7,
            1,
            4,
            3,
            3,
            2,
            1,
            3,
            2,
            2,
            3,
            8,
            10,
            23,
            2,
            2,
            3,
            4,
            2
           ]
          }
         ],
         "name": "2008"
        },
        {
         "data": [
          {
           "coloraxis": "coloraxis",
           "geo": "geo",
           "hovertemplate": "year=2009<br>state=%{location}<br>count=%{z}<extra></extra>",
           "locationmode": "USA-states",
           "locations": [
            "CO",
            "AK",
            "MO",
            "PA",
            "TX",
            "TN",
            "UT",
            "WV",
            "NC",
            "AL",
            "MN",
            "GA",
            "FL",
            "SC",
            "MI",
            "KS",
            "IN",
            "CA",
            "ID",
            "NM",
            "WA",
            "KY",
            "OR",
            "MA",
            "NJ",
            "OH",
            "NY",
            "AZ",
            "OK",
            "IL",
            "AR"
           ],
           "name": "",
           "type": "choropleth",
           "z": [
            3,
            1,
            4,
            1,
            3,
            3,
            1,
            6,
            2,
            1,
            3,
            7,
            12,
            1,
            6,
            2,
            2,
            7,
            3,
            1,
            9,
            2,
            5,
            2,
            2,
            6,
            2,
            3,
            6,
            9,
            2
           ]
          }
         ],
         "name": "2009"
        },
        {
         "data": [
          {
           "coloraxis": "coloraxis",
           "geo": "geo",
           "hovertemplate": "year=2010<br>state=%{location}<br>count=%{z}<extra></extra>",
           "locationmode": "USA-states",
           "locations": [
            "CT",
            "NC",
            "OK",
            "NY",
            "ID",
            "WA",
            "MI",
            "IL",
            "MT",
            "AZ",
            "OH",
            "MS",
            "WV",
            "MN",
            "GA",
            "PA",
            "TN",
            "MD",
            "KY",
            "CO",
            "CA",
            "VA",
            "TX",
            "AL",
            "MA",
            "IA",
            "IN",
            "DE",
            "LA",
            "FL",
            "MO",
            "AR",
            "WI"
           ],
           "name": "",
           "type": "choropleth",
           "z": [
            1,
            2,
            2,
            4,
            1,
            12,
            5,
            10,
            3,
            1,
            7,
            1,
            1,
            1,
            1,
            1,
            1,
            1,
            5,
            1,
            7,
            1,
            2,
            1,
            2,
            2,
            2,
            1,
            1,
            8,
            4,
            5,
            2
           ]
          }
         ],
         "name": "2010"
        },
        {
         "data": [
          {
           "coloraxis": "coloraxis",
           "geo": "geo",
           "hovertemplate": "year=2011<br>state=%{location}<br>count=%{z}<extra></extra>",
           "locationmode": "USA-states",
           "locations": [
            "MO",
            "TN",
            "VA",
            "KS",
            "IL",
            "WI",
            "IA",
            "MN",
            "FL",
            "PA",
            "MD",
            "AZ",
            "MA",
            "OH",
            "CO",
            "KY",
            "WA",
            "OR",
            "GA",
            "SC",
            "NM",
            "AR",
            "IN",
            "AL",
            "TX",
            "CA",
            "MT",
            "ID",
            "NC",
            "OK",
            "MI"
           ],
           "name": "",
           "type": "choropleth",
           "z": [
            1,
            2,
            6,
            3,
            20,
            2,
            2,
            2,
            12,
            2,
            1,
            2,
            1,
            6,
            1,
            3,
            12,
            1,
            8,
            2,
            3,
            3,
            1,
            1,
            4,
            1,
            1,
            2,
            5,
            1,
            10
           ]
          }
         ],
         "name": "2011"
        },
        {
         "data": [
          {
           "coloraxis": "coloraxis",
           "geo": "geo",
           "hovertemplate": "year=2012<br>state=%{location}<br>count=%{z}<extra></extra>",
           "locationmode": "USA-states",
           "locations": [
            "CO",
            "DE",
            "TX",
            "OH",
            "WV",
            "AR",
            "WI",
            "IN",
            "AL",
            "IA",
            "CA",
            "MO",
            "NJ",
            "VA",
            "IL",
            "GA",
            "PA",
            "NC",
            "NY",
            "OR",
            "MT",
            "MI",
            "WA",
            "MN",
            "KY",
            "KS",
            "TN",
            "FL",
            "OK"
           ],
           "name": "",
           "type": "choropleth",
           "z": [
            2,
            1,
            1,
            6,
            5,
            6,
            5,
            1,
            5,
            1,
            2,
            7,
            1,
            9,
            9,
            4,
            1,
            2,
            1,
            4,
            5,
            9,
            15,
            1,
            5,
            4,
            1,
            23,
            3
           ]
          }
         ],
         "name": "2012"
        },
        {
         "data": [
          {
           "coloraxis": "coloraxis",
           "geo": "geo",
           "hovertemplate": "year=2013<br>state=%{location}<br>count=%{z}<extra></extra>",
           "locationmode": "USA-states",
           "locations": [
            "CO",
            "WV",
            "WA",
            "AR",
            "WI",
            "VA",
            "AZ",
            "CA",
            "IA",
            "IL",
            "MN",
            "AL",
            "OH",
            "NY",
            "MS",
            "MO",
            "NM",
            "KY",
            "PA",
            "NJ",
            "TX",
            "TN",
            "GA",
            "OR",
            "MA",
            "MI",
            "FL",
            "NC",
            "ID"
           ],
           "name": "",
           "type": "choropleth",
           "z": [
            2,
            2,
            9,
            1,
            7,
            3,
            4,
            2,
            5,
            10,
            4,
            7,
            13,
            2,
            1,
            7,
            1,
            1,
            1,
            2,
            1,
            1,
            3,
            2,
            1,
            8,
            15,
            3,
            2
           ]
          }
         ],
         "name": "2013"
        },
        {
         "data": [
          {
           "coloraxis": "coloraxis",
           "geo": "geo",
           "hovertemplate": "year=2014<br>state=%{location}<br>count=%{z}<extra></extra>",
           "locationmode": "USA-states",
           "locations": [
            "ID",
            "MN",
            "WA",
            "CA",
            "AL",
            "IA",
            "NC",
            "GA",
            "MD",
            "IL",
            "NY",
            "MI",
            "VA",
            "AZ",
            "PA",
            "MO",
            "CO",
            "OR",
            "TX",
            "KS",
            "TN",
            "FL",
            "WI",
            "OH",
            "WV",
            "KY",
            "NH"
           ],
           "name": "",
           "type": "choropleth",
           "z": [
            2,
            2,
            18,
            3,
            7,
            1,
            2,
            3,
            1,
            13,
            1,
            2,
            2,
            3,
            3,
            7,
            5,
            1,
            6,
            2,
            1,
            2,
            2,
            5,
            2,
            2,
            1
           ]
          }
         ],
         "name": "2014"
        },
        {
         "data": [
          {
           "coloraxis": "coloraxis",
           "geo": "geo",
           "hovertemplate": "year=2015<br>state=%{location}<br>count=%{z}<extra></extra>",
           "locationmode": "USA-states",
           "locations": [
            "VT",
            "VA",
            "IA",
            "MA",
            "ID",
            "KY",
            "WA",
            "IL",
            "NY",
            "MO",
            "NC",
            "TX",
            "OK",
            "MN",
            "MT",
            "IN",
            "WV",
            "PA",
            "OH",
            "FL",
            "LA",
            "NJ",
            "CA",
            "GA",
            "MI",
            "AR"
           ],
           "name": "",
           "type": "choropleth",
           "z": [
            1,
            1,
            1,
            5,
            3,
            4,
            7,
            8,
            2,
            4,
            4,
            6,
            1,
            1,
            1,
            1,
            1,
            2,
            8,
            4,
            1,
            3,
            2,
            1,
            1,
            2
           ]
          }
         ],
         "name": "2015"
        },
        {
         "data": [
          {
           "coloraxis": "coloraxis",
           "geo": "geo",
           "hovertemplate": "year=2016<br>state=%{location}<br>count=%{z}<extra></extra>",
           "locationmode": "USA-states",
           "locations": [
            "MT",
            "WV",
            "ME",
            "NC",
            "NJ",
            "AR",
            "IL",
            "WA",
            "AZ",
            "NH",
            "OR",
            "MA",
            "GA",
            "CT",
            "TX",
            "WI",
            "MO",
            "MI",
            "VA",
            "PA",
            "RI",
            "CO",
            "FL"
           ],
           "name": "",
           "type": "choropleth",
           "z": [
            1,
            1,
            3,
            2,
            3,
            1,
            5,
            10,
            1,
            2,
            1,
            3,
            1,
            4,
            5,
            2,
            5,
            4,
            1,
            1,
            1,
            1,
            2
           ]
          }
         ],
         "name": "2016"
        },
        {
         "data": [
          {
           "coloraxis": "coloraxis",
           "geo": "geo",
           "hovertemplate": "year=2017<br>state=%{location}<br>count=%{z}<extra></extra>",
           "locationmode": "USA-states",
           "locations": [
            "LA",
            "WY",
            "MO",
            "OH",
            "CT",
            "NY",
            "KY",
            "KS",
            "TX",
            "FL",
            "WA",
            "ID",
            "AR",
            "OR",
            "ME",
            "WI",
            "MA",
            "MI",
            "PA",
            "IL",
            "IA",
            "MT"
           ],
           "name": "",
           "type": "choropleth",
           "z": [
            1,
            1,
            2,
            6,
            1,
            1,
            2,
            2,
            7,
            5,
            8,
            5,
            1,
            2,
            1,
            1,
            1,
            2,
            1,
            9,
            1,
            1
           ]
          }
         ],
         "name": "2017"
        },
        {
         "data": [
          {
           "coloraxis": "coloraxis",
           "geo": "geo",
           "hovertemplate": "year=2018<br>state=%{location}<br>count=%{z}<extra></extra>",
           "locationmode": "USA-states",
           "locations": [
            "WA",
            "NE",
            "MI",
            "MO",
            "LA",
            "WV",
            "MT",
            "MN",
            "OH",
            "KY",
            "NM",
            "WI",
            "TN",
            "IN",
            "CT",
            "FL",
            "NY",
            "CA",
            "CO",
            "ID",
            "GA",
            "OR",
            "AR",
            "TX"
           ],
           "name": "",
           "type": "choropleth",
           "z": [
            9,
            1,
            2,
            3,
            1,
            1,
            1,
            2,
            2,
            2,
            1,
            4,
            1,
            1,
            2,
            2,
            2,
            2,
            1,
            1,
            1,
            1,
            2,
            2
           ]
          }
         ],
         "name": "2018"
        },
        {
         "data": [
          {
           "coloraxis": "coloraxis",
           "geo": "geo",
           "hovertemplate": "year=2019<br>state=%{location}<br>count=%{z}<extra></extra>",
           "locationmode": "USA-states",
           "locations": [
            "FL",
            "OR",
            "WI",
            "VA",
            "GA",
            "NY",
            "MT",
            "TN",
            "MN",
            "CT",
            "MO",
            "CO",
            "ID",
            "NC",
            "TX",
            "OH",
            "AR",
            "OK",
            "NJ",
            "WA",
            "CA"
           ],
           "name": "",
           "type": "choropleth",
           "z": [
            1,
            1,
            1,
            2,
            1,
            1,
            2,
            1,
            1,
            2,
            1,
            2,
            1,
            2,
            4,
            1,
            1,
            1,
            1,
            2,
            3
           ]
          }
         ],
         "name": "2019"
        },
        {
         "data": [
          {
           "coloraxis": "coloraxis",
           "geo": "geo",
           "hovertemplate": "year=2020<br>state=%{location}<br>count=%{z}<extra></extra>",
           "locationmode": "USA-states",
           "locations": [
            "SC",
            "FL",
            "CA",
            "TX",
            "NV",
            "NY",
            "MO",
            "KY",
            "IN",
            "MI",
            "WA",
            "CO",
            "OH",
            "NC",
            "VA",
            "PA",
            "MN",
            "AR",
            "IL",
            "MT",
            "OK",
            "MA",
            "OR",
            "ME",
            "ID",
            "AL"
           ],
           "name": "",
           "type": "choropleth",
           "z": [
            1,
            1,
            2,
            3,
            1,
            1,
            4,
            1,
            2,
            1,
            11,
            1,
            11,
            2,
            1,
            2,
            1,
            1,
            1,
            1,
            2,
            1,
            1,
            3,
            4,
            2
           ]
          }
         ],
         "name": "2020"
        },
        {
         "data": [
          {
           "coloraxis": "coloraxis",
           "geo": "geo",
           "hovertemplate": "year=2021<br>state=%{location}<br>count=%{z}<extra></extra>",
           "locationmode": "USA-states",
           "locations": [
            "KS",
            "WV",
            "WA",
            "OR",
            "CA",
            "CO",
            "AZ",
            "OH",
            "VA",
            "OK",
            "VT",
            "IL",
            "UT",
            "MO",
            "SD",
            "FL",
            "SC",
            "AL",
            "NC",
            "ID",
            "WI",
            "TN",
            "MI",
            "PA"
           ],
           "name": "",
           "type": "choropleth",
           "z": [
            1,
            1,
            7,
            1,
            2,
            1,
            1,
            7,
            2,
            1,
            1,
            3,
            1,
            1,
            1,
            3,
            1,
            1,
            1,
            3,
            2,
            2,
            1,
            1
           ]
          }
         ],
         "name": "2021"
        }
       ],
       "layout": {
        "coloraxis": {
         "colorbar": {
          "title": {
           "text": "count"
          }
         },
         "colorscale": [
          [
           0,
           "#440154"
          ],
          [
           0.1111111111111111,
           "#482878"
          ],
          [
           0.2222222222222222,
           "#3e4989"
          ],
          [
           0.3333333333333333,
           "#31688e"
          ],
          [
           0.4444444444444444,
           "#26828e"
          ],
          [
           0.5555555555555556,
           "#1f9e89"
          ],
          [
           0.6666666666666666,
           "#35b779"
          ],
          [
           0.7777777777777778,
           "#6ece58"
          ],
          [
           0.8888888888888888,
           "#b5de2b"
          ],
          [
           1,
           "#fde725"
          ]
         ]
        },
        "geo": {
         "center": {},
         "domain": {
          "x": [
           0,
           1
          ],
          "y": [
           0,
           1
          ]
         },
         "scope": "usa"
        },
        "legend": {
         "tracegroupgap": 0
        },
        "sliders": [
         {
          "active": 0,
          "currentvalue": {
           "prefix": "year="
          },
          "len": 0.9,
          "pad": {
           "b": 10,
           "t": 60
          },
          "steps": [
           {
            "args": [
             [
              "1869"
             ],
             {
              "frame": {
               "duration": 0,
               "redraw": true
              },
              "fromcurrent": true,
              "mode": "immediate",
              "transition": {
               "duration": 0,
               "easing": "linear"
              }
             }
            ],
            "label": "1869",
            "method": "animate"
           },
           {
            "args": [
             [
              "1921"
             ],
             {
              "frame": {
               "duration": 0,
               "redraw": true
              },
              "fromcurrent": true,
              "mode": "immediate",
              "transition": {
               "duration": 0,
               "easing": "linear"
              }
             }
            ],
            "label": "1921",
            "method": "animate"
           },
           {
            "args": [
             [
              "1925"
             ],
             {
              "frame": {
               "duration": 0,
               "redraw": true
              },
              "fromcurrent": true,
              "mode": "immediate",
              "transition": {
               "duration": 0,
               "easing": "linear"
              }
             }
            ],
            "label": "1925",
            "method": "animate"
           },
           {
            "args": [
             [
              "1930"
             ],
             {
              "frame": {
               "duration": 0,
               "redraw": true
              },
              "fromcurrent": true,
              "mode": "immediate",
              "transition": {
               "duration": 0,
               "easing": "linear"
              }
             }
            ],
            "label": "1930",
            "method": "animate"
           },
           {
            "args": [
             [
              "1937"
             ],
             {
              "frame": {
               "duration": 0,
               "redraw": true
              },
              "fromcurrent": true,
              "mode": "immediate",
              "transition": {
               "duration": 0,
               "easing": "linear"
              }
             }
            ],
            "label": "1937",
            "method": "animate"
           },
           {
            "args": [
             [
              "1938"
             ],
             {
              "frame": {
               "duration": 0,
               "redraw": true
              },
              "fromcurrent": true,
              "mode": "immediate",
              "transition": {
               "duration": 0,
               "easing": "linear"
              }
             }
            ],
            "label": "1938",
            "method": "animate"
           },
           {
            "args": [
             [
              "1941"
             ],
             {
              "frame": {
               "duration": 0,
               "redraw": true
              },
              "fromcurrent": true,
              "mode": "immediate",
              "transition": {
               "duration": 0,
               "easing": "linear"
              }
             }
            ],
            "label": "1941",
            "method": "animate"
           },
           {
            "args": [
             [
              "1942"
             ],
             {
              "frame": {
               "duration": 0,
               "redraw": true
              },
              "fromcurrent": true,
              "mode": "immediate",
              "transition": {
               "duration": 0,
               "easing": "linear"
              }
             }
            ],
            "label": "1942",
            "method": "animate"
           },
           {
            "args": [
             [
              "1944"
             ],
             {
              "frame": {
               "duration": 0,
               "redraw": true
              },
              "fromcurrent": true,
              "mode": "immediate",
              "transition": {
               "duration": 0,
               "easing": "linear"
              }
             }
            ],
            "label": "1944",
            "method": "animate"
           },
           {
            "args": [
             [
              "1947"
             ],
             {
              "frame": {
               "duration": 0,
               "redraw": true
              },
              "fromcurrent": true,
              "mode": "immediate",
              "transition": {
               "duration": 0,
               "easing": "linear"
              }
             }
            ],
            "label": "1947",
            "method": "animate"
           },
           {
            "args": [
             [
              "1948"
             ],
             {
              "frame": {
               "duration": 0,
               "redraw": true
              },
              "fromcurrent": true,
              "mode": "immediate",
              "transition": {
               "duration": 0,
               "easing": "linear"
              }
             }
            ],
            "label": "1948",
            "method": "animate"
           },
           {
            "args": [
             [
              "1949"
             ],
             {
              "frame": {
               "duration": 0,
               "redraw": true
              },
              "fromcurrent": true,
              "mode": "immediate",
              "transition": {
               "duration": 0,
               "easing": "linear"
              }
             }
            ],
            "label": "1949",
            "method": "animate"
           },
           {
            "args": [
             [
              "1950"
             ],
             {
              "frame": {
               "duration": 0,
               "redraw": true
              },
              "fromcurrent": true,
              "mode": "immediate",
              "transition": {
               "duration": 0,
               "easing": "linear"
              }
             }
            ],
            "label": "1950",
            "method": "animate"
           },
           {
            "args": [
             [
              "1952"
             ],
             {
              "frame": {
               "duration": 0,
               "redraw": true
              },
              "fromcurrent": true,
              "mode": "immediate",
              "transition": {
               "duration": 0,
               "easing": "linear"
              }
             }
            ],
            "label": "1952",
            "method": "animate"
           },
           {
            "args": [
             [
              "1953"
             ],
             {
              "frame": {
               "duration": 0,
               "redraw": true
              },
              "fromcurrent": true,
              "mode": "immediate",
              "transition": {
               "duration": 0,
               "easing": "linear"
              }
             }
            ],
            "label": "1953",
            "method": "animate"
           },
           {
            "args": [
             [
              "1954"
             ],
             {
              "frame": {
               "duration": 0,
               "redraw": true
              },
              "fromcurrent": true,
              "mode": "immediate",
              "transition": {
               "duration": 0,
               "easing": "linear"
              }
             }
            ],
            "label": "1954",
            "method": "animate"
           },
           {
            "args": [
             [
              "1955"
             ],
             {
              "frame": {
               "duration": 0,
               "redraw": true
              },
              "fromcurrent": true,
              "mode": "immediate",
              "transition": {
               "duration": 0,
               "easing": "linear"
              }
             }
            ],
            "label": "1955",
            "method": "animate"
           },
           {
            "args": [
             [
              "1956"
             ],
             {
              "frame": {
               "duration": 0,
               "redraw": true
              },
              "fromcurrent": true,
              "mode": "immediate",
              "transition": {
               "duration": 0,
               "easing": "linear"
              }
             }
            ],
            "label": "1956",
            "method": "animate"
           },
           {
            "args": [
             [
              "1957"
             ],
             {
              "frame": {
               "duration": 0,
               "redraw": true
              },
              "fromcurrent": true,
              "mode": "immediate",
              "transition": {
               "duration": 0,
               "easing": "linear"
              }
             }
            ],
            "label": "1957",
            "method": "animate"
           },
           {
            "args": [
             [
              "1958"
             ],
             {
              "frame": {
               "duration": 0,
               "redraw": true
              },
              "fromcurrent": true,
              "mode": "immediate",
              "transition": {
               "duration": 0,
               "easing": "linear"
              }
             }
            ],
            "label": "1958",
            "method": "animate"
           },
           {
            "args": [
             [
              "1959"
             ],
             {
              "frame": {
               "duration": 0,
               "redraw": true
              },
              "fromcurrent": true,
              "mode": "immediate",
              "transition": {
               "duration": 0,
               "easing": "linear"
              }
             }
            ],
            "label": "1959",
            "method": "animate"
           },
           {
            "args": [
             [
              "1960"
             ],
             {
              "frame": {
               "duration": 0,
               "redraw": true
              },
              "fromcurrent": true,
              "mode": "immediate",
              "transition": {
               "duration": 0,
               "easing": "linear"
              }
             }
            ],
            "label": "1960",
            "method": "animate"
           },
           {
            "args": [
             [
              "1961"
             ],
             {
              "frame": {
               "duration": 0,
               "redraw": true
              },
              "fromcurrent": true,
              "mode": "immediate",
              "transition": {
               "duration": 0,
               "easing": "linear"
              }
             }
            ],
            "label": "1961",
            "method": "animate"
           },
           {
            "args": [
             [
              "1962"
             ],
             {
              "frame": {
               "duration": 0,
               "redraw": true
              },
              "fromcurrent": true,
              "mode": "immediate",
              "transition": {
               "duration": 0,
               "easing": "linear"
              }
             }
            ],
            "label": "1962",
            "method": "animate"
           },
           {
            "args": [
             [
              "1963"
             ],
             {
              "frame": {
               "duration": 0,
               "redraw": true
              },
              "fromcurrent": true,
              "mode": "immediate",
              "transition": {
               "duration": 0,
               "easing": "linear"
              }
             }
            ],
            "label": "1963",
            "method": "animate"
           },
           {
            "args": [
             [
              "1964"
             ],
             {
              "frame": {
               "duration": 0,
               "redraw": true
              },
              "fromcurrent": true,
              "mode": "immediate",
              "transition": {
               "duration": 0,
               "easing": "linear"
              }
             }
            ],
            "label": "1964",
            "method": "animate"
           },
           {
            "args": [
             [
              "1965"
             ],
             {
              "frame": {
               "duration": 0,
               "redraw": true
              },
              "fromcurrent": true,
              "mode": "immediate",
              "transition": {
               "duration": 0,
               "easing": "linear"
              }
             }
            ],
            "label": "1965",
            "method": "animate"
           },
           {
            "args": [
             [
              "1966"
             ],
             {
              "frame": {
               "duration": 0,
               "redraw": true
              },
              "fromcurrent": true,
              "mode": "immediate",
              "transition": {
               "duration": 0,
               "easing": "linear"
              }
             }
            ],
            "label": "1966",
            "method": "animate"
           },
           {
            "args": [
             [
              "1967"
             ],
             {
              "frame": {
               "duration": 0,
               "redraw": true
              },
              "fromcurrent": true,
              "mode": "immediate",
              "transition": {
               "duration": 0,
               "easing": "linear"
              }
             }
            ],
            "label": "1967",
            "method": "animate"
           },
           {
            "args": [
             [
              "1968"
             ],
             {
              "frame": {
               "duration": 0,
               "redraw": true
              },
              "fromcurrent": true,
              "mode": "immediate",
              "transition": {
               "duration": 0,
               "easing": "linear"
              }
             }
            ],
            "label": "1968",
            "method": "animate"
           },
           {
            "args": [
             [
              "1969"
             ],
             {
              "frame": {
               "duration": 0,
               "redraw": true
              },
              "fromcurrent": true,
              "mode": "immediate",
              "transition": {
               "duration": 0,
               "easing": "linear"
              }
             }
            ],
            "label": "1969",
            "method": "animate"
           },
           {
            "args": [
             [
              "1970"
             ],
             {
              "frame": {
               "duration": 0,
               "redraw": true
              },
              "fromcurrent": true,
              "mode": "immediate",
              "transition": {
               "duration": 0,
               "easing": "linear"
              }
             }
            ],
            "label": "1970",
            "method": "animate"
           },
           {
            "args": [
             [
              "1971"
             ],
             {
              "frame": {
               "duration": 0,
               "redraw": true
              },
              "fromcurrent": true,
              "mode": "immediate",
              "transition": {
               "duration": 0,
               "easing": "linear"
              }
             }
            ],
            "label": "1971",
            "method": "animate"
           },
           {
            "args": [
             [
              "1972"
             ],
             {
              "frame": {
               "duration": 0,
               "redraw": true
              },
              "fromcurrent": true,
              "mode": "immediate",
              "transition": {
               "duration": 0,
               "easing": "linear"
              }
             }
            ],
            "label": "1972",
            "method": "animate"
           },
           {
            "args": [
             [
              "1973"
             ],
             {
              "frame": {
               "duration": 0,
               "redraw": true
              },
              "fromcurrent": true,
              "mode": "immediate",
              "transition": {
               "duration": 0,
               "easing": "linear"
              }
             }
            ],
            "label": "1973",
            "method": "animate"
           },
           {
            "args": [
             [
              "1974"
             ],
             {
              "frame": {
               "duration": 0,
               "redraw": true
              },
              "fromcurrent": true,
              "mode": "immediate",
              "transition": {
               "duration": 0,
               "easing": "linear"
              }
             }
            ],
            "label": "1974",
            "method": "animate"
           },
           {
            "args": [
             [
              "1975"
             ],
             {
              "frame": {
               "duration": 0,
               "redraw": true
              },
              "fromcurrent": true,
              "mode": "immediate",
              "transition": {
               "duration": 0,
               "easing": "linear"
              }
             }
            ],
            "label": "1975",
            "method": "animate"
           },
           {
            "args": [
             [
              "1976"
             ],
             {
              "frame": {
               "duration": 0,
               "redraw": true
              },
              "fromcurrent": true,
              "mode": "immediate",
              "transition": {
               "duration": 0,
               "easing": "linear"
              }
             }
            ],
            "label": "1976",
            "method": "animate"
           },
           {
            "args": [
             [
              "1977"
             ],
             {
              "frame": {
               "duration": 0,
               "redraw": true
              },
              "fromcurrent": true,
              "mode": "immediate",
              "transition": {
               "duration": 0,
               "easing": "linear"
              }
             }
            ],
            "label": "1977",
            "method": "animate"
           },
           {
            "args": [
             [
              "1978"
             ],
             {
              "frame": {
               "duration": 0,
               "redraw": true
              },
              "fromcurrent": true,
              "mode": "immediate",
              "transition": {
               "duration": 0,
               "easing": "linear"
              }
             }
            ],
            "label": "1978",
            "method": "animate"
           },
           {
            "args": [
             [
              "1979"
             ],
             {
              "frame": {
               "duration": 0,
               "redraw": true
              },
              "fromcurrent": true,
              "mode": "immediate",
              "transition": {
               "duration": 0,
               "easing": "linear"
              }
             }
            ],
            "label": "1979",
            "method": "animate"
           },
           {
            "args": [
             [
              "1980"
             ],
             {
              "frame": {
               "duration": 0,
               "redraw": true
              },
              "fromcurrent": true,
              "mode": "immediate",
              "transition": {
               "duration": 0,
               "easing": "linear"
              }
             }
            ],
            "label": "1980",
            "method": "animate"
           },
           {
            "args": [
             [
              "1981"
             ],
             {
              "frame": {
               "duration": 0,
               "redraw": true
              },
              "fromcurrent": true,
              "mode": "immediate",
              "transition": {
               "duration": 0,
               "easing": "linear"
              }
             }
            ],
            "label": "1981",
            "method": "animate"
           },
           {
            "args": [
             [
              "1982"
             ],
             {
              "frame": {
               "duration": 0,
               "redraw": true
              },
              "fromcurrent": true,
              "mode": "immediate",
              "transition": {
               "duration": 0,
               "easing": "linear"
              }
             }
            ],
            "label": "1982",
            "method": "animate"
           },
           {
            "args": [
             [
              "1983"
             ],
             {
              "frame": {
               "duration": 0,
               "redraw": true
              },
              "fromcurrent": true,
              "mode": "immediate",
              "transition": {
               "duration": 0,
               "easing": "linear"
              }
             }
            ],
            "label": "1983",
            "method": "animate"
           },
           {
            "args": [
             [
              "1984"
             ],
             {
              "frame": {
               "duration": 0,
               "redraw": true
              },
              "fromcurrent": true,
              "mode": "immediate",
              "transition": {
               "duration": 0,
               "easing": "linear"
              }
             }
            ],
            "label": "1984",
            "method": "animate"
           },
           {
            "args": [
             [
              "1985"
             ],
             {
              "frame": {
               "duration": 0,
               "redraw": true
              },
              "fromcurrent": true,
              "mode": "immediate",
              "transition": {
               "duration": 0,
               "easing": "linear"
              }
             }
            ],
            "label": "1985",
            "method": "animate"
           },
           {
            "args": [
             [
              "1986"
             ],
             {
              "frame": {
               "duration": 0,
               "redraw": true
              },
              "fromcurrent": true,
              "mode": "immediate",
              "transition": {
               "duration": 0,
               "easing": "linear"
              }
             }
            ],
            "label": "1986",
            "method": "animate"
           },
           {
            "args": [
             [
              "1987"
             ],
             {
              "frame": {
               "duration": 0,
               "redraw": true
              },
              "fromcurrent": true,
              "mode": "immediate",
              "transition": {
               "duration": 0,
               "easing": "linear"
              }
             }
            ],
            "label": "1987",
            "method": "animate"
           },
           {
            "args": [
             [
              "1988"
             ],
             {
              "frame": {
               "duration": 0,
               "redraw": true
              },
              "fromcurrent": true,
              "mode": "immediate",
              "transition": {
               "duration": 0,
               "easing": "linear"
              }
             }
            ],
            "label": "1988",
            "method": "animate"
           },
           {
            "args": [
             [
              "1989"
             ],
             {
              "frame": {
               "duration": 0,
               "redraw": true
              },
              "fromcurrent": true,
              "mode": "immediate",
              "transition": {
               "duration": 0,
               "easing": "linear"
              }
             }
            ],
            "label": "1989",
            "method": "animate"
           },
           {
            "args": [
             [
              "1990"
             ],
             {
              "frame": {
               "duration": 0,
               "redraw": true
              },
              "fromcurrent": true,
              "mode": "immediate",
              "transition": {
               "duration": 0,
               "easing": "linear"
              }
             }
            ],
            "label": "1990",
            "method": "animate"
           },
           {
            "args": [
             [
              "1991"
             ],
             {
              "frame": {
               "duration": 0,
               "redraw": true
              },
              "fromcurrent": true,
              "mode": "immediate",
              "transition": {
               "duration": 0,
               "easing": "linear"
              }
             }
            ],
            "label": "1991",
            "method": "animate"
           },
           {
            "args": [
             [
              "1992"
             ],
             {
              "frame": {
               "duration": 0,
               "redraw": true
              },
              "fromcurrent": true,
              "mode": "immediate",
              "transition": {
               "duration": 0,
               "easing": "linear"
              }
             }
            ],
            "label": "1992",
            "method": "animate"
           },
           {
            "args": [
             [
              "1993"
             ],
             {
              "frame": {
               "duration": 0,
               "redraw": true
              },
              "fromcurrent": true,
              "mode": "immediate",
              "transition": {
               "duration": 0,
               "easing": "linear"
              }
             }
            ],
            "label": "1993",
            "method": "animate"
           },
           {
            "args": [
             [
              "1994"
             ],
             {
              "frame": {
               "duration": 0,
               "redraw": true
              },
              "fromcurrent": true,
              "mode": "immediate",
              "transition": {
               "duration": 0,
               "easing": "linear"
              }
             }
            ],
            "label": "1994",
            "method": "animate"
           },
           {
            "args": [
             [
              "1995"
             ],
             {
              "frame": {
               "duration": 0,
               "redraw": true
              },
              "fromcurrent": true,
              "mode": "immediate",
              "transition": {
               "duration": 0,
               "easing": "linear"
              }
             }
            ],
            "label": "1995",
            "method": "animate"
           },
           {
            "args": [
             [
              "1996"
             ],
             {
              "frame": {
               "duration": 0,
               "redraw": true
              },
              "fromcurrent": true,
              "mode": "immediate",
              "transition": {
               "duration": 0,
               "easing": "linear"
              }
             }
            ],
            "label": "1996",
            "method": "animate"
           },
           {
            "args": [
             [
              "1997"
             ],
             {
              "frame": {
               "duration": 0,
               "redraw": true
              },
              "fromcurrent": true,
              "mode": "immediate",
              "transition": {
               "duration": 0,
               "easing": "linear"
              }
             }
            ],
            "label": "1997",
            "method": "animate"
           },
           {
            "args": [
             [
              "1998"
             ],
             {
              "frame": {
               "duration": 0,
               "redraw": true
              },
              "fromcurrent": true,
              "mode": "immediate",
              "transition": {
               "duration": 0,
               "easing": "linear"
              }
             }
            ],
            "label": "1998",
            "method": "animate"
           },
           {
            "args": [
             [
              "1999"
             ],
             {
              "frame": {
               "duration": 0,
               "redraw": true
              },
              "fromcurrent": true,
              "mode": "immediate",
              "transition": {
               "duration": 0,
               "easing": "linear"
              }
             }
            ],
            "label": "1999",
            "method": "animate"
           },
           {
            "args": [
             [
              "2000"
             ],
             {
              "frame": {
               "duration": 0,
               "redraw": true
              },
              "fromcurrent": true,
              "mode": "immediate",
              "transition": {
               "duration": 0,
               "easing": "linear"
              }
             }
            ],
            "label": "2000",
            "method": "animate"
           },
           {
            "args": [
             [
              "2001"
             ],
             {
              "frame": {
               "duration": 0,
               "redraw": true
              },
              "fromcurrent": true,
              "mode": "immediate",
              "transition": {
               "duration": 0,
               "easing": "linear"
              }
             }
            ],
            "label": "2001",
            "method": "animate"
           },
           {
            "args": [
             [
              "2002"
             ],
             {
              "frame": {
               "duration": 0,
               "redraw": true
              },
              "fromcurrent": true,
              "mode": "immediate",
              "transition": {
               "duration": 0,
               "easing": "linear"
              }
             }
            ],
            "label": "2002",
            "method": "animate"
           },
           {
            "args": [
             [
              "2003"
             ],
             {
              "frame": {
               "duration": 0,
               "redraw": true
              },
              "fromcurrent": true,
              "mode": "immediate",
              "transition": {
               "duration": 0,
               "easing": "linear"
              }
             }
            ],
            "label": "2003",
            "method": "animate"
           },
           {
            "args": [
             [
              "2004"
             ],
             {
              "frame": {
               "duration": 0,
               "redraw": true
              },
              "fromcurrent": true,
              "mode": "immediate",
              "transition": {
               "duration": 0,
               "easing": "linear"
              }
             }
            ],
            "label": "2004",
            "method": "animate"
           },
           {
            "args": [
             [
              "2005"
             ],
             {
              "frame": {
               "duration": 0,
               "redraw": true
              },
              "fromcurrent": true,
              "mode": "immediate",
              "transition": {
               "duration": 0,
               "easing": "linear"
              }
             }
            ],
            "label": "2005",
            "method": "animate"
           },
           {
            "args": [
             [
              "2006"
             ],
             {
              "frame": {
               "duration": 0,
               "redraw": true
              },
              "fromcurrent": true,
              "mode": "immediate",
              "transition": {
               "duration": 0,
               "easing": "linear"
              }
             }
            ],
            "label": "2006",
            "method": "animate"
           },
           {
            "args": [
             [
              "2007"
             ],
             {
              "frame": {
               "duration": 0,
               "redraw": true
              },
              "fromcurrent": true,
              "mode": "immediate",
              "transition": {
               "duration": 0,
               "easing": "linear"
              }
             }
            ],
            "label": "2007",
            "method": "animate"
           },
           {
            "args": [
             [
              "2008"
             ],
             {
              "frame": {
               "duration": 0,
               "redraw": true
              },
              "fromcurrent": true,
              "mode": "immediate",
              "transition": {
               "duration": 0,
               "easing": "linear"
              }
             }
            ],
            "label": "2008",
            "method": "animate"
           },
           {
            "args": [
             [
              "2009"
             ],
             {
              "frame": {
               "duration": 0,
               "redraw": true
              },
              "fromcurrent": true,
              "mode": "immediate",
              "transition": {
               "duration": 0,
               "easing": "linear"
              }
             }
            ],
            "label": "2009",
            "method": "animate"
           },
           {
            "args": [
             [
              "2010"
             ],
             {
              "frame": {
               "duration": 0,
               "redraw": true
              },
              "fromcurrent": true,
              "mode": "immediate",
              "transition": {
               "duration": 0,
               "easing": "linear"
              }
             }
            ],
            "label": "2010",
            "method": "animate"
           },
           {
            "args": [
             [
              "2011"
             ],
             {
              "frame": {
               "duration": 0,
               "redraw": true
              },
              "fromcurrent": true,
              "mode": "immediate",
              "transition": {
               "duration": 0,
               "easing": "linear"
              }
             }
            ],
            "label": "2011",
            "method": "animate"
           },
           {
            "args": [
             [
              "2012"
             ],
             {
              "frame": {
               "duration": 0,
               "redraw": true
              },
              "fromcurrent": true,
              "mode": "immediate",
              "transition": {
               "duration": 0,
               "easing": "linear"
              }
             }
            ],
            "label": "2012",
            "method": "animate"
           },
           {
            "args": [
             [
              "2013"
             ],
             {
              "frame": {
               "duration": 0,
               "redraw": true
              },
              "fromcurrent": true,
              "mode": "immediate",
              "transition": {
               "duration": 0,
               "easing": "linear"
              }
             }
            ],
            "label": "2013",
            "method": "animate"
           },
           {
            "args": [
             [
              "2014"
             ],
             {
              "frame": {
               "duration": 0,
               "redraw": true
              },
              "fromcurrent": true,
              "mode": "immediate",
              "transition": {
               "duration": 0,
               "easing": "linear"
              }
             }
            ],
            "label": "2014",
            "method": "animate"
           },
           {
            "args": [
             [
              "2015"
             ],
             {
              "frame": {
               "duration": 0,
               "redraw": true
              },
              "fromcurrent": true,
              "mode": "immediate",
              "transition": {
               "duration": 0,
               "easing": "linear"
              }
             }
            ],
            "label": "2015",
            "method": "animate"
           },
           {
            "args": [
             [
              "2016"
             ],
             {
              "frame": {
               "duration": 0,
               "redraw": true
              },
              "fromcurrent": true,
              "mode": "immediate",
              "transition": {
               "duration": 0,
               "easing": "linear"
              }
             }
            ],
            "label": "2016",
            "method": "animate"
           },
           {
            "args": [
             [
              "2017"
             ],
             {
              "frame": {
               "duration": 0,
               "redraw": true
              },
              "fromcurrent": true,
              "mode": "immediate",
              "transition": {
               "duration": 0,
               "easing": "linear"
              }
             }
            ],
            "label": "2017",
            "method": "animate"
           },
           {
            "args": [
             [
              "2018"
             ],
             {
              "frame": {
               "duration": 0,
               "redraw": true
              },
              "fromcurrent": true,
              "mode": "immediate",
              "transition": {
               "duration": 0,
               "easing": "linear"
              }
             }
            ],
            "label": "2018",
            "method": "animate"
           },
           {
            "args": [
             [
              "2019"
             ],
             {
              "frame": {
               "duration": 0,
               "redraw": true
              },
              "fromcurrent": true,
              "mode": "immediate",
              "transition": {
               "duration": 0,
               "easing": "linear"
              }
             }
            ],
            "label": "2019",
            "method": "animate"
           },
           {
            "args": [
             [
              "2020"
             ],
             {
              "frame": {
               "duration": 0,
               "redraw": true
              },
              "fromcurrent": true,
              "mode": "immediate",
              "transition": {
               "duration": 0,
               "easing": "linear"
              }
             }
            ],
            "label": "2020",
            "method": "animate"
           },
           {
            "args": [
             [
              "2021"
             ],
             {
              "frame": {
               "duration": 0,
               "redraw": true
              },
              "fromcurrent": true,
              "mode": "immediate",
              "transition": {
               "duration": 0,
               "easing": "linear"
              }
             }
            ],
            "label": "2021",
            "method": "animate"
           }
          ],
          "x": 0.1,
          "xanchor": "left",
          "y": 0,
          "yanchor": "top"
         }
        ],
        "template": {
         "data": {
          "bar": [
           {
            "error_x": {
             "color": "#2a3f5f"
            },
            "error_y": {
             "color": "#2a3f5f"
            },
            "marker": {
             "line": {
              "color": "#E5ECF6",
              "width": 0.5
             },
             "pattern": {
              "fillmode": "overlay",
              "size": 10,
              "solidity": 0.2
             }
            },
            "type": "bar"
           }
          ],
          "barpolar": [
           {
            "marker": {
             "line": {
              "color": "#E5ECF6",
              "width": 0.5
             },
             "pattern": {
              "fillmode": "overlay",
              "size": 10,
              "solidity": 0.2
             }
            },
            "type": "barpolar"
           }
          ],
          "carpet": [
           {
            "aaxis": {
             "endlinecolor": "#2a3f5f",
             "gridcolor": "white",
             "linecolor": "white",
             "minorgridcolor": "white",
             "startlinecolor": "#2a3f5f"
            },
            "baxis": {
             "endlinecolor": "#2a3f5f",
             "gridcolor": "white",
             "linecolor": "white",
             "minorgridcolor": "white",
             "startlinecolor": "#2a3f5f"
            },
            "type": "carpet"
           }
          ],
          "choropleth": [
           {
            "colorbar": {
             "outlinewidth": 0,
             "ticks": ""
            },
            "type": "choropleth"
           }
          ],
          "contour": [
           {
            "colorbar": {
             "outlinewidth": 0,
             "ticks": ""
            },
            "colorscale": [
             [
              0,
              "#0d0887"
             ],
             [
              0.1111111111111111,
              "#46039f"
             ],
             [
              0.2222222222222222,
              "#7201a8"
             ],
             [
              0.3333333333333333,
              "#9c179e"
             ],
             [
              0.4444444444444444,
              "#bd3786"
             ],
             [
              0.5555555555555556,
              "#d8576b"
             ],
             [
              0.6666666666666666,
              "#ed7953"
             ],
             [
              0.7777777777777778,
              "#fb9f3a"
             ],
             [
              0.8888888888888888,
              "#fdca26"
             ],
             [
              1,
              "#f0f921"
             ]
            ],
            "type": "contour"
           }
          ],
          "contourcarpet": [
           {
            "colorbar": {
             "outlinewidth": 0,
             "ticks": ""
            },
            "type": "contourcarpet"
           }
          ],
          "heatmap": [
           {
            "colorbar": {
             "outlinewidth": 0,
             "ticks": ""
            },
            "colorscale": [
             [
              0,
              "#0d0887"
             ],
             [
              0.1111111111111111,
              "#46039f"
             ],
             [
              0.2222222222222222,
              "#7201a8"
             ],
             [
              0.3333333333333333,
              "#9c179e"
             ],
             [
              0.4444444444444444,
              "#bd3786"
             ],
             [
              0.5555555555555556,
              "#d8576b"
             ],
             [
              0.6666666666666666,
              "#ed7953"
             ],
             [
              0.7777777777777778,
              "#fb9f3a"
             ],
             [
              0.8888888888888888,
              "#fdca26"
             ],
             [
              1,
              "#f0f921"
             ]
            ],
            "type": "heatmap"
           }
          ],
          "heatmapgl": [
           {
            "colorbar": {
             "outlinewidth": 0,
             "ticks": ""
            },
            "colorscale": [
             [
              0,
              "#0d0887"
             ],
             [
              0.1111111111111111,
              "#46039f"
             ],
             [
              0.2222222222222222,
              "#7201a8"
             ],
             [
              0.3333333333333333,
              "#9c179e"
             ],
             [
              0.4444444444444444,
              "#bd3786"
             ],
             [
              0.5555555555555556,
              "#d8576b"
             ],
             [
              0.6666666666666666,
              "#ed7953"
             ],
             [
              0.7777777777777778,
              "#fb9f3a"
             ],
             [
              0.8888888888888888,
              "#fdca26"
             ],
             [
              1,
              "#f0f921"
             ]
            ],
            "type": "heatmapgl"
           }
          ],
          "histogram": [
           {
            "marker": {
             "pattern": {
              "fillmode": "overlay",
              "size": 10,
              "solidity": 0.2
             }
            },
            "type": "histogram"
           }
          ],
          "histogram2d": [
           {
            "colorbar": {
             "outlinewidth": 0,
             "ticks": ""
            },
            "colorscale": [
             [
              0,
              "#0d0887"
             ],
             [
              0.1111111111111111,
              "#46039f"
             ],
             [
              0.2222222222222222,
              "#7201a8"
             ],
             [
              0.3333333333333333,
              "#9c179e"
             ],
             [
              0.4444444444444444,
              "#bd3786"
             ],
             [
              0.5555555555555556,
              "#d8576b"
             ],
             [
              0.6666666666666666,
              "#ed7953"
             ],
             [
              0.7777777777777778,
              "#fb9f3a"
             ],
             [
              0.8888888888888888,
              "#fdca26"
             ],
             [
              1,
              "#f0f921"
             ]
            ],
            "type": "histogram2d"
           }
          ],
          "histogram2dcontour": [
           {
            "colorbar": {
             "outlinewidth": 0,
             "ticks": ""
            },
            "colorscale": [
             [
              0,
              "#0d0887"
             ],
             [
              0.1111111111111111,
              "#46039f"
             ],
             [
              0.2222222222222222,
              "#7201a8"
             ],
             [
              0.3333333333333333,
              "#9c179e"
             ],
             [
              0.4444444444444444,
              "#bd3786"
             ],
             [
              0.5555555555555556,
              "#d8576b"
             ],
             [
              0.6666666666666666,
              "#ed7953"
             ],
             [
              0.7777777777777778,
              "#fb9f3a"
             ],
             [
              0.8888888888888888,
              "#fdca26"
             ],
             [
              1,
              "#f0f921"
             ]
            ],
            "type": "histogram2dcontour"
           }
          ],
          "mesh3d": [
           {
            "colorbar": {
             "outlinewidth": 0,
             "ticks": ""
            },
            "type": "mesh3d"
           }
          ],
          "parcoords": [
           {
            "line": {
             "colorbar": {
              "outlinewidth": 0,
              "ticks": ""
             }
            },
            "type": "parcoords"
           }
          ],
          "pie": [
           {
            "automargin": true,
            "type": "pie"
           }
          ],
          "scatter": [
           {
            "fillpattern": {
             "fillmode": "overlay",
             "size": 10,
             "solidity": 0.2
            },
            "type": "scatter"
           }
          ],
          "scatter3d": [
           {
            "line": {
             "colorbar": {
              "outlinewidth": 0,
              "ticks": ""
             }
            },
            "marker": {
             "colorbar": {
              "outlinewidth": 0,
              "ticks": ""
             }
            },
            "type": "scatter3d"
           }
          ],
          "scattercarpet": [
           {
            "marker": {
             "colorbar": {
              "outlinewidth": 0,
              "ticks": ""
             }
            },
            "type": "scattercarpet"
           }
          ],
          "scattergeo": [
           {
            "marker": {
             "colorbar": {
              "outlinewidth": 0,
              "ticks": ""
             }
            },
            "type": "scattergeo"
           }
          ],
          "scattergl": [
           {
            "marker": {
             "colorbar": {
              "outlinewidth": 0,
              "ticks": ""
             }
            },
            "type": "scattergl"
           }
          ],
          "scattermapbox": [
           {
            "marker": {
             "colorbar": {
              "outlinewidth": 0,
              "ticks": ""
             }
            },
            "type": "scattermapbox"
           }
          ],
          "scatterpolar": [
           {
            "marker": {
             "colorbar": {
              "outlinewidth": 0,
              "ticks": ""
             }
            },
            "type": "scatterpolar"
           }
          ],
          "scatterpolargl": [
           {
            "marker": {
             "colorbar": {
              "outlinewidth": 0,
              "ticks": ""
             }
            },
            "type": "scatterpolargl"
           }
          ],
          "scatterternary": [
           {
            "marker": {
             "colorbar": {
              "outlinewidth": 0,
              "ticks": ""
             }
            },
            "type": "scatterternary"
           }
          ],
          "surface": [
           {
            "colorbar": {
             "outlinewidth": 0,
             "ticks": ""
            },
            "colorscale": [
             [
              0,
              "#0d0887"
             ],
             [
              0.1111111111111111,
              "#46039f"
             ],
             [
              0.2222222222222222,
              "#7201a8"
             ],
             [
              0.3333333333333333,
              "#9c179e"
             ],
             [
              0.4444444444444444,
              "#bd3786"
             ],
             [
              0.5555555555555556,
              "#d8576b"
             ],
             [
              0.6666666666666666,
              "#ed7953"
             ],
             [
              0.7777777777777778,
              "#fb9f3a"
             ],
             [
              0.8888888888888888,
              "#fdca26"
             ],
             [
              1,
              "#f0f921"
             ]
            ],
            "type": "surface"
           }
          ],
          "table": [
           {
            "cells": {
             "fill": {
              "color": "#EBF0F8"
             },
             "line": {
              "color": "white"
             }
            },
            "header": {
             "fill": {
              "color": "#C8D4E3"
             },
             "line": {
              "color": "white"
             }
            },
            "type": "table"
           }
          ]
         },
         "layout": {
          "annotationdefaults": {
           "arrowcolor": "#2a3f5f",
           "arrowhead": 0,
           "arrowwidth": 1
          },
          "autotypenumbers": "strict",
          "coloraxis": {
           "colorbar": {
            "outlinewidth": 0,
            "ticks": ""
           }
          },
          "colorscale": {
           "diverging": [
            [
             0,
             "#8e0152"
            ],
            [
             0.1,
             "#c51b7d"
            ],
            [
             0.2,
             "#de77ae"
            ],
            [
             0.3,
             "#f1b6da"
            ],
            [
             0.4,
             "#fde0ef"
            ],
            [
             0.5,
             "#f7f7f7"
            ],
            [
             0.6,
             "#e6f5d0"
            ],
            [
             0.7,
             "#b8e186"
            ],
            [
             0.8,
             "#7fbc41"
            ],
            [
             0.9,
             "#4d9221"
            ],
            [
             1,
             "#276419"
            ]
           ],
           "sequential": [
            [
             0,
             "#0d0887"
            ],
            [
             0.1111111111111111,
             "#46039f"
            ],
            [
             0.2222222222222222,
             "#7201a8"
            ],
            [
             0.3333333333333333,
             "#9c179e"
            ],
            [
             0.4444444444444444,
             "#bd3786"
            ],
            [
             0.5555555555555556,
             "#d8576b"
            ],
            [
             0.6666666666666666,
             "#ed7953"
            ],
            [
             0.7777777777777778,
             "#fb9f3a"
            ],
            [
             0.8888888888888888,
             "#fdca26"
            ],
            [
             1,
             "#f0f921"
            ]
           ],
           "sequentialminus": [
            [
             0,
             "#0d0887"
            ],
            [
             0.1111111111111111,
             "#46039f"
            ],
            [
             0.2222222222222222,
             "#7201a8"
            ],
            [
             0.3333333333333333,
             "#9c179e"
            ],
            [
             0.4444444444444444,
             "#bd3786"
            ],
            [
             0.5555555555555556,
             "#d8576b"
            ],
            [
             0.6666666666666666,
             "#ed7953"
            ],
            [
             0.7777777777777778,
             "#fb9f3a"
            ],
            [
             0.8888888888888888,
             "#fdca26"
            ],
            [
             1,
             "#f0f921"
            ]
           ]
          },
          "colorway": [
           "#636efa",
           "#EF553B",
           "#00cc96",
           "#ab63fa",
           "#FFA15A",
           "#19d3f3",
           "#FF6692",
           "#B6E880",
           "#FF97FF",
           "#FECB52"
          ],
          "font": {
           "color": "#2a3f5f"
          },
          "geo": {
           "bgcolor": "white",
           "lakecolor": "white",
           "landcolor": "#E5ECF6",
           "showlakes": true,
           "showland": true,
           "subunitcolor": "white"
          },
          "hoverlabel": {
           "align": "left"
          },
          "hovermode": "closest",
          "mapbox": {
           "style": "light"
          },
          "paper_bgcolor": "white",
          "plot_bgcolor": "#E5ECF6",
          "polar": {
           "angularaxis": {
            "gridcolor": "white",
            "linecolor": "white",
            "ticks": ""
           },
           "bgcolor": "#E5ECF6",
           "radialaxis": {
            "gridcolor": "white",
            "linecolor": "white",
            "ticks": ""
           }
          },
          "scene": {
           "xaxis": {
            "backgroundcolor": "#E5ECF6",
            "gridcolor": "white",
            "gridwidth": 2,
            "linecolor": "white",
            "showbackground": true,
            "ticks": "",
            "zerolinecolor": "white"
           },
           "yaxis": {
            "backgroundcolor": "#E5ECF6",
            "gridcolor": "white",
            "gridwidth": 2,
            "linecolor": "white",
            "showbackground": true,
            "ticks": "",
            "zerolinecolor": "white"
           },
           "zaxis": {
            "backgroundcolor": "#E5ECF6",
            "gridcolor": "white",
            "gridwidth": 2,
            "linecolor": "white",
            "showbackground": true,
            "ticks": "",
            "zerolinecolor": "white"
           }
          },
          "shapedefaults": {
           "line": {
            "color": "#2a3f5f"
           }
          },
          "ternary": {
           "aaxis": {
            "gridcolor": "white",
            "linecolor": "white",
            "ticks": ""
           },
           "baxis": {
            "gridcolor": "white",
            "linecolor": "white",
            "ticks": ""
           },
           "bgcolor": "#E5ECF6",
           "caxis": {
            "gridcolor": "white",
            "linecolor": "white",
            "ticks": ""
           }
          },
          "title": {
           "x": 0.05
          },
          "xaxis": {
           "automargin": true,
           "gridcolor": "white",
           "linecolor": "white",
           "ticks": "",
           "title": {
            "standoff": 15
           },
           "zerolinecolor": "white",
           "zerolinewidth": 2
          },
          "yaxis": {
           "automargin": true,
           "gridcolor": "white",
           "linecolor": "white",
           "ticks": "",
           "title": {
            "standoff": 15
           },
           "zerolinecolor": "white",
           "zerolinewidth": 2
          }
         }
        },
        "title": {
         "text": "Number of Reports per State by Year"
        },
        "updatemenus": [
         {
          "buttons": [
           {
            "args": [
             null,
             {
              "frame": {
               "duration": 500,
               "redraw": true
              },
              "fromcurrent": true,
              "mode": "immediate",
              "transition": {
               "duration": 500,
               "easing": "linear"
              }
             }
            ],
            "label": "&#9654;",
            "method": "animate"
           },
           {
            "args": [
             [
              null
             ],
             {
              "frame": {
               "duration": 0,
               "redraw": true
              },
              "fromcurrent": true,
              "mode": "immediate",
              "transition": {
               "duration": 0,
               "easing": "linear"
              }
             }
            ],
            "label": "&#9724;",
            "method": "animate"
           }
          ],
          "direction": "left",
          "pad": {
           "r": 10,
           "t": 70
          },
          "showactive": false,
          "type": "buttons",
          "x": 0.1,
          "xanchor": "right",
          "y": 0,
          "yanchor": "top"
         }
        ]
       }
      }
     },
     "metadata": {},
     "output_type": "display_data"
    }
   ],
   "source": [
    "# Sort the years in ascending order\n",
    "df_occur_by_state_by_year['year'] = df_occur_by_state_by_year['year'].astype(int)\n",
    "df_occur_by_state_by_year = df_occur_by_state_by_year.sort_values('year')\n",
    "\n",
    "# interactive plot of the number of reports per state with year slider\n",
    "import plotly.express as px\n",
    "\n",
    "fig = px.choropleth(df_occur_by_state_by_year,\n",
    "                    locations='state',\n",
    "                    locationmode='USA-states',\n",
    "                    color='count',\n",
    "                    scope='usa',\n",
    "                    animation_frame='year',\n",
    "                    color_continuous_scale='Viridis',\n",
    "                    title='Number of Reports per State by Year',\n",
    "                    category_orders={'state': df_occur_by_state_by_year['state'].unique()})\n",
    "fig.show()"
   ]
  }
 ],
 "metadata": {
  "kernelspec": {
   "display_name": "conda311",
   "language": "python",
   "name": "python3"
  },
  "language_info": {
   "codemirror_mode": {
    "name": "ipython",
    "version": 3
   },
   "file_extension": ".py",
   "mimetype": "text/x-python",
   "name": "python",
   "nbconvert_exporter": "python",
   "pygments_lexer": "ipython3",
   "version": "3.11.8"
  }
 },
 "nbformat": 4,
 "nbformat_minor": 2
}
