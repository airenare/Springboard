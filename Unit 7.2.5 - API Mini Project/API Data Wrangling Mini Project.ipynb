{
 "cells": [
  {
   "cell_type": "markdown",
   "id": "c3766fb8-82d2-4829-a3aa-e73336089243",
   "metadata": {},
   "source": [
    "This exercise will require you to pull some data from https://data.nasdaq.com/ (formerly Quandl API)."
   ]
  },
  {
   "cell_type": "markdown",
   "id": "5087589b-fef8-4b12-b5f8-4672d95ddf37",
   "metadata": {},
   "source": [
    "As a first step, you will need to register a free account on the https://data.nasdaq.com/ website."
   ]
  },
  {
   "cell_type": "markdown",
   "id": "7969cd11-2011-4513-9e67-fd94e3c78902",
   "metadata": {},
   "source": [
    "After you register, you will be provided with a unique API key, that you should store:\n",
    "\n",
    "Note: Use a .env file and put your key in there and python-dotenv to access it in this notebook.\n",
    "\n",
    "The code below uses a key that was used when generating this project but has since been deleted. Never submit your keys to source control. There is a .env-example file in this repository to illusrtate what you need. Copy that to a file called .env and use your own api key in that .env file. Make sure you also have a .gitignore file with a line for .env added to it.\n",
    "\n",
    "The standard Python gitignore is here you can just copy that."
   ]
  },
  {
   "cell_type": "code",
   "execution_count": 1,
   "id": "5211761d-aae2-4b32-98f9-0d8eec4638f4",
   "metadata": {},
   "outputs": [],
   "source": [
    "# get api key from your .env file\n",
    "import os\n",
    "from dotenv import load_dotenv\n",
    "\n",
    "load_dotenv()\n",
    "API_KEY = os.getenv('NASDAQ_API_KEY')\n",
    "\n",
    "# print(API_KEY)"
   ]
  },
  {
   "cell_type": "markdown",
   "id": "e9864822-55e0-4c50-be10-dacc08e8d576",
   "metadata": {},
   "source": [
    "Nasdaq Data has a large number of data sources, but, unfortunately, most of them require a Premium subscription. Still, there are also a good number of free datasets."
   ]
  },
  {
   "cell_type": "markdown",
   "id": "982235f5-8aa8-42c7-9b2f-f8e9eb0cae96",
   "metadata": {},
   "source": [
    "For this mini project, we will focus on equities data from the Frankfurt Stock Exhange (FSE), which is available for free. We'll try and analyze the stock prices of a company called Carl Zeiss Meditec, which manufactures tools for eye examinations, as well as medical lasers for laser eye surgery: https://www.zeiss.com/meditec/int/home.html. The company is listed under the stock ticker AFX_X."
   ]
  },
  {
   "cell_type": "markdown",
   "id": "9f5ac0fe-70cd-429f-acbc-436a8e87853f",
   "metadata": {},
   "source": [
    "You can find the detailed Nasdaq Data API instructions here: https://docs.data.nasdaq.com/docs/in-depth-usage"
   ]
  },
  {
   "cell_type": "markdown",
   "id": "344346f9-5eb5-4215-b4c7-02055020f921",
   "metadata": {},
   "source": [
    "While there is a dedicated Python package for connecting to the Nasdaq API, we would prefer that you use the requests package, which can be easily downloaded using pip or conda. You can find the documentation for the package here: http://docs.python-requests.org/en/master/"
   ]
  },
  {
   "cell_type": "markdown",
   "id": "8f2a9cc7-b8e9-4afd-b7d8-1718f16919e5",
   "metadata": {},
   "source": [
    "Finally, apart from the requests package, you are encouraged to not use any third party Python packages, such as pandas, and instead focus on what's available in the Python Standard Library (the collections module might come in handy: https://pymotw.com/3/collections/). Also, since you won't have access to DataFrames, you are encouraged to us Python's native data structures - preferably dictionaries, though some questions can also be answered using lists. You can read more on these data structures here: https://docs.python.org/3/tutorial/datastructures.html"
   ]
  },
  {
   "cell_type": "markdown",
   "id": "8d666060-8fb5-44fa-948d-75d11ccc4d2d",
   "metadata": {},
   "source": [
    "Keep in mind that the JSON responses you will be getting from the API map almost one-to-one to Python's dictionaries. Unfortunately, they can be very nested, so make sure you read up on indexing dictionaries in the documentation provided above."
   ]
  },
  {
   "cell_type": "code",
   "execution_count": 2,
   "id": "871e8993-8a3a-44e8-a3e2-0af1afb8799a",
   "metadata": {},
   "outputs": [],
   "source": [
    "# First, import the relevant modules\n",
    "import requests\n",
    "import json\n",
    "from datetime import datetime, date"
   ]
  },
  {
   "cell_type": "markdown",
   "id": "d62e531e-944b-45cf-9a87-f447cb190c39",
   "metadata": {},
   "source": [
    "Note: API's can change a bit with each version, for this exercise it is reccomended to use the nasdaq api at https://data.nasdaq.com/api/v3/. This is the same api as what used to be quandl so https://www.quandl.com/api/v3/ should work too.\n",
    "\n",
    "Hint: We are looking for the AFX_X data on the datasets/FSE/ dataset."
   ]
  },
  {
   "cell_type": "code",
   "execution_count": 3,
   "id": "c1adba76-d3c9-4a8b-b721-32e9a87952fe",
   "metadata": {},
   "outputs": [],
   "source": [
    "# Now, call the Nasdaq API and pull out a small sample of the data (only one day) to get a glimpse\n",
    "# into the JSON structure that will be returned\n",
    "\n",
    "# Specify url\n",
    "url = 'https://data.nasdaq.com/api/v3/datasets/FSE/AFX_X'\n",
    "\n",
    "# Package the request\n",
    "r = requests.get(url, API_KEY)\n",
    "\n",
    "# Decode the data into a JSON dict\n",
    "json_data = r.json()"
   ]
  },
  {
   "cell_type": "code",
   "execution_count": 4,
   "id": "f8350e2e-39cd-49a3-9364-3a980bd44fd3",
   "metadata": {},
   "outputs": [],
   "source": [
    "# Inspect the JSON structure of the object you created, and take note of how nested it is,\n",
    "# as well as the overall structure\n",
    "\n",
    "# Show the dict\n",
    "json_data['dataset'];"
   ]
  },
  {
   "cell_type": "code",
   "execution_count": 5,
   "id": "10d9b1cb-2f28-4e41-9089-49f19f1fa174",
   "metadata": {},
   "outputs": [
    {
     "data": {
      "text/plain": [
       "{'id': 10095370,\n",
       " 'dataset_code': 'AFX_X',\n",
       " 'database_code': 'FSE',\n",
       " 'name': 'Carl Zeiss Meditec (AFX_X)',\n",
       " 'description': 'Stock Prices for Carl Zeiss Meditec (2020-11-02) from the Frankfurt Stock Exchange.<br><br>Trading System: Xetra<br><br>ISIN: DE0005313704',\n",
       " 'refreshed_at': '2020-12-01T14:48:09.907Z',\n",
       " 'newest_available_date': '2020-12-01',\n",
       " 'oldest_available_date': '2000-06-07',\n",
       " 'column_names': ['Date',\n",
       "  'Open',\n",
       "  'High',\n",
       "  'Low',\n",
       "  'Close',\n",
       "  'Change',\n",
       "  'Traded Volume',\n",
       "  'Turnover',\n",
       "  'Last Price of the Day',\n",
       "  'Daily Traded Units',\n",
       "  'Daily Turnover'],\n",
       " 'frequency': 'daily',\n",
       " 'type': 'Time Series',\n",
       " 'premium': False,\n",
       " 'limit': None,\n",
       " 'transform': None,\n",
       " 'column_index': None,\n",
       " 'start_date': '2000-06-07',\n",
       " 'end_date': '2020-12-01',\n",
       " 'data': '_____DATA SITS HERE_____',\n",
       " 'collapse': None,\n",
       " 'order': None,\n",
       " 'database_id': 6129}"
      ]
     },
     "execution_count": 5,
     "metadata": {},
     "output_type": "execute_result"
    }
   ],
   "source": [
    "# Output of this is too big. There are too many 'data' values, let's shorten it (to preview)\n",
    "json_no_data_preview =  json_data['dataset'].copy()\n",
    "\n",
    "# Preview the dict without 'data'\n",
    "json_no_data_preview['data'] = \"_____DATA SITS HERE_____\"\n",
    "json_no_data_preview"
   ]
  },
  {
   "cell_type": "markdown",
   "id": "d095be6c-b1d0-423b-b0d1-c6574807d8ed",
   "metadata": {},
   "source": [
    "# These are your tasks for this mini project:\n",
    "- [x] Collect data from the Franfurt Stock Exchange, for the ticker AFX_X, for the whole year 2017 (keep in mind that the date format is YYYY-MM-DD).\n",
    "- [x] Convert the returned JSON object into a Python dictionary.\n",
    "- [x] Calculate what the highest and lowest opening prices were for the stock in this period.\n",
    "- [x] What was the largest change in any one day (based on High and Low price)?\n",
    "- [x] What was the largest change between any two days (based on Closing Price)?\n",
    "- [x] What was the average daily trading volume during this year?\n",
    "- [x] (Optional) What was the median trading volume during this year. (Note: you may need to implement your own function for calculating the median.)"
   ]
  },
  {
   "cell_type": "markdown",
   "id": "8218ce34-4bd4-44cd-8b53-f863188ed799",
   "metadata": {},
   "source": [
    "## Collect data for the whole year 2017"
   ]
  },
  {
   "cell_type": "code",
   "execution_count": 6,
   "id": "fe9d95cd-3adc-4234-a6b7-014559c17a7e",
   "metadata": {},
   "outputs": [],
   "source": [
    "# Getting the column names as list\n",
    "column_names = json_data['dataset']['column_names']\n",
    "\n",
    "# Getting all data for the year 2017\n",
    "data_2017 = [record for record in json_data['dataset']['data'] if record[0].startswith('2017')]"
   ]
  },
  {
   "cell_type": "markdown",
   "id": "e6fc1619-1afb-45af-b5b5-17d506c2c0bd",
   "metadata": {},
   "source": [
    "## Convert the returned JSON object into a Python dictionary"
   ]
  },
  {
   "cell_type": "code",
   "execution_count": 7,
   "id": "8c002b5f-b763-4dfc-bed1-b0458dbbc74a",
   "metadata": {},
   "outputs": [
    {
     "name": "stdout",
     "output_type": "stream",
     "text": [
      "Values for 2017-01-02:\n"
     ]
    },
    {
     "data": {
      "text/plain": [
       "{'Open': 34.99,\n",
       " 'High': 35.94,\n",
       " 'Low': 34.99,\n",
       " 'Close': 35.8,\n",
       " 'Change': None,\n",
       " 'Traded Volume': 44700.0,\n",
       " 'Turnover': 1590561.0,\n",
       " 'Last Price of the Day': None,\n",
       " 'Daily Traded Units': None,\n",
       " 'Daily Turnover': None}"
      ]
     },
     "execution_count": 7,
     "metadata": {},
     "output_type": "execute_result"
    }
   ],
   "source": [
    "# Creating initial dictionary\n",
    "dict_2017 = {key: [value[i] for value in data_2017] for i, key in enumerate(column_names)}\n",
    "dict_2017.keys()\n",
    "\n",
    "# Convert 'Date' string values to date type\n",
    "date_values = [datetime.strptime(date_str, '%Y-%m-%d').date() for date_str in dict_2017['Date']]\n",
    "# date_values = [datetime.date() for datetime in datetime_values]\n",
    "\n",
    "# Creating working dictionary indexed by date\n",
    "dict_2017_by_date = {\n",
    "    date: {\n",
    "        'Open': open_val,\n",
    "        'High': high_val,\n",
    "        'Low': low_val,\n",
    "        'Close': close_val,\n",
    "        'Change': change_val,\n",
    "        'Traded Volume': traded_val,\n",
    "        'Turnover': turnover_val,\n",
    "        'Last Price of the Day': last_price_val,\n",
    "        'Daily Traded Units': daily_traded_val,\n",
    "        'Daily Turnover': daily_turnover_val\n",
    "    } for date,\n",
    "    open_val,\n",
    "    high_val,\n",
    "    low_val,\n",
    "    close_val,\n",
    "    change_val,\n",
    "    traded_val,\n",
    "    turnover_val,\n",
    "    last_price_val,\n",
    "    daily_traded_val,\n",
    "    daily_turnover_val in zip(\n",
    "        date_values,\n",
    "        dict_2017['Open'],\n",
    "        dict_2017['High'],\n",
    "        dict_2017['Low'],\n",
    "        dict_2017['Close'],\n",
    "        dict_2017['Change'],\n",
    "        dict_2017['Traded Volume'],\n",
    "        dict_2017['Turnover'],\n",
    "        dict_2017['Last Price of the Day'],\n",
    "        dict_2017['Daily Traded Units'],\n",
    "        dict_2017['Daily Turnover'],\n",
    "    )\n",
    "}\n",
    "\n",
    "# Sorting dates in ascending order\n",
    "dict_2017_by_date = dict(sorted(dict_2017_by_date.items()))\n",
    "\n",
    "# Printing the first date values\n",
    "print(f'Values for {list(dict_2017_by_date.keys())[0].strftime(\"%Y-%m-%d\")}:')\n",
    "dict_2017_by_date[list(dict_2017_by_date.keys())[0]]"
   ]
  },
  {
   "cell_type": "markdown",
   "id": "61a109db-75ea-4c96-b736-5d0efed6e412",
   "metadata": {},
   "source": [
    "## Calculate what the highest and lowest opening prices were for the stock in this period."
   ]
  },
  {
   "cell_type": "code",
   "execution_count": 8,
   "id": "a0bf866a-ec36-4293-adb9-7b5fca789308",
   "metadata": {},
   "outputs": [
    {
     "name": "stdout",
     "output_type": "stream",
     "text": [
      "The highest and lowest opening prices were for the stock in 2017\n",
      "min: 34.0\n",
      "max: 53.11\n",
      "\n"
     ]
    },
    {
     "data": {
      "text/plain": [
       "(34.0, 53.11)"
      ]
     },
     "execution_count": 8,
     "metadata": {},
     "output_type": "execute_result"
    }
   ],
   "source": [
    "# Function to calculate min and max values of a list omitting None\n",
    "def get_min_max(values_list:list):\n",
    "    '''Calculates min and max values of a list provided: (min, max)'''\n",
    "    min_value = min((value for value in values_list if value is not None), default=None)\n",
    "    max_value = max((value for value in values_list if value is not None), default=None)\n",
    "    print(f'min: {min_value}\\nmax: {max_value}\\n')\n",
    "    return min_value, max_value\n",
    "\n",
    "# Function to get the list of prices for set stock feature for a time series dictionary\n",
    "def get_values_list(dictionary, stk_stat):\n",
    "    price_list = []\n",
    "    for date in list(dictionary.keys()):\n",
    "        price_list.append(dictionary[date][stk_stat])\n",
    "    return price_list\n",
    "\n",
    "# Defining the stock exchange status (feature) we are interested in\n",
    "stock_status = 'Open'\n",
    "\n",
    "# Getting list of all prices for set stock_status (Opening prices)\n",
    "open_price_list = get_values_list(dict_2017_by_date, stock_status)\n",
    "\n",
    "# Getting and printing the output\n",
    "print('The highest and lowest opening prices were for the stock in 2017')\n",
    "get_min_max(open_price_list)"
   ]
  },
  {
   "cell_type": "markdown",
   "id": "bd3ce708-b1dd-475d-ab5d-41e90a84f8b0",
   "metadata": {},
   "source": [
    "## What was the largest change in any one day (based on High and Low price)?"
   ]
  },
  {
   "cell_type": "code",
   "execution_count": 9,
   "id": "ba166302-369e-4980-af50-dc768684e86b",
   "metadata": {},
   "outputs": [
    {
     "name": "stdout",
     "output_type": "stream",
     "text": [
      "min: 0.18999999999999773\n",
      "max: 2.8100000000000023\n",
      "\n",
      "The largest change in any one day based on High and Low price:\n",
      "2.8100000000000023\n"
     ]
    }
   ],
   "source": [
    "# Creating function to fill the dictionary with Change values\n",
    "def fill_change(dictionary):\n",
    "    # Filling in the 'Change' values based on 'High' and 'Low' prices, omitting rows with missing values\n",
    "    for date in list(dict_2017_by_date.keys()):\n",
    "        high = dict_2017_by_date[date]['High']\n",
    "        low = dict_2017_by_date[date]['Low']\n",
    "        if high is None or low is None:\n",
    "            pass\n",
    "        else:\n",
    "            change = dict_2017_by_date[date]['High'] - dict_2017_by_date[date]['Low']\n",
    "            dict_2017_by_date[date]['Change'] = change\n",
    "\n",
    "\n",
    "# Executing function to put Change values into a dictionary\n",
    "fill_change(dict_2017_by_date)\n",
    "dict_2017_by_date[list(dict_2017_by_date.keys())[0]]['Change']\n",
    "\n",
    "# Calling a function to get a list of all 'Change values'\n",
    "change_list = get_values_list(dict_2017_by_date, 'Change')\n",
    "\n",
    "# Getting the largest change in one day\n",
    "print(f'The largest change in any one day based on High and Low price:\\n{get_min_max(change_list)[1]}')\n"
   ]
  },
  {
   "cell_type": "markdown",
   "id": "e4c293b2-f1d8-4cb1-a952-bc69910af9f2",
   "metadata": {},
   "source": [
    "## What was the largest change between any two days (based on Closing Price)?"
   ]
  },
  {
   "cell_type": "code",
   "execution_count": 10,
   "id": "fbba689c-f2aa-41df-8c96-f4d8eff5cb23",
   "metadata": {},
   "outputs": [
    {
     "name": "stdout",
     "output_type": "stream",
     "text": [
      "min: -2.559999999999995\n",
      "max: 1.7199999999999989\n",
      "\n",
      "The largest change between two days based on Closing price:\n",
      "1.7199999999999989\n"
     ]
    }
   ],
   "source": [
    "# Defining the function to calculate difference between values of two consecutive days\n",
    "def get_diff_list(values_list):\n",
    "    # Calculate differences between neighboring values\n",
    "    return [values_list[i + 1] - values_list[i] for i in range(len(values_list) - 1)]\n",
    "\n",
    "# Getting the list of Close values\n",
    "close_list = get_values_list(dict_2017_by_date, 'Close')\n",
    "\n",
    "# Calling a function to get the day to day change of closing price\n",
    "daily_close_diff_list = get_diff_list(close_list)\n",
    "\n",
    "# Calling a function to get the largest value and printing the result\n",
    "print(f'The largest change between two days based on Closing price:\\n{get_min_max(daily_close_diff_list)[1]}')"
   ]
  },
  {
   "cell_type": "markdown",
   "id": "77c03d1c-9cd7-4e72-911b-cbf8b157c99e",
   "metadata": {},
   "source": [
    "## What was the average daily trading volume during this year?"
   ]
  },
  {
   "cell_type": "code",
   "execution_count": 11,
   "id": "8f1b7a76-8ad6-4823-a06f-5d5008a4c445",
   "metadata": {},
   "outputs": [
    {
     "name": "stdout",
     "output_type": "stream",
     "text": [
      "The average Daily Trading Volume:\n",
      "89124.33725490196\n"
     ]
    }
   ],
   "source": [
    "# Creating a function to calculate the average of a list\n",
    "def get_list_mean(values_list):\n",
    "    return sum(values_list) / len(values_list)\n",
    "\n",
    "# Getting the list of daily trading volume values\n",
    "daily_volume_list = get_values_list(dict_2017_by_date, 'Traded Volume')\n",
    "\n",
    "# Calling a function to get the average daily trading volume and printing the result\n",
    "print(f'The average Daily Trading Volume:\\n{get_list_mean(daily_volume_list)}')"
   ]
  },
  {
   "cell_type": "markdown",
   "id": "479d0c83-6451-4f57-b45d-fc2ad637f6a9",
   "metadata": {},
   "source": [
    "## (Optional) What was the median trading volume during this year. (Note: you may need to implement your own function for calculating the median.)"
   ]
  },
  {
   "cell_type": "code",
   "execution_count": 12,
   "id": "cc1a0e3d-233d-473b-b2af-d59b4f63a851",
   "metadata": {},
   "outputs": [
    {
     "name": "stdout",
     "output_type": "stream",
     "text": [
      "The average Daily Trading Volume:\n",
      "76286.0\n"
     ]
    }
   ],
   "source": [
    "def get_list_median(values_list):\n",
    "    # Sorting list in ascending order\n",
    "    list_asc = sorted(values_list)\n",
    "\n",
    "    # Getting the length of the list\n",
    "    n = len(list_asc)\n",
    "\n",
    "    # Returning the result based on even or odd number of items\n",
    "    if n % 2 == 1:\n",
    "        return list_asc[n // 2]\n",
    "    else:\n",
    "        left = list_asc[(n // 2) - 1]\n",
    "        right = list_asc[n // 2]\n",
    "        return (left + right) / 2\n",
    "\n",
    "# Calling a function to get the median daily trading volume and printing the result\n",
    "print(f'The average Daily Trading Volume:\\n{get_list_median(daily_volume_list)}')"
   ]
  }
 ],
 "metadata": {
  "kernelspec": {
   "display_name": "Python 3 (ipykernel)",
   "language": "python",
   "name": "python3"
  },
  "language_info": {
   "codemirror_mode": {
    "name": "ipython",
    "version": 3
   },
   "file_extension": ".py",
   "mimetype": "text/x-python",
   "name": "python",
   "nbconvert_exporter": "python",
   "pygments_lexer": "ipython3",
   "version": "3.11.5"
  }
 },
 "nbformat": 4,
 "nbformat_minor": 5
}
